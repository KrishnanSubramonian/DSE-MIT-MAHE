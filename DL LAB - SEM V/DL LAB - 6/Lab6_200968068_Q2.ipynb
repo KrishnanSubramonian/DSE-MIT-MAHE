{
  "nbformat": 4,
  "nbformat_minor": 0,
  "metadata": {
    "colab": {
      "provenance": [],
      "collapsed_sections": []
    },
    "kernelspec": {
      "name": "python3",
      "display_name": "Python 3"
    },
    "language_info": {
      "name": "python"
    },
    "accelerator": "GPU"
  },
  "cells": [
    {
      "cell_type": "markdown",
      "source": [
        "# EXERCISE - 2"
      ],
      "metadata": {
        "id": "Ngkta4AmDuQ-"
      }
    },
    {
      "cell_type": "code",
      "execution_count": 4,
      "metadata": {
        "id": "Uwqv_DJs6uIZ"
      },
      "outputs": [],
      "source": [
        "import pandas as pd\n",
        "import numpy as np\n",
        "from matplotlib import pyplot as plt\n",
        "\n",
        "import tensorflow as tf\n",
        "from tensorflow import keras\n",
        "from tensorflow.keras import layers"
      ]
    },
    {
      "cell_type": "code",
      "source": [
        "df_train=pd .read_csv(\"Google_Stock_Price_Train.csv\")\n",
        "df_train['Date'] = pd.to_datetime(df_train['Date'])\n",
        "display(df_train.head())\n",
        "display(df_train.info())"
      ],
      "metadata": {
        "colab": {
          "base_uri": "https://localhost:8080/",
          "height": 449
        },
        "id": "X2tJmOI2EAGL",
        "outputId": "33e5fcfc-0778-41da-c344-15d07ce55e5c"
      },
      "execution_count": 5,
      "outputs": [
        {
          "output_type": "display_data",
          "data": {
            "text/plain": [
              "        Date    Open    High     Low   Close      Volume\n",
              "0 2012-01-03  325.25  332.83  324.97  663.59   7,380,500\n",
              "1 2012-01-04  331.27  333.87  329.08  666.45   5,749,400\n",
              "2 2012-01-05  329.83  330.75  326.89  657.21   6,590,300\n",
              "3 2012-01-06  328.34  328.77  323.68  648.24   5,405,900\n",
              "4 2012-01-09  322.04  322.29  309.46  620.76  11,688,800"
            ],
            "text/html": [
              "\n",
              "  <div id=\"df-9effc1de-f9c6-4e72-be5a-1536a91eead1\">\n",
              "    <div class=\"colab-df-container\">\n",
              "      <div>\n",
              "<style scoped>\n",
              "    .dataframe tbody tr th:only-of-type {\n",
              "        vertical-align: middle;\n",
              "    }\n",
              "\n",
              "    .dataframe tbody tr th {\n",
              "        vertical-align: top;\n",
              "    }\n",
              "\n",
              "    .dataframe thead th {\n",
              "        text-align: right;\n",
              "    }\n",
              "</style>\n",
              "<table border=\"1\" class=\"dataframe\">\n",
              "  <thead>\n",
              "    <tr style=\"text-align: right;\">\n",
              "      <th></th>\n",
              "      <th>Date</th>\n",
              "      <th>Open</th>\n",
              "      <th>High</th>\n",
              "      <th>Low</th>\n",
              "      <th>Close</th>\n",
              "      <th>Volume</th>\n",
              "    </tr>\n",
              "  </thead>\n",
              "  <tbody>\n",
              "    <tr>\n",
              "      <th>0</th>\n",
              "      <td>2012-01-03</td>\n",
              "      <td>325.25</td>\n",
              "      <td>332.83</td>\n",
              "      <td>324.97</td>\n",
              "      <td>663.59</td>\n",
              "      <td>7,380,500</td>\n",
              "    </tr>\n",
              "    <tr>\n",
              "      <th>1</th>\n",
              "      <td>2012-01-04</td>\n",
              "      <td>331.27</td>\n",
              "      <td>333.87</td>\n",
              "      <td>329.08</td>\n",
              "      <td>666.45</td>\n",
              "      <td>5,749,400</td>\n",
              "    </tr>\n",
              "    <tr>\n",
              "      <th>2</th>\n",
              "      <td>2012-01-05</td>\n",
              "      <td>329.83</td>\n",
              "      <td>330.75</td>\n",
              "      <td>326.89</td>\n",
              "      <td>657.21</td>\n",
              "      <td>6,590,300</td>\n",
              "    </tr>\n",
              "    <tr>\n",
              "      <th>3</th>\n",
              "      <td>2012-01-06</td>\n",
              "      <td>328.34</td>\n",
              "      <td>328.77</td>\n",
              "      <td>323.68</td>\n",
              "      <td>648.24</td>\n",
              "      <td>5,405,900</td>\n",
              "    </tr>\n",
              "    <tr>\n",
              "      <th>4</th>\n",
              "      <td>2012-01-09</td>\n",
              "      <td>322.04</td>\n",
              "      <td>322.29</td>\n",
              "      <td>309.46</td>\n",
              "      <td>620.76</td>\n",
              "      <td>11,688,800</td>\n",
              "    </tr>\n",
              "  </tbody>\n",
              "</table>\n",
              "</div>\n",
              "      <button class=\"colab-df-convert\" onclick=\"convertToInteractive('df-9effc1de-f9c6-4e72-be5a-1536a91eead1')\"\n",
              "              title=\"Convert this dataframe to an interactive table.\"\n",
              "              style=\"display:none;\">\n",
              "        \n",
              "  <svg xmlns=\"http://www.w3.org/2000/svg\" height=\"24px\"viewBox=\"0 0 24 24\"\n",
              "       width=\"24px\">\n",
              "    <path d=\"M0 0h24v24H0V0z\" fill=\"none\"/>\n",
              "    <path d=\"M18.56 5.44l.94 2.06.94-2.06 2.06-.94-2.06-.94-.94-2.06-.94 2.06-2.06.94zm-11 1L8.5 8.5l.94-2.06 2.06-.94-2.06-.94L8.5 2.5l-.94 2.06-2.06.94zm10 10l.94 2.06.94-2.06 2.06-.94-2.06-.94-.94-2.06-.94 2.06-2.06.94z\"/><path d=\"M17.41 7.96l-1.37-1.37c-.4-.4-.92-.59-1.43-.59-.52 0-1.04.2-1.43.59L10.3 9.45l-7.72 7.72c-.78.78-.78 2.05 0 2.83L4 21.41c.39.39.9.59 1.41.59.51 0 1.02-.2 1.41-.59l7.78-7.78 2.81-2.81c.8-.78.8-2.07 0-2.86zM5.41 20L4 18.59l7.72-7.72 1.47 1.35L5.41 20z\"/>\n",
              "  </svg>\n",
              "      </button>\n",
              "      \n",
              "  <style>\n",
              "    .colab-df-container {\n",
              "      display:flex;\n",
              "      flex-wrap:wrap;\n",
              "      gap: 12px;\n",
              "    }\n",
              "\n",
              "    .colab-df-convert {\n",
              "      background-color: #E8F0FE;\n",
              "      border: none;\n",
              "      border-radius: 50%;\n",
              "      cursor: pointer;\n",
              "      display: none;\n",
              "      fill: #1967D2;\n",
              "      height: 32px;\n",
              "      padding: 0 0 0 0;\n",
              "      width: 32px;\n",
              "    }\n",
              "\n",
              "    .colab-df-convert:hover {\n",
              "      background-color: #E2EBFA;\n",
              "      box-shadow: 0px 1px 2px rgba(60, 64, 67, 0.3), 0px 1px 3px 1px rgba(60, 64, 67, 0.15);\n",
              "      fill: #174EA6;\n",
              "    }\n",
              "\n",
              "    [theme=dark] .colab-df-convert {\n",
              "      background-color: #3B4455;\n",
              "      fill: #D2E3FC;\n",
              "    }\n",
              "\n",
              "    [theme=dark] .colab-df-convert:hover {\n",
              "      background-color: #434B5C;\n",
              "      box-shadow: 0px 1px 3px 1px rgba(0, 0, 0, 0.15);\n",
              "      filter: drop-shadow(0px 1px 2px rgba(0, 0, 0, 0.3));\n",
              "      fill: #FFFFFF;\n",
              "    }\n",
              "  </style>\n",
              "\n",
              "      <script>\n",
              "        const buttonEl =\n",
              "          document.querySelector('#df-9effc1de-f9c6-4e72-be5a-1536a91eead1 button.colab-df-convert');\n",
              "        buttonEl.style.display =\n",
              "          google.colab.kernel.accessAllowed ? 'block' : 'none';\n",
              "\n",
              "        async function convertToInteractive(key) {\n",
              "          const element = document.querySelector('#df-9effc1de-f9c6-4e72-be5a-1536a91eead1');\n",
              "          const dataTable =\n",
              "            await google.colab.kernel.invokeFunction('convertToInteractive',\n",
              "                                                     [key], {});\n",
              "          if (!dataTable) return;\n",
              "\n",
              "          const docLinkHtml = 'Like what you see? Visit the ' +\n",
              "            '<a target=\"_blank\" href=https://colab.research.google.com/notebooks/data_table.ipynb>data table notebook</a>'\n",
              "            + ' to learn more about interactive tables.';\n",
              "          element.innerHTML = '';\n",
              "          dataTable['output_type'] = 'display_data';\n",
              "          await google.colab.output.renderOutput(dataTable, element);\n",
              "          const docLink = document.createElement('div');\n",
              "          docLink.innerHTML = docLinkHtml;\n",
              "          element.appendChild(docLink);\n",
              "        }\n",
              "      </script>\n",
              "    </div>\n",
              "  </div>\n",
              "  "
            ]
          },
          "metadata": {}
        },
        {
          "output_type": "stream",
          "name": "stdout",
          "text": [
            "<class 'pandas.core.frame.DataFrame'>\n",
            "RangeIndex: 1258 entries, 0 to 1257\n",
            "Data columns (total 6 columns):\n",
            " #   Column  Non-Null Count  Dtype         \n",
            "---  ------  --------------  -----         \n",
            " 0   Date    1258 non-null   datetime64[ns]\n",
            " 1   Open    1258 non-null   float64       \n",
            " 2   High    1258 non-null   float64       \n",
            " 3   Low     1258 non-null   float64       \n",
            " 4   Close   1258 non-null   object        \n",
            " 5   Volume  1258 non-null   object        \n",
            "dtypes: datetime64[ns](1), float64(3), object(2)\n",
            "memory usage: 59.1+ KB\n"
          ]
        },
        {
          "output_type": "display_data",
          "data": {
            "text/plain": [
              "None"
            ]
          },
          "metadata": {}
        }
      ]
    },
    {
      "cell_type": "code",
      "source": [
        "df_test = pd.read_csv(\"Google_Stock_Price_Test.csv\")\n",
        "df_test['Date'] = pd.to_datetime(df_test['Date'])\n",
        "display(df_test.head())\n",
        "display(df_test.info())"
      ],
      "metadata": {
        "colab": {
          "base_uri": "https://localhost:8080/",
          "height": 449
        },
        "id": "HD2VcPmqEGl0",
        "outputId": "9e1b119d-e900-46b1-bae5-27bb52d5c815"
      },
      "execution_count": 6,
      "outputs": [
        {
          "output_type": "display_data",
          "data": {
            "text/plain": [
              "        Date    Open    High     Low   Close     Volume\n",
              "0 2017-01-03  778.81  789.63  775.80  786.14  1,657,300\n",
              "1 2017-01-04  788.36  791.34  783.16  786.90  1,073,000\n",
              "2 2017-01-05  786.08  794.48  785.02  794.02  1,335,200\n",
              "3 2017-01-06  795.26  807.90  792.20  806.15  1,640,200\n",
              "4 2017-01-09  806.40  809.97  802.83  806.65  1,272,400"
            ],
            "text/html": [
              "\n",
              "  <div id=\"df-08a3dce9-32c7-45fa-92d8-c2f3b8c9b3de\">\n",
              "    <div class=\"colab-df-container\">\n",
              "      <div>\n",
              "<style scoped>\n",
              "    .dataframe tbody tr th:only-of-type {\n",
              "        vertical-align: middle;\n",
              "    }\n",
              "\n",
              "    .dataframe tbody tr th {\n",
              "        vertical-align: top;\n",
              "    }\n",
              "\n",
              "    .dataframe thead th {\n",
              "        text-align: right;\n",
              "    }\n",
              "</style>\n",
              "<table border=\"1\" class=\"dataframe\">\n",
              "  <thead>\n",
              "    <tr style=\"text-align: right;\">\n",
              "      <th></th>\n",
              "      <th>Date</th>\n",
              "      <th>Open</th>\n",
              "      <th>High</th>\n",
              "      <th>Low</th>\n",
              "      <th>Close</th>\n",
              "      <th>Volume</th>\n",
              "    </tr>\n",
              "  </thead>\n",
              "  <tbody>\n",
              "    <tr>\n",
              "      <th>0</th>\n",
              "      <td>2017-01-03</td>\n",
              "      <td>778.81</td>\n",
              "      <td>789.63</td>\n",
              "      <td>775.80</td>\n",
              "      <td>786.14</td>\n",
              "      <td>1,657,300</td>\n",
              "    </tr>\n",
              "    <tr>\n",
              "      <th>1</th>\n",
              "      <td>2017-01-04</td>\n",
              "      <td>788.36</td>\n",
              "      <td>791.34</td>\n",
              "      <td>783.16</td>\n",
              "      <td>786.90</td>\n",
              "      <td>1,073,000</td>\n",
              "    </tr>\n",
              "    <tr>\n",
              "      <th>2</th>\n",
              "      <td>2017-01-05</td>\n",
              "      <td>786.08</td>\n",
              "      <td>794.48</td>\n",
              "      <td>785.02</td>\n",
              "      <td>794.02</td>\n",
              "      <td>1,335,200</td>\n",
              "    </tr>\n",
              "    <tr>\n",
              "      <th>3</th>\n",
              "      <td>2017-01-06</td>\n",
              "      <td>795.26</td>\n",
              "      <td>807.90</td>\n",
              "      <td>792.20</td>\n",
              "      <td>806.15</td>\n",
              "      <td>1,640,200</td>\n",
              "    </tr>\n",
              "    <tr>\n",
              "      <th>4</th>\n",
              "      <td>2017-01-09</td>\n",
              "      <td>806.40</td>\n",
              "      <td>809.97</td>\n",
              "      <td>802.83</td>\n",
              "      <td>806.65</td>\n",
              "      <td>1,272,400</td>\n",
              "    </tr>\n",
              "  </tbody>\n",
              "</table>\n",
              "</div>\n",
              "      <button class=\"colab-df-convert\" onclick=\"convertToInteractive('df-08a3dce9-32c7-45fa-92d8-c2f3b8c9b3de')\"\n",
              "              title=\"Convert this dataframe to an interactive table.\"\n",
              "              style=\"display:none;\">\n",
              "        \n",
              "  <svg xmlns=\"http://www.w3.org/2000/svg\" height=\"24px\"viewBox=\"0 0 24 24\"\n",
              "       width=\"24px\">\n",
              "    <path d=\"M0 0h24v24H0V0z\" fill=\"none\"/>\n",
              "    <path d=\"M18.56 5.44l.94 2.06.94-2.06 2.06-.94-2.06-.94-.94-2.06-.94 2.06-2.06.94zm-11 1L8.5 8.5l.94-2.06 2.06-.94-2.06-.94L8.5 2.5l-.94 2.06-2.06.94zm10 10l.94 2.06.94-2.06 2.06-.94-2.06-.94-.94-2.06-.94 2.06-2.06.94z\"/><path d=\"M17.41 7.96l-1.37-1.37c-.4-.4-.92-.59-1.43-.59-.52 0-1.04.2-1.43.59L10.3 9.45l-7.72 7.72c-.78.78-.78 2.05 0 2.83L4 21.41c.39.39.9.59 1.41.59.51 0 1.02-.2 1.41-.59l7.78-7.78 2.81-2.81c.8-.78.8-2.07 0-2.86zM5.41 20L4 18.59l7.72-7.72 1.47 1.35L5.41 20z\"/>\n",
              "  </svg>\n",
              "      </button>\n",
              "      \n",
              "  <style>\n",
              "    .colab-df-container {\n",
              "      display:flex;\n",
              "      flex-wrap:wrap;\n",
              "      gap: 12px;\n",
              "    }\n",
              "\n",
              "    .colab-df-convert {\n",
              "      background-color: #E8F0FE;\n",
              "      border: none;\n",
              "      border-radius: 50%;\n",
              "      cursor: pointer;\n",
              "      display: none;\n",
              "      fill: #1967D2;\n",
              "      height: 32px;\n",
              "      padding: 0 0 0 0;\n",
              "      width: 32px;\n",
              "    }\n",
              "\n",
              "    .colab-df-convert:hover {\n",
              "      background-color: #E2EBFA;\n",
              "      box-shadow: 0px 1px 2px rgba(60, 64, 67, 0.3), 0px 1px 3px 1px rgba(60, 64, 67, 0.15);\n",
              "      fill: #174EA6;\n",
              "    }\n",
              "\n",
              "    [theme=dark] .colab-df-convert {\n",
              "      background-color: #3B4455;\n",
              "      fill: #D2E3FC;\n",
              "    }\n",
              "\n",
              "    [theme=dark] .colab-df-convert:hover {\n",
              "      background-color: #434B5C;\n",
              "      box-shadow: 0px 1px 3px 1px rgba(0, 0, 0, 0.15);\n",
              "      filter: drop-shadow(0px 1px 2px rgba(0, 0, 0, 0.3));\n",
              "      fill: #FFFFFF;\n",
              "    }\n",
              "  </style>\n",
              "\n",
              "      <script>\n",
              "        const buttonEl =\n",
              "          document.querySelector('#df-08a3dce9-32c7-45fa-92d8-c2f3b8c9b3de button.colab-df-convert');\n",
              "        buttonEl.style.display =\n",
              "          google.colab.kernel.accessAllowed ? 'block' : 'none';\n",
              "\n",
              "        async function convertToInteractive(key) {\n",
              "          const element = document.querySelector('#df-08a3dce9-32c7-45fa-92d8-c2f3b8c9b3de');\n",
              "          const dataTable =\n",
              "            await google.colab.kernel.invokeFunction('convertToInteractive',\n",
              "                                                     [key], {});\n",
              "          if (!dataTable) return;\n",
              "\n",
              "          const docLinkHtml = 'Like what you see? Visit the ' +\n",
              "            '<a target=\"_blank\" href=https://colab.research.google.com/notebooks/data_table.ipynb>data table notebook</a>'\n",
              "            + ' to learn more about interactive tables.';\n",
              "          element.innerHTML = '';\n",
              "          dataTable['output_type'] = 'display_data';\n",
              "          await google.colab.output.renderOutput(dataTable, element);\n",
              "          const docLink = document.createElement('div');\n",
              "          docLink.innerHTML = docLinkHtml;\n",
              "          element.appendChild(docLink);\n",
              "        }\n",
              "      </script>\n",
              "    </div>\n",
              "  </div>\n",
              "  "
            ]
          },
          "metadata": {}
        },
        {
          "output_type": "stream",
          "name": "stdout",
          "text": [
            "<class 'pandas.core.frame.DataFrame'>\n",
            "RangeIndex: 20 entries, 0 to 19\n",
            "Data columns (total 6 columns):\n",
            " #   Column  Non-Null Count  Dtype         \n",
            "---  ------  --------------  -----         \n",
            " 0   Date    20 non-null     datetime64[ns]\n",
            " 1   Open    20 non-null     float64       \n",
            " 2   High    20 non-null     float64       \n",
            " 3   Low     20 non-null     float64       \n",
            " 4   Close   20 non-null     float64       \n",
            " 5   Volume  20 non-null     object        \n",
            "dtypes: datetime64[ns](1), float64(4), object(1)\n",
            "memory usage: 1.1+ KB\n"
          ]
        },
        {
          "output_type": "display_data",
          "data": {
            "text/plain": [
              "None"
            ]
          },
          "metadata": {}
        }
      ]
    },
    {
      "cell_type": "code",
      "source": [
        "# Visualizing the opening prices:\n",
        "\n",
        "plt.figure(figsize=(10,6))\n",
        "plt.plot(df_train[\"Date\"], df_train[\"Open\"])\n",
        "plt.xlabel(\"Year\")\n",
        "plt.ylabel(\"Open\")\n",
        "plt.show()"
      ],
      "metadata": {
        "colab": {
          "base_uri": "https://localhost:8080/",
          "height": 388
        },
        "id": "2P1-uTM0Gjkw",
        "outputId": "87264130-8cf8-4846-e787-77ae05232652"
      },
      "execution_count": 7,
      "outputs": [
        {
          "output_type": "display_data",
          "data": {
            "text/plain": [
              "<Figure size 720x432 with 1 Axes>"
            ],
            "image/png": "[encoded data removed]"
          },
          "metadata": {
            "needs_background": "light"
          }
        }
      ]
    },
    {
      "cell_type": "code",
      "source": [
        "train_set = df_train.loc[:, [\"Open\"]].values\n",
        "train_set.shape"
      ],
      "metadata": {
        "colab": {
          "base_uri": "https://localhost:8080/"
        },
        "id": "_hIjBm4mHyk9",
        "outputId": "b7733c70-e9ff-4033-d751-41bbce2f57e1"
      },
      "execution_count": 8,
      "outputs": [
        {
          "output_type": "execute_result",
          "data": {
            "text/plain": [
              "(1258, 1)"
            ]
          },
          "metadata": {},
          "execution_count": 8
        }
      ]
    },
    {
      "cell_type": "code",
      "source": [
        "from sklearn.preprocessing import MinMaxScaler\n",
        "\n",
        "scaler = MinMaxScaler(feature_range = (0,1))\n",
        "train_data = scaler.fit_transform(train_set) "
      ],
      "metadata": {
        "id": "g3-NK8hQHYiF"
      },
      "execution_count": 9,
      "outputs": []
    },
    {
      "cell_type": "code",
      "source": [
        "x_train = [train_data[i-50:i, 0] for i in range(50, len(train_data))]                                 # Timesteps = 50\n",
        "\n",
        "y_train = [train_data[i, 0] for i in range(50, len(train_data))]\n",
        "\n",
        "x_train = np.array(x_train)\n",
        "y_train = np.array(y_train)\n",
        "\n",
        "x_train = np.reshape(x_train, (x_train.shape[0], x_train.shape[1], 1))\n",
        "display(x_train.shape);\n",
        "display(y_train.shape);"
      ],
      "metadata": {
        "colab": {
          "base_uri": "https://localhost:8080/",
          "height": 52
        },
        "id": "m_nLDNAkHpS5",
        "outputId": "3ee66f5f-d52d-4d8d-c708-339df39b8560"
      },
      "execution_count": 10,
      "outputs": [
        {
          "output_type": "display_data",
          "data": {
            "text/plain": [
              "(1208, 50, 1)"
            ]
          },
          "metadata": {}
        },
        {
          "output_type": "display_data",
          "data": {
            "text/plain": [
              "(1208,)"
            ]
          },
          "metadata": {}
        }
      ]
    },
    {
      "cell_type": "code",
      "source": [
        "actual_val = df_test.loc[:,[\"Open\"]].values\n",
        "dataset_total = pd.concat((df_train[\"Open\"], df_test[\"Open\"]), axis = 0)\n",
        "\n",
        "inputs = dataset_total[len(dataset_total) - len(df_test) - 50:].values.reshape(-1,1)\n",
        "\n",
        "inputs = scaler.transform(inputs)\n",
        "\n",
        "x_test = [inputs[i - 50:i,0] for i in range(50, 70)]\n",
        "x_test = np.array(x_test)\n",
        "x_test = np.reshape(x_test, (x_test.shape[0], x_test.shape[1], 1))\n",
        "x_test.shape"
      ],
      "metadata": {
        "colab": {
          "base_uri": "https://localhost:8080/"
        },
        "id": "PvLsWhujKeqE",
        "outputId": "9419a59b-ca9a-43a9-a3d1-4c562f2d921a"
      },
      "execution_count": 11,
      "outputs": [
        {
          "output_type": "execute_result",
          "data": {
            "text/plain": [
              "(20, 50, 1)"
            ]
          },
          "metadata": {},
          "execution_count": 11
        }
      ]
    },
    {
      "cell_type": "markdown",
      "source": [
        "> **RNN Model**"
      ],
      "metadata": {
        "id": "VMUOP67pMXDT"
      }
    },
    {
      "cell_type": "code",
      "source": [
        "model_rnn = keras.Sequential()\n",
        "model_rnn.add(layers.SimpleRNN(units = 50, activation = \"tanh\", return_sequences = True, input_shape = (x_train.shape[1], 1)))\n",
        "model_rnn.add(layers.Dropout(0.2))\n",
        "\n",
        "model_rnn.add(layers.SimpleRNN(units = 50, activation = \"tanh\", return_sequences = True))\n",
        "model_rnn.add(layers.Dropout(0.2))\n",
        "\n",
        "model_rnn.add(layers.SimpleRNN(units = 50, activation = \"tanh\", return_sequences = True))\n",
        "model_rnn.add(layers.Dropout(0.2))\n",
        "\n",
        "model_rnn.add(layers.SimpleRNN(units = 50))\n",
        "model_rnn.add(layers.Dropout(0.2))\n",
        "\n",
        "model_rnn.add(layers.Dense(units = 1))\n",
        "\n",
        "display(model_rnn.summary())\n",
        "\n",
        "model_rnn.compile(optimizer = \"adam\", loss = \"MSE\",metrics=[\"MSE\"])"
      ],
      "metadata": {
        "colab": {
          "base_uri": "https://localhost:8080/",
          "height": 503
        },
        "id": "mBZdDJwBBbYP",
        "outputId": "f22ab056-c163-4246-b0dc-01382fbad27a"
      },
      "execution_count": 12,
      "outputs": [
        {
          "output_type": "stream",
          "name": "stdout",
          "text": [
            "Model: \"sequential\"\n",
            "_________________________________________________________________\n",
            " Layer (type)                Output Shape              Param #   \n",
            "=================================================================\n",
            " simple_rnn (SimpleRNN)      (None, 50, 50)            2600      \n",
            "                                                                 \n",
            " dropout (Dropout)           (None, 50, 50)            0         \n",
            "                                                                 \n",
            " simple_rnn_1 (SimpleRNN)    (None, 50, 50)            5050      \n",
            "                                                                 \n",
            " dropout_1 (Dropout)         (None, 50, 50)            0         \n",
            "                                                                 \n",
            " simple_rnn_2 (SimpleRNN)    (None, 50, 50)            5050      \n",
            "                                                                 \n",
            " dropout_2 (Dropout)         (None, 50, 50)            0         \n",
            "                                                                 \n",
            " simple_rnn_3 (SimpleRNN)    (None, 50)                5050      \n",
            "                                                                 \n",
            " dropout_3 (Dropout)         (None, 50)                0         \n",
            "                                                                 \n",
            " dense (Dense)               (None, 1)                 51        \n",
            "                                                                 \n",
            "=================================================================\n",
            "Total params: 17,801\n",
            "Trainable params: 17,801\n",
            "Non-trainable params: 0\n",
            "_________________________________________________________________\n"
          ]
        },
        {
          "output_type": "display_data",
          "data": {
            "text/plain": [
              "None"
            ]
          },
          "metadata": {}
        }
      ]
    },
    {
      "cell_type": "code",
      "source": [
        "history_rnn = model_rnn.fit(x_train, y_train, epochs = 50, batch_size = 32,validation_split=0.1)"
      ],
      "metadata": {
        "colab": {
          "base_uri": "https://localhost:8080/"
        },
        "id": "RI1WYlRK6FzW",
        "outputId": "981fcac6-d93e-4a0d-ec6a-8681df0fd5e8"
      },
      "execution_count": 13,
      "outputs": [
        {
          "output_type": "stream",
          "name": "stdout",
          "text": [
            "Epoch 1/50\n",
            "34/34 [==============================] - 10s 168ms/step - loss: 0.4747 - MSE: 0.4747 - val_loss: 0.0196 - val_MSE: 0.0196\n",
            "Epoch 2/50\n",
            "34/34 [==============================] - 5s 152ms/step - loss: 0.2744 - MSE: 0.2744 - val_loss: 0.0101 - val_MSE: 0.0101\n",
            "Epoch 3/50\n",
            "34/34 [==============================] - 5s 152ms/step - loss: 0.2305 - MSE: 0.2305 - val_loss: 0.0145 - val_MSE: 0.0145\n",
            "Epoch 4/50\n",
            "34/34 [==============================] - 5s 156ms/step - loss: 0.1587 - MSE: 0.1587 - val_loss: 0.0781 - val_MSE: 0.0781\n",
            "Epoch 5/50\n",
            "34/34 [==============================] - 5s 157ms/step - loss: 0.1246 - MSE: 0.1246 - val_loss: 0.0104 - val_MSE: 0.0104\n",
            "Epoch 6/50\n",
            "34/34 [==============================] - 5s 156ms/step - loss: 0.0926 - MSE: 0.0926 - val_loss: 0.0019 - val_MSE: 0.0019\n",
            "Epoch 7/50\n",
            "34/34 [==============================] - 5s 157ms/step - loss: 0.0814 - MSE: 0.0814 - val_loss: 0.0021 - val_MSE: 0.0021\n",
            "Epoch 8/50\n",
            "34/34 [==============================] - 5s 158ms/step - loss: 0.0709 - MSE: 0.0709 - val_loss: 0.0036 - val_MSE: 0.0036\n",
            "Epoch 9/50\n",
            "34/34 [==============================] - 8s 225ms/step - loss: 0.0591 - MSE: 0.0591 - val_loss: 6.5712e-04 - val_MSE: 6.5712e-04\n",
            "Epoch 10/50\n",
            "34/34 [==============================] - 5s 159ms/step - loss: 0.0535 - MSE: 0.0535 - val_loss: 6.0579e-04 - val_MSE: 6.0579e-04\n",
            "Epoch 11/50\n",
            "34/34 [==============================] - 5s 152ms/step - loss: 0.0425 - MSE: 0.0425 - val_loss: 0.0029 - val_MSE: 0.0029\n",
            "Epoch 12/50\n",
            "34/34 [==============================] - 5s 155ms/step - loss: 0.0404 - MSE: 0.0404 - val_loss: 0.0011 - val_MSE: 0.0011\n",
            "Epoch 13/50\n",
            "34/34 [==============================] - 5s 151ms/step - loss: 0.0377 - MSE: 0.0377 - val_loss: 0.0025 - val_MSE: 0.0025\n",
            "Epoch 14/50\n",
            "34/34 [==============================] - 5s 155ms/step - loss: 0.0282 - MSE: 0.0282 - val_loss: 0.0013 - val_MSE: 0.0013\n",
            "Epoch 15/50\n",
            "34/34 [==============================] - 5s 153ms/step - loss: 0.0269 - MSE: 0.0269 - val_loss: 0.0014 - val_MSE: 0.0014\n",
            "Epoch 16/50\n",
            "34/34 [==============================] - 5s 156ms/step - loss: 0.0230 - MSE: 0.0230 - val_loss: 9.8255e-04 - val_MSE: 9.8255e-04\n",
            "Epoch 17/50\n",
            "34/34 [==============================] - 5s 153ms/step - loss: 0.0198 - MSE: 0.0198 - val_loss: 6.8316e-04 - val_MSE: 6.8316e-04\n",
            "Epoch 18/50\n",
            "34/34 [==============================] - 5s 156ms/step - loss: 0.0197 - MSE: 0.0197 - val_loss: 0.0017 - val_MSE: 0.0017\n",
            "Epoch 19/50\n",
            "34/34 [==============================] - 5s 152ms/step - loss: 0.0191 - MSE: 0.0191 - val_loss: 0.0021 - val_MSE: 0.0021\n",
            "Epoch 20/50\n",
            "34/34 [==============================] - 5s 155ms/step - loss: 0.0163 - MSE: 0.0163 - val_loss: 0.0019 - val_MSE: 0.0019\n",
            "Epoch 21/50\n",
            "34/34 [==============================] - 5s 155ms/step - loss: 0.0133 - MSE: 0.0133 - val_loss: 0.0011 - val_MSE: 0.0011\n",
            "Epoch 22/50\n",
            "34/34 [==============================] - 5s 154ms/step - loss: 0.0145 - MSE: 0.0145 - val_loss: 0.0013 - val_MSE: 0.0013\n",
            "Epoch 23/50\n",
            "34/34 [==============================] - 5s 153ms/step - loss: 0.0128 - MSE: 0.0128 - val_loss: 0.0011 - val_MSE: 0.0011\n",
            "Epoch 24/50\n",
            "34/34 [==============================] - 5s 156ms/step - loss: 0.0126 - MSE: 0.0126 - val_loss: 0.0015 - val_MSE: 0.0015\n",
            "Epoch 25/50\n",
            "34/34 [==============================] - 5s 156ms/step - loss: 0.0111 - MSE: 0.0111 - val_loss: 0.0041 - val_MSE: 0.0041\n",
            "Epoch 26/50\n",
            "34/34 [==============================] - 5s 154ms/step - loss: 0.0107 - MSE: 0.0107 - val_loss: 0.0013 - val_MSE: 0.0013\n",
            "Epoch 27/50\n",
            "34/34 [==============================] - 5s 154ms/step - loss: 0.0105 - MSE: 0.0105 - val_loss: 5.6209e-04 - val_MSE: 5.6209e-04\n",
            "Epoch 28/50\n",
            "34/34 [==============================] - 6s 185ms/step - loss: 0.0102 - MSE: 0.0102 - val_loss: 4.7128e-04 - val_MSE: 4.7128e-04\n",
            "Epoch 29/50\n",
            "34/34 [==============================] - 5s 157ms/step - loss: 0.0081 - MSE: 0.0081 - val_loss: 0.0052 - val_MSE: 0.0052\n",
            "Epoch 30/50\n",
            "34/34 [==============================] - 5s 154ms/step - loss: 0.0082 - MSE: 0.0082 - val_loss: 5.5922e-04 - val_MSE: 5.5922e-04\n",
            "Epoch 31/50\n",
            "34/34 [==============================] - 5s 151ms/step - loss: 0.0080 - MSE: 0.0080 - val_loss: 0.0014 - val_MSE: 0.0014\n",
            "Epoch 32/50\n",
            "34/34 [==============================] - 6s 166ms/step - loss: 0.0081 - MSE: 0.0081 - val_loss: 4.2369e-04 - val_MSE: 4.2369e-04\n",
            "Epoch 33/50\n",
            "34/34 [==============================] - 5s 155ms/step - loss: 0.0070 - MSE: 0.0070 - val_loss: 3.7629e-04 - val_MSE: 3.7629e-04\n",
            "Epoch 34/50\n",
            "34/34 [==============================] - 6s 173ms/step - loss: 0.0078 - MSE: 0.0078 - val_loss: 5.4325e-04 - val_MSE: 5.4325e-04\n",
            "Epoch 35/50\n",
            "34/34 [==============================] - 7s 222ms/step - loss: 0.0071 - MSE: 0.0071 - val_loss: 0.0019 - val_MSE: 0.0019\n",
            "Epoch 36/50\n",
            "34/34 [==============================] - 7s 197ms/step - loss: 0.0062 - MSE: 0.0062 - val_loss: 4.3123e-04 - val_MSE: 4.3123e-04\n",
            "Epoch 37/50\n",
            "34/34 [==============================] - 7s 208ms/step - loss: 0.0071 - MSE: 0.0071 - val_loss: 0.0021 - val_MSE: 0.0021\n",
            "Epoch 38/50\n",
            "34/34 [==============================] - 7s 193ms/step - loss: 0.0067 - MSE: 0.0067 - val_loss: 7.2545e-04 - val_MSE: 7.2545e-04\n",
            "Epoch 39/50\n",
            "34/34 [==============================] - 6s 175ms/step - loss: 0.0061 - MSE: 0.0061 - val_loss: 8.9718e-04 - val_MSE: 8.9718e-04\n",
            "Epoch 40/50\n",
            "34/34 [==============================] - 6s 184ms/step - loss: 0.0057 - MSE: 0.0057 - val_loss: 0.0019 - val_MSE: 0.0019\n",
            "Epoch 41/50\n",
            "34/34 [==============================] - 5s 156ms/step - loss: 0.0057 - MSE: 0.0057 - val_loss: 6.9726e-04 - val_MSE: 6.9726e-04\n",
            "Epoch 42/50\n",
            "34/34 [==============================] - 5s 155ms/step - loss: 0.0053 - MSE: 0.0053 - val_loss: 6.6549e-04 - val_MSE: 6.6549e-04\n",
            "Epoch 43/50\n",
            "34/34 [==============================] - 5s 151ms/step - loss: 0.0052 - MSE: 0.0052 - val_loss: 5.3616e-04 - val_MSE: 5.3616e-04\n",
            "Epoch 44/50\n",
            "34/34 [==============================] - 5s 156ms/step - loss: 0.0052 - MSE: 0.0052 - val_loss: 3.4912e-04 - val_MSE: 3.4912e-04\n",
            "Epoch 45/50\n",
            "34/34 [==============================] - 5s 156ms/step - loss: 0.0051 - MSE: 0.0051 - val_loss: 0.0013 - val_MSE: 0.0013\n",
            "Epoch 46/50\n",
            "34/34 [==============================] - 5s 151ms/step - loss: 0.0050 - MSE: 0.0050 - val_loss: 4.5137e-04 - val_MSE: 4.5137e-04\n",
            "Epoch 47/50\n",
            "34/34 [==============================] - 5s 156ms/step - loss: 0.0052 - MSE: 0.0052 - val_loss: 0.0061 - val_MSE: 0.0061\n",
            "Epoch 48/50\n",
            "34/34 [==============================] - 6s 170ms/step - loss: 0.0048 - MSE: 0.0048 - val_loss: 4.3444e-04 - val_MSE: 4.3444e-04\n",
            "Epoch 49/50\n",
            "34/34 [==============================] - 5s 155ms/step - loss: 0.0046 - MSE: 0.0046 - val_loss: 3.5338e-04 - val_MSE: 3.5338e-04\n",
            "Epoch 50/50\n",
            "34/34 [==============================] - 6s 175ms/step - loss: 0.0045 - MSE: 0.0045 - val_loss: 0.0010 - val_MSE: 0.0010\n"
          ]
        }
      ]
    },
    {
      "cell_type": "code",
      "source": [
        "loss = history_rnn.history['loss']\n",
        "acc = history_rnn.history['MSE']\n",
        "val_loss = history_rnn.history['val_loss']\n",
        "val_acc = history_rnn.history['val_MSE']\n",
        "\n",
        "epochs = range(1, len(acc)+1)\n",
        "\n",
        "plt.figure()\n",
        "\n",
        "plt.plot(epochs, acc, 'b', label='Training MSE')\n",
        "plt.plot(epochs, val_acc, 'r', label='Validation MSE')\n",
        "plt.xlabel('# of Epochs')\n",
        "plt.ylabel('Loss')\n",
        "plt.title('Training loss & Validation loss Vs Epochs')\n",
        "plt.legend()\n",
        "\n",
        "plt.show()"
      ],
      "metadata": {
        "colab": {
          "base_uri": "https://localhost:8080/",
          "height": 295
        },
        "id": "B-ahw9NxJgmX",
        "outputId": "0965db11-113c-4afe-f965-f88975d7b6aa"
      },
      "execution_count": 14,
      "outputs": [
        {
          "output_type": "display_data",
          "data": {
            "text/plain": [
              "<Figure size 432x288 with 1 Axes>"
            ],
            "image/png": "[encoded data removed]"
          },
          "metadata": {
            "needs_background": "light"
          }
        }
      ]
    },
    {
      "cell_type": "code",
      "source": [
        "# Predicting values:\n",
        "\n",
        "predicted_price_rnn = model_rnn.predict(x_test)\n",
        "predicted_values_rnn = scaler.inverse_transform(predicted_price_rnn)"
      ],
      "metadata": {
        "id": "RWtPZCXhK4Cc"
      },
      "execution_count": 15,
      "outputs": []
    },
    {
      "cell_type": "code",
      "source": [
        "# Visualizing Actual vs Predicted (Opening price) of stocks:\n",
        "\n",
        "plt.plot(actual_val, 'b', label = \"Google Stock Price\")\n",
        "plt.plot(predicted_values_rnn, 'r', label = \"Predicted Google Stock Price\")\n",
        "plt.legend()\n",
        "\n",
        "plt.show()"
      ],
      "metadata": {
        "colab": {
          "base_uri": "https://localhost:8080/",
          "height": 267
        },
        "id": "bydyULnsLV3y",
        "outputId": "c1eff593-4016-4f49-9aa3-f24794905d15"
      },
      "execution_count": 16,
      "outputs": [
        {
          "output_type": "display_data",
          "data": {
            "text/plain": [
              "<Figure size 432x288 with 1 Axes>"
            ],
            "image/png": "[encoded data removed]"
          },
          "metadata": {
            "needs_background": "light"
          }
        }
      ]
    },
    {
      "cell_type": "markdown",
      "source": [
        "> **LSTM Model**"
      ],
      "metadata": {
        "id": "7zSO16dWMcwF"
      }
    },
    {
      "cell_type": "code",
      "source": [
        "model_lstm = keras.Sequential()\n",
        "\n",
        "model_lstm.add(layers.LSTM(units = 50, return_sequences = True, input_shape = (x_train.shape[1], 1)))\n",
        "model_lstm.add(layers.Dropout(0.2))\n",
        "\n",
        "model_lstm.add(layers.LSTM(units = 50, return_sequences = True))\n",
        "model_lstm.add(layers.Dropout(0.2))\n",
        "\n",
        "model_lstm.add(layers.LSTM(units = 50, return_sequences = True))\n",
        "model_lstm.add(layers.Dropout(0.2))\n",
        "\n",
        "model_lstm.add(layers.LSTM(units = 50))\n",
        "model_lstm.add(layers.Dropout(0.2))\n",
        "\n",
        "model_lstm.add(layers.Dense(units=1,name=\"OutputLayer\"))\n",
        "\n",
        "opt = tf.keras.optimizers.Adam(learning_rate=0.0001)\n",
        "model_lstm.compile(loss='MSE',optimizer=opt, metrics=[\"MSE\"])\n",
        "\n",
        "display(model_lstm.summary())"
      ],
      "metadata": {
        "colab": {
          "base_uri": "https://localhost:8080/",
          "height": 503
        },
        "id": "ltAS4xYPI5dJ",
        "outputId": "3a40e4ca-cd49-415e-8ef3-cc9b2839b8e4"
      },
      "execution_count": 17,
      "outputs": [
        {
          "output_type": "stream",
          "name": "stdout",
          "text": [
            "Model: \"sequential_1\"\n",
            "_________________________________________________________________\n",
            " Layer (type)                Output Shape              Param #   \n",
            "=================================================================\n",
            " lstm (LSTM)                 (None, 50, 50)            10400     \n",
            "                                                                 \n",
            " dropout_4 (Dropout)         (None, 50, 50)            0         \n",
            "                                                                 \n",
            " lstm_1 (LSTM)               (None, 50, 50)            20200     \n",
            "                                                                 \n",
            " dropout_5 (Dropout)         (None, 50, 50)            0         \n",
            "                                                                 \n",
            " lstm_2 (LSTM)               (None, 50, 50)            20200     \n",
            "                                                                 \n",
            " dropout_6 (Dropout)         (None, 50, 50)            0         \n",
            "                                                                 \n",
            " lstm_3 (LSTM)               (None, 50)                20200     \n",
            "                                                                 \n",
            " dropout_7 (Dropout)         (None, 50)                0         \n",
            "                                                                 \n",
            " OutputLayer (Dense)         (None, 1)                 51        \n",
            "                                                                 \n",
            "=================================================================\n",
            "Total params: 71,051\n",
            "Trainable params: 71,051\n",
            "Non-trainable params: 0\n",
            "_________________________________________________________________\n"
          ]
        },
        {
          "output_type": "display_data",
          "data": {
            "text/plain": [
              "None"
            ]
          },
          "metadata": {}
        }
      ]
    },
    {
      "cell_type": "code",
      "source": [
        "history_lstm = model_lstm.fit(x_train,y_train, epochs=50,batch_size=32,validation_split=0.1)"
      ],
      "metadata": {
        "colab": {
          "base_uri": "https://localhost:8080/"
        },
        "id": "FhgVEUA97e7u",
        "outputId": "cadada6b-a637-43ee-81bb-1c31186c55b9"
      },
      "execution_count": 18,
      "outputs": [
        {
          "output_type": "stream",
          "name": "stdout",
          "text": [
            "Epoch 1/50\n",
            "34/34 [==============================] - 9s 52ms/step - loss: 0.1621 - MSE: 0.1621 - val_loss: 0.1977 - val_MSE: 0.1977\n",
            "Epoch 2/50\n",
            "34/34 [==============================] - 0s 13ms/step - loss: 0.0171 - MSE: 0.0171 - val_loss: 0.0289 - val_MSE: 0.0289\n",
            "Epoch 3/50\n",
            "34/34 [==============================] - 0s 13ms/step - loss: 0.0089 - MSE: 0.0089 - val_loss: 0.0095 - val_MSE: 0.0095\n",
            "Epoch 4/50\n",
            "34/34 [==============================] - 0s 14ms/step - loss: 0.0074 - MSE: 0.0074 - val_loss: 0.0048 - val_MSE: 0.0048\n",
            "Epoch 5/50\n",
            "34/34 [==============================] - 0s 13ms/step - loss: 0.0068 - MSE: 0.0068 - val_loss: 0.0046 - val_MSE: 0.0046\n",
            "Epoch 6/50\n",
            "34/34 [==============================] - 0s 14ms/step - loss: 0.0065 - MSE: 0.0065 - val_loss: 0.0017 - val_MSE: 0.0017\n",
            "Epoch 7/50\n",
            "34/34 [==============================] - 0s 13ms/step - loss: 0.0060 - MSE: 0.0060 - val_loss: 0.0030 - val_MSE: 0.0030\n",
            "Epoch 8/50\n",
            "34/34 [==============================] - 0s 14ms/step - loss: 0.0062 - MSE: 0.0062 - val_loss: 0.0024 - val_MSE: 0.0024\n",
            "Epoch 9/50\n",
            "34/34 [==============================] - 0s 13ms/step - loss: 0.0065 - MSE: 0.0065 - val_loss: 0.0017 - val_MSE: 0.0017\n",
            "Epoch 10/50\n",
            "34/34 [==============================] - 0s 14ms/step - loss: 0.0054 - MSE: 0.0054 - val_loss: 0.0032 - val_MSE: 0.0032\n",
            "Epoch 11/50\n",
            "34/34 [==============================] - 1s 15ms/step - loss: 0.0058 - MSE: 0.0058 - val_loss: 0.0031 - val_MSE: 0.0031\n",
            "Epoch 12/50\n",
            "34/34 [==============================] - 0s 13ms/step - loss: 0.0057 - MSE: 0.0057 - val_loss: 0.0020 - val_MSE: 0.0020\n",
            "Epoch 13/50\n",
            "34/34 [==============================] - 0s 14ms/step - loss: 0.0057 - MSE: 0.0057 - val_loss: 0.0017 - val_MSE: 0.0017\n",
            "Epoch 14/50\n",
            "34/34 [==============================] - 0s 13ms/step - loss: 0.0054 - MSE: 0.0054 - val_loss: 0.0027 - val_MSE: 0.0027\n",
            "Epoch 15/50\n",
            "34/34 [==============================] - 1s 15ms/step - loss: 0.0055 - MSE: 0.0055 - val_loss: 0.0027 - val_MSE: 0.0027\n",
            "Epoch 16/50\n",
            "34/34 [==============================] - 0s 14ms/step - loss: 0.0051 - MSE: 0.0051 - val_loss: 0.0017 - val_MSE: 0.0017\n",
            "Epoch 17/50\n",
            "34/34 [==============================] - 0s 14ms/step - loss: 0.0049 - MSE: 0.0049 - val_loss: 0.0017 - val_MSE: 0.0017\n",
            "Epoch 18/50\n",
            "34/34 [==============================] - 0s 13ms/step - loss: 0.0050 - MSE: 0.0050 - val_loss: 0.0028 - val_MSE: 0.0028\n",
            "Epoch 19/50\n",
            "34/34 [==============================] - 0s 13ms/step - loss: 0.0056 - MSE: 0.0056 - val_loss: 0.0035 - val_MSE: 0.0035\n",
            "Epoch 20/50\n",
            "34/34 [==============================] - 0s 13ms/step - loss: 0.0044 - MSE: 0.0044 - val_loss: 0.0022 - val_MSE: 0.0022\n",
            "Epoch 21/50\n",
            "34/34 [==============================] - 0s 13ms/step - loss: 0.0048 - MSE: 0.0048 - val_loss: 0.0032 - val_MSE: 0.0032\n",
            "Epoch 22/50\n",
            "34/34 [==============================] - 0s 13ms/step - loss: 0.0048 - MSE: 0.0048 - val_loss: 0.0062 - val_MSE: 0.0062\n",
            "Epoch 23/50\n",
            "34/34 [==============================] - 0s 13ms/step - loss: 0.0045 - MSE: 0.0045 - val_loss: 0.0040 - val_MSE: 0.0040\n",
            "Epoch 24/50\n",
            "34/34 [==============================] - 1s 21ms/step - loss: 0.0045 - MSE: 0.0045 - val_loss: 0.0051 - val_MSE: 0.0051\n",
            "Epoch 25/50\n",
            "34/34 [==============================] - 0s 14ms/step - loss: 0.0049 - MSE: 0.0049 - val_loss: 0.0040 - val_MSE: 0.0040\n",
            "Epoch 26/50\n",
            "34/34 [==============================] - 0s 13ms/step - loss: 0.0046 - MSE: 0.0046 - val_loss: 0.0014 - val_MSE: 0.0014\n",
            "Epoch 27/50\n",
            "34/34 [==============================] - 0s 13ms/step - loss: 0.0046 - MSE: 0.0046 - val_loss: 0.0030 - val_MSE: 0.0030\n",
            "Epoch 28/50\n",
            "34/34 [==============================] - 0s 13ms/step - loss: 0.0045 - MSE: 0.0045 - val_loss: 0.0027 - val_MSE: 0.0027\n",
            "Epoch 29/50\n",
            "34/34 [==============================] - 0s 14ms/step - loss: 0.0043 - MSE: 0.0043 - val_loss: 0.0033 - val_MSE: 0.0033\n",
            "Epoch 30/50\n",
            "34/34 [==============================] - 0s 14ms/step - loss: 0.0045 - MSE: 0.0045 - val_loss: 0.0053 - val_MSE: 0.0053\n",
            "Epoch 31/50\n",
            "34/34 [==============================] - 0s 14ms/step - loss: 0.0047 - MSE: 0.0047 - val_loss: 0.0039 - val_MSE: 0.0039\n",
            "Epoch 32/50\n",
            "34/34 [==============================] - 0s 14ms/step - loss: 0.0046 - MSE: 0.0046 - val_loss: 0.0041 - val_MSE: 0.0041\n",
            "Epoch 33/50\n",
            "34/34 [==============================] - 0s 14ms/step - loss: 0.0046 - MSE: 0.0046 - val_loss: 0.0046 - val_MSE: 0.0046\n",
            "Epoch 34/50\n",
            "34/34 [==============================] - 0s 14ms/step - loss: 0.0041 - MSE: 0.0041 - val_loss: 0.0019 - val_MSE: 0.0019\n",
            "Epoch 35/50\n",
            "34/34 [==============================] - 0s 13ms/step - loss: 0.0042 - MSE: 0.0042 - val_loss: 0.0059 - val_MSE: 0.0059\n",
            "Epoch 36/50\n",
            "34/34 [==============================] - 0s 14ms/step - loss: 0.0045 - MSE: 0.0045 - val_loss: 0.0023 - val_MSE: 0.0023\n",
            "Epoch 37/50\n",
            "34/34 [==============================] - 0s 14ms/step - loss: 0.0043 - MSE: 0.0043 - val_loss: 0.0022 - val_MSE: 0.0022\n",
            "Epoch 38/50\n",
            "34/34 [==============================] - 0s 14ms/step - loss: 0.0049 - MSE: 0.0049 - val_loss: 0.0015 - val_MSE: 0.0015\n",
            "Epoch 39/50\n",
            "34/34 [==============================] - 0s 14ms/step - loss: 0.0042 - MSE: 0.0042 - val_loss: 0.0022 - val_MSE: 0.0022\n",
            "Epoch 40/50\n",
            "34/34 [==============================] - 0s 14ms/step - loss: 0.0041 - MSE: 0.0041 - val_loss: 0.0048 - val_MSE: 0.0048\n",
            "Epoch 41/50\n",
            "34/34 [==============================] - 0s 14ms/step - loss: 0.0044 - MSE: 0.0044 - val_loss: 0.0056 - val_MSE: 0.0056\n",
            "Epoch 42/50\n",
            "34/34 [==============================] - 0s 14ms/step - loss: 0.0042 - MSE: 0.0042 - val_loss: 0.0042 - val_MSE: 0.0042\n",
            "Epoch 43/50\n",
            "34/34 [==============================] - 0s 14ms/step - loss: 0.0041 - MSE: 0.0041 - val_loss: 0.0029 - val_MSE: 0.0029\n",
            "Epoch 44/50\n",
            "34/34 [==============================] - 0s 14ms/step - loss: 0.0042 - MSE: 0.0042 - val_loss: 0.0014 - val_MSE: 0.0014\n",
            "Epoch 45/50\n",
            "34/34 [==============================] - 0s 14ms/step - loss: 0.0043 - MSE: 0.0043 - val_loss: 0.0045 - val_MSE: 0.0045\n",
            "Epoch 46/50\n",
            "34/34 [==============================] - 0s 14ms/step - loss: 0.0037 - MSE: 0.0037 - val_loss: 0.0016 - val_MSE: 0.0016\n",
            "Epoch 47/50\n",
            "34/34 [==============================] - 0s 14ms/step - loss: 0.0040 - MSE: 0.0040 - val_loss: 0.0036 - val_MSE: 0.0036\n",
            "Epoch 48/50\n",
            "34/34 [==============================] - 0s 14ms/step - loss: 0.0038 - MSE: 0.0038 - val_loss: 0.0023 - val_MSE: 0.0023\n",
            "Epoch 49/50\n",
            "34/34 [==============================] - 0s 14ms/step - loss: 0.0040 - MSE: 0.0040 - val_loss: 0.0016 - val_MSE: 0.0016\n",
            "Epoch 50/50\n",
            "34/34 [==============================] - 0s 14ms/step - loss: 0.0039 - MSE: 0.0039 - val_loss: 0.0058 - val_MSE: 0.0058\n"
          ]
        }
      ]
    },
    {
      "cell_type": "code",
      "source": [
        "loss = history_lstm.history['loss']\n",
        "acc = history_lstm.history['MSE']\n",
        "val_loss = history_lstm.history['val_loss']\n",
        "val_acc = history_lstm.history['val_MSE']\n",
        "\n",
        "epochs = range(1, len(acc)+1)\n",
        "\n",
        "plt.figure()\n",
        "\n",
        "plt.plot(epochs, acc, 'b', label='Training MSE')\n",
        "plt.plot(epochs, val_acc, 'r', label='Validation MSE')\n",
        "plt.xlabel('# of Epochs')\n",
        "plt.ylabel('Loss')\n",
        "plt.title('Training loss & Validation loss Vs Epochs')\n",
        "plt.legend()\n",
        "\n",
        "plt.show()"
      ],
      "metadata": {
        "colab": {
          "base_uri": "https://localhost:8080/",
          "height": 295
        },
        "id": "x7XgHh1gLdor",
        "outputId": "ff04a678-4e9e-4f20-d8c9-b5c1c8473676"
      },
      "execution_count": 19,
      "outputs": [
        {
          "output_type": "display_data",
          "data": {
            "text/plain": [
              "<Figure size 432x288 with 1 Axes>"
            ],
            "image/png": "[encoded data removed]"
          },
          "metadata": {
            "needs_background": "light"
          }
        }
      ]
    },
    {
      "cell_type": "code",
      "source": [
        "# Predicting values:\n",
        "\n",
        "predicted_price_lstm = model_lstm.predict(x_test)\n",
        "predicted_values_lstm = scaler.inverse_transform(predicted_price_lstm)"
      ],
      "metadata": {
        "id": "ncamumhILnqG"
      },
      "execution_count": 20,
      "outputs": []
    },
    {
      "cell_type": "code",
      "source": [
        "# Visualizing Actual vs Predicted (Opening price) of stocks:\n",
        "\n",
        "plt.plot(actual_val, 'b', label = \"Real Google Stock Price\")\n",
        "plt.plot(predicted_values_lstm, 'r', label = \"Predicted Google Stock Price\")\n",
        "plt.legend()\n",
        "plt.show()"
      ],
      "metadata": {
        "colab": {
          "base_uri": "https://localhost:8080/",
          "height": 265
        },
        "id": "kMvrTXXZL4ni",
        "outputId": "12215ccd-0dfd-4155-a532-3e18ae93ae0c"
      },
      "execution_count": 21,
      "outputs": [
        {
          "output_type": "display_data",
          "data": {
            "text/plain": [
              "<Figure size 432x288 with 1 Axes>"
            ],
            "image/png": "[encoded data removed]"
          },
          "metadata": {
            "needs_background": "light"
          }
        }
      ]
    },
    {
      "cell_type": "code",
      "source": [
        "# Comparing Predictions of RNN, LSTM and Actual Price:\n",
        "\n",
        "plt.plot(actual_val,color=\"red\",label=\"Real Google Stock Price\")\n",
        "plt.plot(predicted_values_rnn,color=\"blue\",label=\"Preticted Google Stock Price with RNN\")\n",
        "plt.plot(predicted_values_lstm,color=\"green\",label=\"Preticted Google Stock Price with LSTM\")\n",
        "\n",
        "plt.title(\"Google Stock Price Vs Time\")\n",
        "plt.xlabel(\"Time\")\n",
        "plt.ylabel(\"Google Stock Price\")\n",
        "plt.legend()\n",
        "\n",
        "plt.show()"
      ],
      "metadata": {
        "colab": {
          "base_uri": "https://localhost:8080/",
          "height": 295
        },
        "id": "KgzrhjiEp-4q",
        "outputId": "33523263-ccbc-4dd8-8c10-eb00fd06e993"
      },
      "execution_count": 22,
      "outputs": [
        {
          "output_type": "display_data",
          "data": {
            "text/plain": [
              "<Figure size 432x288 with 1 Axes>"
            ],
            "image/png": "[encoded data removed]"
          },
          "metadata": {
            "needs_background": "light"
          }
        }
      ]
    }
  ]
}