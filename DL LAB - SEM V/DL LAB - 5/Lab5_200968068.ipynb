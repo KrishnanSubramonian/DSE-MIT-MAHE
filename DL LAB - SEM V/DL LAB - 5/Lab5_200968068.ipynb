{
  "nbformat": 4,
  "nbformat_minor": 0,
  "metadata": {
    "colab": {
      "provenance": [],
      "collapsed_sections": []
    },
    "kernelspec": {
      "name": "python3",
      "display_name": "Python 3"
    },
    "language_info": {
      "name": "python"
    },
    "accelerator": "GPU",
    "gpuClass": "standard"
  },
  "cells": [
    {
      "cell_type": "markdown",
      "source": [
        "# **LAB EXERCISE - 5**"
      ],
      "metadata": {
        "id": "ff0kswcE6CTj"
      }
    },
    {
      "cell_type": "code",
      "source": [
        "from sklearn.datasets import fetch_california_housing\n",
        "\n",
        "import pandas as pd\n",
        "import numpy as np\n",
        "import seaborn as sb\n",
        "import matplotlib.pyplot as plt\n",
        "\n",
        "from sklearn.model_selection import train_test_split\n",
        "\n",
        "from sklearn.preprocessing import MinMaxScaler\n",
        "\n",
        "import tensorflow as tf\n",
        "from keras.layers.merge import concatenate"
      ],
      "metadata": {
        "id": "eNBr5AubQ-BC"
      },
      "execution_count": 80,
      "outputs": []
    },
    {
      "cell_type": "code",
      "execution_count": 81,
      "metadata": {
        "id": "N58Ut1kDcOsF"
      },
      "outputs": [],
      "source": [
        "california = fetch_california_housing()"
      ]
    },
    {
      "cell_type": "code",
      "source": [
        "# Description of the dataset:\n",
        "\n",
        "print(california.DESCR)"
      ],
      "metadata": {
        "colab": {
          "base_uri": "https://localhost:8080/"
        },
        "id": "3hTMXIN6cq-d",
        "outputId": "1a453f7c-57b2-4771-8093-0c34b2135b00"
      },
      "execution_count": 82,
      "outputs": [
        {
          "output_type": "stream",
          "name": "stdout",
          "text": [
            ".. _california_housing_dataset:\n",
            "\n",
            "California Housing dataset\n",
            "--------------------------\n",
            "\n",
            "**Data Set Characteristics:**\n",
            "\n",
            "    :Number of Instances: 20640\n",
            "\n",
            "    :Number of Attributes: 8 numeric, predictive attributes and the target\n",
            "\n",
            "    :Attribute Information:\n",
            "        - MedInc        median income in block group\n",
            "        - HouseAge      median house age in block group\n",
            "        - AveRooms      average number of rooms per household\n",
            "        - AveBedrms     average number of bedrooms per household\n",
            "        - Population    block group population\n",
            "        - AveOccup      average number of household members\n",
            "        - Latitude      block group latitude\n",
            "        - Longitude     block group longitude\n",
            "\n",
            "    :Missing Attribute Values: None\n",
            "\n",
            "This dataset was obtained from the StatLib repository.\n",
            "https://www.dcc.fc.up.pt/~ltorgo/Regression/cal_housing.html\n",
            "\n",
            "The target variable is the median house value for California districts,\n",
            "expressed in hundreds of thousands of dollars ($100,000).\n",
            "\n",
            "This dataset was derived from the 1990 U.S. census, using one row per census\n",
            "block group. A block group is the smallest geographical unit for which the U.S.\n",
            "Census Bureau publishes sample data (a block group typically has a population\n",
            "of 600 to 3,000 people).\n",
            "\n",
            "An household is a group of people residing within a home. Since the average\n",
            "number of rooms and bedrooms in this dataset are provided per household, these\n",
            "columns may take surpinsingly large values for block groups with few households\n",
            "and many empty houses, such as vacation resorts.\n",
            "\n",
            "It can be downloaded/loaded using the\n",
            ":func:`sklearn.datasets.fetch_california_housing` function.\n",
            "\n",
            ".. topic:: References\n",
            "\n",
            "    - Pace, R. Kelley and Ronald Barry, Sparse Spatial Autoregressions,\n",
            "      Statistics and Probability Letters, 33 (1997) 291-297\n",
            "\n"
          ]
        }
      ]
    },
    {
      "cell_type": "code",
      "source": [
        "# Shape of Data and Target:\n",
        "\n",
        "print(california.data.shape)\n",
        "print(california.target.shape)"
      ],
      "metadata": {
        "id": "-g_UXH22dx-l",
        "colab": {
          "base_uri": "https://localhost:8080/"
        },
        "outputId": "11a7ff44-da23-469b-e35e-cf51394d75d9"
      },
      "execution_count": 83,
      "outputs": [
        {
          "output_type": "stream",
          "name": "stdout",
          "text": [
            "(20640, 8)\n",
            "(20640,)\n"
          ]
        }
      ]
    },
    {
      "cell_type": "code",
      "source": [
        "# Feature names:\n",
        "\n",
        "california.feature_names"
      ],
      "metadata": {
        "colab": {
          "base_uri": "https://localhost:8080/"
        },
        "id": "M-vX51uJPrqC",
        "outputId": "dc7a1458-d084-4d58-ee1b-f2a6d4674487"
      },
      "execution_count": 84,
      "outputs": [
        {
          "output_type": "execute_result",
          "data": {
            "text/plain": [
              "['MedInc',\n",
              " 'HouseAge',\n",
              " 'AveRooms',\n",
              " 'AveBedrms',\n",
              " 'Population',\n",
              " 'AveOccup',\n",
              " 'Latitude',\n",
              " 'Longitude']"
            ]
          },
          "metadata": {},
          "execution_count": 84
        }
      ]
    },
    {
      "cell_type": "code",
      "source": [
        "pd.set_option('precision', 4)\n",
        "pd.set_option('max_columns', 9)\n",
        "pd.set_option('display.width', None)\n",
        "\n",
        "df = pd.DataFrame(california.data, columns=california.feature_names)\n",
        "df['MedHouseValue'] = pd.Series(california.target)\n",
        "\n",
        "df.head()"
      ],
      "metadata": {
        "colab": {
          "base_uri": "https://localhost:8080/",
          "height": 206
        },
        "id": "Pa_UJ-6LPuDk",
        "outputId": "cf95c133-f2f1-4a0c-fceb-6f0d306a4596"
      },
      "execution_count": 85,
      "outputs": [
        {
          "output_type": "execute_result",
          "data": {
            "text/plain": [
              "   MedInc  HouseAge  AveRooms  AveBedrms  Population  AveOccup  Latitude  \\\n",
              "0  8.3252      41.0    6.9841     1.0238       322.0    2.5556     37.88   \n",
              "1  8.3014      21.0    6.2381     0.9719      2401.0    2.1098     37.86   \n",
              "2  7.2574      52.0    8.2881     1.0734       496.0    2.8023     37.85   \n",
              "3  5.6431      52.0    5.8174     1.0731       558.0    2.5479     37.85   \n",
              "4  3.8462      52.0    6.2819     1.0811       565.0    2.1815     37.85   \n",
              "\n",
              "   Longitude  MedHouseValue  \n",
              "0    -122.23          4.526  \n",
              "1    -122.22          3.585  \n",
              "2    -122.24          3.521  \n",
              "3    -122.25          3.413  \n",
              "4    -122.25          3.422  "
            ],
            "text/html": [
              "\n",
              "  <div id=\"df-016bb17f-b883-4c8a-bc1c-d7acff76082a\">\n",
              "    <div class=\"colab-df-container\">\n",
              "      <div>\n",
              "<style scoped>\n",
              "    .dataframe tbody tr th:only-of-type {\n",
              "        vertical-align: middle;\n",
              "    }\n",
              "\n",
              "    .dataframe tbody tr th {\n",
              "        vertical-align: top;\n",
              "    }\n",
              "\n",
              "    .dataframe thead th {\n",
              "        text-align: right;\n",
              "    }\n",
              "</style>\n",
              "<table border=\"1\" class=\"dataframe\">\n",
              "  <thead>\n",
              "    <tr style=\"text-align: right;\">\n",
              "      <th></th>\n",
              "      <th>MedInc</th>\n",
              "      <th>HouseAge</th>\n",
              "      <th>AveRooms</th>\n",
              "      <th>AveBedrms</th>\n",
              "      <th>Population</th>\n",
              "      <th>AveOccup</th>\n",
              "      <th>Latitude</th>\n",
              "      <th>Longitude</th>\n",
              "      <th>MedHouseValue</th>\n",
              "    </tr>\n",
              "  </thead>\n",
              "  <tbody>\n",
              "    <tr>\n",
              "      <th>0</th>\n",
              "      <td>8.3252</td>\n",
              "      <td>41.0</td>\n",
              "      <td>6.9841</td>\n",
              "      <td>1.0238</td>\n",
              "      <td>322.0</td>\n",
              "      <td>2.5556</td>\n",
              "      <td>37.88</td>\n",
              "      <td>-122.23</td>\n",
              "      <td>4.526</td>\n",
              "    </tr>\n",
              "    <tr>\n",
              "      <th>1</th>\n",
              "      <td>8.3014</td>\n",
              "      <td>21.0</td>\n",
              "      <td>6.2381</td>\n",
              "      <td>0.9719</td>\n",
              "      <td>2401.0</td>\n",
              "      <td>2.1098</td>\n",
              "      <td>37.86</td>\n",
              "      <td>-122.22</td>\n",
              "      <td>3.585</td>\n",
              "    </tr>\n",
              "    <tr>\n",
              "      <th>2</th>\n",
              "      <td>7.2574</td>\n",
              "      <td>52.0</td>\n",
              "      <td>8.2881</td>\n",
              "      <td>1.0734</td>\n",
              "      <td>496.0</td>\n",
              "      <td>2.8023</td>\n",
              "      <td>37.85</td>\n",
              "      <td>-122.24</td>\n",
              "      <td>3.521</td>\n",
              "    </tr>\n",
              "    <tr>\n",
              "      <th>3</th>\n",
              "      <td>5.6431</td>\n",
              "      <td>52.0</td>\n",
              "      <td>5.8174</td>\n",
              "      <td>1.0731</td>\n",
              "      <td>558.0</td>\n",
              "      <td>2.5479</td>\n",
              "      <td>37.85</td>\n",
              "      <td>-122.25</td>\n",
              "      <td>3.413</td>\n",
              "    </tr>\n",
              "    <tr>\n",
              "      <th>4</th>\n",
              "      <td>3.8462</td>\n",
              "      <td>52.0</td>\n",
              "      <td>6.2819</td>\n",
              "      <td>1.0811</td>\n",
              "      <td>565.0</td>\n",
              "      <td>2.1815</td>\n",
              "      <td>37.85</td>\n",
              "      <td>-122.25</td>\n",
              "      <td>3.422</td>\n",
              "    </tr>\n",
              "  </tbody>\n",
              "</table>\n",
              "</div>\n",
              "      <button class=\"colab-df-convert\" onclick=\"convertToInteractive('df-016bb17f-b883-4c8a-bc1c-d7acff76082a')\"\n",
              "              title=\"Convert this dataframe to an interactive table.\"\n",
              "              style=\"display:none;\">\n",
              "        \n",
              "  <svg xmlns=\"http://www.w3.org/2000/svg\" height=\"24px\"viewBox=\"0 0 24 24\"\n",
              "       width=\"24px\">\n",
              "    <path d=\"M0 0h24v24H0V0z\" fill=\"none\"/>\n",
              "    <path d=\"M18.56 5.44l.94 2.06.94-2.06 2.06-.94-2.06-.94-.94-2.06-.94 2.06-2.06.94zm-11 1L8.5 8.5l.94-2.06 2.06-.94-2.06-.94L8.5 2.5l-.94 2.06-2.06.94zm10 10l.94 2.06.94-2.06 2.06-.94-2.06-.94-.94-2.06-.94 2.06-2.06.94z\"/><path d=\"M17.41 7.96l-1.37-1.37c-.4-.4-.92-.59-1.43-.59-.52 0-1.04.2-1.43.59L10.3 9.45l-7.72 7.72c-.78.78-.78 2.05 0 2.83L4 21.41c.39.39.9.59 1.41.59.51 0 1.02-.2 1.41-.59l7.78-7.78 2.81-2.81c.8-.78.8-2.07 0-2.86zM5.41 20L4 18.59l7.72-7.72 1.47 1.35L5.41 20z\"/>\n",
              "  </svg>\n",
              "      </button>\n",
              "      \n",
              "  <style>\n",
              "    .colab-df-container {\n",
              "      display:flex;\n",
              "      flex-wrap:wrap;\n",
              "      gap: 12px;\n",
              "    }\n",
              "\n",
              "    .colab-df-convert {\n",
              "      background-color: #E8F0FE;\n",
              "      border: none;\n",
              "      border-radius: 50%;\n",
              "      cursor: pointer;\n",
              "      display: none;\n",
              "      fill: #1967D2;\n",
              "      height: 32px;\n",
              "      padding: 0 0 0 0;\n",
              "      width: 32px;\n",
              "    }\n",
              "\n",
              "    .colab-df-convert:hover {\n",
              "      background-color: #E2EBFA;\n",
              "      box-shadow: 0px 1px 2px rgba(60, 64, 67, 0.3), 0px 1px 3px 1px rgba(60, 64, 67, 0.15);\n",
              "      fill: #174EA6;\n",
              "    }\n",
              "\n",
              "    [theme=dark] .colab-df-convert {\n",
              "      background-color: #3B4455;\n",
              "      fill: #D2E3FC;\n",
              "    }\n",
              "\n",
              "    [theme=dark] .colab-df-convert:hover {\n",
              "      background-color: #434B5C;\n",
              "      box-shadow: 0px 1px 3px 1px rgba(0, 0, 0, 0.15);\n",
              "      filter: drop-shadow(0px 1px 2px rgba(0, 0, 0, 0.3));\n",
              "      fill: #FFFFFF;\n",
              "    }\n",
              "  </style>\n",
              "\n",
              "      <script>\n",
              "        const buttonEl =\n",
              "          document.querySelector('#df-016bb17f-b883-4c8a-bc1c-d7acff76082a button.colab-df-convert');\n",
              "        buttonEl.style.display =\n",
              "          google.colab.kernel.accessAllowed ? 'block' : 'none';\n",
              "\n",
              "        async function convertToInteractive(key) {\n",
              "          const element = document.querySelector('#df-016bb17f-b883-4c8a-bc1c-d7acff76082a');\n",
              "          const dataTable =\n",
              "            await google.colab.kernel.invokeFunction('convertToInteractive',\n",
              "                                                     [key], {});\n",
              "          if (!dataTable) return;\n",
              "\n",
              "          const docLinkHtml = 'Like what you see? Visit the ' +\n",
              "            '<a target=\"_blank\" href=https://colab.research.google.com/notebooks/data_table.ipynb>data table notebook</a>'\n",
              "            + ' to learn more about interactive tables.';\n",
              "          element.innerHTML = '';\n",
              "          dataTable['output_type'] = 'display_data';\n",
              "          await google.colab.output.renderOutput(dataTable, element);\n",
              "          const docLink = document.createElement('div');\n",
              "          docLink.innerHTML = docLinkHtml;\n",
              "          element.appendChild(docLink);\n",
              "        }\n",
              "      </script>\n",
              "    </div>\n",
              "  </div>\n",
              "  "
            ]
          },
          "metadata": {},
          "execution_count": 85
        }
      ]
    },
    {
      "cell_type": "code",
      "source": [
        "'''\n",
        "\n",
        "    some features are trained and others are not(Directly fed in the output layer) ---> Viral NN with Functional API\n",
        "\n",
        "'''"
      ],
      "metadata": {
        "colab": {
          "base_uri": "https://localhost:8080/",
          "height": 36
        },
        "id": "rTtPdhONwMoR",
        "outputId": "4cf33baa-3df1-486a-b240-9ebc7e76d651"
      },
      "execution_count": 86,
      "outputs": [
        {
          "output_type": "execute_result",
          "data": {
            "text/plain": [
              "'\\n\\n    some features are trained and others are not(Directly fed in the output layer) ---> Viral NN with Functional API\\n\\n'"
            ],
            "application/vnd.google.colaboratory.intrinsic+json": {
              "type": "string"
            }
          },
          "metadata": {},
          "execution_count": 86
        }
      ]
    },
    {
      "cell_type": "code",
      "source": [
        "df.isnull().sum()"
      ],
      "metadata": {
        "colab": {
          "base_uri": "https://localhost:8080/"
        },
        "id": "rkbp9Arz1ep_",
        "outputId": "e0957b1f-313a-4165-8236-e082d7bed109"
      },
      "execution_count": 87,
      "outputs": [
        {
          "output_type": "execute_result",
          "data": {
            "text/plain": [
              "MedInc           0\n",
              "HouseAge         0\n",
              "AveRooms         0\n",
              "AveBedrms        0\n",
              "Population       0\n",
              "AveOccup         0\n",
              "Latitude         0\n",
              "Longitude        0\n",
              "MedHouseValue    0\n",
              "dtype: int64"
            ]
          },
          "metadata": {},
          "execution_count": 87
        }
      ]
    },
    {
      "cell_type": "code",
      "source": [
        "df1 = df.copy()\n",
        "df1.head()"
      ],
      "metadata": {
        "colab": {
          "base_uri": "https://localhost:8080/",
          "height": 206
        },
        "id": "FxsBV0-J6j9q",
        "outputId": "bcce1df4-e1c0-4b24-fbbf-6d29f3b4f083"
      },
      "execution_count": 88,
      "outputs": [
        {
          "output_type": "execute_result",
          "data": {
            "text/plain": [
              "   MedInc  HouseAge  AveRooms  AveBedrms  Population  AveOccup  Latitude  \\\n",
              "0  8.3252      41.0    6.9841     1.0238       322.0    2.5556     37.88   \n",
              "1  8.3014      21.0    6.2381     0.9719      2401.0    2.1098     37.86   \n",
              "2  7.2574      52.0    8.2881     1.0734       496.0    2.8023     37.85   \n",
              "3  5.6431      52.0    5.8174     1.0731       558.0    2.5479     37.85   \n",
              "4  3.8462      52.0    6.2819     1.0811       565.0    2.1815     37.85   \n",
              "\n",
              "   Longitude  MedHouseValue  \n",
              "0    -122.23          4.526  \n",
              "1    -122.22          3.585  \n",
              "2    -122.24          3.521  \n",
              "3    -122.25          3.413  \n",
              "4    -122.25          3.422  "
            ],
            "text/html": [
              "\n",
              "  <div id=\"df-8c883352-bdc2-488c-a530-7a3ee4b4c48d\">\n",
              "    <div class=\"colab-df-container\">\n",
              "      <div>\n",
              "<style scoped>\n",
              "    .dataframe tbody tr th:only-of-type {\n",
              "        vertical-align: middle;\n",
              "    }\n",
              "\n",
              "    .dataframe tbody tr th {\n",
              "        vertical-align: top;\n",
              "    }\n",
              "\n",
              "    .dataframe thead th {\n",
              "        text-align: right;\n",
              "    }\n",
              "</style>\n",
              "<table border=\"1\" class=\"dataframe\">\n",
              "  <thead>\n",
              "    <tr style=\"text-align: right;\">\n",
              "      <th></th>\n",
              "      <th>MedInc</th>\n",
              "      <th>HouseAge</th>\n",
              "      <th>AveRooms</th>\n",
              "      <th>AveBedrms</th>\n",
              "      <th>Population</th>\n",
              "      <th>AveOccup</th>\n",
              "      <th>Latitude</th>\n",
              "      <th>Longitude</th>\n",
              "      <th>MedHouseValue</th>\n",
              "    </tr>\n",
              "  </thead>\n",
              "  <tbody>\n",
              "    <tr>\n",
              "      <th>0</th>\n",
              "      <td>8.3252</td>\n",
              "      <td>41.0</td>\n",
              "      <td>6.9841</td>\n",
              "      <td>1.0238</td>\n",
              "      <td>322.0</td>\n",
              "      <td>2.5556</td>\n",
              "      <td>37.88</td>\n",
              "      <td>-122.23</td>\n",
              "      <td>4.526</td>\n",
              "    </tr>\n",
              "    <tr>\n",
              "      <th>1</th>\n",
              "      <td>8.3014</td>\n",
              "      <td>21.0</td>\n",
              "      <td>6.2381</td>\n",
              "      <td>0.9719</td>\n",
              "      <td>2401.0</td>\n",
              "      <td>2.1098</td>\n",
              "      <td>37.86</td>\n",
              "      <td>-122.22</td>\n",
              "      <td>3.585</td>\n",
              "    </tr>\n",
              "    <tr>\n",
              "      <th>2</th>\n",
              "      <td>7.2574</td>\n",
              "      <td>52.0</td>\n",
              "      <td>8.2881</td>\n",
              "      <td>1.0734</td>\n",
              "      <td>496.0</td>\n",
              "      <td>2.8023</td>\n",
              "      <td>37.85</td>\n",
              "      <td>-122.24</td>\n",
              "      <td>3.521</td>\n",
              "    </tr>\n",
              "    <tr>\n",
              "      <th>3</th>\n",
              "      <td>5.6431</td>\n",
              "      <td>52.0</td>\n",
              "      <td>5.8174</td>\n",
              "      <td>1.0731</td>\n",
              "      <td>558.0</td>\n",
              "      <td>2.5479</td>\n",
              "      <td>37.85</td>\n",
              "      <td>-122.25</td>\n",
              "      <td>3.413</td>\n",
              "    </tr>\n",
              "    <tr>\n",
              "      <th>4</th>\n",
              "      <td>3.8462</td>\n",
              "      <td>52.0</td>\n",
              "      <td>6.2819</td>\n",
              "      <td>1.0811</td>\n",
              "      <td>565.0</td>\n",
              "      <td>2.1815</td>\n",
              "      <td>37.85</td>\n",
              "      <td>-122.25</td>\n",
              "      <td>3.422</td>\n",
              "    </tr>\n",
              "  </tbody>\n",
              "</table>\n",
              "</div>\n",
              "      <button class=\"colab-df-convert\" onclick=\"convertToInteractive('df-8c883352-bdc2-488c-a530-7a3ee4b4c48d')\"\n",
              "              title=\"Convert this dataframe to an interactive table.\"\n",
              "              style=\"display:none;\">\n",
              "        \n",
              "  <svg xmlns=\"http://www.w3.org/2000/svg\" height=\"24px\"viewBox=\"0 0 24 24\"\n",
              "       width=\"24px\">\n",
              "    <path d=\"M0 0h24v24H0V0z\" fill=\"none\"/>\n",
              "    <path d=\"M18.56 5.44l.94 2.06.94-2.06 2.06-.94-2.06-.94-.94-2.06-.94 2.06-2.06.94zm-11 1L8.5 8.5l.94-2.06 2.06-.94-2.06-.94L8.5 2.5l-.94 2.06-2.06.94zm10 10l.94 2.06.94-2.06 2.06-.94-2.06-.94-.94-2.06-.94 2.06-2.06.94z\"/><path d=\"M17.41 7.96l-1.37-1.37c-.4-.4-.92-.59-1.43-.59-.52 0-1.04.2-1.43.59L10.3 9.45l-7.72 7.72c-.78.78-.78 2.05 0 2.83L4 21.41c.39.39.9.59 1.41.59.51 0 1.02-.2 1.41-.59l7.78-7.78 2.81-2.81c.8-.78.8-2.07 0-2.86zM5.41 20L4 18.59l7.72-7.72 1.47 1.35L5.41 20z\"/>\n",
              "  </svg>\n",
              "      </button>\n",
              "      \n",
              "  <style>\n",
              "    .colab-df-container {\n",
              "      display:flex;\n",
              "      flex-wrap:wrap;\n",
              "      gap: 12px;\n",
              "    }\n",
              "\n",
              "    .colab-df-convert {\n",
              "      background-color: #E8F0FE;\n",
              "      border: none;\n",
              "      border-radius: 50%;\n",
              "      cursor: pointer;\n",
              "      display: none;\n",
              "      fill: #1967D2;\n",
              "      height: 32px;\n",
              "      padding: 0 0 0 0;\n",
              "      width: 32px;\n",
              "    }\n",
              "\n",
              "    .colab-df-convert:hover {\n",
              "      background-color: #E2EBFA;\n",
              "      box-shadow: 0px 1px 2px rgba(60, 64, 67, 0.3), 0px 1px 3px 1px rgba(60, 64, 67, 0.15);\n",
              "      fill: #174EA6;\n",
              "    }\n",
              "\n",
              "    [theme=dark] .colab-df-convert {\n",
              "      background-color: #3B4455;\n",
              "      fill: #D2E3FC;\n",
              "    }\n",
              "\n",
              "    [theme=dark] .colab-df-convert:hover {\n",
              "      background-color: #434B5C;\n",
              "      box-shadow: 0px 1px 3px 1px rgba(0, 0, 0, 0.15);\n",
              "      filter: drop-shadow(0px 1px 2px rgba(0, 0, 0, 0.3));\n",
              "      fill: #FFFFFF;\n",
              "    }\n",
              "  </style>\n",
              "\n",
              "      <script>\n",
              "        const buttonEl =\n",
              "          document.querySelector('#df-8c883352-bdc2-488c-a530-7a3ee4b4c48d button.colab-df-convert');\n",
              "        buttonEl.style.display =\n",
              "          google.colab.kernel.accessAllowed ? 'block' : 'none';\n",
              "\n",
              "        async function convertToInteractive(key) {\n",
              "          const element = document.querySelector('#df-8c883352-bdc2-488c-a530-7a3ee4b4c48d');\n",
              "          const dataTable =\n",
              "            await google.colab.kernel.invokeFunction('convertToInteractive',\n",
              "                                                     [key], {});\n",
              "          if (!dataTable) return;\n",
              "\n",
              "          const docLinkHtml = 'Like what you see? Visit the ' +\n",
              "            '<a target=\"_blank\" href=https://colab.research.google.com/notebooks/data_table.ipynb>data table notebook</a>'\n",
              "            + ' to learn more about interactive tables.';\n",
              "          element.innerHTML = '';\n",
              "          dataTable['output_type'] = 'display_data';\n",
              "          await google.colab.output.renderOutput(dataTable, element);\n",
              "          const docLink = document.createElement('div');\n",
              "          docLink.innerHTML = docLinkHtml;\n",
              "          element.appendChild(docLink);\n",
              "        }\n",
              "      </script>\n",
              "    </div>\n",
              "  </div>\n",
              "  "
            ]
          },
          "metadata": {},
          "execution_count": 88
        }
      ]
    },
    {
      "cell_type": "code",
      "source": [
        "scaler = MinMaxScaler()\n",
        "\n",
        "for column in df1:\n",
        "  df1[[column]] = scaler.fit_transform(df1[[column]])"
      ],
      "metadata": {
        "id": "oSTG_t-dRu40"
      },
      "execution_count": 89,
      "outputs": []
    },
    {
      "cell_type": "code",
      "source": [
        "df1.head()"
      ],
      "metadata": {
        "colab": {
          "base_uri": "https://localhost:8080/",
          "height": 206
        },
        "id": "0IbHhaNQC6rl",
        "outputId": "439d9801-2044-4629-f97a-edd3998a68b0"
      },
      "execution_count": 90,
      "outputs": [
        {
          "output_type": "execute_result",
          "data": {
            "text/plain": [
              "   MedInc  HouseAge  AveRooms  AveBedrms  Population  AveOccup  Latitude  \\\n",
              "0  0.5397    0.7843    0.0435     0.0205      0.0089    0.0015    0.5675   \n",
              "1  0.5380    0.3922    0.0382     0.0189      0.0672    0.0011    0.5654   \n",
              "2  0.4660    1.0000    0.0528     0.0219      0.0138    0.0017    0.5643   \n",
              "3  0.3547    1.0000    0.0352     0.0219      0.0156    0.0015    0.5643   \n",
              "4  0.2308    1.0000    0.0385     0.0222      0.0158    0.0012    0.5643   \n",
              "\n",
              "   Longitude  MedHouseValue  \n",
              "0     0.2112         0.9023  \n",
              "1     0.2122         0.7082  \n",
              "2     0.2102         0.6951  \n",
              "3     0.2092         0.6728  \n",
              "4     0.2092         0.6746  "
            ],
            "text/html": [
              "\n",
              "  <div id=\"df-6853a69b-fe12-4575-981f-5bdd4f9b77b2\">\n",
              "    <div class=\"colab-df-container\">\n",
              "      <div>\n",
              "<style scoped>\n",
              "    .dataframe tbody tr th:only-of-type {\n",
              "        vertical-align: middle;\n",
              "    }\n",
              "\n",
              "    .dataframe tbody tr th {\n",
              "        vertical-align: top;\n",
              "    }\n",
              "\n",
              "    .dataframe thead th {\n",
              "        text-align: right;\n",
              "    }\n",
              "</style>\n",
              "<table border=\"1\" class=\"dataframe\">\n",
              "  <thead>\n",
              "    <tr style=\"text-align: right;\">\n",
              "      <th></th>\n",
              "      <th>MedInc</th>\n",
              "      <th>HouseAge</th>\n",
              "      <th>AveRooms</th>\n",
              "      <th>AveBedrms</th>\n",
              "      <th>Population</th>\n",
              "      <th>AveOccup</th>\n",
              "      <th>Latitude</th>\n",
              "      <th>Longitude</th>\n",
              "      <th>MedHouseValue</th>\n",
              "    </tr>\n",
              "  </thead>\n",
              "  <tbody>\n",
              "    <tr>\n",
              "      <th>0</th>\n",
              "      <td>0.5397</td>\n",
              "      <td>0.7843</td>\n",
              "      <td>0.0435</td>\n",
              "      <td>0.0205</td>\n",
              "      <td>0.0089</td>\n",
              "      <td>0.0015</td>\n",
              "      <td>0.5675</td>\n",
              "      <td>0.2112</td>\n",
              "      <td>0.9023</td>\n",
              "    </tr>\n",
              "    <tr>\n",
              "      <th>1</th>\n",
              "      <td>0.5380</td>\n",
              "      <td>0.3922</td>\n",
              "      <td>0.0382</td>\n",
              "      <td>0.0189</td>\n",
              "      <td>0.0672</td>\n",
              "      <td>0.0011</td>\n",
              "      <td>0.5654</td>\n",
              "      <td>0.2122</td>\n",
              "      <td>0.7082</td>\n",
              "    </tr>\n",
              "    <tr>\n",
              "      <th>2</th>\n",
              "      <td>0.4660</td>\n",
              "      <td>1.0000</td>\n",
              "      <td>0.0528</td>\n",
              "      <td>0.0219</td>\n",
              "      <td>0.0138</td>\n",
              "      <td>0.0017</td>\n",
              "      <td>0.5643</td>\n",
              "      <td>0.2102</td>\n",
              "      <td>0.6951</td>\n",
              "    </tr>\n",
              "    <tr>\n",
              "      <th>3</th>\n",
              "      <td>0.3547</td>\n",
              "      <td>1.0000</td>\n",
              "      <td>0.0352</td>\n",
              "      <td>0.0219</td>\n",
              "      <td>0.0156</td>\n",
              "      <td>0.0015</td>\n",
              "      <td>0.5643</td>\n",
              "      <td>0.2092</td>\n",
              "      <td>0.6728</td>\n",
              "    </tr>\n",
              "    <tr>\n",
              "      <th>4</th>\n",
              "      <td>0.2308</td>\n",
              "      <td>1.0000</td>\n",
              "      <td>0.0385</td>\n",
              "      <td>0.0222</td>\n",
              "      <td>0.0158</td>\n",
              "      <td>0.0012</td>\n",
              "      <td>0.5643</td>\n",
              "      <td>0.2092</td>\n",
              "      <td>0.6746</td>\n",
              "    </tr>\n",
              "  </tbody>\n",
              "</table>\n",
              "</div>\n",
              "      <button class=\"colab-df-convert\" onclick=\"convertToInteractive('df-6853a69b-fe12-4575-981f-5bdd4f9b77b2')\"\n",
              "              title=\"Convert this dataframe to an interactive table.\"\n",
              "              style=\"display:none;\">\n",
              "        \n",
              "  <svg xmlns=\"http://www.w3.org/2000/svg\" height=\"24px\"viewBox=\"0 0 24 24\"\n",
              "       width=\"24px\">\n",
              "    <path d=\"M0 0h24v24H0V0z\" fill=\"none\"/>\n",
              "    <path d=\"M18.56 5.44l.94 2.06.94-2.06 2.06-.94-2.06-.94-.94-2.06-.94 2.06-2.06.94zm-11 1L8.5 8.5l.94-2.06 2.06-.94-2.06-.94L8.5 2.5l-.94 2.06-2.06.94zm10 10l.94 2.06.94-2.06 2.06-.94-2.06-.94-.94-2.06-.94 2.06-2.06.94z\"/><path d=\"M17.41 7.96l-1.37-1.37c-.4-.4-.92-.59-1.43-.59-.52 0-1.04.2-1.43.59L10.3 9.45l-7.72 7.72c-.78.78-.78 2.05 0 2.83L4 21.41c.39.39.9.59 1.41.59.51 0 1.02-.2 1.41-.59l7.78-7.78 2.81-2.81c.8-.78.8-2.07 0-2.86zM5.41 20L4 18.59l7.72-7.72 1.47 1.35L5.41 20z\"/>\n",
              "  </svg>\n",
              "      </button>\n",
              "      \n",
              "  <style>\n",
              "    .colab-df-container {\n",
              "      display:flex;\n",
              "      flex-wrap:wrap;\n",
              "      gap: 12px;\n",
              "    }\n",
              "\n",
              "    .colab-df-convert {\n",
              "      background-color: #E8F0FE;\n",
              "      border: none;\n",
              "      border-radius: 50%;\n",
              "      cursor: pointer;\n",
              "      display: none;\n",
              "      fill: #1967D2;\n",
              "      height: 32px;\n",
              "      padding: 0 0 0 0;\n",
              "      width: 32px;\n",
              "    }\n",
              "\n",
              "    .colab-df-convert:hover {\n",
              "      background-color: #E2EBFA;\n",
              "      box-shadow: 0px 1px 2px rgba(60, 64, 67, 0.3), 0px 1px 3px 1px rgba(60, 64, 67, 0.15);\n",
              "      fill: #174EA6;\n",
              "    }\n",
              "\n",
              "    [theme=dark] .colab-df-convert {\n",
              "      background-color: #3B4455;\n",
              "      fill: #D2E3FC;\n",
              "    }\n",
              "\n",
              "    [theme=dark] .colab-df-convert:hover {\n",
              "      background-color: #434B5C;\n",
              "      box-shadow: 0px 1px 3px 1px rgba(0, 0, 0, 0.15);\n",
              "      filter: drop-shadow(0px 1px 2px rgba(0, 0, 0, 0.3));\n",
              "      fill: #FFFFFF;\n",
              "    }\n",
              "  </style>\n",
              "\n",
              "      <script>\n",
              "        const buttonEl =\n",
              "          document.querySelector('#df-6853a69b-fe12-4575-981f-5bdd4f9b77b2 button.colab-df-convert');\n",
              "        buttonEl.style.display =\n",
              "          google.colab.kernel.accessAllowed ? 'block' : 'none';\n",
              "\n",
              "        async function convertToInteractive(key) {\n",
              "          const element = document.querySelector('#df-6853a69b-fe12-4575-981f-5bdd4f9b77b2');\n",
              "          const dataTable =\n",
              "            await google.colab.kernel.invokeFunction('convertToInteractive',\n",
              "                                                     [key], {});\n",
              "          if (!dataTable) return;\n",
              "\n",
              "          const docLinkHtml = 'Like what you see? Visit the ' +\n",
              "            '<a target=\"_blank\" href=https://colab.research.google.com/notebooks/data_table.ipynb>data table notebook</a>'\n",
              "            + ' to learn more about interactive tables.';\n",
              "          element.innerHTML = '';\n",
              "          dataTable['output_type'] = 'display_data';\n",
              "          await google.colab.output.renderOutput(dataTable, element);\n",
              "          const docLink = document.createElement('div');\n",
              "          docLink.innerHTML = docLinkHtml;\n",
              "          element.appendChild(docLink);\n",
              "        }\n",
              "      </script>\n",
              "    </div>\n",
              "  </div>\n",
              "  "
            ]
          },
          "metadata": {},
          "execution_count": 90
        }
      ]
    },
    {
      "cell_type": "code",
      "source": [
        "y = df1.pop('MedHouseValue')\n",
        "x = df1.copy()"
      ],
      "metadata": {
        "id": "pvD7fx6Pu_xS"
      },
      "execution_count": 91,
      "outputs": []
    },
    {
      "cell_type": "code",
      "source": [
        "x"
      ],
      "metadata": {
        "colab": {
          "base_uri": "https://localhost:8080/",
          "height": 424
        },
        "id": "p0lMblRYwH_l",
        "outputId": "966ea1d8-3298-41c0-aeba-847705d43a34"
      },
      "execution_count": 92,
      "outputs": [
        {
          "output_type": "execute_result",
          "data": {
            "text/plain": [
              "       MedInc  HouseAge  AveRooms  AveBedrms  Population  AveOccup  Latitude  \\\n",
              "0      0.5397    0.7843    0.0435     0.0205      0.0089    0.0015    0.5675   \n",
              "1      0.5380    0.3922    0.0382     0.0189      0.0672    0.0011    0.5654   \n",
              "2      0.4660    1.0000    0.0528     0.0219      0.0138    0.0017    0.5643   \n",
              "3      0.3547    1.0000    0.0352     0.0219      0.0156    0.0015    0.5643   \n",
              "4      0.2308    1.0000    0.0385     0.0222      0.0158    0.0012    0.5643   \n",
              "...       ...       ...       ...        ...         ...       ...       ...   \n",
              "20635  0.0731    0.4706    0.0298     0.0237      0.0236    0.0015    0.7375   \n",
              "20636  0.1419    0.3333    0.0373     0.0291      0.0099    0.0020    0.7386   \n",
              "20637  0.0828    0.3137    0.0309     0.0233      0.0281    0.0013    0.7322   \n",
              "20638  0.0943    0.3333    0.0318     0.0249      0.0207    0.0012    0.7322   \n",
              "20639  0.1303    0.2941    0.0313     0.0246      0.0388    0.0015    0.7258   \n",
              "\n",
              "       Longitude  \n",
              "0         0.2112  \n",
              "1         0.2122  \n",
              "2         0.2102  \n",
              "3         0.2092  \n",
              "4         0.2092  \n",
              "...          ...  \n",
              "20635     0.3247  \n",
              "20636     0.3127  \n",
              "20637     0.3118  \n",
              "20638     0.3018  \n",
              "20639     0.3098  \n",
              "\n",
              "[20640 rows x 8 columns]"
            ],
            "text/html": [
              "\n",
              "  <div id=\"df-e4373881-3c75-46a1-ace6-fb6bb4d3263e\">\n",
              "    <div class=\"colab-df-container\">\n",
              "      <div>\n",
              "<style scoped>\n",
              "    .dataframe tbody tr th:only-of-type {\n",
              "        vertical-align: middle;\n",
              "    }\n",
              "\n",
              "    .dataframe tbody tr th {\n",
              "        vertical-align: top;\n",
              "    }\n",
              "\n",
              "    .dataframe thead th {\n",
              "        text-align: right;\n",
              "    }\n",
              "</style>\n",
              "<table border=\"1\" class=\"dataframe\">\n",
              "  <thead>\n",
              "    <tr style=\"text-align: right;\">\n",
              "      <th></th>\n",
              "      <th>MedInc</th>\n",
              "      <th>HouseAge</th>\n",
              "      <th>AveRooms</th>\n",
              "      <th>AveBedrms</th>\n",
              "      <th>Population</th>\n",
              "      <th>AveOccup</th>\n",
              "      <th>Latitude</th>\n",
              "      <th>Longitude</th>\n",
              "    </tr>\n",
              "  </thead>\n",
              "  <tbody>\n",
              "    <tr>\n",
              "      <th>0</th>\n",
              "      <td>0.5397</td>\n",
              "      <td>0.7843</td>\n",
              "      <td>0.0435</td>\n",
              "      <td>0.0205</td>\n",
              "      <td>0.0089</td>\n",
              "      <td>0.0015</td>\n",
              "      <td>0.5675</td>\n",
              "      <td>0.2112</td>\n",
              "    </tr>\n",
              "    <tr>\n",
              "      <th>1</th>\n",
              "      <td>0.5380</td>\n",
              "      <td>0.3922</td>\n",
              "      <td>0.0382</td>\n",
              "      <td>0.0189</td>\n",
              "      <td>0.0672</td>\n",
              "      <td>0.0011</td>\n",
              "      <td>0.5654</td>\n",
              "      <td>0.2122</td>\n",
              "    </tr>\n",
              "    <tr>\n",
              "      <th>2</th>\n",
              "      <td>0.4660</td>\n",
              "      <td>1.0000</td>\n",
              "      <td>0.0528</td>\n",
              "      <td>0.0219</td>\n",
              "      <td>0.0138</td>\n",
              "      <td>0.0017</td>\n",
              "      <td>0.5643</td>\n",
              "      <td>0.2102</td>\n",
              "    </tr>\n",
              "    <tr>\n",
              "      <th>3</th>\n",
              "      <td>0.3547</td>\n",
              "      <td>1.0000</td>\n",
              "      <td>0.0352</td>\n",
              "      <td>0.0219</td>\n",
              "      <td>0.0156</td>\n",
              "      <td>0.0015</td>\n",
              "      <td>0.5643</td>\n",
              "      <td>0.2092</td>\n",
              "    </tr>\n",
              "    <tr>\n",
              "      <th>4</th>\n",
              "      <td>0.2308</td>\n",
              "      <td>1.0000</td>\n",
              "      <td>0.0385</td>\n",
              "      <td>0.0222</td>\n",
              "      <td>0.0158</td>\n",
              "      <td>0.0012</td>\n",
              "      <td>0.5643</td>\n",
              "      <td>0.2092</td>\n",
              "    </tr>\n",
              "    <tr>\n",
              "      <th>...</th>\n",
              "      <td>...</td>\n",
              "      <td>...</td>\n",
              "      <td>...</td>\n",
              "      <td>...</td>\n",
              "      <td>...</td>\n",
              "      <td>...</td>\n",
              "      <td>...</td>\n",
              "      <td>...</td>\n",
              "    </tr>\n",
              "    <tr>\n",
              "      <th>20635</th>\n",
              "      <td>0.0731</td>\n",
              "      <td>0.4706</td>\n",
              "      <td>0.0298</td>\n",
              "      <td>0.0237</td>\n",
              "      <td>0.0236</td>\n",
              "      <td>0.0015</td>\n",
              "      <td>0.7375</td>\n",
              "      <td>0.3247</td>\n",
              "    </tr>\n",
              "    <tr>\n",
              "      <th>20636</th>\n",
              "      <td>0.1419</td>\n",
              "      <td>0.3333</td>\n",
              "      <td>0.0373</td>\n",
              "      <td>0.0291</td>\n",
              "      <td>0.0099</td>\n",
              "      <td>0.0020</td>\n",
              "      <td>0.7386</td>\n",
              "      <td>0.3127</td>\n",
              "    </tr>\n",
              "    <tr>\n",
              "      <th>20637</th>\n",
              "      <td>0.0828</td>\n",
              "      <td>0.3137</td>\n",
              "      <td>0.0309</td>\n",
              "      <td>0.0233</td>\n",
              "      <td>0.0281</td>\n",
              "      <td>0.0013</td>\n",
              "      <td>0.7322</td>\n",
              "      <td>0.3118</td>\n",
              "    </tr>\n",
              "    <tr>\n",
              "      <th>20638</th>\n",
              "      <td>0.0943</td>\n",
              "      <td>0.3333</td>\n",
              "      <td>0.0318</td>\n",
              "      <td>0.0249</td>\n",
              "      <td>0.0207</td>\n",
              "      <td>0.0012</td>\n",
              "      <td>0.7322</td>\n",
              "      <td>0.3018</td>\n",
              "    </tr>\n",
              "    <tr>\n",
              "      <th>20639</th>\n",
              "      <td>0.1303</td>\n",
              "      <td>0.2941</td>\n",
              "      <td>0.0313</td>\n",
              "      <td>0.0246</td>\n",
              "      <td>0.0388</td>\n",
              "      <td>0.0015</td>\n",
              "      <td>0.7258</td>\n",
              "      <td>0.3098</td>\n",
              "    </tr>\n",
              "  </tbody>\n",
              "</table>\n",
              "<p>20640 rows × 8 columns</p>\n",
              "</div>\n",
              "      <button class=\"colab-df-convert\" onclick=\"convertToInteractive('df-e4373881-3c75-46a1-ace6-fb6bb4d3263e')\"\n",
              "              title=\"Convert this dataframe to an interactive table.\"\n",
              "              style=\"display:none;\">\n",
              "        \n",
              "  <svg xmlns=\"http://www.w3.org/2000/svg\" height=\"24px\"viewBox=\"0 0 24 24\"\n",
              "       width=\"24px\">\n",
              "    <path d=\"M0 0h24v24H0V0z\" fill=\"none\"/>\n",
              "    <path d=\"M18.56 5.44l.94 2.06.94-2.06 2.06-.94-2.06-.94-.94-2.06-.94 2.06-2.06.94zm-11 1L8.5 8.5l.94-2.06 2.06-.94-2.06-.94L8.5 2.5l-.94 2.06-2.06.94zm10 10l.94 2.06.94-2.06 2.06-.94-2.06-.94-.94-2.06-.94 2.06-2.06.94z\"/><path d=\"M17.41 7.96l-1.37-1.37c-.4-.4-.92-.59-1.43-.59-.52 0-1.04.2-1.43.59L10.3 9.45l-7.72 7.72c-.78.78-.78 2.05 0 2.83L4 21.41c.39.39.9.59 1.41.59.51 0 1.02-.2 1.41-.59l7.78-7.78 2.81-2.81c.8-.78.8-2.07 0-2.86zM5.41 20L4 18.59l7.72-7.72 1.47 1.35L5.41 20z\"/>\n",
              "  </svg>\n",
              "      </button>\n",
              "      \n",
              "  <style>\n",
              "    .colab-df-container {\n",
              "      display:flex;\n",
              "      flex-wrap:wrap;\n",
              "      gap: 12px;\n",
              "    }\n",
              "\n",
              "    .colab-df-convert {\n",
              "      background-color: #E8F0FE;\n",
              "      border: none;\n",
              "      border-radius: 50%;\n",
              "      cursor: pointer;\n",
              "      display: none;\n",
              "      fill: #1967D2;\n",
              "      height: 32px;\n",
              "      padding: 0 0 0 0;\n",
              "      width: 32px;\n",
              "    }\n",
              "\n",
              "    .colab-df-convert:hover {\n",
              "      background-color: #E2EBFA;\n",
              "      box-shadow: 0px 1px 2px rgba(60, 64, 67, 0.3), 0px 1px 3px 1px rgba(60, 64, 67, 0.15);\n",
              "      fill: #174EA6;\n",
              "    }\n",
              "\n",
              "    [theme=dark] .colab-df-convert {\n",
              "      background-color: #3B4455;\n",
              "      fill: #D2E3FC;\n",
              "    }\n",
              "\n",
              "    [theme=dark] .colab-df-convert:hover {\n",
              "      background-color: #434B5C;\n",
              "      box-shadow: 0px 1px 3px 1px rgba(0, 0, 0, 0.15);\n",
              "      filter: drop-shadow(0px 1px 2px rgba(0, 0, 0, 0.3));\n",
              "      fill: #FFFFFF;\n",
              "    }\n",
              "  </style>\n",
              "\n",
              "      <script>\n",
              "        const buttonEl =\n",
              "          document.querySelector('#df-e4373881-3c75-46a1-ace6-fb6bb4d3263e button.colab-df-convert');\n",
              "        buttonEl.style.display =\n",
              "          google.colab.kernel.accessAllowed ? 'block' : 'none';\n",
              "\n",
              "        async function convertToInteractive(key) {\n",
              "          const element = document.querySelector('#df-e4373881-3c75-46a1-ace6-fb6bb4d3263e');\n",
              "          const dataTable =\n",
              "            await google.colab.kernel.invokeFunction('convertToInteractive',\n",
              "                                                     [key], {});\n",
              "          if (!dataTable) return;\n",
              "\n",
              "          const docLinkHtml = 'Like what you see? Visit the ' +\n",
              "            '<a target=\"_blank\" href=https://colab.research.google.com/notebooks/data_table.ipynb>data table notebook</a>'\n",
              "            + ' to learn more about interactive tables.';\n",
              "          element.innerHTML = '';\n",
              "          dataTable['output_type'] = 'display_data';\n",
              "          await google.colab.output.renderOutput(dataTable, element);\n",
              "          const docLink = document.createElement('div');\n",
              "          docLink.innerHTML = docLinkHtml;\n",
              "          element.appendChild(docLink);\n",
              "        }\n",
              "      </script>\n",
              "    </div>\n",
              "  </div>\n",
              "  "
            ]
          },
          "metadata": {},
          "execution_count": 92
        }
      ]
    },
    {
      "cell_type": "code",
      "source": [
        "y"
      ],
      "metadata": {
        "colab": {
          "base_uri": "https://localhost:8080/"
        },
        "id": "YCHZWh_PRov5",
        "outputId": "012c8d0a-2f53-4120-f674-6261f737d80a"
      },
      "execution_count": 93,
      "outputs": [
        {
          "output_type": "execute_result",
          "data": {
            "text/plain": [
              "0        0.9023\n",
              "1        0.7082\n",
              "2        0.6951\n",
              "3        0.6728\n",
              "4        0.6746\n",
              "          ...  \n",
              "20635    0.1301\n",
              "20636    0.1280\n",
              "20637    0.1594\n",
              "20638    0.1437\n",
              "20639    0.1534\n",
              "Name: MedHouseValue, Length: 20640, dtype: float64"
            ]
          },
          "metadata": {},
          "execution_count": 93
        }
      ]
    },
    {
      "cell_type": "code",
      "source": [
        "x_train, x_test, y_train, y_test = train_test_split(x, y, test_size=0.2, random_state = 50)"
      ],
      "metadata": {
        "id": "rB0ILdWuz_V4"
      },
      "execution_count": 94,
      "outputs": []
    },
    {
      "cell_type": "markdown",
      "source": [
        "> ## **MODEL - 1: MLP for Regression using Sequential API**"
      ],
      "metadata": {
        "id": "Fibed8e9GROx"
      }
    },
    {
      "cell_type": "code",
      "source": [
        "model = tf.keras.Sequential()\n",
        "\n",
        "model.add(tf.keras.layers.Input(shape = [8], name = 'InputLayer'))\n",
        "model.add(tf.keras.layers.Dense(30, activation = 'relu', name = 'HiddenLayer'))\n",
        "model.add(tf.keras.layers.Dense(1, activation = 'relu', name = 'OutputLayer'))\n",
        "\n",
        "optz = tf.keras.optimizers.Adam(learning_rate = 0.0001)\n",
        "\n",
        "model.compile(loss = 'mse', optimizer = optz, metrics = tf.keras.metrics.RootMeanSquaredError())\n",
        "\n",
        "model.summary()"
      ],
      "metadata": {
        "colab": {
          "base_uri": "https://localhost:8080/"
        },
        "id": "ozRyiiBnyMbo",
        "outputId": "dd28e5b4-a609-42b7-b5a3-6a96d3420f39"
      },
      "execution_count": 95,
      "outputs": [
        {
          "output_type": "stream",
          "name": "stdout",
          "text": [
            "Model: \"sequential_2\"\n",
            "_________________________________________________________________\n",
            " Layer (type)                Output Shape              Param #   \n",
            "=================================================================\n",
            " HiddenLayer (Dense)         (None, 30)                270       \n",
            "                                                                 \n",
            " OutputLayer (Dense)         (None, 1)                 31        \n",
            "                                                                 \n",
            "=================================================================\n",
            "Total params: 301\n",
            "Trainable params: 301\n",
            "Non-trainable params: 0\n",
            "_________________________________________________________________\n"
          ]
        }
      ]
    },
    {
      "cell_type": "code",
      "source": [
        "tf.keras.utils.plot_model(model, show_shapes=True, show_layer_names=True)"
      ],
      "metadata": {
        "id": "o_l-W4sK4Wps",
        "colab": {
          "base_uri": "https://localhost:8080/",
          "height": 312
        },
        "outputId": "31f3bb45-933b-463b-9675-96fa3bd725c3"
      },
      "execution_count": 96,
      "outputs": [
        {
          "output_type": "execute_result",
          "data": {
            "image/png": "[encoded data removed]",
            "text/plain": [
              "<IPython.core.display.Image object>"
            ]
          },
          "metadata": {},
          "execution_count": 96
        }
      ]
    },
    {
      "cell_type": "code",
      "source": [
        "history = model.fit(x_train, y_train, batch_size = 40, epochs = 20, validation_split = 0.2)"
      ],
      "metadata": {
        "colab": {
          "base_uri": "https://localhost:8080/"
        },
        "id": "my1vz0u72I6n",
        "outputId": "dcb7df3d-eba8-47ea-990f-7301581a8be4"
      },
      "execution_count": 97,
      "outputs": [
        {
          "output_type": "stream",
          "name": "stdout",
          "text": [
            "Epoch 1/20\n",
            "331/331 [==============================] - 2s 4ms/step - loss: 0.1168 - root_mean_squared_error: 0.3417 - val_loss: 0.0683 - val_root_mean_squared_error: 0.2613\n",
            "Epoch 2/20\n",
            "331/331 [==============================] - 1s 3ms/step - loss: 0.0580 - root_mean_squared_error: 0.2409 - val_loss: 0.0552 - val_root_mean_squared_error: 0.2349\n",
            "Epoch 3/20\n",
            "331/331 [==============================] - 1s 3ms/step - loss: 0.0495 - root_mean_squared_error: 0.2226 - val_loss: 0.0484 - val_root_mean_squared_error: 0.2200\n",
            "Epoch 4/20\n",
            "331/331 [==============================] - 1s 3ms/step - loss: 0.0437 - root_mean_squared_error: 0.2091 - val_loss: 0.0430 - val_root_mean_squared_error: 0.2073\n",
            "Epoch 5/20\n",
            "331/331 [==============================] - 1s 4ms/step - loss: 0.0389 - root_mean_squared_error: 0.1972 - val_loss: 0.0383 - val_root_mean_squared_error: 0.1957\n",
            "Epoch 6/20\n",
            "331/331 [==============================] - 1s 3ms/step - loss: 0.0347 - root_mean_squared_error: 0.1864 - val_loss: 0.0347 - val_root_mean_squared_error: 0.1862\n",
            "Epoch 7/20\n",
            "331/331 [==============================] - 1s 3ms/step - loss: 0.0318 - root_mean_squared_error: 0.1784 - val_loss: 0.0321 - val_root_mean_squared_error: 0.1792\n",
            "Epoch 8/20\n",
            "331/331 [==============================] - 1s 3ms/step - loss: 0.0297 - root_mean_squared_error: 0.1723 - val_loss: 0.0302 - val_root_mean_squared_error: 0.1739\n",
            "Epoch 9/20\n",
            "331/331 [==============================] - 1s 3ms/step - loss: 0.0281 - root_mean_squared_error: 0.1678 - val_loss: 0.0289 - val_root_mean_squared_error: 0.1700\n",
            "Epoch 10/20\n",
            "331/331 [==============================] - 1s 3ms/step - loss: 0.0271 - root_mean_squared_error: 0.1645 - val_loss: 0.0280 - val_root_mean_squared_error: 0.1672\n",
            "Epoch 11/20\n",
            "331/331 [==============================] - 1s 3ms/step - loss: 0.0263 - root_mean_squared_error: 0.1622 - val_loss: 0.0273 - val_root_mean_squared_error: 0.1653\n",
            "Epoch 12/20\n",
            "331/331 [==============================] - 1s 3ms/step - loss: 0.0258 - root_mean_squared_error: 0.1606 - val_loss: 0.0269 - val_root_mean_squared_error: 0.1639\n",
            "Epoch 13/20\n",
            "331/331 [==============================] - 1s 3ms/step - loss: 0.0254 - root_mean_squared_error: 0.1593 - val_loss: 0.0265 - val_root_mean_squared_error: 0.1629\n",
            "Epoch 14/20\n",
            "331/331 [==============================] - 1s 3ms/step - loss: 0.0251 - root_mean_squared_error: 0.1584 - val_loss: 0.0262 - val_root_mean_squared_error: 0.1620\n",
            "Epoch 15/20\n",
            "331/331 [==============================] - 1s 3ms/step - loss: 0.0249 - root_mean_squared_error: 0.1577 - val_loss: 0.0260 - val_root_mean_squared_error: 0.1613\n",
            "Epoch 16/20\n",
            "331/331 [==============================] - 1s 3ms/step - loss: 0.0246 - root_mean_squared_error: 0.1570 - val_loss: 0.0258 - val_root_mean_squared_error: 0.1607\n",
            "Epoch 17/20\n",
            "331/331 [==============================] - 1s 3ms/step - loss: 0.0244 - root_mean_squared_error: 0.1563 - val_loss: 0.0256 - val_root_mean_squared_error: 0.1601\n",
            "Epoch 18/20\n",
            "331/331 [==============================] - 1s 4ms/step - loss: 0.0243 - root_mean_squared_error: 0.1558 - val_loss: 0.0254 - val_root_mean_squared_error: 0.1595\n",
            "Epoch 19/20\n",
            "331/331 [==============================] - 1s 3ms/step - loss: 0.0241 - root_mean_squared_error: 0.1552 - val_loss: 0.0253 - val_root_mean_squared_error: 0.1590\n",
            "Epoch 20/20\n",
            "331/331 [==============================] - 1s 3ms/step - loss: 0.0239 - root_mean_squared_error: 0.1546 - val_loss: 0.0251 - val_root_mean_squared_error: 0.1585\n"
          ]
        }
      ]
    },
    {
      "cell_type": "code",
      "source": [
        "sb.set_style(\"darkgrid\")\n",
        "\n",
        "rmse = history.history['root_mean_squared_error']\n",
        "val_rmse = history.history['val_root_mean_squared_error']\n",
        "loss = history.history['loss']\n",
        "val_loss = history.history['val_loss']\n",
        "\n",
        "epochs = range(1, len(rmse) + 1)\n",
        "\n",
        "#Train and validation accuracy\n",
        "\n",
        "plt.plot(epochs, rmse, 'b', label='Training RMSE')\n",
        "plt.plot(epochs, val_rmse, 'r', label='Validation RMSE')\n",
        "plt.xlabel('# of Epochs')\n",
        "plt.ylabel('RMSE')\n",
        "plt.title('Training RMSE & Validation RMSE Vs Epochs')\n",
        "plt.legend()\n",
        "\n",
        "plt.figure()\n",
        "\n",
        "plt.show()\n",
        "\n",
        "#Train and validation loss\n",
        "\n",
        "plt.plot(epochs, loss, 'b', label='Training MSE')\n",
        "plt.plot(epochs, val_loss, 'r', label='Validation MSE')\n",
        "plt.xlabel('# of Epochs')\n",
        "plt.ylabel('Loss')\n",
        "plt.title('Training loss & Validation loss Vs Epochs')\n",
        "plt.legend()\n",
        "\n",
        "plt.show()"
      ],
      "metadata": {
        "colab": {
          "base_uri": "https://localhost:8080/",
          "height": 590
        },
        "id": "pGGwAkxp4LNu",
        "outputId": "02794b0d-04ab-48b1-b985-eb690145bcfe"
      },
      "execution_count": 98,
      "outputs": [
        {
          "output_type": "display_data",
          "data": {
            "text/plain": [
              "<Figure size 432x288 with 1 Axes>"
            ],
            "image/png": "[encoded data removed]"
          },
          "metadata": {}
        },
        {
          "output_type": "display_data",
          "data": {
            "text/plain": [
              "<Figure size 432x288 with 0 Axes>"
            ]
          },
          "metadata": {}
        },
        {
          "output_type": "display_data",
          "data": {
            "text/plain": [
              "<Figure size 432x288 with 1 Axes>"
            ],
            "image/png": "[encoded data removed]"
          },
          "metadata": {}
        }
      ]
    },
    {
      "cell_type": "code",
      "source": [
        "model.evaluate(x_test, y_test)"
      ],
      "metadata": {
        "colab": {
          "base_uri": "https://localhost:8080/"
        },
        "id": "pBrzvWPp3o_e",
        "outputId": "362c0cb6-5343-480c-f421-4498cc208327"
      },
      "execution_count": 99,
      "outputs": [
        {
          "output_type": "stream",
          "name": "stdout",
          "text": [
            "129/129 [==============================] - 0s 2ms/step - loss: 0.0238 - root_mean_squared_error: 0.1543\n"
          ]
        },
        {
          "output_type": "execute_result",
          "data": {
            "text/plain": [
              "[0.02379932627081871, 0.15427030622959137]"
            ]
          },
          "metadata": {},
          "execution_count": 99
        }
      ]
    },
    {
      "cell_type": "markdown",
      "source": [
        "> **CONCLUSION:**"
      ],
      "metadata": {
        "id": "53O9G3jWW3gE"
      }
    },
    {
      "cell_type": "markdown",
      "source": [
        "The RMSE of the Model is 0.1543 and the MSE of the Model is 0.0238 which is generally considered low and the model performs quite good even though it is a simple and less complex neural network, It's evident from the plots that the model fits the data in a efficient way."
      ],
      "metadata": {
        "id": "ZgOwDzleW5Lt"
      }
    },
    {
      "cell_type": "markdown",
      "source": [
        "> ## **MODEL - 2: Wide & Deep Neural Network with Functional API**"
      ],
      "metadata": {
        "id": "ioqcLjsGDD_4"
      }
    },
    {
      "cell_type": "code",
      "source": [
        "from keras.layers.merge import concatenate"
      ],
      "metadata": {
        "id": "2tuoMpslGbFf"
      },
      "execution_count": 100,
      "outputs": []
    },
    {
      "cell_type": "code",
      "source": [
        "#model2 = tf.keras.Functional()\n",
        "\n",
        "InputA = tf.keras.layers.Input(shape = [5], name = 'Input_A')\n",
        "InputB = tf.keras.layers.Input(shape = [6], name = 'Input_B')\n",
        "\n",
        "Hidden_1 = tf.keras.layers.Dense(30,  activation = 'relu', name = 'Hidden_1')(InputB)\n",
        "Hidden_2 = tf.keras.layers.Dense(30,  activation = 'relu', name = 'Hidden_2')(Hidden_1)\n",
        "X = tf.keras.Model(inputs = InputB, outputs = Hidden_2)\n",
        "\n",
        "Concat = concatenate([InputA, X.output], name = 'Concat')\n",
        "\n",
        "Output = tf.keras.layers.Dense(1, activation = 'linear', name = 'Output')(Concat)\n",
        "\n",
        "model2 = tf.keras.Model(inputs=[InputA, InputB], outputs = Output)\n",
        "\n",
        "optz = tf.keras.optimizers.Adam(learning_rate = 0.0001)\n",
        "model2.compile(loss = 'mse', optimizer = optz, metrics = tf.keras.metrics.RootMeanSquaredError())\n",
        "\n",
        "model2.summary()"
      ],
      "metadata": {
        "colab": {
          "base_uri": "https://localhost:8080/"
        },
        "id": "xVFEqVRvHPIY",
        "outputId": "778d502d-bbb1-4eb6-8b71-f0c89e89e7f8"
      },
      "execution_count": 105,
      "outputs": [
        {
          "output_type": "stream",
          "name": "stdout",
          "text": [
            "Model: \"model_13\"\n",
            "__________________________________________________________________________________________________\n",
            " Layer (type)                   Output Shape         Param #     Connected to                     \n",
            "==================================================================================================\n",
            " Input_B (InputLayer)           [(None, 6)]          0           []                               \n",
            "                                                                                                  \n",
            " Hidden_1 (Dense)               (None, 30)           210         ['Input_B[0][0]']                \n",
            "                                                                                                  \n",
            " Input_A (InputLayer)           [(None, 5)]          0           []                               \n",
            "                                                                                                  \n",
            " Hidden_2 (Dense)               (None, 30)           930         ['Hidden_1[0][0]']               \n",
            "                                                                                                  \n",
            " Concat (Concatenate)           (None, 35)           0           ['Input_A[0][0]',                \n",
            "                                                                  'Hidden_2[0][0]']               \n",
            "                                                                                                  \n",
            " Output (Dense)                 (None, 1)            36          ['Concat[0][0]']                 \n",
            "                                                                                                  \n",
            "==================================================================================================\n",
            "Total params: 1,176\n",
            "Trainable params: 1,176\n",
            "Non-trainable params: 0\n",
            "__________________________________________________________________________________________________\n"
          ]
        }
      ]
    },
    {
      "cell_type": "code",
      "source": [
        "tf.keras.utils.plot_model(model2, show_shapes=True, show_layer_names=True)"
      ],
      "metadata": {
        "colab": {
          "base_uri": "https://localhost:8080/",
          "height": 533
        },
        "id": "c2CqYIsML-Rh",
        "outputId": "5f43015e-5d9b-4b7d-9a96-a19912969d94"
      },
      "execution_count": 106,
      "outputs": [
        {
          "output_type": "execute_result",
          "data": {
            "image/png": "[encoded data removed]",
            "text/plain": [
              "<IPython.core.display.Image object>"
            ]
          },
          "metadata": {},
          "execution_count": 106
        }
      ]
    },
    {
      "cell_type": "code",
      "source": [
        "Input_A_Data = x_train.iloc[:, 0:5]\n",
        "Input_B_Data = x_train.iloc[:, 2:8]"
      ],
      "metadata": {
        "id": "4gGRiHD8Mk99"
      },
      "execution_count": 113,
      "outputs": []
    },
    {
      "cell_type": "code",
      "source": [
        "history2 = model2.fit(x = [Input_A_Data, Input_B_Data], y = y_train, batch_size = 40, epochs = 20, validation_split = 0.2)"
      ],
      "metadata": {
        "colab": {
          "base_uri": "https://localhost:8080/"
        },
        "id": "vuT0oM9uL-aK",
        "outputId": "25c5354e-501e-4d82-c1ca-278c4bc37ffb"
      },
      "execution_count": 116,
      "outputs": [
        {
          "output_type": "stream",
          "name": "stdout",
          "text": [
            "Epoch 1/20\n",
            "331/331 [==============================] - 1s 4ms/step - loss: 0.0583 - root_mean_squared_error: 0.2414 - val_loss: 0.0591 - val_root_mean_squared_error: 0.2431\n",
            "Epoch 2/20\n",
            "331/331 [==============================] - 1s 4ms/step - loss: 0.0554 - root_mean_squared_error: 0.2353 - val_loss: 0.0565 - val_root_mean_squared_error: 0.2377\n",
            "Epoch 3/20\n",
            "331/331 [==============================] - 1s 4ms/step - loss: 0.0528 - root_mean_squared_error: 0.2297 - val_loss: 0.0540 - val_root_mean_squared_error: 0.2323\n",
            "Epoch 4/20\n",
            "331/331 [==============================] - 1s 4ms/step - loss: 0.0503 - root_mean_squared_error: 0.2242 - val_loss: 0.0514 - val_root_mean_squared_error: 0.2266\n",
            "Epoch 5/20\n",
            "331/331 [==============================] - 2s 5ms/step - loss: 0.0478 - root_mean_squared_error: 0.2186 - val_loss: 0.0489 - val_root_mean_squared_error: 0.2212\n",
            "Epoch 6/20\n",
            "331/331 [==============================] - 2s 5ms/step - loss: 0.0453 - root_mean_squared_error: 0.2127 - val_loss: 0.0465 - val_root_mean_squared_error: 0.2156\n",
            "Epoch 7/20\n",
            "331/331 [==============================] - 1s 4ms/step - loss: 0.0429 - root_mean_squared_error: 0.2071 - val_loss: 0.0440 - val_root_mean_squared_error: 0.2098\n",
            "Epoch 8/20\n",
            "331/331 [==============================] - 1s 4ms/step - loss: 0.0405 - root_mean_squared_error: 0.2011 - val_loss: 0.0415 - val_root_mean_squared_error: 0.2038\n",
            "Epoch 9/20\n",
            "331/331 [==============================] - 1s 4ms/step - loss: 0.0381 - root_mean_squared_error: 0.1952 - val_loss: 0.0393 - val_root_mean_squared_error: 0.1983\n",
            "Epoch 10/20\n",
            "331/331 [==============================] - 1s 4ms/step - loss: 0.0360 - root_mean_squared_error: 0.1897 - val_loss: 0.0373 - val_root_mean_squared_error: 0.1931\n",
            "Epoch 11/20\n",
            "331/331 [==============================] - 1s 4ms/step - loss: 0.0341 - root_mean_squared_error: 0.1848 - val_loss: 0.0355 - val_root_mean_squared_error: 0.1884\n",
            "Epoch 12/20\n",
            "331/331 [==============================] - 1s 4ms/step - loss: 0.0325 - root_mean_squared_error: 0.1802 - val_loss: 0.0339 - val_root_mean_squared_error: 0.1841\n",
            "Epoch 13/20\n",
            "331/331 [==============================] - 1s 4ms/step - loss: 0.0311 - root_mean_squared_error: 0.1762 - val_loss: 0.0324 - val_root_mean_squared_error: 0.1801\n",
            "Epoch 14/20\n",
            "331/331 [==============================] - 1s 4ms/step - loss: 0.0298 - root_mean_squared_error: 0.1726 - val_loss: 0.0314 - val_root_mean_squared_error: 0.1772\n",
            "Epoch 15/20\n",
            "331/331 [==============================] - 1s 4ms/step - loss: 0.0288 - root_mean_squared_error: 0.1697 - val_loss: 0.0304 - val_root_mean_squared_error: 0.1744\n",
            "Epoch 16/20\n",
            "331/331 [==============================] - 1s 4ms/step - loss: 0.0280 - root_mean_squared_error: 0.1672 - val_loss: 0.0295 - val_root_mean_squared_error: 0.1716\n",
            "Epoch 17/20\n",
            "331/331 [==============================] - 1s 4ms/step - loss: 0.0272 - root_mean_squared_error: 0.1648 - val_loss: 0.0287 - val_root_mean_squared_error: 0.1695\n",
            "Epoch 18/20\n",
            "331/331 [==============================] - 1s 4ms/step - loss: 0.0265 - root_mean_squared_error: 0.1628 - val_loss: 0.0280 - val_root_mean_squared_error: 0.1674\n",
            "Epoch 19/20\n",
            "331/331 [==============================] - 1s 4ms/step - loss: 0.0259 - root_mean_squared_error: 0.1610 - val_loss: 0.0275 - val_root_mean_squared_error: 0.1658\n",
            "Epoch 20/20\n",
            "331/331 [==============================] - 1s 4ms/step - loss: 0.0254 - root_mean_squared_error: 0.1594 - val_loss: 0.0269 - val_root_mean_squared_error: 0.1641\n"
          ]
        }
      ]
    },
    {
      "cell_type": "code",
      "source": [
        "sb.set_style(\"darkgrid\")\n",
        "\n",
        "rmse = history2.history['root_mean_squared_error']\n",
        "val_rmse = history2.history['val_root_mean_squared_error']\n",
        "loss = history2.history['loss']\n",
        "val_loss = history2.history['val_loss']\n",
        "\n",
        "epochs = range(1, len(rmse) + 1)\n",
        "\n",
        "#Train and validation accuracy\n",
        "\n",
        "plt.plot(epochs, rmse, 'b', label='Training RMSE')\n",
        "plt.plot(epochs, val_rmse, 'r', label='Validation RMSE')\n",
        "plt.xlabel('# of Epochs')\n",
        "plt.ylabel('RMSE')\n",
        "plt.title('Training RMSE & Validation RMSE Vs Epochs')\n",
        "plt.legend()\n",
        "\n",
        "plt.figure()\n",
        "\n",
        "plt.show()\n",
        "\n",
        "#Train and validation loss\n",
        "\n",
        "plt.plot(epochs, loss, 'b', label='Training MSE')\n",
        "plt.plot(epochs, val_loss, 'r', label='Validation MSE')\n",
        "plt.xlabel('# of Epochs')\n",
        "plt.ylabel('Loss')\n",
        "plt.title('Training loss & Validation loss Vs Epochs')\n",
        "plt.legend()\n",
        "\n",
        "plt.show()"
      ],
      "metadata": {
        "colab": {
          "base_uri": "https://localhost:8080/",
          "height": 590
        },
        "id": "cTAXDJ_iMIw2",
        "outputId": "97fb67cf-332e-41b2-fa83-16763daf1bb5"
      },
      "execution_count": 117,
      "outputs": [
        {
          "output_type": "display_data",
          "data": {
            "text/plain": [
              "<Figure size 432x288 with 1 Axes>"
            ],
            "image/png": "[encoded data removed]"
          },
          "metadata": {}
        },
        {
          "output_type": "display_data",
          "data": {
            "text/plain": [
              "<Figure size 432x288 with 0 Axes>"
            ]
          },
          "metadata": {}
        },
        {
          "output_type": "display_data",
          "data": {
            "text/plain": [
              "<Figure size 432x288 with 1 Axes>"
            ],
            "image/png": "[encoded data removed]"
          },
          "metadata": {}
        }
      ]
    },
    {
      "cell_type": "code",
      "source": [
        "Test_A_Data = x_test.iloc[:, 0:5]\n",
        "Test_B_Data = x_test.iloc[:, 2:8]"
      ],
      "metadata": {
        "id": "4eozfyOKWAS2"
      },
      "execution_count": 119,
      "outputs": []
    },
    {
      "cell_type": "code",
      "source": [
        "model2.evaluate(x = [Test_A_Data, Test_B_Data], y = y_test)"
      ],
      "metadata": {
        "colab": {
          "base_uri": "https://localhost:8080/"
        },
        "id": "-_TOHPMAMK-P",
        "outputId": "5ae1491e-8d39-448a-ea8c-0ebc510c54a2"
      },
      "execution_count": 120,
      "outputs": [
        {
          "output_type": "stream",
          "name": "stdout",
          "text": [
            "129/129 [==============================] - 0s 3ms/step - loss: 0.0252 - root_mean_squared_error: 0.1586\n"
          ]
        },
        {
          "output_type": "execute_result",
          "data": {
            "text/plain": [
              "[0.02516474388539791, 0.1586339920759201]"
            ]
          },
          "metadata": {},
          "execution_count": 120
        }
      ]
    },
    {
      "cell_type": "markdown",
      "source": [
        "> **CONCLUSION:**"
      ],
      "metadata": {
        "id": "_T-tGkT5WWNG"
      }
    },
    {
      "cell_type": "markdown",
      "source": [
        "The RMSE of the Model is 0.1586 and the MSE of the Model is 0.0252 which is generally considered low and the model performs quite good, But it's loss values are higher(not by a significant differnce) the previous model. From the plots we can infer that the model has nicely fit its evaluation curves."
      ],
      "metadata": {
        "id": "fK9KSbFbWaVK"
      }
    }
  ]
}