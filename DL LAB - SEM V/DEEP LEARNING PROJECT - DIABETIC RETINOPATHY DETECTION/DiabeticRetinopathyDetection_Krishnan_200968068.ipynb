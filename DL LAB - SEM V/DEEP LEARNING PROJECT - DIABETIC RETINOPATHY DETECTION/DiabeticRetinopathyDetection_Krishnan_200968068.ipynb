{
  "nbformat": 4,
  "nbformat_minor": 0,
  "metadata": {
    "colab": {
      "provenance": [],
      "collapsed_sections": []
    },
    "kernelspec": {
      "name": "python3",
      "display_name": "Python 3"
    },
    "language_info": {
      "name": "python"
    },
    "accelerator": "GPU",
    "gpuClass": "standard"
  },
  "cells": [
    {
      "cell_type": "markdown",
      "source": [
        "# **DIABETIC RETINOPATHY DETECTION**"
      ],
      "metadata": {
        "id": "ppDAHFEraB4m"
      }
    },
    {
      "cell_type": "code",
      "source": [
        "import numpy as np\n",
        "import matplotlib.pyplot as plt\n",
        "import tensorflow as tf\n",
        "# from keras.preprocessing.image import img_to_array\n",
        "# from keras.preprocessing.image import array_to_img\n",
        "# from sklearn.model_selection import train_test_split\n",
        "# from PIL import Image\n",
        "# import scipy\n",
        "\n",
        "import tensorflow as tf\n",
        "from tensorflow.keras.applications import *\n",
        "from tensorflow.keras.optimizers import *\n",
        "from tensorflow.keras.losses import *\n",
        "from tensorflow.keras.layers import *\n",
        "from tensorflow.keras.models import *\n",
        "from tensorflow.keras.callbacks import *\n",
        "from tensorflow.keras.preprocessing.image import *\n",
        "from tensorflow.keras.utils import *\n",
        "# import pydot\n",
        "from sklearn.metrics import *\n",
        "from sklearn.model_selection import *\n",
        "import tensorflow.keras.backend as K\n",
        "\n",
        "# from tqdm import tqdm, tqdm_notebook\n",
        "# from colorama import Fore\n",
        "# import json\n",
        "import matplotlib.pyplot as plt\n",
        "import seaborn as sns\n",
        "from glob import glob\n",
        "from skimage.io import *\n",
        "%config Completer.use_jedi = False\n",
        "# import time\n",
        "# from sklearn.decomposition import PCA\n",
        "# from sklearn.svm import LinearSVC\n",
        "# from sklearn.linear_model import LogisticRegression\n",
        "# from sklearn.metrics import accuracy_score\n",
        "# import lightgbm as lgb\n",
        "# import xgboost as xgb\n",
        "# !pip install livelossplot\n",
        "# import livelossplot\n",
        "# from livelossplot import PlotLossesKeras\n",
        "import warnings\n",
        "warnings.filterwarnings('ignore')\n",
        "print(\"All modules have been imported\")"
      ],
      "metadata": {
        "colab": {
          "base_uri": "https://localhost:8080/"
        },
        "id": "hQX5YV0NLOyi",
        "outputId": "10237051-7c6b-4da2-f5d8-d962ebc05a38"
      },
      "execution_count": 1,
      "outputs": [
        {
          "output_type": "stream",
          "name": "stdout",
          "text": [
            "All modules have been imported\n"
          ]
        }
      ]
    },
    {
      "cell_type": "code",
      "source": [
        "import numpy as np # linear algebra\n",
        "import pandas as pd # data processing, CSV file I/O (e.g. pd.read_csv)\n",
        "import matplotlib.pyplot as plt # showing and rendering figures\n",
        "# io related\n",
        "from skimage.io import imread\n",
        "import os\n",
        "from glob import glob\n",
        "\n",
        "%matplotlib inline "
      ],
      "metadata": {
        "id": "WfnqOW3WWMuC"
      },
      "execution_count": 3,
      "outputs": []
    },
    {
      "cell_type": "code",
      "execution_count": 34,
      "metadata": {
        "colab": {
          "base_uri": "https://localhost:8080/"
        },
        "id": "LDRNoKWhVpyH",
        "outputId": "c60b69c4-b849-458a-dbf7-121c37b2ae57"
      },
      "outputs": [
        {
          "output_type": "stream",
          "name": "stdout",
          "text": [
            "mkdir: cannot create directory ‘/root/.keras’: File exists\n",
            "mkdir: cannot create directory ‘/root/.keras/models’: File exists\n",
            "cp: cannot stat '../input/keras-pretrained-models/*notop*': No such file or directory\n",
            "cp: cannot stat '../input/keras-pretrained-models/imagenet_class_index.json': No such file or directory\n"
          ]
        }
      ],
      "source": [
        "# copy the weights and configurations for the pre-trained models\n",
        "\n",
        "!mkdir ~/.keras\n",
        "!mkdir ~/.keras/models\n",
        "!cp ../input/keras-pretrained-models/*notop* ~/.keras/models/\n",
        "!cp ../input/keras-pretrained-models/imagenet_class_index.json ~/.keras/models/"
      ]
    },
    {
      "cell_type": "code",
      "source": [
        "from google.colab import drive\n",
        "drive.mount('/content/drive')"
      ],
      "metadata": {
        "colab": {
          "base_uri": "https://localhost:8080/"
        },
        "id": "V19IGJEiCDdX",
        "outputId": "42abd3a0-2492-4269-ab57-bbe87162a6d9"
      },
      "execution_count": 4,
      "outputs": [
        {
          "output_type": "stream",
          "name": "stdout",
          "text": [
            "Mounted at /content/drive\n"
          ]
        }
      ]
    },
    {
      "cell_type": "code",
      "source": [
        "import os\n",
        "base_image_dir = os.path.join('.', '/content/drive/MyDrive/DL MINI PROJECT/Sample_data_10000')\n",
        "df = pd.read_csv(os.path.join('/content/drive/MyDrive/DL MINI PROJECT/trainLabels_cropped.csv'))\n",
        "df['path'] = df['image'].map(lambda x: os.path.join(base_image_dir,'{}.jpeg'.format(x)))\n",
        "df['exists'] = df['path'].map(os.path.exists) \n",
        "# Most of the files do not exist because this is a sample of the original dataset\n",
        "\n",
        "df = df[df['exists']]\n",
        "print(df[df['exists']])\n",
        "df = df.drop(columns=['image','exists'])\n",
        "df = df.sample(frac=1).reset_index(drop=True)     # Shuffle Dataframe\n",
        "df['level'] = df['level'].astype(str)\n",
        "df.head(10)"
      ],
      "metadata": {
        "colab": {
          "base_uri": "https://localhost:8080/",
          "height": 831
        },
        "id": "hYSzzsdZJHFB",
        "outputId": "4dd4e054-7a0c-44c2-af98-61e6cf3fe7dc"
      },
      "execution_count": 35,
      "outputs": [
        {
          "output_type": "stream",
          "name": "stdout",
          "text": [
            "       Unnamed: 0  Unnamed: 0.1        image  level  \\\n",
            "0               0             0      10_left      0   \n",
            "1               1             1     10_right      0   \n",
            "2               2             2      13_left      0   \n",
            "3               3             3     13_right      0   \n",
            "4               4             4      15_left      1   \n",
            "...           ...           ...          ...    ...   \n",
            "10183       10183         10190   12838_left      0   \n",
            "10184       10184         10191  12838_right      0   \n",
            "10185       10185         10192   12839_left      2   \n",
            "10186       10186         10193  12839_right      2   \n",
            "10187       10187         10194   12842_left      0   \n",
            "\n",
            "                                                    path  exists  \n",
            "0      /content/drive/MyDrive/DL MINI PROJECT/Sample_...    True  \n",
            "1      /content/drive/MyDrive/DL MINI PROJECT/Sample_...    True  \n",
            "2      /content/drive/MyDrive/DL MINI PROJECT/Sample_...    True  \n",
            "3      /content/drive/MyDrive/DL MINI PROJECT/Sample_...    True  \n",
            "4      /content/drive/MyDrive/DL MINI PROJECT/Sample_...    True  \n",
            "...                                                  ...     ...  \n",
            "10183  /content/drive/MyDrive/DL MINI PROJECT/Sample_...    True  \n",
            "10184  /content/drive/MyDrive/DL MINI PROJECT/Sample_...    True  \n",
            "10185  /content/drive/MyDrive/DL MINI PROJECT/Sample_...    True  \n",
            "10186  /content/drive/MyDrive/DL MINI PROJECT/Sample_...    True  \n",
            "10187  /content/drive/MyDrive/DL MINI PROJECT/Sample_...    True  \n",
            "\n",
            "[10188 rows x 6 columns]\n"
          ]
        },
        {
          "output_type": "execute_result",
          "data": {
            "text/plain": [
              "   Unnamed: 0  Unnamed: 0.1 level  \\\n",
              "0        2207          2210     0   \n",
              "1        7192          7196     0   \n",
              "2        6778          6782     0   \n",
              "3        3917          3921     0   \n",
              "4        1193          1194     0   \n",
              "5        5583          5587     0   \n",
              "6        5380          5384     0   \n",
              "7        7329          7333     1   \n",
              "8        8708          8714     0   \n",
              "9       10169         10176     0   \n",
              "\n",
              "                                                path  \n",
              "0  /content/drive/MyDrive/DL MINI PROJECT/Sample_...  \n",
              "1  /content/drive/MyDrive/DL MINI PROJECT/Sample_...  \n",
              "2  /content/drive/MyDrive/DL MINI PROJECT/Sample_...  \n",
              "3  /content/drive/MyDrive/DL MINI PROJECT/Sample_...  \n",
              "4  /content/drive/MyDrive/DL MINI PROJECT/Sample_...  \n",
              "5  /content/drive/MyDrive/DL MINI PROJECT/Sample_...  \n",
              "6  /content/drive/MyDrive/DL MINI PROJECT/Sample_...  \n",
              "7  /content/drive/MyDrive/DL MINI PROJECT/Sample_...  \n",
              "8  /content/drive/MyDrive/DL MINI PROJECT/Sample_...  \n",
              "9  /content/drive/MyDrive/DL MINI PROJECT/Sample_...  "
            ],
            "text/html": [
              "\n",
              "  <div id=\"df-c70bd7bd-9934-4905-8505-77bb53d202d0\">\n",
              "    <div class=\"colab-df-container\">\n",
              "      <div>\n",
              "<style scoped>\n",
              "    .dataframe tbody tr th:only-of-type {\n",
              "        vertical-align: middle;\n",
              "    }\n",
              "\n",
              "    .dataframe tbody tr th {\n",
              "        vertical-align: top;\n",
              "    }\n",
              "\n",
              "    .dataframe thead th {\n",
              "        text-align: right;\n",
              "    }\n",
              "</style>\n",
              "<table border=\"1\" class=\"dataframe\">\n",
              "  <thead>\n",
              "    <tr style=\"text-align: right;\">\n",
              "      <th></th>\n",
              "      <th>Unnamed: 0</th>\n",
              "      <th>Unnamed: 0.1</th>\n",
              "      <th>level</th>\n",
              "      <th>path</th>\n",
              "    </tr>\n",
              "  </thead>\n",
              "  <tbody>\n",
              "    <tr>\n",
              "      <th>0</th>\n",
              "      <td>2207</td>\n",
              "      <td>2210</td>\n",
              "      <td>0</td>\n",
              "      <td>/content/drive/MyDrive/DL MINI PROJECT/Sample_...</td>\n",
              "    </tr>\n",
              "    <tr>\n",
              "      <th>1</th>\n",
              "      <td>7192</td>\n",
              "      <td>7196</td>\n",
              "      <td>0</td>\n",
              "      <td>/content/drive/MyDrive/DL MINI PROJECT/Sample_...</td>\n",
              "    </tr>\n",
              "    <tr>\n",
              "      <th>2</th>\n",
              "      <td>6778</td>\n",
              "      <td>6782</td>\n",
              "      <td>0</td>\n",
              "      <td>/content/drive/MyDrive/DL MINI PROJECT/Sample_...</td>\n",
              "    </tr>\n",
              "    <tr>\n",
              "      <th>3</th>\n",
              "      <td>3917</td>\n",
              "      <td>3921</td>\n",
              "      <td>0</td>\n",
              "      <td>/content/drive/MyDrive/DL MINI PROJECT/Sample_...</td>\n",
              "    </tr>\n",
              "    <tr>\n",
              "      <th>4</th>\n",
              "      <td>1193</td>\n",
              "      <td>1194</td>\n",
              "      <td>0</td>\n",
              "      <td>/content/drive/MyDrive/DL MINI PROJECT/Sample_...</td>\n",
              "    </tr>\n",
              "    <tr>\n",
              "      <th>5</th>\n",
              "      <td>5583</td>\n",
              "      <td>5587</td>\n",
              "      <td>0</td>\n",
              "      <td>/content/drive/MyDrive/DL MINI PROJECT/Sample_...</td>\n",
              "    </tr>\n",
              "    <tr>\n",
              "      <th>6</th>\n",
              "      <td>5380</td>\n",
              "      <td>5384</td>\n",
              "      <td>0</td>\n",
              "      <td>/content/drive/MyDrive/DL MINI PROJECT/Sample_...</td>\n",
              "    </tr>\n",
              "    <tr>\n",
              "      <th>7</th>\n",
              "      <td>7329</td>\n",
              "      <td>7333</td>\n",
              "      <td>1</td>\n",
              "      <td>/content/drive/MyDrive/DL MINI PROJECT/Sample_...</td>\n",
              "    </tr>\n",
              "    <tr>\n",
              "      <th>8</th>\n",
              "      <td>8708</td>\n",
              "      <td>8714</td>\n",
              "      <td>0</td>\n",
              "      <td>/content/drive/MyDrive/DL MINI PROJECT/Sample_...</td>\n",
              "    </tr>\n",
              "    <tr>\n",
              "      <th>9</th>\n",
              "      <td>10169</td>\n",
              "      <td>10176</td>\n",
              "      <td>0</td>\n",
              "      <td>/content/drive/MyDrive/DL MINI PROJECT/Sample_...</td>\n",
              "    </tr>\n",
              "  </tbody>\n",
              "</table>\n",
              "</div>\n",
              "      <button class=\"colab-df-convert\" onclick=\"convertToInteractive('df-c70bd7bd-9934-4905-8505-77bb53d202d0')\"\n",
              "              title=\"Convert this dataframe to an interactive table.\"\n",
              "              style=\"display:none;\">\n",
              "        \n",
              "  <svg xmlns=\"http://www.w3.org/2000/svg\" height=\"24px\"viewBox=\"0 0 24 24\"\n",
              "       width=\"24px\">\n",
              "    <path d=\"M0 0h24v24H0V0z\" fill=\"none\"/>\n",
              "    <path d=\"M18.56 5.44l.94 2.06.94-2.06 2.06-.94-2.06-.94-.94-2.06-.94 2.06-2.06.94zm-11 1L8.5 8.5l.94-2.06 2.06-.94-2.06-.94L8.5 2.5l-.94 2.06-2.06.94zm10 10l.94 2.06.94-2.06 2.06-.94-2.06-.94-.94-2.06-.94 2.06-2.06.94z\"/><path d=\"M17.41 7.96l-1.37-1.37c-.4-.4-.92-.59-1.43-.59-.52 0-1.04.2-1.43.59L10.3 9.45l-7.72 7.72c-.78.78-.78 2.05 0 2.83L4 21.41c.39.39.9.59 1.41.59.51 0 1.02-.2 1.41-.59l7.78-7.78 2.81-2.81c.8-.78.8-2.07 0-2.86zM5.41 20L4 18.59l7.72-7.72 1.47 1.35L5.41 20z\"/>\n",
              "  </svg>\n",
              "      </button>\n",
              "      \n",
              "  <style>\n",
              "    .colab-df-container {\n",
              "      display:flex;\n",
              "      flex-wrap:wrap;\n",
              "      gap: 12px;\n",
              "    }\n",
              "\n",
              "    .colab-df-convert {\n",
              "      background-color: #E8F0FE;\n",
              "      border: none;\n",
              "      border-radius: 50%;\n",
              "      cursor: pointer;\n",
              "      display: none;\n",
              "      fill: #1967D2;\n",
              "      height: 32px;\n",
              "      padding: 0 0 0 0;\n",
              "      width: 32px;\n",
              "    }\n",
              "\n",
              "    .colab-df-convert:hover {\n",
              "      background-color: #E2EBFA;\n",
              "      box-shadow: 0px 1px 2px rgba(60, 64, 67, 0.3), 0px 1px 3px 1px rgba(60, 64, 67, 0.15);\n",
              "      fill: #174EA6;\n",
              "    }\n",
              "\n",
              "    [theme=dark] .colab-df-convert {\n",
              "      background-color: #3B4455;\n",
              "      fill: #D2E3FC;\n",
              "    }\n",
              "\n",
              "    [theme=dark] .colab-df-convert:hover {\n",
              "      background-color: #434B5C;\n",
              "      box-shadow: 0px 1px 3px 1px rgba(0, 0, 0, 0.15);\n",
              "      filter: drop-shadow(0px 1px 2px rgba(0, 0, 0, 0.3));\n",
              "      fill: #FFFFFF;\n",
              "    }\n",
              "  </style>\n",
              "\n",
              "      <script>\n",
              "        const buttonEl =\n",
              "          document.querySelector('#df-c70bd7bd-9934-4905-8505-77bb53d202d0 button.colab-df-convert');\n",
              "        buttonEl.style.display =\n",
              "          google.colab.kernel.accessAllowed ? 'block' : 'none';\n",
              "\n",
              "        async function convertToInteractive(key) {\n",
              "          const element = document.querySelector('#df-c70bd7bd-9934-4905-8505-77bb53d202d0');\n",
              "          const dataTable =\n",
              "            await google.colab.kernel.invokeFunction('convertToInteractive',\n",
              "                                                     [key], {});\n",
              "          if (!dataTable) return;\n",
              "\n",
              "          const docLinkHtml = 'Like what you see? Visit the ' +\n",
              "            '<a target=\"_blank\" href=https://colab.research.google.com/notebooks/data_table.ipynb>data table notebook</a>'\n",
              "            + ' to learn more about interactive tables.';\n",
              "          element.innerHTML = '';\n",
              "          dataTable['output_type'] = 'display_data';\n",
              "          await google.colab.output.renderOutput(dataTable, element);\n",
              "          const docLink = document.createElement('div');\n",
              "          docLink.innerHTML = docLinkHtml;\n",
              "          element.appendChild(docLink);\n",
              "        }\n",
              "      </script>\n",
              "    </div>\n",
              "  </div>\n",
              "  "
            ]
          },
          "metadata": {},
          "execution_count": 35
        }
      ]
    },
    {
      "cell_type": "code",
      "source": [
        "df['level'].hist(figsize = (10, 5))"
      ],
      "metadata": {
        "colab": {
          "base_uri": "https://localhost:8080/",
          "height": 337
        },
        "id": "-t8PCFJCJrxh",
        "outputId": "d53a2c78-63ae-479f-e130-337cd432d615"
      },
      "execution_count": 7,
      "outputs": [
        {
          "output_type": "execute_result",
          "data": {
            "text/plain": [
              "<matplotlib.axes._subplots.AxesSubplot at 0x7fca44e91910>"
            ]
          },
          "metadata": {},
          "execution_count": 7
        },
        {
          "output_type": "display_data",
          "data": {
            "text/plain": [
              "<Figure size 720x360 with 1 Axes>"
            ],
            "image/png": "[encoded data removed]"
          },
          "metadata": {
            "needs_background": "light"
          }
        }
      ]
    },
    {
      "cell_type": "code",
      "source": [
        "def balance_data(class_size,df):\n",
        "    train_df = df.groupby(['level']).apply(lambda x: x.sample(class_size, replace = True)).reset_index(drop = True)\n",
        "    train_df = train_df.sample(frac=1).reset_index(drop=True)\n",
        "    print('New Data Size:', train_df.shape[0], 'Old Size:', df.shape[0])\n",
        "    train_df['level'].hist(figsize = (10, 5))\n",
        "    return train_df"
      ],
      "metadata": {
        "id": "Hqe6GLAEJr0d"
      },
      "execution_count": 8,
      "outputs": []
    },
    {
      "cell_type": "code",
      "source": [
        "from sklearn.model_selection import train_test_split\n",
        "train_df, val_df = train_test_split(df,test_size=0.2) \n",
        "# Here we will perform an 80%/20% split of the dataset, with stratification to keep similar distribution in validation set\n",
        "train_df['level'].hist(figsize = (10, 5))\n",
        "len(val_df)"
      ],
      "metadata": {
        "colab": {
          "base_uri": "https://localhost:8080/",
          "height": 337
        },
        "id": "z5BCbyhnKOkg",
        "outputId": "361f2039-5e05-46e8-c8a5-94ffea43284e"
      },
      "execution_count": 36,
      "outputs": [
        {
          "output_type": "execute_result",
          "data": {
            "text/plain": [
              "2038"
            ]
          },
          "metadata": {},
          "execution_count": 36
        },
        {
          "output_type": "display_data",
          "data": {
            "text/plain": [
              "<Figure size 720x360 with 1 Axes>"
            ],
            "image/png": "[encoded data removed]"
          },
          "metadata": {}
        }
      ]
    },
    {
      "cell_type": "code",
      "source": [
        "train_df = balance_data(train_df.pivot_table(index='level', aggfunc=len).max().max(),train_df) \n",
        "# Oversample such that all classes have the same number of images as the maximum\n",
        "train_df['level'].hist(figsize = (10, 5))"
      ],
      "metadata": {
        "colab": {
          "base_uri": "https://localhost:8080/",
          "height": 355
        },
        "id": "s2TEjDZeJr32",
        "outputId": "0b737cbb-15d8-497d-9997-d092aeb0ffba"
      },
      "execution_count": 37,
      "outputs": [
        {
          "output_type": "stream",
          "name": "stdout",
          "text": [
            "New Data Size: 29645 Old Size: 8150\n"
          ]
        },
        {
          "output_type": "execute_result",
          "data": {
            "text/plain": [
              "<matplotlib.axes._subplots.AxesSubplot at 0x7fc779fff790>"
            ]
          },
          "metadata": {},
          "execution_count": 37
        },
        {
          "output_type": "display_data",
          "data": {
            "text/plain": [
              "<Figure size 720x360 with 1 Axes>"
            ],
            "image/png": "[encoded data removed]"
          },
          "metadata": {}
        }
      ]
    },
    {
      "cell_type": "code",
      "source": [
        "df = pd.concat([train_df,val_df]) \n",
        "# Beginning of this dataframe is the oversampled training set, end is the validation set\n",
        "len(df)"
      ],
      "metadata": {
        "colab": {
          "base_uri": "https://localhost:8080/"
        },
        "id": "HZ8G1Wt6Jr67",
        "outputId": "e7005bad-36d7-4f91-a64b-57128485024b"
      },
      "execution_count": 38,
      "outputs": [
        {
          "output_type": "execute_result",
          "data": {
            "text/plain": [
              "31683"
            ]
          },
          "metadata": {},
          "execution_count": 38
        }
      ]
    },
    {
      "cell_type": "code",
      "source": [
        "from keras.preprocessing.image import ImageDataGenerator"
      ],
      "metadata": {
        "id": "Ddnmb0FNLXYB"
      },
      "execution_count": 12,
      "outputs": []
    },
    {
      "cell_type": "code",
      "source": [
        "train_datagen = ImageDataGenerator(\n",
        "    rescale=1.0/255,\n",
        "    horizontal_flip = True,\n",
        "    zoom_range=0.2\n",
        ")\n",
        "\n",
        "test_datagen = ImageDataGenerator(\n",
        "    rescale=1.0/255,\n",
        "    validation_split = 0.2\n",
        ")"
      ],
      "metadata": {
        "id": "fjnL2uH3Jr9n"
      },
      "execution_count": 13,
      "outputs": []
    },
    {
      "cell_type": "code",
      "source": [
        "x_train = train_datagen.flow_from_dataframe(\n",
        "        train_df,\n",
        "        directory=\".\",\n",
        "        x_col=\"path\",\n",
        "        y_col=\"level\",\n",
        "        target_size=(256, 256),\n",
        "        batch_size=32,\n",
        "        class_mode='categorical')\n",
        "x_test = test_datagen.flow_from_dataframe(\n",
        "        val_df,\n",
        "        x_col=\"path\",\n",
        "        y_col=\"level\",\n",
        "        directory=\".\",\n",
        "        target_size=(256, 256),\n",
        "        batch_size=32,\n",
        "        class_mode='categorical')"
      ],
      "metadata": {
        "colab": {
          "base_uri": "https://localhost:8080/"
        },
        "id": "ZhuVDAOBJsCQ",
        "outputId": "049eb0b8-6f1b-4067-ef84-ed14e77b4089"
      },
      "execution_count": 14,
      "outputs": [
        {
          "output_type": "stream",
          "name": "stdout",
          "text": [
            "Found 29415 validated image filenames belonging to 5 classes.\n",
            "Found 2038 validated image filenames belonging to 5 classes.\n"
          ]
        }
      ]
    },
    {
      "cell_type": "code",
      "source": [
        "import itertools\n",
        "def plot_confusion_matrix(cm, classes,normalize=False,title='Confusion matrix',cmap=plt.cm.Blues):\n",
        "    \n",
        "    \"\"\"\n",
        "    This function prints and plots the confusion matrix.\n",
        "    Normalization can be applied by setting `normalize=True`.\n",
        "    \"\"\"\n",
        "    \n",
        "    plt.figure(figsize = (6,6))\n",
        "    plt.imshow(cm, interpolation='nearest', cmap=cmap)\n",
        "    plt.title(title)\n",
        "    plt.colorbar()\n",
        "    tick_marks = np.arange(len(classes))\n",
        "    plt.xticks(tick_marks, classes, rotation=90)\n",
        "    plt.yticks(tick_marks, classes)\n",
        "    if normalize:\n",
        "        cm = cm.astype('float') / cm.sum(axis=1)[:, np.newaxis]\n",
        "\n",
        "    thresh = cm.max() / 2.\n",
        "    cm = np.round(cm,2)\n",
        "    for i, j in itertools.product(range(cm.shape[0]), range(cm.shape[1])):\n",
        "        plt.text(j, i, cm[i, j],horizontalalignment=\"center\",color=\"white\" if cm[i, j] > thresh else \"black\")\n",
        "    plt.tight_layout()\n",
        "    plt.ylabel('True label')\n",
        "    plt.xlabel('Predicted label')\n",
        "    plt.show()"
      ],
      "metadata": {
        "id": "-K9RrRPJJsEo"
      },
      "execution_count": 15,
      "outputs": []
    },
    {
      "cell_type": "code",
      "source": [
        "train_datagen = ImageDataGenerator(\n",
        "        rescale=1./255,\n",
        "        shear_range=0.2,\n",
        "        zoom_range=0.2,\n",
        "        horizontal_flip=True)\n",
        "test_datagen = ImageDataGenerator(rescale=1./255)"
      ],
      "metadata": {
        "id": "MRi8dgOwJsGy"
      },
      "execution_count": 16,
      "outputs": []
    },
    {
      "cell_type": "code",
      "source": [
        "t_x, t_y = next(x_train)"
      ],
      "metadata": {
        "id": "61W8jovyJsJQ"
      },
      "execution_count": 17,
      "outputs": []
    },
    {
      "cell_type": "code",
      "source": [
        "def create_CNN_model(model):\n",
        "    model.add(Conv2D(32, (3, 3), padding='same', activation='relu', input_shape=(264,264,3)))\n",
        "    model.add(MaxPooling2D(pool_size=(2, 2)))\n",
        "    model.add(Dropout(0.25))\n",
        "\n",
        "    model.add(Conv2D(64, (3, 3), padding='same', activation='relu'))\n",
        "    model.add(Conv2D(64, (3, 3), padding='same', activation='relu'))\n",
        "    model.add(MaxPooling2D(pool_size=(2, 2)))\n",
        "    model.add(Dropout(0.25))\n",
        "\n",
        "    model.add(Conv2D(128, (3, 3), padding='same', activation='relu'))\n",
        "    model.add(Conv2D(128, (3, 3), padding='same', activation='relu'))\n",
        "    model.add(MaxPooling2D(pool_size=(2, 2)))\n",
        "    model.add(Dropout(0.25))\n",
        "\n",
        "    model.add(Conv2D(256, (3, 3), padding='same', activation='relu'))\n",
        "    model.add(Conv2D(256, (3, 3), padding='same', activation='relu'))\n",
        "    model.add(MaxPooling2D(pool_size=(2, 2)))\n",
        "    model.add(Dropout(0.25))\n",
        "\n",
        "    model.add(Conv2D(128, (3, 3), padding='same', activation='relu'))\n",
        "    model.add(Conv2D(128, (3, 3), padding='same', activation='relu'))\n",
        "    model.add(MaxPooling2D(pool_size=(2, 2)))\n",
        "    model.add(Dropout(0.25))"
      ],
      "metadata": {
        "id": "DD3ydlXFJsN5"
      },
      "execution_count": 18,
      "outputs": []
    },
    {
      "cell_type": "code",
      "source": [
        "from keras.applications.inception_v3 import InceptionV3 as PTModel\n",
        "from keras.layers import GlobalAveragePooling2D, Dense, Dropout, Flatten, Input, Conv2D, multiply, LocallyConnected2D, Lambda\n",
        "from keras.models import Model\n",
        "\n",
        "\n",
        "in_lay = Input(t_x.shape[1:])\n",
        "base_pretrained_model = PTModel(input_shape =  t_x.shape[1:], include_top = False, weights = 'imagenet')\n",
        "base_pretrained_model.trainable = False\n",
        "pt_depth = 2048\n",
        "pt_features = base_pretrained_model(in_lay)\n",
        "from keras.layers import BatchNormalization\n",
        "bn_features = BatchNormalization()(pt_features)\n",
        "\n",
        "# here we do an attention mechanism to turn pixels in the GAP on an off\n",
        "\n",
        "attn_layer = Conv2D(64, kernel_size = (1,1), padding = 'same', activation = 'relu')(Dropout(0.5)(bn_features))\n",
        "attn_layer = Conv2D(16, kernel_size = (1,1), padding = 'same', activation = 'relu')(attn_layer)\n",
        "attn_layer = Conv2D(8, kernel_size = (1,1), padding = 'same', activation = 'relu')(attn_layer)\n",
        "attn_layer = Conv2D(1, kernel_size = (1,1), padding = 'valid', activation = 'sigmoid')(attn_layer)\n",
        "\n",
        "# fan it out to all of the channels\n",
        "\n",
        "up_c2_w = np.ones((1, 1, 1, pt_depth))\n",
        "up_c2 = Conv2D(pt_depth, kernel_size = (1,1), padding = 'same', activation = 'linear', use_bias = False, weights = [up_c2_w])\n",
        "up_c2.trainable = False\n",
        "attn_layer = up_c2(attn_layer)\n",
        "\n",
        "mask_features = multiply([attn_layer, bn_features])\n",
        "gap_features = GlobalAveragePooling2D()(mask_features)\n",
        "gap_mask = GlobalAveragePooling2D()(attn_layer)\n",
        "\n",
        "# to account for missing values from the attention model\n",
        "\n",
        "gap = Lambda(lambda x: x[0]/x[1], name = 'RescaleGAP')([gap_features, gap_mask])\n",
        "gap_dr = Dropout(0.25)(gap)\n",
        "dr_steps = Dropout(0.25)(Dense(128, activation = 'relu')(gap_dr))\n",
        "out_layer = Dense(t_y.shape[-1], activation = 'softmax')(dr_steps)\n",
        "model = Model(inputs = [in_lay], outputs = [out_layer])\n",
        "\n",
        "\n",
        "from keras.metrics import top_k_categorical_accuracy\n",
        "\n",
        "def top_2_accuracy(in_gt, in_pred):\n",
        "    return top_k_categorical_accuracy(in_gt, in_pred, k=2)\n",
        "\n",
        "model.compile(optimizer = 'adam', loss = 'categorical_crossentropy',metrics = ['categorical_accuracy', top_2_accuracy])\n",
        "model.summary()"
      ],
      "metadata": {
        "colab": {
          "base_uri": "https://localhost:8080/"
        },
        "id": "7hDOuSPeJsQ7",
        "outputId": "d2c0138a-916f-448e-ef2d-410b779a59a7"
      },
      "execution_count": 19,
      "outputs": [
        {
          "output_type": "stream",
          "name": "stdout",
          "text": [
            "Downloading data from https://storage.googleapis.com/tensorflow/keras-applications/inception_v3/inception_v3_weights_tf_dim_ordering_tf_kernels_notop.h5\n",
            "87910968/87910968 [==============================] - 0s 0us/step\n",
            "Model: \"model\"\n",
            "__________________________________________________________________________________________________\n",
            " Layer (type)                   Output Shape         Param #     Connected to                     \n",
            "==================================================================================================\n",
            " input_1 (InputLayer)           [(None, 256, 256, 3  0           []                               \n",
            "                                )]                                                                \n",
            "                                                                                                  \n",
            " inception_v3 (Functional)      (None, 6, 6, 2048)   21802784    ['input_1[0][0]']                \n",
            "                                                                                                  \n",
            " batch_normalization_94 (BatchN  (None, 6, 6, 2048)  8192        ['inception_v3[0][0]']           \n",
            " ormalization)                                                                                    \n",
            "                                                                                                  \n",
            " dropout (Dropout)              (None, 6, 6, 2048)   0           ['batch_normalization_94[0][0]'] \n",
            "                                                                                                  \n",
            " conv2d_94 (Conv2D)             (None, 6, 6, 64)     131136      ['dropout[0][0]']                \n",
            "                                                                                                  \n",
            " conv2d_95 (Conv2D)             (None, 6, 6, 16)     1040        ['conv2d_94[0][0]']              \n",
            "                                                                                                  \n",
            " conv2d_96 (Conv2D)             (None, 6, 6, 8)      136         ['conv2d_95[0][0]']              \n",
            "                                                                                                  \n",
            " conv2d_97 (Conv2D)             (None, 6, 6, 1)      9           ['conv2d_96[0][0]']              \n",
            "                                                                                                  \n",
            " conv2d_98 (Conv2D)             (None, 6, 6, 2048)   2048        ['conv2d_97[0][0]']              \n",
            "                                                                                                  \n",
            " multiply (Multiply)            (None, 6, 6, 2048)   0           ['conv2d_98[0][0]',              \n",
            "                                                                  'batch_normalization_94[0][0]'] \n",
            "                                                                                                  \n",
            " global_average_pooling2d (Glob  (None, 2048)        0           ['multiply[0][0]']               \n",
            " alAveragePooling2D)                                                                              \n",
            "                                                                                                  \n",
            " global_average_pooling2d_1 (Gl  (None, 2048)        0           ['conv2d_98[0][0]']              \n",
            " obalAveragePooling2D)                                                                            \n",
            "                                                                                                  \n",
            " RescaleGAP (Lambda)            (None, 2048)         0           ['global_average_pooling2d[0][0]'\n",
            "                                                                 , 'global_average_pooling2d_1[0][\n",
            "                                                                 0]']                             \n",
            "                                                                                                  \n",
            " dropout_1 (Dropout)            (None, 2048)         0           ['RescaleGAP[0][0]']             \n",
            "                                                                                                  \n",
            " dense (Dense)                  (None, 128)          262272      ['dropout_1[0][0]']              \n",
            "                                                                                                  \n",
            " dropout_2 (Dropout)            (None, 128)          0           ['dense[0][0]']                  \n",
            "                                                                                                  \n",
            " dense_1 (Dense)                (None, 5)            645         ['dropout_2[0][0]']              \n",
            "                                                                                                  \n",
            "==================================================================================================\n",
            "Total params: 22,208,262\n",
            "Trainable params: 399,334\n",
            "Non-trainable params: 21,808,928\n",
            "__________________________________________________________________________________________________\n"
          ]
        }
      ]
    },
    {
      "cell_type": "code",
      "source": [
        "import tensorflow\n",
        "\n",
        "from tensorflow.keras.callbacks import EarlyStopping\n",
        "from tensorflow.keras.callbacks import ModelCheckpoint\n",
        "from tensorflow.keras.callbacks import ReduceLROnPlateau"
      ],
      "metadata": {
        "id": "1xDjhhyvLloF"
      },
      "execution_count": 41,
      "outputs": []
    },
    {
      "cell_type": "code",
      "source": [
        "filepath = \"dr-detector.hdf5\"\n",
        "checkpoint = ModelCheckpoint(filepath,\n",
        "                             monitor=\"val_top2_accuracy\",\n",
        "                             verbose=1,\n",
        "                             save_best_only=True,\n",
        "                             mode=\"max\")\n",
        "\n",
        "earlystop = EarlyStopping(monitor='val_categorical_accuracy',\n",
        "                          verbose=1, \n",
        "                          min_delta=0, \n",
        "                          patience=15, \n",
        "                          restore_best_weights=True)\n",
        "\n",
        "reduce_lr = ReduceLROnPlateau(monitor='val_loss', \n",
        "                              verbose=1,\n",
        "                              factor=0.2, \n",
        "                              patience=6, \n",
        "                              min_delta=0.0001,\n",
        "                              cooldown=0,\n",
        "                              min_lr=0.001)\n",
        "\n",
        "\n",
        "callbacks = [checkpoint, earlystop, reduce_lr]"
      ],
      "metadata": {
        "id": "t-3E7EUQLA4Q"
      },
      "execution_count": 21,
      "outputs": []
    },
    {
      "cell_type": "code",
      "source": [
        "history = model.fit(\n",
        "        x_train,\n",
        "        steps_per_epoch=x_train.samples // 64,\n",
        "        epochs=5,\n",
        "        validation_data=x_test,\n",
        "        validation_steps=x_test.samples // 64,\n",
        "        callbacks=callbacks)\n",
        "model.save_weights(\"dr_messidor.h5\")"
      ],
      "metadata": {
        "colab": {
          "base_uri": "https://localhost:8080/"
        },
        "id": "03D3T_v0LA7N",
        "outputId": "15aec4e1-424f-498c-d0fa-ea33d540dd09"
      },
      "execution_count": 23,
      "outputs": [
        {
          "metadata": {
            "tags": null
          },
          "name": "stdout",
          "output_type": "stream",
          "text": [
            "Epoch 1/5\n",
            "459/459 [==============================] - ETA: 0s - loss: 1.2666 - categorical_accuracy: 0.4466 - top_2_accuracy: 0.6961"
          ]
        },
        {
          "metadata": {
            "tags": null
          },
          "name": "stderr",
          "output_type": "stream",
          "text": [
            "WARNING:tensorflow:Can save best model only with val_top2_accuracy available, skipping.\n"
          ]
        },
        {
          "metadata": {
            "tags": null
          },
          "name": "stdout",
          "output_type": "stream",
          "text": [
            "459/459 [==============================] - 3488s 8s/step - loss: 1.2666 - categorical_accuracy: 0.4466 - top_2_accuracy: 0.6961 - val_loss: 1.2296 - val_categorical_accuracy: 0.3931 - val_top_2_accuracy: 0.7359 - lr: 0.0010\n",
            "Epoch 2/5\n",
            "459/459 [==============================] - ETA: 0s - loss: 1.0695 - categorical_accuracy: 0.5335 - top_2_accuracy: 0.7706"
          ]
        },
        {
          "metadata": {
            "tags": null
          },
          "name": "stderr",
          "output_type": "stream",
          "text": [
            "WARNING:tensorflow:Can save best model only with val_top2_accuracy available, skipping.\n"
          ]
        },
        {
          "metadata": {
            "tags": null
          },
          "name": "stdout",
          "output_type": "stream",
          "text": [
            "459/459 [==============================] - 1212s 3s/step - loss: 1.0695 - categorical_accuracy: 0.5335 - top_2_accuracy: 0.7706 - val_loss: 1.3650 - val_categorical_accuracy: 0.3810 - val_top_2_accuracy: 0.7409 - lr: 0.0010\n",
            "Epoch 3/5\n",
            "459/459 [==============================] - ETA: 0s - loss: 0.9683 - categorical_accuracy: 0.5772 - top_2_accuracy: 0.8036"
          ]
        },
        {
          "output_type": "stream",
          "name": "stderr",
          "text": [
            "WARNING:tensorflow:Can save best model only with val_top2_accuracy available, skipping.\n"
          ]
        },
        {
          "output_type": "stream",
          "name": "stdout",
          "text": [
            "\b\b\b\b\b\b\b\b\b\b\b\b\b\b\b\b\b\b\b\b\b\b\b\b\b\b\b\b\b\b\b\b\b\b\b\b\b\b\b\b\b\b\b\b\b\b\b\b\b\b\b\b\b\b\b\b\b\b\b\b\b\b\b\b\b\b\b\b\b\b\b\b\b\b\b\b\b\b\b\b\b\b\b\b\b\b\b\b\b\b\b\b\b\b\b\b\b\b\b\b\b\b\b\b\b\b\b\b\b\b\b\b\b\b\b\b\b\b\b\b\b\r459/459 [==============================] - 779s 2s/step - loss: 0.9683 - categorical_accuracy: 0.5772 - top_2_accuracy: 0.8036 - val_loss: 1.1978 - val_categorical_accuracy: 0.3992 - val_top_2_accuracy: 0.8115 - lr: 0.0010\n",
            "Epoch 4/5\n",
            "459/459 [==============================] - ETA: 0s - loss: 0.9053 - categorical_accuracy: 0.6081 - top_2_accuracy: 0.8268"
          ]
        },
        {
          "output_type": "stream",
          "name": "stderr",
          "text": [
            "WARNING:tensorflow:Can save best model only with val_top2_accuracy available, skipping.\n"
          ]
        },
        {
          "output_type": "stream",
          "name": "stdout",
          "text": [
            "\b\b\b\b\b\b\b\b\b\b\b\b\b\b\b\b\b\b\b\b\b\b\b\b\b\b\b\b\b\b\b\b\b\b\b\b\b\b\b\b\b\b\b\b\b\b\b\b\b\b\b\b\b\b\b\b\b\b\b\b\b\b\b\b\b\b\b\b\b\b\b\b\b\b\b\b\b\b\b\b\b\b\b\b\b\b\b\b\b\b\b\b\b\b\b\b\b\b\b\b\b\b\b\b\b\b\b\b\b\b\b\b\b\b\b\b\b\b\b\b\b\r459/459 [==============================] - 584s 1s/step - loss: 0.9053 - categorical_accuracy: 0.6081 - top_2_accuracy: 0.8268 - val_loss: 1.3009 - val_categorical_accuracy: 0.2994 - val_top_2_accuracy: 0.7863 - lr: 0.0010\n",
            "Epoch 5/5\n",
            "459/459 [==============================] - ETA: 0s - loss: 0.8447 - categorical_accuracy: 0.6347 - top_2_accuracy: 0.8457"
          ]
        },
        {
          "output_type": "stream",
          "name": "stderr",
          "text": [
            "WARNING:tensorflow:Can save best model only with val_top2_accuracy available, skipping.\n"
          ]
        },
        {
          "output_type": "stream",
          "name": "stdout",
          "text": [
            "\b\b\b\b\b\b\b\b\b\b\b\b\b\b\b\b\b\b\b\b\b\b\b\b\b\b\b\b\b\b\b\b\b\b\b\b\b\b\b\b\b\b\b\b\b\b\b\b\b\b\b\b\b\b\b\b\b\b\b\b\b\b\b\b\b\b\b\b\b\b\b\b\b\b\b\b\b\b\b\b\b\b\b\b\b\b\b\b\b\b\b\b\b\b\b\b\b\b\b\b\b\b\b\b\b\b\b\b\b\b\b\b\b\b\b\b\b\b\b\b\b\r459/459 [==============================] - 491s 1s/step - loss: 0.8447 - categorical_accuracy: 0.6347 - top_2_accuracy: 0.8457 - val_loss: 1.1952 - val_categorical_accuracy: 0.3800 - val_top_2_accuracy: 0.8417 - lr: 0.0010\n"
          ]
        }
      ]
    },
    {
      "cell_type": "code",
      "source": [
        "train_score = model.evaluate(x_train)\n",
        "test_score = model.evaluate(x_test)"
      ],
      "metadata": {
        "colab": {
          "base_uri": "https://localhost:8080/"
        },
        "id": "x8Bkh5ScLA9a",
        "outputId": "d1afee2f-7a14-4752-ed85-8fed8c21f65d"
      },
      "execution_count": 24,
      "outputs": [
        {
          "output_type": "stream",
          "name": "stdout",
          "text": [
            "920/920 [==============================] - 908s 986ms/step - loss: 0.6735 - categorical_accuracy: 0.7146 - top_2_accuracy: 0.8954\n",
            "64/64 [==============================] - 70s 1s/step - loss: 1.2013 - categorical_accuracy: 0.4048 - top_2_accuracy: 0.8234\n"
          ]
        }
      ]
    },
    {
      "cell_type": "code",
      "source": [
        "print(\"Final training categorical accuracy = {:.2f} , Final validation categorical accuracy = {:.2f}\".format(train_score[1]*100, test_score[1]*100))\n",
        "print(\"Final training Top 2 accuracy = {:.2f} , Final validation Top 2 accuracy = {:.2f}\".format(train_score[2]*100, test_score[2]*100))\n",
        "print(\"Final training loss = {:.2f} , Final validation loss = {:.2f}\".format(train_score[0], test_score[0]))"
      ],
      "metadata": {
        "colab": {
          "base_uri": "https://localhost:8080/"
        },
        "id": "g5nPZmx0jPO3",
        "outputId": "0bedbf4d-21d6-446f-c482-0e48cfb81120"
      },
      "execution_count": 25,
      "outputs": [
        {
          "output_type": "stream",
          "name": "stdout",
          "text": [
            "Final training categorical accuracy = 71.46 , Final validation categorical accuracy = 40.48\n",
            "Final training Top 2 accuracy = 89.54 , Final validation Top 2 accuracy = 82.34\n",
            "Final training loss = 0.67 , Final validation loss = 1.20\n"
          ]
        }
      ]
    },
    {
      "cell_type": "code",
      "source": [
        "history.history"
      ],
      "metadata": {
        "colab": {
          "base_uri": "https://localhost:8080/"
        },
        "id": "o-KKx0y6LA_p",
        "outputId": "0d7d299a-bdb5-40d7-9252-b898f47e7b90"
      },
      "execution_count": 26,
      "outputs": [
        {
          "output_type": "execute_result",
          "data": {
            "text/plain": [
              "{'loss': [1.2665711641311646,\n",
              "  1.0695329904556274,\n",
              "  0.9682794809341431,\n",
              "  0.9052607417106628,\n",
              "  0.8447181582450867],\n",
              " 'categorical_accuracy': [0.4465661942958832,\n",
              "  0.5334515571594238,\n",
              "  0.577235221862793,\n",
              "  0.6081293225288391,\n",
              "  0.6346677541732788],\n",
              " 'top_2_accuracy': [0.6961058378219604,\n",
              "  0.7705789804458618,\n",
              "  0.8035872578620911,\n",
              "  0.8267748951911926,\n",
              "  0.8456563353538513],\n",
              " 'val_loss': [1.2295953035354614,\n",
              "  1.3649520874023438,\n",
              "  1.1978119611740112,\n",
              "  1.300923466682434,\n",
              "  1.195181131362915],\n",
              " 'val_categorical_accuracy': [0.3931451737880707,\n",
              "  0.38104838132858276,\n",
              "  0.39919355511665344,\n",
              "  0.2993951737880707,\n",
              "  0.38004031777381897],\n",
              " 'val_top_2_accuracy': [0.7358871102333069,\n",
              "  0.7409273982048035,\n",
              "  0.8114919066429138,\n",
              "  0.7862903475761414,\n",
              "  0.8417338728904724],\n",
              " 'lr': [0.001, 0.001, 0.001, 0.001, 0.001]}"
            ]
          },
          "metadata": {},
          "execution_count": 26
        }
      ]
    },
    {
      "cell_type": "code",
      "source": [
        "import seaborn as sb\n",
        "\n",
        "sb.set_style(\"darkgrid\")\n",
        "\n",
        "Categorical_Acuracy = history.history['categorical_accuracy']\n",
        "Top_2_Accuracy = history.history['top_2_accuracy']\n",
        "Val_Categorical_Accuracy = history.history['val_categorical_accuracy']\n",
        "\n",
        "Loss = history.history['loss']\n",
        "Val_Loss = history.history['val_loss']\n",
        "\n",
        "Epochs = range(1, len(Categorical_Acuracy) + 1)\n",
        "\n",
        "#Train and validation accuracy\n",
        "\n",
        "plt.plot(Epochs, Categorical_Acuracy, 'b', label='Training accuracy')\n",
        "plt.plot(Epochs, Top_2_Accuracy, 'r', label='Validation accuracy')\n",
        "plt.plot(Epochs, Val_Categorical_Accuracy, 'g', label='Validation accuracy')\n",
        "plt.xlabel('# of Epochs')\n",
        "plt.ylabel('Accuracy')\n",
        "plt.title('Accuracy Vs Epochs')\n",
        "plt.legend()\n",
        "\n",
        "plt.figure(figsize = (15, 15))\n",
        "plt.show()\n",
        "\n",
        "print(\"\\n\\n\")\n",
        "\n",
        "#Train and validation loss\n",
        "\n",
        "plt.plot(Epochs, Loss, 'b', label='Training loss')\n",
        "plt.plot(Epochs, Val_Loss, 'g', label='Validation loss')\n",
        "plt.xlabel('# of Epochs')\n",
        "plt.ylabel('Loss')\n",
        "plt.title('Loss Vs Epochs')\n",
        "plt.legend()\n",
        "\n",
        "plt.show()"
      ],
      "metadata": {
        "colab": {
          "base_uri": "https://localhost:8080/",
          "height": 642
        },
        "id": "Cu5tFcSCLz4F",
        "outputId": "cd3ca9c4-8681-47ea-d56f-dc2b5b0ec5f3"
      },
      "execution_count": 33,
      "outputs": [
        {
          "output_type": "display_data",
          "data": {
            "text/plain": [
              "<Figure size 432x288 with 1 Axes>"
            ],
            "image/png": "[encoded data removed]"
          },
          "metadata": {}
        },
        {
          "output_type": "display_data",
          "data": {
            "text/plain": [
              "<Figure size 1080x1080 with 0 Axes>"
            ]
          },
          "metadata": {}
        },
        {
          "output_type": "stream",
          "name": "stdout",
          "text": [
            "\n",
            "\n",
            "\n"
          ]
        },
        {
          "output_type": "display_data",
          "data": {
            "text/plain": [
              "<Figure size 432x288 with 1 Axes>"
            ],
            "image/png": "[encoded data removed]"
          },
          "metadata": {}
        }
      ]
    },
    {
      "cell_type": "code",
      "source": [
        "y_pred = model.predict(x_train)\n",
        "y_pred = np.argmax(y_pred, axis=1)\n",
        "class_labels = x_test.class_indices\n",
        "class_labels = {v:k for k,v in class_labels.items()}"
      ],
      "metadata": {
        "colab": {
          "base_uri": "https://localhost:8080/"
        },
        "id": "sHQVMAjGLBFf",
        "outputId": "551ab676-02bc-466d-b7ba-7bc7a9027173"
      },
      "execution_count": 43,
      "outputs": [
        {
          "output_type": "stream",
          "name": "stdout",
          "text": [
            "920/920 [==============================] - 790s 859ms/step\n"
          ]
        }
      ]
    },
    {
      "cell_type": "code",
      "source": [
        "from sklearn.metrics import classification_report, confusion_matrix\n",
        "cm_train = confusion_matrix(x_train.classes, y_pred)\n",
        "print('Confusion Matrix:\\n')\n",
        "print(cm_train)\n",
        "print('\\nClassification Report:\\n')\n",
        "target_names = list(class_labels.values())\n",
        "print(classification_report(x_train.classes, y_pred, target_names=target_names))\n",
        "\n",
        "plt.figure(figsize=(8,8))\n",
        "plt.imshow(cm_train, interpolation='nearest')\n",
        "plt.colorbar()\n",
        "tick_mark = np.arange(len(target_names))\n",
        "_ = plt.xticks(tick_mark, target_names, rotation=90)\n",
        "_ = plt.yticks(tick_mark, target_names)"
      ],
      "metadata": {
        "colab": {
          "base_uri": "https://localhost:8080/",
          "height": 848
        },
        "id": "bblXUTMARzbc",
        "outputId": "cae12363-d481-43eb-f714-fed5fc7510eb"
      },
      "execution_count": 44,
      "outputs": [
        {
          "output_type": "stream",
          "name": "stdout",
          "text": [
            "Confusion Matrix:\n",
            "\n",
            "[[1037 1355  951 1279 1261]\n",
            " [1107 1363  969 1246 1198]\n",
            " [1066 1412  920 1251 1234]\n",
            " [1092 1464  893 1268 1166]\n",
            " [1142 1385  862 1258 1236]]\n",
            "\n",
            "Classification Report:\n",
            "\n",
            "              precision    recall  f1-score   support\n",
            "\n",
            "           0       0.19      0.18      0.18      5883\n",
            "           1       0.20      0.23      0.21      5883\n",
            "           2       0.20      0.16      0.18      5883\n",
            "           3       0.20      0.22      0.21      5883\n",
            "           4       0.20      0.21      0.21      5883\n",
            "\n",
            "    accuracy                           0.20     29415\n",
            "   macro avg       0.20      0.20      0.20     29415\n",
            "weighted avg       0.20      0.20      0.20     29415\n",
            "\n"
          ]
        },
        {
          "output_type": "display_data",
          "data": {
            "text/plain": [
              "<Figure size 576x576 with 2 Axes>"
            ],
            "image/png": "[encoded data removed]"
          },
          "metadata": {}
        }
      ]
    },
    {
      "cell_type": "code",
      "source": [],
      "metadata": {
        "id": "AIiHjoKGRqSK"
      },
      "execution_count": null,
      "outputs": []
    },
    {
      "cell_type": "code",
      "source": [],
      "metadata": {
        "id": "DLSFg1wPRqbF"
      },
      "execution_count": null,
      "outputs": []
    },
    {
      "cell_type": "code",
      "source": [],
      "metadata": {
        "id": "KEn_sVhIMz6q"
      },
      "execution_count": null,
      "outputs": []
    }
  ]
}