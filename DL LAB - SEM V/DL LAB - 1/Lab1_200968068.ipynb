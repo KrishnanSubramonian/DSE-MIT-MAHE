{
  "nbformat": 4,
  "nbformat_minor": 0,
  "metadata": {
    "colab": {
      "name": "Lab1_200968068.ipynb",
      "provenance": [],
      "collapsed_sections": []
    },
    "kernelspec": {
      "name": "python3",
      "display_name": "Python 3"
    },
    "language_info": {
      "name": "python"
    }
  },
  "cells": [
    {
      "cell_type": "code",
      "execution_count": 1,
      "metadata": {
        "id": "3u2TeNF0cVep"
      },
      "outputs": [],
      "source": [
        "import pandas as pd\n",
        "import numpy as np\n",
        "import matplotlib.pyplot as plt\n",
        "import tensorflow as tf"
      ]
    },
    {
      "cell_type": "code",
      "source": [
        "f_mnist = tf.keras.datasets.fashion_mnist\n",
        "\n",
        "(x_train, y_train) , (x_test, y_test) = f_mnist.load_data()"
      ],
      "metadata": {
        "id": "B-44We-gcnLZ",
        "colab": {
          "base_uri": "https://localhost:8080/"
        },
        "outputId": "bbdd65cb-e574-4cba-d69c-fe7952ba365e"
      },
      "execution_count": 2,
      "outputs": [
        {
          "output_type": "stream",
          "name": "stdout",
          "text": [
            "Downloading data from https://storage.googleapis.com/tensorflow/tf-keras-datasets/train-labels-idx1-ubyte.gz\n",
            "32768/29515 [=================================] - 0s 0us/step\n",
            "40960/29515 [=========================================] - 0s 0us/step\n",
            "Downloading data from https://storage.googleapis.com/tensorflow/tf-keras-datasets/train-images-idx3-ubyte.gz\n",
            "26427392/26421880 [==============================] - 0s 0us/step\n",
            "26435584/26421880 [==============================] - 0s 0us/step\n",
            "Downloading data from https://storage.googleapis.com/tensorflow/tf-keras-datasets/t10k-labels-idx1-ubyte.gz\n",
            "16384/5148 [===============================================================================================] - 0s 0us/step\n",
            "Downloading data from https://storage.googleapis.com/tensorflow/tf-keras-datasets/t10k-images-idx3-ubyte.gz\n",
            "4423680/4422102 [==============================] - 0s 0us/step\n",
            "4431872/4422102 [==============================] - 0s 0us/step\n"
          ]
        }
      ]
    },
    {
      "cell_type": "code",
      "source": [
        "x_train"
      ],
      "metadata": {
        "colab": {
          "base_uri": "https://localhost:8080/"
        },
        "id": "XMlc3RR5XZPZ",
        "outputId": "e0922275-3aa1-4f08-98b5-31eb2264f79e"
      },
      "execution_count": 3,
      "outputs": [
        {
          "output_type": "execute_result",
          "data": {
            "text/plain": [
              "array([[[0, 0, 0, ..., 0, 0, 0],\n",
              "        [0, 0, 0, ..., 0, 0, 0],\n",
              "        [0, 0, 0, ..., 0, 0, 0],\n",
              "        ...,\n",
              "        [0, 0, 0, ..., 0, 0, 0],\n",
              "        [0, 0, 0, ..., 0, 0, 0],\n",
              "        [0, 0, 0, ..., 0, 0, 0]],\n",
              "\n",
              "       [[0, 0, 0, ..., 0, 0, 0],\n",
              "        [0, 0, 0, ..., 0, 0, 0],\n",
              "        [0, 0, 0, ..., 0, 0, 0],\n",
              "        ...,\n",
              "        [0, 0, 0, ..., 0, 0, 0],\n",
              "        [0, 0, 0, ..., 0, 0, 0],\n",
              "        [0, 0, 0, ..., 0, 0, 0]],\n",
              "\n",
              "       [[0, 0, 0, ..., 0, 0, 0],\n",
              "        [0, 0, 0, ..., 0, 0, 0],\n",
              "        [0, 0, 0, ..., 0, 0, 0],\n",
              "        ...,\n",
              "        [0, 0, 0, ..., 0, 0, 0],\n",
              "        [0, 0, 0, ..., 0, 0, 0],\n",
              "        [0, 0, 0, ..., 0, 0, 0]],\n",
              "\n",
              "       ...,\n",
              "\n",
              "       [[0, 0, 0, ..., 0, 0, 0],\n",
              "        [0, 0, 0, ..., 0, 0, 0],\n",
              "        [0, 0, 0, ..., 0, 0, 0],\n",
              "        ...,\n",
              "        [0, 0, 0, ..., 0, 0, 0],\n",
              "        [0, 0, 0, ..., 0, 0, 0],\n",
              "        [0, 0, 0, ..., 0, 0, 0]],\n",
              "\n",
              "       [[0, 0, 0, ..., 0, 0, 0],\n",
              "        [0, 0, 0, ..., 0, 0, 0],\n",
              "        [0, 0, 0, ..., 0, 0, 0],\n",
              "        ...,\n",
              "        [0, 0, 0, ..., 0, 0, 0],\n",
              "        [0, 0, 0, ..., 0, 0, 0],\n",
              "        [0, 0, 0, ..., 0, 0, 0]],\n",
              "\n",
              "       [[0, 0, 0, ..., 0, 0, 0],\n",
              "        [0, 0, 0, ..., 0, 0, 0],\n",
              "        [0, 0, 0, ..., 0, 0, 0],\n",
              "        ...,\n",
              "        [0, 0, 0, ..., 0, 0, 0],\n",
              "        [0, 0, 0, ..., 0, 0, 0],\n",
              "        [0, 0, 0, ..., 0, 0, 0]]], dtype=uint8)"
            ]
          },
          "metadata": {},
          "execution_count": 3
        }
      ]
    },
    {
      "cell_type": "code",
      "source": [
        "x_train.shape"
      ],
      "metadata": {
        "colab": {
          "base_uri": "https://localhost:8080/"
        },
        "id": "GUH2LJrZdHnB",
        "outputId": "1c529367-cfa4-4116-98ce-aedf27a796c4"
      },
      "execution_count": 4,
      "outputs": [
        {
          "output_type": "execute_result",
          "data": {
            "text/plain": [
              "(60000, 28, 28)"
            ]
          },
          "metadata": {},
          "execution_count": 4
        }
      ]
    },
    {
      "cell_type": "code",
      "source": [
        "x_train.size"
      ],
      "metadata": {
        "colab": {
          "base_uri": "https://localhost:8080/"
        },
        "id": "Cu9mhzO2XlSS",
        "outputId": "baa29daf-7ff7-42d7-ad36-ae744f08fb00"
      },
      "execution_count": 5,
      "outputs": [
        {
          "output_type": "execute_result",
          "data": {
            "text/plain": [
              "47040000"
            ]
          },
          "metadata": {},
          "execution_count": 5
        }
      ]
    },
    {
      "cell_type": "code",
      "source": [
        "28*28*60000"
      ],
      "metadata": {
        "colab": {
          "base_uri": "https://localhost:8080/"
        },
        "id": "3Lj0MDp4XseS",
        "outputId": "93c85a93-c71b-4b74-f142-1a4e7511da4e"
      },
      "execution_count": 6,
      "outputs": [
        {
          "output_type": "execute_result",
          "data": {
            "text/plain": [
              "47040000"
            ]
          },
          "metadata": {},
          "execution_count": 6
        }
      ]
    },
    {
      "cell_type": "code",
      "source": [
        "y_train"
      ],
      "metadata": {
        "colab": {
          "base_uri": "https://localhost:8080/"
        },
        "id": "3iGbvZz2wNX2",
        "outputId": "585843da-0367-40a5-cc4d-493b425fff33"
      },
      "execution_count": 42,
      "outputs": [
        {
          "output_type": "execute_result",
          "data": {
            "text/plain": [
              "array([9, 0, 0, ..., 3, 0, 5], dtype=uint8)"
            ]
          },
          "metadata": {},
          "execution_count": 42
        }
      ]
    },
    {
      "cell_type": "code",
      "source": [
        "y_train.shape"
      ],
      "metadata": {
        "colab": {
          "base_uri": "https://localhost:8080/"
        },
        "id": "OvUH9ZYJwQMf",
        "outputId": "1200a160-b345-4708-b197-f16973d8d188"
      },
      "execution_count": 43,
      "outputs": [
        {
          "output_type": "execute_result",
          "data": {
            "text/plain": [
              "(60000,)"
            ]
          },
          "metadata": {},
          "execution_count": 43
        }
      ]
    },
    {
      "cell_type": "code",
      "source": [
        "y_test"
      ],
      "metadata": {
        "colab": {
          "base_uri": "https://localhost:8080/"
        },
        "id": "fccJgL1VwYHr",
        "outputId": "c3ad19a0-067c-4a86-c2df-e947772c2f1d"
      },
      "execution_count": 44,
      "outputs": [
        {
          "output_type": "execute_result",
          "data": {
            "text/plain": [
              "array([9, 2, 1, ..., 8, 1, 5], dtype=uint8)"
            ]
          },
          "metadata": {},
          "execution_count": 44
        }
      ]
    },
    {
      "cell_type": "code",
      "source": [
        "y_test.shape"
      ],
      "metadata": {
        "colab": {
          "base_uri": "https://localhost:8080/"
        },
        "id": "VoFmwwrewbnW",
        "outputId": "922ea27b-f704-469d-ff93-3f2b42f937d8"
      },
      "execution_count": 45,
      "outputs": [
        {
          "output_type": "execute_result",
          "data": {
            "text/plain": [
              "(10000,)"
            ]
          },
          "metadata": {},
          "execution_count": 45
        }
      ]
    },
    {
      "cell_type": "code",
      "source": [
        "x_train[0]"
      ],
      "metadata": {
        "colab": {
          "base_uri": "https://localhost:8080/"
        },
        "id": "N0-IwGFZdbjg",
        "outputId": "339f74db-067d-4d3c-8ee2-4712cae61f33"
      },
      "execution_count": 7,
      "outputs": [
        {
          "output_type": "execute_result",
          "data": {
            "text/plain": [
              "array([[  0,   0,   0,   0,   0,   0,   0,   0,   0,   0,   0,   0,   0,\n",
              "          0,   0,   0,   0,   0,   0,   0,   0,   0,   0,   0,   0,   0,\n",
              "          0,   0],\n",
              "       [  0,   0,   0,   0,   0,   0,   0,   0,   0,   0,   0,   0,   0,\n",
              "          0,   0,   0,   0,   0,   0,   0,   0,   0,   0,   0,   0,   0,\n",
              "          0,   0],\n",
              "       [  0,   0,   0,   0,   0,   0,   0,   0,   0,   0,   0,   0,   0,\n",
              "          0,   0,   0,   0,   0,   0,   0,   0,   0,   0,   0,   0,   0,\n",
              "          0,   0],\n",
              "       [  0,   0,   0,   0,   0,   0,   0,   0,   0,   0,   0,   0,   1,\n",
              "          0,   0,  13,  73,   0,   0,   1,   4,   0,   0,   0,   0,   1,\n",
              "          1,   0],\n",
              "       [  0,   0,   0,   0,   0,   0,   0,   0,   0,   0,   0,   0,   3,\n",
              "          0,  36, 136, 127,  62,  54,   0,   0,   0,   1,   3,   4,   0,\n",
              "          0,   3],\n",
              "       [  0,   0,   0,   0,   0,   0,   0,   0,   0,   0,   0,   0,   6,\n",
              "          0, 102, 204, 176, 134, 144, 123,  23,   0,   0,   0,   0,  12,\n",
              "         10,   0],\n",
              "       [  0,   0,   0,   0,   0,   0,   0,   0,   0,   0,   0,   0,   0,\n",
              "          0, 155, 236, 207, 178, 107, 156, 161, 109,  64,  23,  77, 130,\n",
              "         72,  15],\n",
              "       [  0,   0,   0,   0,   0,   0,   0,   0,   0,   0,   0,   1,   0,\n",
              "         69, 207, 223, 218, 216, 216, 163, 127, 121, 122, 146, 141,  88,\n",
              "        172,  66],\n",
              "       [  0,   0,   0,   0,   0,   0,   0,   0,   0,   1,   1,   1,   0,\n",
              "        200, 232, 232, 233, 229, 223, 223, 215, 213, 164, 127, 123, 196,\n",
              "        229,   0],\n",
              "       [  0,   0,   0,   0,   0,   0,   0,   0,   0,   0,   0,   0,   0,\n",
              "        183, 225, 216, 223, 228, 235, 227, 224, 222, 224, 221, 223, 245,\n",
              "        173,   0],\n",
              "       [  0,   0,   0,   0,   0,   0,   0,   0,   0,   0,   0,   0,   0,\n",
              "        193, 228, 218, 213, 198, 180, 212, 210, 211, 213, 223, 220, 243,\n",
              "        202,   0],\n",
              "       [  0,   0,   0,   0,   0,   0,   0,   0,   0,   1,   3,   0,  12,\n",
              "        219, 220, 212, 218, 192, 169, 227, 208, 218, 224, 212, 226, 197,\n",
              "        209,  52],\n",
              "       [  0,   0,   0,   0,   0,   0,   0,   0,   0,   0,   6,   0,  99,\n",
              "        244, 222, 220, 218, 203, 198, 221, 215, 213, 222, 220, 245, 119,\n",
              "        167,  56],\n",
              "       [  0,   0,   0,   0,   0,   0,   0,   0,   0,   4,   0,   0,  55,\n",
              "        236, 228, 230, 228, 240, 232, 213, 218, 223, 234, 217, 217, 209,\n",
              "         92,   0],\n",
              "       [  0,   0,   1,   4,   6,   7,   2,   0,   0,   0,   0,   0, 237,\n",
              "        226, 217, 223, 222, 219, 222, 221, 216, 223, 229, 215, 218, 255,\n",
              "         77,   0],\n",
              "       [  0,   3,   0,   0,   0,   0,   0,   0,   0,  62, 145, 204, 228,\n",
              "        207, 213, 221, 218, 208, 211, 218, 224, 223, 219, 215, 224, 244,\n",
              "        159,   0],\n",
              "       [  0,   0,   0,   0,  18,  44,  82, 107, 189, 228, 220, 222, 217,\n",
              "        226, 200, 205, 211, 230, 224, 234, 176, 188, 250, 248, 233, 238,\n",
              "        215,   0],\n",
              "       [  0,  57, 187, 208, 224, 221, 224, 208, 204, 214, 208, 209, 200,\n",
              "        159, 245, 193, 206, 223, 255, 255, 221, 234, 221, 211, 220, 232,\n",
              "        246,   0],\n",
              "       [  3, 202, 228, 224, 221, 211, 211, 214, 205, 205, 205, 220, 240,\n",
              "         80, 150, 255, 229, 221, 188, 154, 191, 210, 204, 209, 222, 228,\n",
              "        225,   0],\n",
              "       [ 98, 233, 198, 210, 222, 229, 229, 234, 249, 220, 194, 215, 217,\n",
              "        241,  65,  73, 106, 117, 168, 219, 221, 215, 217, 223, 223, 224,\n",
              "        229,  29],\n",
              "       [ 75, 204, 212, 204, 193, 205, 211, 225, 216, 185, 197, 206, 198,\n",
              "        213, 240, 195, 227, 245, 239, 223, 218, 212, 209, 222, 220, 221,\n",
              "        230,  67],\n",
              "       [ 48, 203, 183, 194, 213, 197, 185, 190, 194, 192, 202, 214, 219,\n",
              "        221, 220, 236, 225, 216, 199, 206, 186, 181, 177, 172, 181, 205,\n",
              "        206, 115],\n",
              "       [  0, 122, 219, 193, 179, 171, 183, 196, 204, 210, 213, 207, 211,\n",
              "        210, 200, 196, 194, 191, 195, 191, 198, 192, 176, 156, 167, 177,\n",
              "        210,  92],\n",
              "       [  0,   0,  74, 189, 212, 191, 175, 172, 175, 181, 185, 188, 189,\n",
              "        188, 193, 198, 204, 209, 210, 210, 211, 188, 188, 194, 192, 216,\n",
              "        170,   0],\n",
              "       [  2,   0,   0,   0,  66, 200, 222, 237, 239, 242, 246, 243, 244,\n",
              "        221, 220, 193, 191, 179, 182, 182, 181, 176, 166, 168,  99,  58,\n",
              "          0,   0],\n",
              "       [  0,   0,   0,   0,   0,   0,   0,  40,  61,  44,  72,  41,  35,\n",
              "          0,   0,   0,   0,   0,   0,   0,   0,   0,   0,   0,   0,   0,\n",
              "          0,   0],\n",
              "       [  0,   0,   0,   0,   0,   0,   0,   0,   0,   0,   0,   0,   0,\n",
              "          0,   0,   0,   0,   0,   0,   0,   0,   0,   0,   0,   0,   0,\n",
              "          0,   0],\n",
              "       [  0,   0,   0,   0,   0,   0,   0,   0,   0,   0,   0,   0,   0,\n",
              "          0,   0,   0,   0,   0,   0,   0,   0,   0,   0,   0,   0,   0,\n",
              "          0,   0]], dtype=uint8)"
            ]
          },
          "metadata": {},
          "execution_count": 7
        }
      ]
    },
    {
      "cell_type": "code",
      "source": [
        "plt.imshow(x_train[0],cmap=\"binary\")"
      ],
      "metadata": {
        "colab": {
          "base_uri": "https://localhost:8080/",
          "height": 282
        },
        "id": "Jem3VFv6V_oG",
        "outputId": "40a3cbc3-3d5e-4804-cc99-97ecd3ae4244"
      },
      "execution_count": 8,
      "outputs": [
        {
          "output_type": "execute_result",
          "data": {
            "text/plain": [
              "<matplotlib.image.AxesImage at 0x7f03bd744f50>"
            ]
          },
          "metadata": {},
          "execution_count": 8
        },
        {
          "output_type": "display_data",
          "data": {
            "text/plain": [
              "<Figure size 432x288 with 1 Axes>"
            ],
            "image/png": "[encoded data removed]"
          },
          "metadata": {
            "needs_background": "light"
          }
        }
      ]
    },
    {
      "cell_type": "code",
      "source": [
        "plt.imshow(x_train[0],cmap=\"gray\")"
      ],
      "metadata": {
        "colab": {
          "base_uri": "https://localhost:8080/",
          "height": 282
        },
        "id": "dBDYJS-5WFPa",
        "outputId": "c072e19d-9fb7-44f3-ab40-cfe92c1f79cf"
      },
      "execution_count": 9,
      "outputs": [
        {
          "output_type": "execute_result",
          "data": {
            "text/plain": [
              "<matplotlib.image.AxesImage at 0x7f03bd231290>"
            ]
          },
          "metadata": {},
          "execution_count": 9
        },
        {
          "output_type": "display_data",
          "data": {
            "text/plain": [
              "<Figure size 432x288 with 1 Axes>"
            ],
            "image/png": "[encoded data removed]"
          },
          "metadata": {
            "needs_background": "light"
          }
        }
      ]
    },
    {
      "cell_type": "code",
      "source": [
        "# 1. Number of Classes:\n",
        "\n",
        "np.unique(y_train).size"
      ],
      "metadata": {
        "colab": {
          "base_uri": "https://localhost:8080/"
        },
        "id": "PCCW9GQseQhn",
        "outputId": "026e09df-efba-45b9-d3ee-26603f619f5a"
      },
      "execution_count": 10,
      "outputs": [
        {
          "output_type": "execute_result",
          "data": {
            "text/plain": [
              "10"
            ]
          },
          "metadata": {},
          "execution_count": 10
        }
      ]
    },
    {
      "cell_type": "code",
      "source": [
        "np.unique(y_train)"
      ],
      "metadata": {
        "colab": {
          "base_uri": "https://localhost:8080/"
        },
        "id": "bTSD9h-pZwBd",
        "outputId": "4719366c-a13e-4756-86d9-c57b74461ab3"
      },
      "execution_count": 11,
      "outputs": [
        {
          "output_type": "execute_result",
          "data": {
            "text/plain": [
              "array([0, 1, 2, 3, 4, 5, 6, 7, 8, 9], dtype=uint8)"
            ]
          },
          "metadata": {},
          "execution_count": 11
        }
      ]
    },
    {
      "cell_type": "code",
      "source": [
        "# 2. Dimensions of each Image:\n",
        "\n",
        "x_train[0].size"
      ],
      "metadata": {
        "colab": {
          "base_uri": "https://localhost:8080/"
        },
        "id": "EAou5zb4dhfn",
        "outputId": "b23c4905-d272-4788-b623-bf9099c412c7"
      },
      "execution_count": 12,
      "outputs": [
        {
          "output_type": "execute_result",
          "data": {
            "text/plain": [
              "784"
            ]
          },
          "metadata": {},
          "execution_count": 12
        }
      ]
    },
    {
      "cell_type": "code",
      "source": [
        "np.min(y_train)"
      ],
      "metadata": {
        "colab": {
          "base_uri": "https://localhost:8080/"
        },
        "id": "VYiF5pZid1bY",
        "outputId": "f49ca960-8795-41c3-bd47-999e766d0eef"
      },
      "execution_count": 13,
      "outputs": [
        {
          "output_type": "execute_result",
          "data": {
            "text/plain": [
              "0"
            ]
          },
          "metadata": {},
          "execution_count": 13
        }
      ]
    },
    {
      "cell_type": "code",
      "source": [
        "np.max(y_train)"
      ],
      "metadata": {
        "colab": {
          "base_uri": "https://localhost:8080/"
        },
        "id": "7ndlP87LeQeo",
        "outputId": "2bf908f4-218b-4959-de7d-3bd0fa690971"
      },
      "execution_count": 14,
      "outputs": [
        {
          "output_type": "execute_result",
          "data": {
            "text/plain": [
              "9"
            ]
          },
          "metadata": {},
          "execution_count": 14
        }
      ]
    },
    {
      "cell_type": "code",
      "source": [
        "# Printing One Image From Each Class:\n",
        "\n",
        "(val, idx) = np.unique(y_train, return_index=True)\n",
        "\n",
        "for i in range(10):\n",
        "  plt.subplot(4, 4, i+1)\n",
        "  plt.imshow(x_train[idx[i]],cmap=\"gray\")"
      ],
      "metadata": {
        "colab": {
          "base_uri": "https://localhost:8080/",
          "height": 212
        },
        "id": "HTk8qPK0eQk_",
        "outputId": "bf8cb1cf-1e90-4b48-ed78-9780e3654a83"
      },
      "execution_count": 15,
      "outputs": [
        {
          "output_type": "display_data",
          "data": {
            "text/plain": [
              "<Figure size 432x288 with 10 Axes>"
            ],
            "image/png": "[encoded data removed]"
          },
          "metadata": {
            "needs_background": "light"
          }
        }
      ]
    },
    {
      "cell_type": "code",
      "source": [
        "np.unique(y_train, return_index=True)"
      ],
      "metadata": {
        "colab": {
          "base_uri": "https://localhost:8080/"
        },
        "id": "CvhtKQAaU90X",
        "outputId": "b778ffd4-7d04-4698-b877-dc52e4deb310"
      },
      "execution_count": 16,
      "outputs": [
        {
          "output_type": "execute_result",
          "data": {
            "text/plain": [
              "(array([0, 1, 2, 3, 4, 5, 6, 7, 8, 9], dtype=uint8),\n",
              " array([ 1, 16,  5,  3, 19,  8, 18,  6, 23,  0]))"
            ]
          },
          "metadata": {},
          "execution_count": 16
        }
      ]
    },
    {
      "cell_type": "code",
      "source": [
        "for i in range(10):\n",
        "  print(\"The value of i is: \", i)\n",
        "\n",
        "  print(\"The value of idx[i] is: \", idx[i])\n",
        "  \n",
        "  print(\"The value of x_train[idx[i]] is: \", x_train[idx[i]])"
      ],
      "metadata": {
        "colab": {
          "base_uri": "https://localhost:8080/"
        },
        "id": "GQdLBTigU-D2",
        "outputId": "0b42e641-6807-471d-ad1f-4bbc31087abb"
      },
      "execution_count": 17,
      "outputs": [
        {
          "output_type": "stream",
          "name": "stdout",
          "text": [
            "The value of i is:  0\n",
            "The value of idx[i] is:  1\n",
            "The value of x_train[idx[i]] is:  [[  0   0   0   0   0   1   0   0   0   0  41 188 103  54  48  43  87 168\n",
            "  133  16   0   0   0   0   0   0   0   0]\n",
            " [  0   0   0   1   0   0   0  49 136 219 216 228 236 255 255 255 255 217\n",
            "  215 254 231 160  45   0   0   0   0   0]\n",
            " [  0   0   0   0   0  14 176 222 224 212 203 198 196 200 215 204 202 201\n",
            "  201 201 209 218 224 164   0   0   0   0]\n",
            " [  0   0   0   0   0 188 219 200 198 202 198 199 199 201 196 198 198 200\n",
            "  200 200 200 201 200 225  41   0   0   0]\n",
            " [  0   0   0   0  51 219 199 203 203 212 238 248 250 245 249 246 247 252\n",
            "  248 235 207 203 203 222 140   0   0   0]\n",
            " [  0   0   0   0 116 226 206 204 207 204 101  75  47  73  48  50  45  51\n",
            "   63 113 222 202 206 220 224   0   0   0]\n",
            " [  0   0   0   0 200 222 209 203 215 200   0  70  98   0 103  59  68  71\n",
            "   49   0 219 206 214 210 250  38   0   0]\n",
            " [  0   0   0   0 247 218 212 210 215 214   0 254 243 139 255 174 251 255\n",
            "  205   0 215 217 214 208 220  95   0   0]\n",
            " [  0   0   0  45 226 214 214 215 224 205   0  42  35  60  16  17  12  13\n",
            "   70   0 189 216 212 206 212 156   0   0]\n",
            " [  0   0   0 164 235 214 211 220 216 201  52  71  89  94  83  78  70  76\n",
            "   92  87 206 207 222 213 219 208   0   0]\n",
            " [  0   0   0 106 187 223 237 248 211 198 252 250 248 245 248 252 253 250\n",
            "  252 239 201 212 225 215 193 113   0   0]\n",
            " [  0   0   0   0   0  17  54 159 222 193 208 192 197 200 200 200 200 201\n",
            "  203 195 210 165   0   0   0   0   0   0]\n",
            " [  0   0   0   0   0   0   0  47 225 192 214 203 206 204 204 205 206 204\n",
            "  212 197 218 107   0   0   0   0   0   0]\n",
            " [  0   0   0   0   1   6   0  46 212 195 212 202 206 205 204 205 206 204\n",
            "  212 200 218  91   0   3   1   0   0   0]\n",
            " [  0   0   0   0   0   1   0  11 197 199 205 202 205 206 204 205 207 204\n",
            "  205 205 218  77   0   5   0   0   0   0]\n",
            " [  0   0   0   0   0   3   0   2 191 198 201 205 206 205 205 206 209 206\n",
            "  199 209 219  74   0   5   0   0   0   0]\n",
            " [  0   0   0   0   0   2   0   0 188 197 200 207 207 204 207 207 210 208\n",
            "  198 207 221  72   0   4   0   0   0   0]\n",
            " [  0   0   0   0   0   2   0   0 215 198 203 206 208 205 207 207 210 208\n",
            "  200 202 222  75   0   4   0   0   0   0]\n",
            " [  0   0   0   0   0   1   0   0 212 198 209 206 209 206 208 207 211 206\n",
            "  205 198 221  80   0   3   0   0   0   0]\n",
            " [  0   0   0   0   0   1   0   0 204 201 205 208 207 205 211 205 210 210\n",
            "  209 195 221  96   0   3   0   0   0   0]\n",
            " [  0   0   0   0   0   1   0   0 202 201 205 209 207 205 213 206 210 209\n",
            "  210 194 217 105   0   2   0   0   0   0]\n",
            " [  0   0   0   0   0   1   0   0 204 204 205 208 207 205 215 207 210 208\n",
            "  211 193 213 115   0   2   0   0   0   0]\n",
            " [  0   0   0   0   0   0   0   0 204 207 207 208 206 206 215 210 210 207\n",
            "  212 195 210 118   0   2   0   0   0   0]\n",
            " [  0   0   0   0   0   1   0   0 198 208 208 208 204 207 212 212 210 207\n",
            "  211 196 207 121   0   1   0   0   0   0]\n",
            " [  0   0   0   0   0   1   0   0 198 210 207 208 206 209 213 212 211 207\n",
            "  210 197 207 124   0   1   0   0   0   0]\n",
            " [  0   0   0   0   0   0   0   0 172 210 203 201 199 204 207 205 204 201\n",
            "  205 197 206 127   0   0   0   0   0   0]\n",
            " [  0   0   0   0   0   0   0   0 188 221 214 234 236 238 244 244 244 240\n",
            "  243 214 224 162   0   2   0   0   0   0]\n",
            " [  0   0   0   0   0   1   0   0 139 146 130 135 135 137 125 124 125 121\n",
            "  119 114 130  76   0   0   0   0   0   0]]\n",
            "The value of i is:  1\n",
            "The value of idx[i] is:  16\n",
            "The value of x_train[idx[i]] is:  [[  0   0   0   0   0   0   0   0   0  53 146 127 115 111 130 129 100 147\n",
            "  169 190   0   0   0   0   0   0   0   0]\n",
            " [  0   0   0   0   0   0   0   0   0 117 190 188 221 234 254 236 221 205\n",
            "  186 222   0   0   0   0   0   0   0   0]\n",
            " [  0   0   0   0   0   0   0   0   0 127 156 175 193 195 195 202 203 187\n",
            "  168 228  32   0   0   0   0   0   0   0]\n",
            " [  0   0   0   0   0   0   0   0   0 165 186 198 209 219 198 205 211 201\n",
            "  189 233  94   0   0   0   0   0   0   0]\n",
            " [  0   0   0   0   0   0   0   0   0 185 199 210 225 207 201 207 221 210\n",
            "  208 236 111   0   0   0   0   0   0   0]\n",
            " [  0   0   0   0   0   0   0   0   0 200 175 172 215 224 216 216 223 210\n",
            "  198 237 152   0   0   0   0   0   0   0]\n",
            " [  0   0   0   0   0   0   0   0   7 213 156 151 171 187 215 227 212 200\n",
            "  178 215 177   0   0   0   0   0   0   0]\n",
            " [  0   0   0   0   0   0   0   0  25 201 136 156 178 198 213 235 168 166\n",
            "  163 207 178   0   0   0   0   0   0   0]\n",
            " [  0   0   0   0   0   0   0   0  42 195 134 162 171 201   1 229 198 166\n",
            "  154 193 173   0   0   0   0   0   0   0]\n",
            " [  0   0   0   0   0   0   0   0  50 184 134 167 184 181   0 213 190 197\n",
            "  179 189 179   0   0   0   0   0   0   0]\n",
            " [  0   0   0   0   0   0   0   0  49 175 134 169 169 211   0 196 178 153\n",
            "  183 196 176   0   0   0   0   0   0   0]\n",
            " [  0   0   0   0   0   0   0   0  50 173 134 167 174 223   0 161 208 140\n",
            "  172 198 173   0   0   0   0   0   0   0]\n",
            " [  0   0   0   0   0   0   0   0  49 169 125 158 187 213   0 124 219 132\n",
            "  149 198 176   0   0   0   0   0   0   0]\n",
            " [  0   0   0   0   0   0   0   0  49 168 128 150 192 197   0  82 219 152\n",
            "  153 177 175   0   0   0   0   0   0   0]\n",
            " [  0   0   0   0   0   0   0   0  50 174 136 144 190 185   0  29 221 155\n",
            "  153 184 174   0   0   0   0   0   0   0]\n",
            " [  0   0   0   0   0   0   0   0  53 175 140 161 191 143   0  13 221 154\n",
            "  156 184 173   0   0   0   0   0   0   0]\n",
            " [  0   0   0   0   0   0   0   0  58 184 122 166 198 115   0   0 217 158\n",
            "  160 180 167   0   0   0   0   0   0   0]\n",
            " [  0   0   0   0   0   0   0   0  58 204 111 172 203  79   0   0 204 164\n",
            "  155 188 169   0   0   0   0   0   0   0]\n",
            " [  0   0   0   0   0   0   0   0  55 214 138 177 209  41   0   0 186 180\n",
            "  152 187 168   0   0   0   0   0   0   0]\n",
            " [  0   0   0   0   0   0   0   0  55 214 149 177 210  23   0   0 158 199\n",
            "  173 192 163   0   0   0   0   0   0   0]\n",
            " [  0   0   0   0   0   0   0   0  55 216 159 187 204   6   0   0 136 198\n",
            "  189 208 165   0   0   0   0   0   0   0]\n",
            " [  0   0   0   0   0   0   0   0  55 212 161 197 191   0   0   0 118 192\n",
            "  185 214 161   0   0   0   0   0   0   0]\n",
            " [  0   0   0   0   0   0   0   0  63 201 162 207 171   0   0   0  86 197\n",
            "  184 214 156   0   0   0   0   0   0   0]\n",
            " [  0   0   0   0   0   0   0   0  68 197 168 213 155   0   0   0  64 196\n",
            "  183 219 154   0   0   0   0   0   0   0]\n",
            " [  0   0   0   0   0   0   0   0  73 193 168 215 146   0   1   0  56 190\n",
            "  180 205 146   0   0   0   0   0   0   0]\n",
            " [  0   0   0   0   0   0   0   0  73 176 168 204 137   0   3   0  37 186\n",
            "  179 204 138   0   0   0   0   0   0   0]\n",
            " [  0   0   0   0   0   0   0   0  94 197 178 212 129   0   5   0  32 193\n",
            "  185 210 150   0   0   0   0   0   0   0]\n",
            " [  0   0   0   0   0   0   0   0  49 122 126 160  65   0   3   0   8 156\n",
            "  173 188 107   0   0   0   0   0   0   0]]\n",
            "The value of i is:  2\n",
            "The value of idx[i] is:  5\n",
            "The value of x_train[idx[i]] is:  [[  0   0   0   0   1   0   0   0   0  22  88 188 172 132 125 141 199 143\n",
            "    9   0   0   0   1   0   0   0   0   0]\n",
            " [  0   0   0   1   0   0  20 131 199 206 196 202 242 255 255 250 222 197\n",
            "  206 188 126  17   0   0   0   0   0   0]\n",
            " [  0   0   0   1   0  35 214 191 183 178 175 168 150 162 159 152 158 179\n",
            "  183 189 195 185  82   0   0   0   0   0]\n",
            " [  0   0   0   0   0 170 190 172 177 176 171 169 162 155 148 154 169 174\n",
            "  175 175 177 183 188  12   0   0   0   0]\n",
            " [  0   0   0   0  25 194 180 178 174 184 187 189 187 184 181 189 200 197\n",
            "  193 190 178 175 194  90   0   0   0   0]\n",
            " [  0   0   0   0  42 218 191 197 208 204 211 209 210 212 211 214 215 213\n",
            "  214 211 211 191 200 158   0   0   0   0]\n",
            " [  0   0   0   0  88 221 215 217 219 211 185 150 118 107  99  88  83  90\n",
            "  135 212 203 207 219 169   0   0   0   0]\n",
            " [  0   0   0   0   0  27 118 162  40   0   0   0  10  19  28  39  47  36\n",
            "    0   0 203 230 220 203   0   0   0   0]\n",
            " [  0   0   0   0 138 136  71  69  54 216 217 203 184 168 163 162 163 178\n",
            "  221 186  38  26   7   0   0   0   0   0]\n",
            " [  0   0   0   0  67 134 154 224 129  66  81 117 129 128 132 137 131 129\n",
            "   86  73 157 151 134 216  18   0   0   0]\n",
            " [  0   0   0   0 203 198 172 183 206 255 255 250 243 240 239 235 238 244\n",
            "  255 238 184 160  86  98   0   0   0   0]\n",
            " [  0   0   0   0 122 188 224 151 105 127  97 100 105 114 117 117 113 103\n",
            "   98 111 142 254 191 255  49   0   0   0]\n",
            " [  0   0   0   0 163 179 200  95 154 198 197 200 200 198 197 198 199 202\n",
            "  200 176  86 206 157 162  10   0   0   0]\n",
            " [  0   0   0   0 197 201 229  71 144 194 181 183 179 182 180 179 180 190\n",
            "  185 197  76 219 185 201  34   0   0   0]\n",
            " [  0   0   0   0 199 193 226  58 154 192 184 187 184 186 184 185 183 192\n",
            "  191 200  56 219 203 207  60   0   0   0]\n",
            " [  0   0   0   0 201 194 224  41 163 190 186 186 184 185 183 185 178 190\n",
            "  194 202  33 211 200 206  73   0   0   0]\n",
            " [  0   0   0   0 201 197 222  17 172 190 186 187 182 186 185 187 180 187\n",
            "  193 202  26 212 202 203  76   0   0   0]\n",
            " [  0   0   0   0 200 197 223   0 177 189 184 185 178 184 183 184 180 183\n",
            "  189 203  35 196 203 203  84   0   0   0]\n",
            " [  0   0   0   0 200 197 223   0 185 187 185 187 180 184 182 183 178 182\n",
            "  183 205  44 159 207 201  85   0   0   0]\n",
            " [  0   0   0   0 187 198 225   0 194 188 184 185 180 183 183 184 181 181\n",
            "  177 206  46 129 211 200  88   0   0   0]\n",
            " [  0   0   0   6 186 200 211   0 199 189 184 184 185 182 183 184 185 182\n",
            "  175 205  50  97 216 197  93   0   0   0]\n",
            " [  0   0   0   5 185 204 184   0 202 188 182 182 183 183 184 182 180 182\n",
            "  174 202  63  59 220 196  94   0   0   0]\n",
            " [  0   0   0   5 184 206 157   0 204 187 187 189 192 190 190 191 190 187\n",
            "  183 202  78  35 222 197  95   0   0   0]\n",
            " [  0   0   0   5 183 208 127   0 197 166 153 149 149 146 148 149 150 151\n",
            "  158 191  90   8 223 195  99   0   0   0]\n",
            " [  0   0   0   6 184 208 114   0 204 173 161 180 176 172 173 173 174 176\n",
            "  162 202 115   0 229 199 105   0   0   0]\n",
            " [  0   0   0   9 178 204 115   0 121 135 114 117 114 114 117 118 119 117\n",
            "  113 147  63   0 225 196 107   0   0   0]\n",
            " [  0   0   0  18 180 206 131   0   0   0   0   0   0   0   0   0   0   0\n",
            "    0   0   0   0 224 197 123   0   0   0]\n",
            " [  0   0   0   0 141 151  76   0   1   1   0   0   0   0   0   0   0   0\n",
            "    0   0   0   0 133 167  73   0   0   0]]\n",
            "The value of i is:  3\n",
            "The value of idx[i] is:  3\n",
            "The value of x_train[idx[i]] is:  [[  0   0   0   0   0   0   0   0  33  96 175 156  64  14  54 137 204 194\n",
            "  102   0   0   0   0   0   0   0   0   0]\n",
            " [  0   0   0   0   0   0  73 186 177 183 175 188 232 255 223 219 194 179\n",
            "  186 213 146   0   0   0   0   0   0   0]\n",
            " [  0   0   0   0   0  35 163 140 150 152 150 146 175 175 173 171 156 152\n",
            "  148 129 156 140   0   0   0   0   0   0]\n",
            " [  0   0   0   0   0 150 142 140 152 160 156 146 142 127 135 133 140 140\n",
            "  137 133 125 169  75   0   0   0   0   0]\n",
            " [  0   0   0   0   0  54 167 146 129 142 137 137 131 148 148 133 131 131\n",
            "  131 125 140 140   0   0   0   0   0   0]\n",
            " [  0   0   0   0   0   0 110 188 133 146 152 133 125 127 119 129 133 119\n",
            "  140 131 150  14   0   0   0   0   0   0]\n",
            " [  0   0   0   0   0   0   0 221 158 137 135 123 110 110 114 108 112 117\n",
            "  127 142  77   0   0   0   0   0   0   0]\n",
            " [  0   0   0   0   0   4   0  25 158 137 125 119 119 110 117 117 110 119\n",
            "  127 144   0   0   0   0   0   0   0   0]\n",
            " [  0   0   0   0   0   0   0   0 123 156 129 112 110 102 112 100 121 117\n",
            "  129 114   0   0   0   0   0   0   0   0]\n",
            " [  0   0   0   0   0   0   0   0 125 169 127 119 106 108 104  94 121 114\n",
            "  129  91   0   0   0   0   0   0   0   0]\n",
            " [  0   0   0   0   0   0   2   0  98 171 129 112 104 114 106 102 112 104\n",
            "  133  64   0   4   0   0   0   0   0   0]\n",
            " [  0   0   0   0   0   0   2   0  66 173 135 129  98 100 119 102 108  98\n",
            "  135  60   0   4   0   0   0   0   0   0]\n",
            " [  0   0   0   0   0   0   2   0  56 171 135 127 100 108 117  85 106 110\n",
            "  135  66   0   4   0   0   0   0   0   0]\n",
            " [  0   0   0   0   0   0   0   0  52 150 129 110 100  91 102  94  83 104\n",
            "  123  66   0   4   0   0   0   0   0   0]\n",
            " [  0   0   0   0   0   0   2   0  66 167 140 148 148 127 137 152 146 146\n",
            "  148  96   0   0   0   0   0   0   0   0]\n",
            " [  0   0   0   0   0   0   0   0  45 123  94 104  96 119 121 106  98 112\n",
            "   87 114   0   0   0   0   0   0   0   0]\n",
            " [  0   0   0   0   0   0   0   0 106  89  58  50  37  50  66  56  50  75\n",
            "   75 137  22   0   2   0   0   0   0   0]\n",
            " [  0   0   0   0   0   2   0  29 148 114 106 125  89 100 133 117 131 131\n",
            "  131 125 112   0   0   0   0   0   0   0]\n",
            " [  0   0   0   0   0   0   0 100 106 114  91 137  62 102 131  89 135 112\n",
            "  131 108 135  37   0   0   0   0   0   0]\n",
            " [  0   0   0   0   0   0   0 146 100 108  98 144  62 106 131  87 133 104\n",
            "  160 117 121  68   0   0   0   0   0   0]\n",
            " [  0   0   0   0   0   0  33 121 108  96 100 140  71 106 127  85 140 104\n",
            "  150 140 114  89   0   0   0   0   0   0]\n",
            " [  0   0   0   0   0   0  62 119 112 102 110 137  75 106 144  81 144 108\n",
            "  117 154 117 104  18   0   0   0   0   0]\n",
            " [  0   0   0   0   0   0  66 121 102 112 117 131  73 104 156  77 137 135\n",
            "   83 179 129 121  35   0   0   0   0   0]\n",
            " [  0   0   0   0   0   0  85 127  81 125 133 119  79 100 169  83 129 175\n",
            "   60 163 135 146  39   0   0   0   0   0]\n",
            " [  0   0   0   0   0   0 106 129  62 140 144 108  85  83 158  85 129 175\n",
            "   48 146 133 135  64   0   0   0   0   0]\n",
            " [  0   0   0   0   0   0 117 119  79 140 152 102  89 110 137  96 150 196\n",
            "   83 144 135 133  77   0   0   0   0   0]\n",
            " [  0   0   0   0   0   0 154 121  87 140 154 112  94  52 142 100  83 152\n",
            "   85 160 133 100  12   0   0   0   0   0]\n",
            " [  0   0   0   0   0   0   4   0   2   0  35   4  33   0   0   0   0   0\n",
            "    0   0   0   0   0   0   0   0   0   0]]\n",
            "The value of i is:  4\n",
            "The value of idx[i] is:  19\n",
            "The value of x_train[idx[i]] is:  [[  0   0   0   0   0   0   0   2   0   0  12  55  98  52  45  70  47   0\n",
            "    0   1   0   0   0   0   0   0   0   0]\n",
            " [  0   0   0   0   0   0   0   0   0  39  52  93 144  83  66  86  78  48\n",
            "    0   0   0   0   0   0   0   0   0   0]\n",
            " [  0   0   0   0   0   0   0   0  35  67  36 118 151  60  28  63  44  60\n",
            "   52   0   0   0   0   0   0   0   0   0]\n",
            " [  0   0   0   0   0   0   0   0  51  43  29  90 211 232 157  90  22  21\n",
            "   53   9   0   0   0   0   0   0   0   0]\n",
            " [  0   0   0   0   0   0   2  36  63  99  70  63 246 241 164 116  80 110\n",
            "  145 117  28   0   0   0   0   0   0   0]\n",
            " [  0   0   0   0   0   0  36  66  56  63 109  55 223 255 225 110 134 105\n",
            "   79  76  87  49   0   0   0   0   0   0]\n",
            " [  0   0   0   0   0   0  52  43  59  62  39  25  44 229 228  43  40  43\n",
            "   62  51  56  74  12   0   0   0   0   0]\n",
            " [  0   0   0   0   0   9  58  48  49  58  60  47  16 234 180  17  59  55\n",
            "   64  53  60  75  40   0   0   0   0   0]\n",
            " [  0   0   0   0   0  29  59  40  48  40  47  56  32  78  60  41  60  49\n",
            "   59  49  78  72  63   0   0   0   0   0]\n",
            " [  0   0   0   0   0  37  68  53  37  47  45  49  22 156  93  28  56  53\n",
            "   62  58 103  55  79   0   0   0   0   0]\n",
            " [  0   0   0   0   0  52  56  66  41  41  48  49  31  89  60  37  48  56\n",
            "   56  63  93  49  87   1   0   0   0   0]\n",
            " [  0   0   0   0  10  66  60  99  55  39  47  47  37  76  62  39  51  60\n",
            "   58  72 113  47  98  20   0   0   0   0]\n",
            " [  0   0   0   0   9  63  71 113  48  39  47  51  35  85  67  39  63  64\n",
            "   59 110 140  52  87  43   0   0   0   0]\n",
            " [  0   0   0   0  14  53  68 106  29  48  47  55  37  74  58  45  58  62\n",
            "   59 121 120  37  95  52   0   0   0   0]\n",
            " [  0   0   0   0  24  56  67 124  36  47  48  51  39  75  76  47  51  68\n",
            "   71 117 140  60  76  60   0   0   0   0]\n",
            " [  0   0   0   0  43  62  70 114  36  43  49  49  33  75  78  39  53  66\n",
            "   74  98 126  62  68  89   0   0   0   0]\n",
            " [  0   0   0   0  49  68 107 116  12  56  44  52  33  74  75  33  66  49\n",
            "  101  86 103  85  86 109   0   0   0   0]\n",
            " [  0   0   0   0  44  71 114  97  18  66  44  52  44  67  79  47  59  33\n",
            "  133  91  49 121  76 110  40   0   0   0]\n",
            " [  0   0   0   0  53  68 121  37  16  55  47  52  40  66  83  47  49  49\n",
            "   97  91  29 102  70 109  60   0   0   0]\n",
            " [  0   0   0   0  47  56 113  32  18  55  47  59  37  60  91  33  60  62\n",
            "   63  90   8 114  76  80  49   0   0   0]\n",
            " [  0   0   0   0  48  59  99  20  29  52  49  55  41  64  89  35  64  48\n",
            "   55 111  14  59  70  67  36   0   0   0]\n",
            " [  0   0   0   0  45  63 106   0  52  52  49  48  43  58  90  49  56  59\n",
            "   59  99  43  21  83  76  52   0   0   0]\n",
            " [  0   0   0   0  45  63  97   0  43  48  52  48  41  55  94  43  58  70\n",
            "   55  85  49   5  86  75  45   0   0   0]\n",
            " [  0   0   0   0  45  70  67  14  86  41  49  51  45  58  89  36  67  63\n",
            "   53  80  56   1  86  71  48   0   0   0]\n",
            " [  0   0   0   0  58  99  51  45 118  39  52  48  47  55  63  55  64  53\n",
            "   67  70  78   0  82  91  68   0   0   0]\n",
            " [  0   0   0   0  14  25  10  29  39  49  53  44  45  48  49  64  51  62\n",
            "   64  58  90   6   0  13   8   0   0   0]\n",
            " [  0   0   0   0   0   0   0  60  60  53  53  55  55  53  66  63  62  70\n",
            "   70  76  93  36   0   0   0   0   0   0]\n",
            " [  0   0   0   0   0   0   4  53  45  53  44  43  39  43  45  41  62  49\n",
            "   60  56  67  22   0   2   0   0   0   0]]\n",
            "The value of i is:  5\n",
            "The value of idx[i] is:  8\n",
            "The value of x_train[idx[i]] is:  [[  0   0   0   0   0   0   0   0   0   0   0   0   0   0   0   0   0   0\n",
            "    0   0   0   0   0   0   0   0   0   0]\n",
            " [  0   0   0   0   0   0   0   0   0   0   0   0   0   0   0   0   0   0\n",
            "    0   0   0   0   0   0   0   0   0   0]\n",
            " [  0   0   0   0   0   0   0   0   0   0   0   0   1   3   1   0   0   1\n",
            "    1   0   0   0   0  58   0  39   1   0]\n",
            " [  0   0   0   0   0   0   0   0   0   0   0   0   1   3   0   0   0   0\n",
            "    0   0   0  64 109 146 192 193   7   0]\n",
            " [  0   0   0   0   0   0   0   0   0   1   0   0   0   0   0   0  94  38\n",
            "   99 209 183 229 192 142  48   0   0   0]\n",
            " [  0   0   0   0   0   0   0   0   0   1   0   0   0   0  41  45 158 146\n",
            "  164 114  51   1  53 105  42  36   0   0]\n",
            " [  0   0   0   0   0   0   0   0   0   0   0   0  10  68  44  30  59 172\n",
            "  146   0  22   0  13 103 111 103   0   0]\n",
            " [  0   0   0   0   0   0   0   0   0   3   1   0  22  61  88 152 255  71\n",
            "    0   0   0   0  35  85 112 201  44   0]\n",
            " [  0   0   0   0   0   0   0   0   0   1   0   0  13  62 154  62   0   0\n",
            "    0   0   0   0  54  99  61 106  51  19]\n",
            " [  0   0   0   0   0   0   0   0   0   0   0   0   0   0   0   0   9   1\n",
            "    0   0   1   0  79  82  47  33  58  50]\n",
            " [  0   0   0   0   0   0   0   0   0   0   0   0   0   3   1   3   9   3\n",
            "    0   0   1   0 100  88  48  35  70  54]\n",
            " [  0   0   0   0   0   0   0   0   0   0   0   0   0   0   0   0   0   3\n",
            "    0   1   0   0 111 195 119  29  58  45]\n",
            " [  0   0   0   0   0   0   0   1   0   0   0   0   0   0   0   0   0   0\n",
            "    3   3   0   0  91 146 171  16  93  35]\n",
            " [  0   0   0   0   0   0   0   0   0   0   0   0   0   0   0   0   0   0\n",
            "    0   0   0  48  45   3  79  87  99   6]\n",
            " [  0   0   0   0   0   0   0   0   0   0   0   0   0   0   0   0   0   3\n",
            "    0   0 119 137  33  96  77  13  45   0]\n",
            " [  0   0   0   0   0   0   0   0   0   0   0   0   0   0   0   0   0   0\n",
            "   32 160 164 142 116  79  82  39  39   0]\n",
            " [  0   0   0   0   3   0   0   0   0   0   0   0   0   3   4  10   0  41\n",
            "  180 142 171   1   0   0  48  73  16   0]\n",
            " [  0   0   0   0   0   0   1   1   0   0   0   0   0   0   3   0  27 155\n",
            "  114 169   0   0   0   0  47  76   6   0]\n",
            " [  0   0   0   0   0   0   0   0   0   0   0   0   1   0   0   0 155 129\n",
            "  160   0   0   0   0   0  45  96   0   0]\n",
            " [  0   0   0   0   1   0  16  39  64   0   0   0   0   0   0 129 151 175\n",
            "    0   0   0   4   4   0  48 116   0   0]\n",
            " [  0   0   0   0   0   0  58  87  73  10   0   0   0   0  27 187 195   0\n",
            "    0   0   0   3   1   0  47 146   0   0]\n",
            " [  1   0   0   0   1   0   0   0   0   0   0   0   0   0 181 225  45   0\n",
            "    0   0   0   0   1   0  45 186   0   0]\n",
            " [  0   0   0   0   0   0   1 183 210  90   0   0   0 126 253 142   0   0\n",
            "    0   0   0   0   1   0  48 203   0   0]\n",
            " [ 64  58  45  27  16   9   1 175 245 204  22   0  70 236 190   6   0   0\n",
            "    0   0   0   0   0   0  50 196   0   0]\n",
            " [ 96 128 149 163 158 140 138 146 154 108  90 148 193 177  36   0   7   0\n",
            "    0   0   0   0   0   0  41 125   0   0]\n",
            " [  0   0   0   0  19  47  65  93  94 125 166 180 119  29   0   0   0   0\n",
            "    0   0   0   0   0   0  32 238   0   0]\n",
            " [  0   0   0   0   0   0   0   0   0   0   0   0   0   0   0   0   0   0\n",
            "    0   0   0   0   0   0   0 131   0   0]\n",
            " [  0   0   0   0   0   0   0   0   0   0   0   0   0   0   0   0   0   0\n",
            "    0   0   0   0   0   0   0   0   0   0]]\n",
            "The value of i is:  6\n",
            "The value of idx[i] is:  18\n",
            "The value of x_train[idx[i]] is:  [[  0   0   0   2   0   2   0   0   6  36  79  24   0   0   0   0   0  31\n",
            "   73   1   0   0   0   2   0   0   0   0]\n",
            " [  0   0   0   1   2   0   0 153 160 153 176 189 188 194 145 154 149 192\n",
            "  179 145 161  83   0   0   2   0   0   0]\n",
            " [  0   0   0   2   0   0 135 170 144 150 147 162 187 106   1 200 177 166\n",
            "  146 149 151 169 113   0   3   0   0   0]\n",
            " [  0   0   0   4   0  34 179 149 151 150 145 135 169 136  86 190 156 143\n",
            "  146 148 146 143 157   3   0   3   0   0]\n",
            " [  0   0   0   0   0 101 177 160 152 155 150 148 144 156 163 141 154 152\n",
            "  150 145 147 144 163  64   0   4   0   0]\n",
            " [  0   0   0   0   0 143 178 171 154 156 149 145 149 149 145 148 147 152\n",
            "  148 137 152 155 162 108   0   0   0   0]\n",
            " [  0   0   0   0   0 178 174 176 163 155 144 141 146 149 140 146 143 143\n",
            "  139 144 150 161 163 129   0   0   0   0]\n",
            " [  0   0   0   0   5 166 180 174 190 161 147 146 149 149 147 147 149 147\n",
            "  143 144 157 179 150 163   0   0   0   0]\n",
            " [  0   0   0   0  30 176 178 186 208 151 149 151 154 152 152 151 152 149\n",
            "  141 134 194 183 155 179   0   0   0   0]\n",
            " [  0   0   0   0  80 181 182 196 212 147 152 150 152 151 151 151 151 147\n",
            "  142 131 190 198 159 160  32   0   0   0]\n",
            " [  0   0   0   0 103 182 175 206 197 152 148 150 153 154 153 150 149 142\n",
            "  143 136 183 224 160 161  80   0   0   0]\n",
            " [  0   0   0   0 138 187 174 225 187 150 152 152 155 154 156 154 154 147\n",
            "  150 131 186 227 159 162 119   0   0   0]\n",
            " [  0   0   0   0 164 195 171 235 180 154 153 153 157 157 158 152 152 147\n",
            "  143 137 169 232 161 173 144   0   0   0]\n",
            " [  0   0   0   0 182 200 171 231 170 154 155 157 159 159 160 157 155 144\n",
            "  149 142 157 232 166 187 170   0   0   0]\n",
            " [  0   0   0   0 191 201 180 251 159 157 157 157 157 159 163 152 152 147\n",
            "  148 148 148 226 174 193 172   0   0   0]\n",
            " [  0   0   0   7 191 209 200 203 143 166 159 157 160 162 158 156 156 143\n",
            "  147 154 131 215 194 195 169   5   0   0]\n",
            " [  0   0   0  24 191 212 213 212 148 166 156 155 158 161 158 156 153 145\n",
            "  153 148 142 204 232 184 175  27   0   0]\n",
            " [  0   0   0  40 198 213 224 193 155 162 159 157 157 164 160 160 154 145\n",
            "  152 154 140 161 234 178 178  38   0   0]\n",
            " [  0   0   0  46 193 224 231 122 168 163 161 159 163 171 165 169 164 152\n",
            "  160 155 147 124 246 190 184  49   0   0]\n",
            " [  0   0   0  42 193 225 227 115 172 150 152 150 154 152 149 156 163 152\n",
            "  140 139 168  87 231 195 178  63   0   0]\n",
            " [  0   0   0  52 188 217 224 107 178 174 156 165 184 162 180 174 161 171\n",
            "  182 166 180  86 255 186 170  72   0   0]\n",
            " [  0   0   0  58 207 232 229 120 177 181 152 160 189 183 223 167 139 156\n",
            "  173 179 178  62 230 146 183  78   0   0]\n",
            " [  0   0   0  70 219 232 234 175 156 185 146 164 186 186 203 155 151 160\n",
            "  155 198 182 131 237 164 176 101   0   0]\n",
            " [  0   0   0  91 183 198 212 151 159 178 155 159 187 195 191 152 156 156\n",
            "  140 210 191 137 226 203 199 100   0   0]\n",
            " [  0   0   0  98 189 192 219 150 149 166 147 148 187 211 178 152 157 148\n",
            "  143 188 187 125 213 200 192  96   0   0]\n",
            " [  0   0   0  87 203 171 207 171 183 172 168 165 176 199 185 161 161 161\n",
            "  170 187 186 155 209 195 175  63   0   0]\n",
            " [  0   0   0  44 193 217  84  80  99  79  88 125 203 171 169 199 181 186\n",
            "  116 118 133 114 170 221 179   4   0   0]\n",
            " [  0   0   0   0  74 133   6   0   0   0   0   0   0   0   0   0   0   0\n",
            "    0   0   0   0  15 160 100   0   0   0]]\n",
            "The value of i is:  7\n",
            "The value of idx[i] is:  6\n",
            "The value of x_train[idx[i]] is:  [[  0   0   0   0   0   0   0   0   0   0   0   0   0   0   0   0   0   0\n",
            "    0   0   0   0   0   0   0   0   0   0]\n",
            " [  0   0   0   0   0   0   0   0   0   0   0   0   0   0   0   0   0   0\n",
            "    0   0   0   0   0   0   0   0   0   0]\n",
            " [  0   0   0   0   0   0   0   0   0   0   0   0   0   0   0   0   0   0\n",
            "    0   0   0   0   0   0   0   0   0   0]\n",
            " [  0   0   0   0   0   0   0   0   0   0   0   0   0   0   0   0   0   0\n",
            "    0   0   0   0   0   0   0   0   0   0]\n",
            " [  0   0   0   0   0   0   0   0   0   0   0   0   0   0   0   0   0   0\n",
            "    0   0   0   0   0   0   0   0   0   0]\n",
            " [  0   0   0   0   0   0   0   0   0   0   0   0   0   0   0   0   0   0\n",
            "    0   0   0   0   0   0   0   0   0   0]\n",
            " [  0   0   0   0   0   0   0   0   0   0   0   0   0   0   0   0   0   0\n",
            "    0   0   0   0   0   0   0   0   0   0]\n",
            " [  0   0   0   0   0   0   0   0   0   0   0   0   0   0   0   0   0   0\n",
            "    0   0   0   0   0   0   0   0   0   0]\n",
            " [  0   0   0   0   0   0   0   0   0   1   1   0   3   1   0   4   0   0\n",
            "    0   2   0   0   0   0   5   1   0   0]\n",
            " [  0   0   0   0   0   0   0   0   0   0   0   0   4   0   0   0   0   0\n",
            "  106 229   0   0   0   0   0   0   0   0]\n",
            " [  0   0   0   0   0   0   0   0   0   0   1   0   0   0   0  90 138 223\n",
            "  214 209 167   0   0   0   6 124   0   0]\n",
            " [  0   0   0   0   0   0   0   0   1   0   0   0  37 122 179 249 214 195\n",
            "  181 213 241   0   0   0  94 179   0   0]\n",
            " [  0   0   0   2   0   6   0   0   0   0  16 149 236 226 201 195 200 204\n",
            "  155 209 116   0  22 109 251  35  51   0]\n",
            " [  0   0   1   3   0   0   0   0  67 150 240 221 194 190 204 214 205 195\n",
            "  207 185 206 233 224 179   2  10  22   0]\n",
            " [  0   0   0   0   0   0 110 214 237 209 196 192 215 215 213 213 207 193\n",
            "  186 199 206 175   0   0 124 230 200  36]\n",
            " [  0  50 119 158 166 192 204 198 187 202 203 211 214 204 209 210 204 197\n",
            "  191 190 191 229 230 242 214 193 203 137]\n",
            " [108 190 199 200 194 199 194 195 199 200 189 187 191 189 197 198 205 200\n",
            "  200 208 213 215 212 213 209 202 216 137]\n",
            " [ 15  55 114 157 188 207 216 220 217 219 221 242 240 243 249 253 255 255\n",
            "  243 232 226 222 221 213 215 198 209  62]\n",
            " [ 16  11   0   0   7  40  76 108 134 142 143 145 143 123 111  92  76  61\n",
            "   45  35  25  25  31  32  32  12   1   0]\n",
            " [  0  11  25  26  26  22  12  20  15  15  18  17  19  27  30  36  41  49\n",
            "   57  66  79  84  79  83  93  80  75  45]\n",
            " [  0   0   0   0   0   9  14  17  27  34  39  39  42  44  41  41  43  48\n",
            "   43  30  31  35  40  37  40  37  26   0]\n",
            " [  0   0   0   0   0   0   0   0   0   0   0   0   0   0   0   0   0   0\n",
            "    0   0   0   0   0   0   0   0   0   0]\n",
            " [  0   0   0   0   0   0   0   0   0   0   0   0   0   0   0   0   0   0\n",
            "    0   0   0   0   0   0   0   0   0   0]\n",
            " [  0   0   0   0   0   0   0   0   0   0   0   0   0   0   0   0   0   0\n",
            "    0   0   0   0   0   0   0   0   0   0]\n",
            " [  0   0   0   0   0   0   0   0   0   0   0   0   0   0   0   0   0   0\n",
            "    0   0   0   0   0   0   0   0   0   0]\n",
            " [  0   0   0   0   0   0   0   0   0   0   0   0   0   0   0   0   0   0\n",
            "    0   0   0   0   0   0   0   0   0   0]\n",
            " [  0   0   0   0   0   0   0   0   0   0   0   0   0   0   0   0   0   0\n",
            "    0   0   0   0   0   0   0   0   0   0]\n",
            " [  0   0   0   0   0   0   0   0   0   0   0   0   0   0   0   0   0   0\n",
            "    0   0   0   0   0   0   0   0   0   0]]\n",
            "The value of i is:  8\n",
            "The value of idx[i] is:  23\n",
            "The value of x_train[idx[i]] is:  [[  0   0   0   0   0   0   0   0   0   0   0   0   0   0   0   0   0   0\n",
            "    0   0   0   0   0   0   0   0   0   0]\n",
            " [  0   0   0   0   0   0   0   0   0   0   0   0   0   0   0   0   0   0\n",
            "    0   0   0   0   0   0   0   0   0   0]\n",
            " [  0   0   0   0   0   0   0   0   0   0   0   0   0   0   0   0   0   0\n",
            "    0   0   0   0   0   0   0   0   0   0]\n",
            " [  1   0   0   0   0   0   0   0   0   1   0   1   0   3   1   0   1   0\n",
            "    1   0   1   0   0   0   0   0   0   0]\n",
            " [  0   0  45  40  52   0   0   0   0   0   0   0   0   0   0   0   0   0\n",
            "    0   0   0   0   0   0   0   0   0   0]\n",
            " [ 10  96 174 128 126 114  84 100 114  77  98  77  77  93  86  84  87 107\n",
            "   91  94  87  87  86  91  96 103 123  26]\n",
            " [ 87 144  42 103 175 167  66 117 112 133 114 121 140 131 110 149 131 110\n",
            "  137 128 112 105 167 186 138  98 135  63]\n",
            " [ 61 140  94 156 160 145 128  65  91 205 133 165 163  75  98 160 168 140\n",
            "  181 124  93 131 184 181 124 119 196  38]\n",
            " [100 168 170 126 161 177 191  63 116 170 153 154 123  75  91 131 172 168\n",
            "  191 124  70 170 161 117 153 205 219  47]\n",
            " [ 82 189 165 161 163 198 175  98 196 144 172 126 189 156 112 184 126 189\n",
            "  175 174 121 172 193 182 191 189 207  52]\n",
            " [ 93 156  96 168 177 158 144 121  84 149 193 193 133  73 100 110 156 230\n",
            "  142  70 102 126 182 200 200 158 149  29]\n",
            " [116 138 144 182 177 172 181 191  54 145 232  91  82 165 193  96  93 221\n",
            "  103  79 186 202 165 189 216 167 116  42]\n",
            " [ 65 145 109 119 182 198  87 110 172 165  93  68 179 198 193 153  75 112\n",
            "  167 191 144 105 181 219 175 172 163  59]\n",
            " [ 54 218 175  86 138 156  58 177 191 221 110  58  86 168 170 103 109 119\n",
            "  184 189 163  56 123 198 102 198 207  61]\n",
            " [ 93 168 165 128  77  82 117 131 117 158  80 149 188 112 123 163 158 110\n",
            "  175 163 153 131  93  86 124 202 205  89]\n",
            " [ 56 177 153  89 170 128  87 211 154 182 154 175 218 124 116 253 175 133\n",
            "  204 191 216 138 100 174 119 151 230  51]\n",
            " [ 61 116 123 154 221 144  79 177 193 193 153 109 188 145 138 209 121 130\n",
            "  212 211 219 109 137 255 195 114 153  72]\n",
            " [ 86 102 114 138 177 130 172 200 181 172 212 149 133  96 105 100 151 170\n",
            "  163 184 216 175 102 204 211 116 124  73]\n",
            " [ 72 114 138  86 112 147 147 140 172 165 147 153  94 112  94 117 156 151\n",
            "  182 165 161 177 161 165  91 130 149  49]\n",
            " [ 70 121 195 175 177 193 112  80 198 154 102 109 195 189 170 181 110  58\n",
            "  177 209 107  61 181 207 179 207 170  63]\n",
            " [ 47 112 154 161 177 119  49  98 142 107 112 119 163 186 181 188 131 102\n",
            "  133 158 131  94 147 184 193 205 158  43]\n",
            " [ 86 200 174 161 156 209 154 109 175 170 100 161 182 174 174 198 167 112\n",
            "  177 165 112 142 193 179 195 202 195 100]\n",
            " [ 73 130 138 182 175 154 147 119 188 184 151 145 172 172 160 131 135 137\n",
            "  177 188 144 147 163 181 188 163 131  61]\n",
            " [ 87 109 114 205 156 100  80 140 174 184 168  87 138 168 158 105  91 121\n",
            "  170 182 128 140 124 109 181  96 102  93]\n",
            " [ 45  98  94 121 124 142 117 116  94 170 147 110 124 123 105 110 100  94\n",
            "   96 119 116 112 140 102 140 123 156  70]\n",
            " [  0   0   0   0   0   0   0   0   0   0   0   0   0   0   0   0   0   0\n",
            "    0   0   0   0   0   0   0   0   0   0]\n",
            " [  0   0   0   0   0   0   0   0   0   0   0   0   0   0   0   0   0   0\n",
            "    0   0   0   0   0   0   0   0   0   0]\n",
            " [  0   0   0   0   0   0   0   0   0   0   0   0   0   0   0   0   0   0\n",
            "    0   0   0   0   0   0   0   0   0   0]]\n",
            "The value of i is:  9\n",
            "The value of idx[i] is:  0\n",
            "The value of x_train[idx[i]] is:  [[  0   0   0   0   0   0   0   0   0   0   0   0   0   0   0   0   0   0\n",
            "    0   0   0   0   0   0   0   0   0   0]\n",
            " [  0   0   0   0   0   0   0   0   0   0   0   0   0   0   0   0   0   0\n",
            "    0   0   0   0   0   0   0   0   0   0]\n",
            " [  0   0   0   0   0   0   0   0   0   0   0   0   0   0   0   0   0   0\n",
            "    0   0   0   0   0   0   0   0   0   0]\n",
            " [  0   0   0   0   0   0   0   0   0   0   0   0   1   0   0  13  73   0\n",
            "    0   1   4   0   0   0   0   1   1   0]\n",
            " [  0   0   0   0   0   0   0   0   0   0   0   0   3   0  36 136 127  62\n",
            "   54   0   0   0   1   3   4   0   0   3]\n",
            " [  0   0   0   0   0   0   0   0   0   0   0   0   6   0 102 204 176 134\n",
            "  144 123  23   0   0   0   0  12  10   0]\n",
            " [  0   0   0   0   0   0   0   0   0   0   0   0   0   0 155 236 207 178\n",
            "  107 156 161 109  64  23  77 130  72  15]\n",
            " [  0   0   0   0   0   0   0   0   0   0   0   1   0  69 207 223 218 216\n",
            "  216 163 127 121 122 146 141  88 172  66]\n",
            " [  0   0   0   0   0   0   0   0   0   1   1   1   0 200 232 232 233 229\n",
            "  223 223 215 213 164 127 123 196 229   0]\n",
            " [  0   0   0   0   0   0   0   0   0   0   0   0   0 183 225 216 223 228\n",
            "  235 227 224 222 224 221 223 245 173   0]\n",
            " [  0   0   0   0   0   0   0   0   0   0   0   0   0 193 228 218 213 198\n",
            "  180 212 210 211 213 223 220 243 202   0]\n",
            " [  0   0   0   0   0   0   0   0   0   1   3   0  12 219 220 212 218 192\n",
            "  169 227 208 218 224 212 226 197 209  52]\n",
            " [  0   0   0   0   0   0   0   0   0   0   6   0  99 244 222 220 218 203\n",
            "  198 221 215 213 222 220 245 119 167  56]\n",
            " [  0   0   0   0   0   0   0   0   0   4   0   0  55 236 228 230 228 240\n",
            "  232 213 218 223 234 217 217 209  92   0]\n",
            " [  0   0   1   4   6   7   2   0   0   0   0   0 237 226 217 223 222 219\n",
            "  222 221 216 223 229 215 218 255  77   0]\n",
            " [  0   3   0   0   0   0   0   0   0  62 145 204 228 207 213 221 218 208\n",
            "  211 218 224 223 219 215 224 244 159   0]\n",
            " [  0   0   0   0  18  44  82 107 189 228 220 222 217 226 200 205 211 230\n",
            "  224 234 176 188 250 248 233 238 215   0]\n",
            " [  0  57 187 208 224 221 224 208 204 214 208 209 200 159 245 193 206 223\n",
            "  255 255 221 234 221 211 220 232 246   0]\n",
            " [  3 202 228 224 221 211 211 214 205 205 205 220 240  80 150 255 229 221\n",
            "  188 154 191 210 204 209 222 228 225   0]\n",
            " [ 98 233 198 210 222 229 229 234 249 220 194 215 217 241  65  73 106 117\n",
            "  168 219 221 215 217 223 223 224 229  29]\n",
            " [ 75 204 212 204 193 205 211 225 216 185 197 206 198 213 240 195 227 245\n",
            "  239 223 218 212 209 222 220 221 230  67]\n",
            " [ 48 203 183 194 213 197 185 190 194 192 202 214 219 221 220 236 225 216\n",
            "  199 206 186 181 177 172 181 205 206 115]\n",
            " [  0 122 219 193 179 171 183 196 204 210 213 207 211 210 200 196 194 191\n",
            "  195 191 198 192 176 156 167 177 210  92]\n",
            " [  0   0  74 189 212 191 175 172 175 181 185 188 189 188 193 198 204 209\n",
            "  210 210 211 188 188 194 192 216 170   0]\n",
            " [  2   0   0   0  66 200 222 237 239 242 246 243 244 221 220 193 191 179\n",
            "  182 182 181 176 166 168  99  58   0   0]\n",
            " [  0   0   0   0   0   0   0  40  61  44  72  41  35   0   0   0   0   0\n",
            "    0   0   0   0   0   0   0   0   0   0]\n",
            " [  0   0   0   0   0   0   0   0   0   0   0   0   0   0   0   0   0   0\n",
            "    0   0   0   0   0   0   0   0   0   0]\n",
            " [  0   0   0   0   0   0   0   0   0   0   0   0   0   0   0   0   0   0\n",
            "    0   0   0   0   0   0   0   0   0   0]]\n"
          ]
        }
      ]
    },
    {
      "cell_type": "code",
      "source": [
        "for i in range(10):\n",
        "  plt.subplot(4, 4, i+1)"
      ],
      "metadata": {
        "colab": {
          "base_uri": "https://localhost:8080/",
          "height": 213
        },
        "id": "5a-KnWVwU-Aa",
        "outputId": "93e720f9-3528-4842-d5db-326bdf7ae278"
      },
      "execution_count": 18,
      "outputs": [
        {
          "output_type": "display_data",
          "data": {
            "text/plain": [
              "<Figure size 432x288 with 10 Axes>"
            ],
            "image/png": "[encoded data removed]"
          },
          "metadata": {
            "needs_background": "light"
          }
        }
      ]
    },
    {
      "cell_type": "code",
      "source": [
        "# Performing Normalization:\n",
        "\n",
        "print(\"Max of x_train[0]: \", np.max(x_train[0]))\n",
        "print(\"Min of x_train[0]: \", np.min(x_train[0]))"
      ],
      "metadata": {
        "colab": {
          "base_uri": "https://localhost:8080/"
        },
        "id": "tZIibGdyeQvn",
        "outputId": "a929de03-14de-4e38-9a84-a86415bc52db"
      },
      "execution_count": 19,
      "outputs": [
        {
          "output_type": "stream",
          "name": "stdout",
          "text": [
            "Max of x_train[0]:  255\n",
            "Min of x_train[0]:  0\n"
          ]
        }
      ]
    },
    {
      "cell_type": "code",
      "source": [
        "x_train = x_train/255.0\n",
        "x_test = x_test/255.0"
      ],
      "metadata": {
        "id": "JvKlMXKaWUB2"
      },
      "execution_count": 20,
      "outputs": []
    },
    {
      "cell_type": "code",
      "source": [
        "# Performing Normalization with in-built function:\n",
        "\n",
        "# from sklearn import preprocessing\n",
        "\n",
        "# # print(\"Trained Data = \", x_train)\n",
        "# # print(\"Test Data = \", x_train)\n",
        "\n",
        "# x_train = preprocessing.normalize(x_train)\n",
        "\n",
        "# x_test = preprocessing.normalize(x_test)\n",
        "\n",
        "# # print(\"Normalized Train Data = \", x_train)\n",
        "# # print(\"Normalized Test Data = \", x_test)"
      ],
      "metadata": {
        "id": "83uUgn1QZ44M"
      },
      "execution_count": 21,
      "outputs": []
    },
    {
      "cell_type": "code",
      "source": [
        "# Building the First Neural Network(with 5 Layers):\n",
        "\n",
        "model = tf.keras.Sequential()\n",
        "\n",
        "model.add(tf.keras.layers.Flatten(input_shape=[28, 28], name=\"inputLayer\"))\n",
        "\n",
        "model.add(tf.keras.layers.Dense(500, activation=\"relu\", name=\"hiddenLayer1\"))\n",
        "model.add(tf.keras.layers.Dense(400, activation=\"relu\", name=\"hiddenLayer2\"))\n",
        "model.add(tf.keras.layers.Dense(300, activation=\"relu\", name=\"hiddenLayer3\"))\n",
        "model.add(tf.keras.layers.Dense(200, activation=\"relu\", name=\"hiddenLayer4\"))\n",
        "model.add(tf.keras.layers.Dense(100, activation=\"relu\", name=\"hiddenLayer5\"))\n",
        "\n",
        "# No.of Neurons must go from small to big (Unlike how it's done Up ?)\n",
        "\n",
        "model.add(tf.keras.layers.Dense(10, activation=\"softmax\", name=\"outputLayer\"))\n",
        "\n",
        "model.compile(loss= \"sparse_categorical_crossentropy\", optimizer=\"adam\", metrics=[\"accuracy\"])\n",
        "\n",
        "model.summary()"
      ],
      "metadata": {
        "colab": {
          "base_uri": "https://localhost:8080/"
        },
        "id": "QWSUFR6weQyq",
        "outputId": "518349ed-5bd9-4864-9a3e-7058a2911a96"
      },
      "execution_count": 22,
      "outputs": [
        {
          "output_type": "stream",
          "name": "stdout",
          "text": [
            "Model: \"sequential\"\n",
            "_________________________________________________________________\n",
            " Layer (type)                Output Shape              Param #   \n",
            "=================================================================\n",
            " inputLayer (Flatten)        (None, 784)               0         \n",
            "                                                                 \n",
            " hiddenLayer1 (Dense)        (None, 500)               392500    \n",
            "                                                                 \n",
            " hiddenLayer2 (Dense)        (None, 400)               200400    \n",
            "                                                                 \n",
            " hiddenLayer3 (Dense)        (None, 300)               120300    \n",
            "                                                                 \n",
            " hiddenLayer4 (Dense)        (None, 200)               60200     \n",
            "                                                                 \n",
            " hiddenLayer5 (Dense)        (None, 100)               20100     \n",
            "                                                                 \n",
            " outputLayer (Dense)         (None, 10)                1010      \n",
            "                                                                 \n",
            "=================================================================\n",
            "Total params: 794,510\n",
            "Trainable params: 794,510\n",
            "Non-trainable params: 0\n",
            "_________________________________________________________________\n"
          ]
        }
      ]
    },
    {
      "cell_type": "code",
      "source": [
        "history = model.fit(x_train, y_train, batch_size = 40, epochs=15, validation_split=0.1)"
      ],
      "metadata": {
        "colab": {
          "base_uri": "https://localhost:8080/"
        },
        "id": "iDFDNyj_eQ1n",
        "outputId": "aa6d59f4-44b0-4d97-d945-7378ae8f80d3"
      },
      "execution_count": 23,
      "outputs": [
        {
          "output_type": "stream",
          "name": "stdout",
          "text": [
            "Epoch 1/15\n",
            "1350/1350 [==============================] - 26s 18ms/step - loss: 0.5168 - accuracy: 0.8125 - val_loss: 0.4426 - val_accuracy: 0.8373\n",
            "Epoch 2/15\n",
            "1350/1350 [==============================] - 18s 13ms/step - loss: 0.3815 - accuracy: 0.8611 - val_loss: 0.3657 - val_accuracy: 0.8655\n",
            "Epoch 3/15\n",
            "1350/1350 [==============================] - 16s 12ms/step - loss: 0.3410 - accuracy: 0.8752 - val_loss: 0.3745 - val_accuracy: 0.8683\n",
            "Epoch 4/15\n",
            "1350/1350 [==============================] - 16s 12ms/step - loss: 0.3181 - accuracy: 0.8829 - val_loss: 0.3477 - val_accuracy: 0.8725\n",
            "Epoch 5/15\n",
            "1350/1350 [==============================] - 16s 12ms/step - loss: 0.2973 - accuracy: 0.8918 - val_loss: 0.3511 - val_accuracy: 0.8763\n",
            "Epoch 6/15\n",
            "1350/1350 [==============================] - 16s 12ms/step - loss: 0.2821 - accuracy: 0.8966 - val_loss: 0.3484 - val_accuracy: 0.8780\n",
            "Epoch 7/15\n",
            "1350/1350 [==============================] - 16s 12ms/step - loss: 0.2691 - accuracy: 0.8995 - val_loss: 0.3302 - val_accuracy: 0.8835\n",
            "Epoch 8/15\n",
            "1350/1350 [==============================] - 17s 13ms/step - loss: 0.2617 - accuracy: 0.9036 - val_loss: 0.3312 - val_accuracy: 0.8862\n",
            "Epoch 9/15\n",
            "1350/1350 [==============================] - 16s 12ms/step - loss: 0.2484 - accuracy: 0.9077 - val_loss: 0.3270 - val_accuracy: 0.8827\n",
            "Epoch 10/15\n",
            "1350/1350 [==============================] - 16s 12ms/step - loss: 0.2377 - accuracy: 0.9107 - val_loss: 0.3831 - val_accuracy: 0.8833\n",
            "Epoch 11/15\n",
            "1350/1350 [==============================] - 16s 12ms/step - loss: 0.2334 - accuracy: 0.9149 - val_loss: 0.3409 - val_accuracy: 0.8858\n",
            "Epoch 12/15\n",
            "1350/1350 [==============================] - 21s 16ms/step - loss: 0.2256 - accuracy: 0.9161 - val_loss: 0.3168 - val_accuracy: 0.8933\n",
            "Epoch 13/15\n",
            "1350/1350 [==============================] - 20s 15ms/step - loss: 0.2151 - accuracy: 0.9205 - val_loss: 0.3496 - val_accuracy: 0.8865\n",
            "Epoch 14/15\n",
            "1350/1350 [==============================] - 21s 16ms/step - loss: 0.2082 - accuracy: 0.9223 - val_loss: 0.3354 - val_accuracy: 0.8918\n",
            "Epoch 15/15\n",
            "1350/1350 [==============================] - 19s 14ms/step - loss: 0.2082 - accuracy: 0.9232 - val_loss: 0.3386 - val_accuracy: 0.8932\n"
          ]
        }
      ]
    },
    {
      "cell_type": "code",
      "source": [
        "model.evaluate(x_test, y_test)"
      ],
      "metadata": {
        "colab": {
          "base_uri": "https://localhost:8080/"
        },
        "id": "zLR1lSWNkfqB",
        "outputId": "9ceb860e-0ffc-4111-a365-86e6cbfac8ae"
      },
      "execution_count": 24,
      "outputs": [
        {
          "output_type": "stream",
          "name": "stdout",
          "text": [
            "313/313 [==============================] - 2s 5ms/step - loss: 0.3591 - accuracy: 0.8885\n"
          ]
        },
        {
          "output_type": "execute_result",
          "data": {
            "text/plain": [
              "[0.3590758740901947, 0.8884999752044678]"
            ]
          },
          "metadata": {},
          "execution_count": 24
        }
      ]
    },
    {
      "cell_type": "code",
      "source": [
        "import seaborn as sns\n",
        "import matplotlib.pyplot as plt\n",
        "\n",
        "sns.set_style(\"darkgrid\")\n",
        "#get the details form the history object\n",
        "acc = history.history['accuracy']\n",
        "val_acc = history.history['val_accuracy']\n",
        "loss = history.history['loss']\n",
        "val_loss = history.history['val_loss']\n",
        "\n",
        "epochs = range(1, len(acc) + 1)\n",
        "\n",
        "#Train and validation accuracy\n",
        "\n",
        "plt.plot(epochs, acc, 'b', label='Training accurarcy')\n",
        "plt.plot(epochs, val_acc, 'r', label='Validation accurarcy')\n",
        "plt.xlabel('Epoch #')\n",
        "plt.ylabel('accuracy')\n",
        "plt.title('Training and Validation accurarcy')\n",
        "plt.legend()\n",
        "\n",
        "\n",
        "plt.figure()\n",
        "\n",
        "#Train and validation loss\n",
        "\n",
        "plt.plot(epochs, loss, 'b', label='Training loss')\n",
        "plt.plot(epochs, val_loss, 'r', label='Validation loss')\n",
        "plt.xlabel('Epoch #')\n",
        "plt.ylabel('loss')\n",
        "plt.title('Training and Validation loss')\n",
        "plt.legend()\n",
        "\n",
        "plt.show()"
      ],
      "metadata": {
        "colab": {
          "base_uri": "https://localhost:8080/",
          "height": 573
        },
        "id": "ob-f_H4ku-Ms",
        "outputId": "2f027afa-a740-4c82-8938-ad95d6b707fd"
      },
      "execution_count": 25,
      "outputs": [
        {
          "output_type": "display_data",
          "data": {
            "text/plain": [
              "<Figure size 432x288 with 1 Axes>"
            ],
            "image/png": "[encoded data removed]"
          },
          "metadata": {}
        },
        {
          "output_type": "display_data",
          "data": {
            "text/plain": [
              "<Figure size 432x288 with 1 Axes>"
            ],
            "image/png": "[encoded data removed]"
          },
          "metadata": {}
        }
      ]
    },
    {
      "cell_type": "code",
      "source": [
        "# Building the Second Neural Network(with 2 Layers):\n",
        "\n",
        "model_2 = tf.keras.Sequential()\n",
        "\n",
        "model_2.add(tf.keras.layers.Flatten(input_shape=[28, 28], name=\"inputLayer\"))\n",
        "\n",
        "model_2.add(tf.keras.layers.Dense(500, activation=\"relu\", name=\"hiddenLayer1\"))\n",
        "model_2.add(tf.keras.layers.Dense(350, activation=\"relu\", name=\"hiddenLayer2\"))\n",
        "\n",
        "model_2.add(tf.keras.layers.Dense(10, activation=\"softmax\", name=\"outputLayer\"))\n",
        "\n",
        "model_2.compile(loss= \"sparse_categorical_crossentropy\", optimizer=\"adam\", metrics=[\"accuracy\"])\n",
        "\n",
        "model_2.summary()"
      ],
      "metadata": {
        "colab": {
          "base_uri": "https://localhost:8080/"
        },
        "id": "3p5D0Q3nkibI",
        "outputId": "be29bb97-8a57-4a2e-c7ac-737d69eda748"
      },
      "execution_count": 26,
      "outputs": [
        {
          "output_type": "stream",
          "name": "stdout",
          "text": [
            "Model: \"sequential_1\"\n",
            "_________________________________________________________________\n",
            " Layer (type)                Output Shape              Param #   \n",
            "=================================================================\n",
            " inputLayer (Flatten)        (None, 784)               0         \n",
            "                                                                 \n",
            " hiddenLayer1 (Dense)        (None, 500)               392500    \n",
            "                                                                 \n",
            " hiddenLayer2 (Dense)        (None, 350)               175350    \n",
            "                                                                 \n",
            " outputLayer (Dense)         (None, 10)                3510      \n",
            "                                                                 \n",
            "=================================================================\n",
            "Total params: 571,360\n",
            "Trainable params: 571,360\n",
            "Non-trainable params: 0\n",
            "_________________________________________________________________\n"
          ]
        }
      ]
    },
    {
      "cell_type": "code",
      "source": [
        "history_2 = model_2.fit(x_train, y_train, batch_size = 40, epochs=18, validation_split=0.1)"
      ],
      "metadata": {
        "colab": {
          "base_uri": "https://localhost:8080/"
        },
        "id": "aEdHtasNkpk4",
        "outputId": "559c0166-c6c6-4bd3-e665-a77829c708fc"
      },
      "execution_count": 27,
      "outputs": [
        {
          "output_type": "stream",
          "name": "stdout",
          "text": [
            "Epoch 1/18\n",
            "1350/1350 [==============================] - 13s 9ms/step - loss: 0.4756 - accuracy: 0.8271 - val_loss: 0.3814 - val_accuracy: 0.8617\n",
            "Epoch 2/18\n",
            "1350/1350 [==============================] - 12s 9ms/step - loss: 0.3580 - accuracy: 0.8669 - val_loss: 0.3814 - val_accuracy: 0.8520\n",
            "Epoch 3/18\n",
            "1350/1350 [==============================] - 12s 9ms/step - loss: 0.3201 - accuracy: 0.8810 - val_loss: 0.3400 - val_accuracy: 0.8778\n",
            "Epoch 4/18\n",
            "1350/1350 [==============================] - 13s 9ms/step - loss: 0.2992 - accuracy: 0.8882 - val_loss: 0.3382 - val_accuracy: 0.8813\n",
            "Epoch 5/18\n",
            "1350/1350 [==============================] - 12s 9ms/step - loss: 0.2800 - accuracy: 0.8949 - val_loss: 0.3525 - val_accuracy: 0.8732\n",
            "Epoch 6/18\n",
            "1350/1350 [==============================] - 12s 9ms/step - loss: 0.2635 - accuracy: 0.9001 - val_loss: 0.3047 - val_accuracy: 0.8845\n",
            "Epoch 7/18\n",
            "1350/1350 [==============================] - 12s 9ms/step - loss: 0.2499 - accuracy: 0.9039 - val_loss: 0.3841 - val_accuracy: 0.8768\n",
            "Epoch 8/18\n",
            "1350/1350 [==============================] - 12s 9ms/step - loss: 0.2394 - accuracy: 0.9085 - val_loss: 0.3238 - val_accuracy: 0.8855\n",
            "Epoch 9/18\n",
            "1350/1350 [==============================] - 12s 9ms/step - loss: 0.2280 - accuracy: 0.9129 - val_loss: 0.3130 - val_accuracy: 0.8918\n",
            "Epoch 10/18\n",
            "1350/1350 [==============================] - 12s 9ms/step - loss: 0.2201 - accuracy: 0.9161 - val_loss: 0.3626 - val_accuracy: 0.8785\n",
            "Epoch 11/18\n",
            "1350/1350 [==============================] - 12s 9ms/step - loss: 0.2139 - accuracy: 0.9173 - val_loss: 0.3294 - val_accuracy: 0.8888\n",
            "Epoch 12/18\n",
            "1350/1350 [==============================] - 12s 9ms/step - loss: 0.2024 - accuracy: 0.9228 - val_loss: 0.3446 - val_accuracy: 0.8818\n",
            "Epoch 13/18\n",
            "1350/1350 [==============================] - 12s 9ms/step - loss: 0.1943 - accuracy: 0.9251 - val_loss: 0.3579 - val_accuracy: 0.8877\n",
            "Epoch 14/18\n",
            "1350/1350 [==============================] - 12s 9ms/step - loss: 0.1886 - accuracy: 0.9286 - val_loss: 0.3455 - val_accuracy: 0.8928\n",
            "Epoch 15/18\n",
            "1350/1350 [==============================] - 13s 9ms/step - loss: 0.1802 - accuracy: 0.9305 - val_loss: 0.3921 - val_accuracy: 0.8845\n",
            "Epoch 16/18\n",
            "1350/1350 [==============================] - 13s 9ms/step - loss: 0.1739 - accuracy: 0.9322 - val_loss: 0.3948 - val_accuracy: 0.8930\n",
            "Epoch 17/18\n",
            "1350/1350 [==============================] - 13s 10ms/step - loss: 0.1661 - accuracy: 0.9358 - val_loss: 0.3727 - val_accuracy: 0.8895\n",
            "Epoch 18/18\n",
            "1350/1350 [==============================] - 12s 9ms/step - loss: 0.1636 - accuracy: 0.9365 - val_loss: 0.3636 - val_accuracy: 0.8902\n"
          ]
        }
      ]
    },
    {
      "cell_type": "code",
      "source": [
        "model_2.evaluate(x_test, y_test)"
      ],
      "metadata": {
        "colab": {
          "base_uri": "https://localhost:8080/"
        },
        "id": "N1ADS4sDk91x",
        "outputId": "4104e5ce-b9a5-4cc8-d46a-ee0b60001d8e"
      },
      "execution_count": 28,
      "outputs": [
        {
          "output_type": "stream",
          "name": "stdout",
          "text": [
            "313/313 [==============================] - 2s 5ms/step - loss: 0.3890 - accuracy: 0.8884\n"
          ]
        },
        {
          "output_type": "execute_result",
          "data": {
            "text/plain": [
              "[0.38901108503341675, 0.8884000182151794]"
            ]
          },
          "metadata": {},
          "execution_count": 28
        }
      ]
    },
    {
      "cell_type": "code",
      "source": [
        "import seaborn as sns\n",
        "import matplotlib.pyplot as plt\n",
        "\n",
        "sns.set_style(\"darkgrid\")\n",
        "#get the details form the history object\n",
        "acc = history_2.history['accuracy']\n",
        "val_acc = history_2.history['val_accuracy']\n",
        "loss = history_2.history['loss']\n",
        "val_loss = history_2.history['val_loss']\n",
        "\n",
        "epochs = range(1, len(acc) + 1)\n",
        "\n",
        "#Train and validation accuracy\n",
        "\n",
        "plt.plot(epochs, acc, 'b', label='Training accurarcy')\n",
        "plt.plot(epochs, val_acc, 'r', label='Validation accurarcy')\n",
        "plt.xlabel('Epoch #')\n",
        "plt.ylabel('accuracy')\n",
        "plt.title('Training and Validation accurarcy')\n",
        "plt.legend()\n",
        "\n",
        "\n",
        "plt.figure()\n",
        "\n",
        "#Train and validation loss\n",
        "\n",
        "plt.plot(epochs, loss, 'b', label='Training loss')\n",
        "plt.plot(epochs, val_loss, 'r', label='Validation loss')\n",
        "plt.xlabel('Epoch #')\n",
        "plt.ylabel('loss')\n",
        "plt.title('Training and Validation loss')\n",
        "plt.legend()\n",
        "\n",
        "plt.show()"
      ],
      "metadata": {
        "colab": {
          "base_uri": "https://localhost:8080/",
          "height": 573
        },
        "id": "VTSeOgNLvnFs",
        "outputId": "a9d86aa4-0978-4d1e-ee86-c45774565255"
      },
      "execution_count": 29,
      "outputs": [
        {
          "output_type": "display_data",
          "data": {
            "text/plain": [
              "<Figure size 432x288 with 1 Axes>"
            ],
            "image/png": "[encoded data removed]"
          },
          "metadata": {}
        },
        {
          "output_type": "display_data",
          "data": {
            "text/plain": [
              "<Figure size 432x288 with 1 Axes>"
            ],
            "image/png": "[encoded data removed]"
          },
          "metadata": {}
        }
      ]
    },
    {
      "cell_type": "markdown",
      "source": [
        "### If training accuracy is Increasing and validation accuracy is Decreasing then the model is Overfitting !\n",
        "\n",
        "### For that look at history(variable above) and to analyze always plot the graph !"
      ],
      "metadata": {
        "id": "R6ertf3du4ml"
      }
    },
    {
      "cell_type": "markdown",
      "source": [
        "**CONFUSION MATRIX**"
      ],
      "metadata": {
        "id": "UgmFjUY8mmYp"
      }
    },
    {
      "cell_type": "code",
      "source": [
        "from sklearn.metrics import confusion_matrix\n",
        "\n",
        "# Model 1 predictions:\n",
        "\n",
        "batch_size = 40\n",
        "\n",
        "y_pred_1 = model.predict(x_test, len(y_test)//batch_size)                         # steps = len(y_test)//batch_size ?\n",
        "\n",
        "\n",
        "# Model 2 predictions:\n",
        "\n",
        "y_pred_2 = model_2.predict(x_test, len(y_test)//batch_size)"
      ],
      "metadata": {
        "id": "J3jx7mqyml4O"
      },
      "execution_count": 31,
      "outputs": []
    },
    {
      "cell_type": "code",
      "source": [
        "y_pred_1"
      ],
      "metadata": {
        "colab": {
          "base_uri": "https://localhost:8080/"
        },
        "id": "oDDxQyUlZXmU",
        "outputId": "9d2b1435-390e-42e4-aa5a-4dacf8d4c5c1"
      },
      "execution_count": 32,
      "outputs": [
        {
          "output_type": "execute_result",
          "data": {
            "text/plain": [
              "array([[4.75804320e-08, 6.22826812e-09, 4.16159968e-10, ...,\n",
              "        1.29641814e-03, 5.51826584e-09, 9.97859776e-01],\n",
              "       [3.35805962e-05, 2.87637220e-10, 9.88742948e-01, ...,\n",
              "        3.29845879e-16, 1.72577064e-09, 3.60727271e-16],\n",
              "       [1.41862263e-21, 1.00000000e+00, 3.16301644e-25, ...,\n",
              "        0.00000000e+00, 0.00000000e+00, 0.00000000e+00],\n",
              "       ...,\n",
              "       [9.46851972e-11, 2.26546892e-33, 9.74411681e-17, ...,\n",
              "        2.02481553e-15, 1.00000000e+00, 7.65693065e-13],\n",
              "       [1.06015215e-19, 1.00000000e+00, 1.77598023e-22, ...,\n",
              "        0.00000000e+00, 1.72344035e-31, 0.00000000e+00],\n",
              "       [2.82528987e-08, 2.16693891e-07, 2.43193976e-09, ...,\n",
              "        3.81807622e-04, 3.71831356e-06, 2.32016391e-05]], dtype=float32)"
            ]
          },
          "metadata": {},
          "execution_count": 32
        }
      ]
    },
    {
      "cell_type": "markdown",
      "source": [
        "## **The \"y_pred_1\" has the probabilities(b/w 0 & 1) it's one row value tells us the probabilities of the predictied classes !**"
      ],
      "metadata": {
        "id": "lJqSu6MywvEG"
      }
    },
    {
      "cell_type": "code",
      "source": [
        "print('Confusion Matrix of Model 1: \\n')\n",
        "\n",
        "Y_pred_1 = np.argmax(y_pred_1, axis=1)\n",
        "cm_1 = confusion_matrix(y_test, Y_pred_1)\n",
        "print(cm_1)"
      ],
      "metadata": {
        "colab": {
          "base_uri": "https://localhost:8080/"
        },
        "id": "GXTZPHQXEJcM",
        "outputId": "9806e86a-4f8f-43c8-d5d3-11de88902c91"
      },
      "execution_count": 34,
      "outputs": [
        {
          "output_type": "stream",
          "name": "stdout",
          "text": [
            "Confusion Matrix of Model 1: \n",
            "\n",
            "[[844   4  16  27   3   1 101   0   4   0]\n",
            " [  2 976   1  14   4   0   2   0   1   0]\n",
            " [ 13   0 798  14  86   1  87   0   1   0]\n",
            " [ 12  10  12 918  23   1  21   0   2   1]\n",
            " [  1   0  87  44 821   0  45   0   2   0]\n",
            " [  0   0   0   0   0 958   0  22   1  19]\n",
            " [120   1  59  33  90   0 684   0  13   0]\n",
            " [  0   0   0   0   0  13   0 956   0  31]\n",
            " [  6   2   2   4   8   3   2   4 969   0]\n",
            " [  0   0   0   0   0   6   1  32   0 961]]\n"
          ]
        }
      ]
    },
    {
      "cell_type": "code",
      "source": [
        "print(\"Length of the Test data set: \", len(y_test), \"\\n\")\n",
        "\n",
        "print(\"No. of iterations the model needs to do to complete 1 Epoch: \", len(y_test)//batch_size)"
      ],
      "metadata": {
        "colab": {
          "base_uri": "https://localhost:8080/"
        },
        "id": "Mn5w5gBLp7VU",
        "outputId": "be202dc4-903d-4015-8f4c-8c485206dd2a"
      },
      "execution_count": 48,
      "outputs": [
        {
          "output_type": "stream",
          "name": "stdout",
          "text": [
            "Length of the Test data set:  10000 \n",
            "\n",
            "No. of iterations the model needs to do to complete 1 Epoch:  250\n"
          ]
        }
      ]
    },
    {
      "cell_type": "code",
      "source": [
        "print(\"No.of testing Instances: \", len(y_pred_1), '\\n')\n",
        "\n",
        "print(\"Size of the predicted array: \", y_pred_1.size, '\\n')"
      ],
      "metadata": {
        "colab": {
          "base_uri": "https://localhost:8080/"
        },
        "id": "Q0eoqxIZqLkL",
        "outputId": "40c16318-1bf6-4a0e-e1e3-92ffcc619542"
      },
      "execution_count": 51,
      "outputs": [
        {
          "output_type": "stream",
          "name": "stdout",
          "text": [
            "No.of testing Instances:  10000 \n",
            "\n",
            "Size of the predicted array:  100000 \n",
            "\n"
          ]
        }
      ]
    },
    {
      "cell_type": "code",
      "source": [
        "print(\"Dimensions of the array predicted: \", y_pred_1.shape)"
      ],
      "metadata": {
        "colab": {
          "base_uri": "https://localhost:8080/"
        },
        "id": "YRFrTieQdFNb",
        "outputId": "4804327a-f231-4591-dcf5-56aa78359583"
      },
      "execution_count": 50,
      "outputs": [
        {
          "output_type": "stream",
          "name": "stdout",
          "text": [
            "Dimensions of the array predicted:  (10000, 10)\n"
          ]
        }
      ]
    },
    {
      "cell_type": "code",
      "source": [
        "np.argmax(y_pred_1, axis=1)"
      ],
      "metadata": {
        "colab": {
          "base_uri": "https://localhost:8080/"
        },
        "id": "w9EaSrBRqIbR",
        "outputId": "b185be83-16b4-4cf4-f322-ad4e7261102e"
      },
      "execution_count": 36,
      "outputs": [
        {
          "output_type": "execute_result",
          "data": {
            "text/plain": [
              "array([9, 2, 1, ..., 8, 1, 5])"
            ]
          },
          "metadata": {},
          "execution_count": 36
        }
      ]
    },
    {
      "cell_type": "code",
      "source": [
        "len(np.argmax(y_pred_1, axis=1))"
      ],
      "metadata": {
        "colab": {
          "base_uri": "https://localhost:8080/"
        },
        "id": "c9OgT0Kwrp2h",
        "outputId": "f51f4373-983b-408b-bc2c-79e57d53e4de"
      },
      "execution_count": 37,
      "outputs": [
        {
          "output_type": "execute_result",
          "data": {
            "text/plain": [
              "10000"
            ]
          },
          "metadata": {},
          "execution_count": 37
        }
      ]
    },
    {
      "cell_type": "code",
      "source": [
        "print('Confusion Matrix of Model 2: \\n')\n",
        "\n",
        "Y_pred_2 = np.argmax(y_pred_2, axis=1)\n",
        "cm_2 = confusion_matrix(y_test, Y_pred_2)\n",
        "print(cm_2)"
      ],
      "metadata": {
        "colab": {
          "base_uri": "https://localhost:8080/"
        },
        "id": "TJCYsDOhEi9J",
        "outputId": "b7a67dae-0dd2-49dd-90ed-0028121ed0a2"
      },
      "execution_count": 38,
      "outputs": [
        {
          "output_type": "stream",
          "name": "stdout",
          "text": [
            "Confusion Matrix of Model 2: \n",
            "\n",
            "[[805   2  15  16   6   2 148   0   6   0]\n",
            " [  4 974   0  13   6   0   2   0   0   1]\n",
            " [ 12   0 739   9 143   0  94   0   3   0]\n",
            " [ 18   5   9 887  44   0  29   0   8   0]\n",
            " [  0   0  56  19 879   0  41   0   5   0]\n",
            " [  0   0   0   0   0 957   0  21   1  21]\n",
            " [ 98   0  53  23  90   0 730   0   6   0]\n",
            " [  0   0   0   0   0   7   0 963   0  30]\n",
            " [  5   0   0   1   4   1   2   4 983   0]\n",
            " [  0   0   0   0   0   5   1  27   0 967]]\n"
          ]
        }
      ]
    },
    {
      "cell_type": "markdown",
      "source": [
        "#CONCLUSION"
      ],
      "metadata": {
        "id": "omVL0VE7l6IW"
      }
    },
    {
      "cell_type": "markdown",
      "source": [
        "The accuracy of the Model with 5 hidden layers is *slightly* more than the accuracy of the Model with 2 hidden layers but anyways both have good accuracy values"
      ],
      "metadata": {
        "id": "YtBTUW66mF_O"
      }
    }
  ]
}