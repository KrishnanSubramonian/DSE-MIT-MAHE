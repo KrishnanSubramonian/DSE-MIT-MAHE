{
 "cells": [
  {
   "cell_type": "code",
   "execution_count": 1,
   "id": "3ad730ef",
   "metadata": {},
   "outputs": [
    {
     "name": "stdout",
     "output_type": "stream",
     "text": [
      "VAriable B is greater than Variable A\n"
     ]
    }
   ],
   "source": [
    "# Python Basics Demo doe on 25-10-2021\n",
    "\n",
    "#code block for if statement \n",
    "\n",
    "varA=12                                                         \n",
    "varB=25\n",
    "if varA > varB:\n",
    "    print(\"VAriable A is greater than Variable B\")\n",
    "elif varB > varA:\n",
    "    print(\"VAriable B is greater than Variable A\")\n",
    "else:\n",
    "     print(\"VAriable B and Variable A are equal\")"
   ]
  },
  {
   "cell_type": "code",
   "execution_count": 3,
   "id": "07088878",
   "metadata": {},
   "outputs": [
    {
     "data": {
      "text/plain": [
       "True"
      ]
     },
     "execution_count": 3,
     "metadata": {},
     "output_type": "execute_result"
    }
   ],
   "source": [
    "#Ternary Operator\n",
    "VarX=123\n",
    "varcon=True if VarX > 100 else False\n",
    "varcon"
   ]
  },
  {
   "cell_type": "code",
   "execution_count": 4,
   "id": "5ca738da",
   "metadata": {},
   "outputs": [
    {
     "data": {
      "text/plain": [
       "range(1, 6)"
      ]
     },
     "execution_count": 4,
     "metadata": {},
     "output_type": "execute_result"
    }
   ],
   "source": [
    "varNum=range(1,6)                       # Using Var in front of keyword to know what type of variable it is.\n",
    "varNum"
   ]
  },
  {
   "cell_type": "code",
   "execution_count": 5,
   "id": "6809f509",
   "metadata": {},
   "outputs": [
    {
     "name": "stdout",
     "output_type": "stream",
     "text": [
      "1\n",
      "2\n",
      "3\n",
      "4\n",
      "5\n"
     ]
    }
   ],
   "source": [
    "for i in varNum:\n",
    "    print(i)"
   ]
  },
  {
   "cell_type": "code",
   "execution_count": 6,
   "id": "cd376fb9",
   "metadata": {},
   "outputs": [
    {
     "name": "stdout",
     "output_type": "stream",
     "text": [
      "1\n",
      "2\n",
      "3\n",
      "4\n",
      "5\n"
     ]
    }
   ],
   "source": [
    "i=1                                 # initialize\n",
    "while(i<6):                         # condition to stop\n",
    "    print(i)\n",
    "    i=i+1                           # increment \n",
    "    "
   ]
  },
  {
   "cell_type": "code",
   "execution_count": null,
   "id": "157855f7",
   "metadata": {},
   "outputs": [],
   "source": [
    "# Flag Variables"
   ]
  },
  {
   "cell_type": "code",
   "execution_count": 19,
   "id": "39c5d120",
   "metadata": {},
   "outputs": [],
   "source": [
    "# User defined functions\n",
    "def fnAdd(varA, varB=15):                     \n",
    "    \n",
    "# Using 'fn' in front to differentiate b/w user defined functions and built-in functions\n",
    "    \n",
    "    return varA + varB"
   ]
  },
  {
   "cell_type": "code",
   "execution_count": 16,
   "id": "93340da8",
   "metadata": {},
   "outputs": [
    {
     "data": {
      "text/plain": [
       "15"
      ]
     },
     "execution_count": 16,
     "metadata": {},
     "output_type": "execute_result"
    }
   ],
   "source": [
    "varc=fnAdd(12,3)\n",
    "varc"
   ]
  },
  {
   "cell_type": "code",
   "execution_count": 17,
   "id": "75f72a05",
   "metadata": {},
   "outputs": [
    {
     "data": {
      "text/plain": [
       "'this is krishnan'"
      ]
     },
     "execution_count": 17,
     "metadata": {},
     "output_type": "execute_result"
    }
   ],
   "source": [
    "varstr=fnAdd(\"this is \",\"krishnan\")           # we can even pass strings in place of integers and it works !\n",
    "varstr"
   ]
  },
  {
   "cell_type": "code",
   "execution_count": 20,
   "id": "bcdcb39d",
   "metadata": {},
   "outputs": [
    {
     "data": {
      "text/plain": [
       "49"
      ]
     },
     "execution_count": 20,
     "metadata": {},
     "output_type": "execute_result"
    }
   ],
   "source": [
    "varD=fnAdd(34)            # Usesa a default parameter since varB is set to 15\n",
    "varD"
   ]
  },
  {
   "cell_type": "code",
   "execution_count": 32,
   "id": "99b0149f",
   "metadata": {},
   "outputs": [
    {
     "data": {
      "text/plain": [
       "['krishnan', 12, 23.5, 75]"
      ]
     },
     "execution_count": 32,
     "metadata": {},
     "output_type": "execute_result"
    }
   ],
   "source": [
    "# list - array,heterogeneous, need not be unique, mutable\n",
    "\n",
    "List1=[\"krishnan\",12,23.5,75]               # using ths 'List' word infront of '1' to know it is a List type\n",
    "\n",
    "List1\n"
   ]
  },
  {
   "cell_type": "code",
   "execution_count": 25,
   "id": "7d730e4c",
   "metadata": {},
   "outputs": [
    {
     "data": {
      "text/plain": [
       "['krishnan', 12]"
      ]
     },
     "execution_count": 25,
     "metadata": {},
     "output_type": "execute_result"
    }
   ],
   "source": [
    "List1[0:2]"
   ]
  },
  {
   "cell_type": "code",
   "execution_count": 26,
   "id": "a9f7f1fe",
   "metadata": {},
   "outputs": [
    {
     "data": {
      "text/plain": [
       "True"
      ]
     },
     "execution_count": 26,
     "metadata": {},
     "output_type": "execute_result"
    }
   ],
   "source": [
    "'krishnan' in List1    # checking for an element (powerful tool)"
   ]
  },
  {
   "cell_type": "code",
   "execution_count": 27,
   "id": "8598cf95",
   "metadata": {},
   "outputs": [
    {
     "data": {
      "text/plain": [
       "0"
      ]
     },
     "execution_count": 27,
     "metadata": {},
     "output_type": "execute_result"
    }
   ],
   "source": [
    "List1.index('krishnan')           # list starts form zero"
   ]
  },
  {
   "cell_type": "code",
   "execution_count": 35,
   "id": "9840e587",
   "metadata": {},
   "outputs": [],
   "source": [
    "List1.reverse()"
   ]
  },
  {
   "cell_type": "code",
   "execution_count": 36,
   "id": "6fd2b69e",
   "metadata": {},
   "outputs": [
    {
     "data": {
      "text/plain": [
       "[75, 23.5, 12, 'krishnan']"
      ]
     },
     "execution_count": 36,
     "metadata": {},
     "output_type": "execute_result"
    }
   ],
   "source": [
    "List1"
   ]
  },
  {
   "cell_type": "code",
   "execution_count": null,
   "id": "fb1169c0",
   "metadata": {},
   "outputs": [],
   "source": []
  }
 ],
 "metadata": {
  "kernelspec": {
   "display_name": "Python 3",
   "language": "python",
   "name": "python3"
  },
  "language_info": {
   "codemirror_mode": {
    "name": "ipython",
    "version": 3
   },
   "file_extension": ".py",
   "mimetype": "text/x-python",
   "name": "python",
   "nbconvert_exporter": "python",
   "pygments_lexer": "ipython3",
   "version": "3.8.8"
  }
 },
 "nbformat": 4,
 "nbformat_minor": 5
}
