{
 "cells": [
  {
   "cell_type": "code",
   "execution_count": 1,
   "id": "54a67e31",
   "metadata": {},
   "outputs": [],
   "source": [
    "# LAB -1 Statistical Analysis using Python: -\n",
    "\n",
    "# EXERCISE - 2 - Data frame creation and manipulation \n",
    "\n",
    "import pandas as pd "
   ]
  },
  {
   "cell_type": "code",
   "execution_count": 2,
   "id": "a3c40f30",
   "metadata": {},
   "outputs": [
    {
     "data": {
      "text/html": [
       "<div>\n",
       "<style scoped>\n",
       "    .dataframe tbody tr th:only-of-type {\n",
       "        vertical-align: middle;\n",
       "    }\n",
       "\n",
       "    .dataframe tbody tr th {\n",
       "        vertical-align: top;\n",
       "    }\n",
       "\n",
       "    .dataframe thead th {\n",
       "        text-align: right;\n",
       "    }\n",
       "</style>\n",
       "<table border=\"1\" class=\"dataframe\">\n",
       "  <thead>\n",
       "    <tr style=\"text-align: right;\">\n",
       "      <th></th>\n",
       "      <th>Roll Number</th>\n",
       "      <th>Gender</th>\n",
       "      <th>Name</th>\n",
       "      <th>Marks1</th>\n",
       "      <th>Marks2</th>\n",
       "      <th>Marks3</th>\n",
       "    </tr>\n",
       "  </thead>\n",
       "  <tbody>\n",
       "    <tr>\n",
       "      <th>0</th>\n",
       "      <td>1</td>\n",
       "      <td>M</td>\n",
       "      <td>Surya</td>\n",
       "      <td>79</td>\n",
       "      <td>65</td>\n",
       "      <td>53</td>\n",
       "    </tr>\n",
       "    <tr>\n",
       "      <th>1</th>\n",
       "      <td>2</td>\n",
       "      <td>M</td>\n",
       "      <td>Joy</td>\n",
       "      <td>60</td>\n",
       "      <td>76</td>\n",
       "      <td>37</td>\n",
       "    </tr>\n",
       "    <tr>\n",
       "      <th>2</th>\n",
       "      <td>3</td>\n",
       "      <td>M</td>\n",
       "      <td>Shawn</td>\n",
       "      <td>75</td>\n",
       "      <td>55</td>\n",
       "      <td>39</td>\n",
       "    </tr>\n",
       "    <tr>\n",
       "      <th>3</th>\n",
       "      <td>4</td>\n",
       "      <td>M</td>\n",
       "      <td>Krish</td>\n",
       "      <td>92</td>\n",
       "      <td>87</td>\n",
       "      <td>84</td>\n",
       "    </tr>\n",
       "    <tr>\n",
       "      <th>4</th>\n",
       "      <td>5</td>\n",
       "      <td>M</td>\n",
       "      <td>Mark</td>\n",
       "      <td>83</td>\n",
       "      <td>68</td>\n",
       "      <td>77</td>\n",
       "    </tr>\n",
       "    <tr>\n",
       "      <th>5</th>\n",
       "      <td>6</td>\n",
       "      <td>F</td>\n",
       "      <td>Meera</td>\n",
       "      <td>98</td>\n",
       "      <td>80</td>\n",
       "      <td>93</td>\n",
       "    </tr>\n",
       "    <tr>\n",
       "      <th>6</th>\n",
       "      <td>7</td>\n",
       "      <td>F</td>\n",
       "      <td>Seetha</td>\n",
       "      <td>57</td>\n",
       "      <td>35</td>\n",
       "      <td>62</td>\n",
       "    </tr>\n",
       "    <tr>\n",
       "      <th>7</th>\n",
       "      <td>8</td>\n",
       "      <td>F</td>\n",
       "      <td>Jayanthi</td>\n",
       "      <td>78</td>\n",
       "      <td>76</td>\n",
       "      <td>66</td>\n",
       "    </tr>\n",
       "    <tr>\n",
       "      <th>8</th>\n",
       "      <td>9</td>\n",
       "      <td>F</td>\n",
       "      <td>Sujatha</td>\n",
       "      <td>78</td>\n",
       "      <td>67</td>\n",
       "      <td>84</td>\n",
       "    </tr>\n",
       "    <tr>\n",
       "      <th>9</th>\n",
       "      <td>10</td>\n",
       "      <td>F</td>\n",
       "      <td>Kausalya</td>\n",
       "      <td>56</td>\n",
       "      <td>37</td>\n",
       "      <td>68</td>\n",
       "    </tr>\n",
       "  </tbody>\n",
       "</table>\n",
       "</div>"
      ],
      "text/plain": [
       "   Roll Number Gender      Name  Marks1  Marks2  Marks3\n",
       "0            1      M     Surya      79      65      53\n",
       "1            2      M       Joy      60      76      37\n",
       "2            3      M     Shawn      75      55      39\n",
       "3            4      M     Krish      92      87      84\n",
       "4            5      M      Mark      83      68      77\n",
       "5            6      F     Meera      98      80      93\n",
       "6            7      F    Seetha      57      35      62\n",
       "7            8      F  Jayanthi      78      76      66\n",
       "8            9      F   Sujatha      78      67      84\n",
       "9           10      F  Kausalya      56      37      68"
      ]
     },
     "execution_count": 2,
     "metadata": {},
     "output_type": "execute_result"
    }
   ],
   "source": [
    "# Create a data frame with details of 10 students and columns as Roll Number, Name, Gender, Marks1, Marks2, Marks3\n",
    "\n",
    "\n",
    "data = {\n",
    "        'Roll Number':[1,2,3,4,5,6,7,8,9,10],\n",
    "        'Gender':['M','M','M','M','M','F','F','F','F','F'],\n",
    "        'Name':['Surya','Joy','Shawn','Krish','Mark','Meera','Seetha','Jayanthi','Sujatha','Kausalya'],\n",
    "        'Marks1':[79,60,75,92,83,98,57,78,78,56],\n",
    "        'Marks2':[65,76,55,87,68,80,35,76,67,37],\n",
    "        'Marks3':[53,37,39,84,77,93,62,66,84,68]\n",
    "        }\n",
    "\n",
    "students = pd.DataFrame(data)\n",
    "\n",
    "students"
   ]
  },
  {
   "cell_type": "code",
   "execution_count": 3,
   "id": "fbc0c4fe",
   "metadata": {},
   "outputs": [
    {
     "data": {
      "text/html": [
       "<div>\n",
       "<style scoped>\n",
       "    .dataframe tbody tr th:only-of-type {\n",
       "        vertical-align: middle;\n",
       "    }\n",
       "\n",
       "    .dataframe tbody tr th {\n",
       "        vertical-align: top;\n",
       "    }\n",
       "\n",
       "    .dataframe thead th {\n",
       "        text-align: right;\n",
       "    }\n",
       "</style>\n",
       "<table border=\"1\" class=\"dataframe\">\n",
       "  <thead>\n",
       "    <tr style=\"text-align: right;\">\n",
       "      <th></th>\n",
       "      <th>Roll Number</th>\n",
       "      <th>Gender</th>\n",
       "      <th>Name</th>\n",
       "      <th>Marks1</th>\n",
       "      <th>Marks2</th>\n",
       "      <th>Marks3</th>\n",
       "      <th>Total Marks</th>\n",
       "    </tr>\n",
       "  </thead>\n",
       "  <tbody>\n",
       "    <tr>\n",
       "      <th>0</th>\n",
       "      <td>1</td>\n",
       "      <td>M</td>\n",
       "      <td>Surya</td>\n",
       "      <td>79</td>\n",
       "      <td>65</td>\n",
       "      <td>53</td>\n",
       "      <td>197</td>\n",
       "    </tr>\n",
       "    <tr>\n",
       "      <th>1</th>\n",
       "      <td>2</td>\n",
       "      <td>M</td>\n",
       "      <td>Joy</td>\n",
       "      <td>60</td>\n",
       "      <td>76</td>\n",
       "      <td>37</td>\n",
       "      <td>173</td>\n",
       "    </tr>\n",
       "    <tr>\n",
       "      <th>2</th>\n",
       "      <td>3</td>\n",
       "      <td>M</td>\n",
       "      <td>Shawn</td>\n",
       "      <td>75</td>\n",
       "      <td>55</td>\n",
       "      <td>39</td>\n",
       "      <td>169</td>\n",
       "    </tr>\n",
       "    <tr>\n",
       "      <th>3</th>\n",
       "      <td>4</td>\n",
       "      <td>M</td>\n",
       "      <td>Krish</td>\n",
       "      <td>92</td>\n",
       "      <td>87</td>\n",
       "      <td>84</td>\n",
       "      <td>263</td>\n",
       "    </tr>\n",
       "    <tr>\n",
       "      <th>4</th>\n",
       "      <td>5</td>\n",
       "      <td>M</td>\n",
       "      <td>Mark</td>\n",
       "      <td>83</td>\n",
       "      <td>68</td>\n",
       "      <td>77</td>\n",
       "      <td>228</td>\n",
       "    </tr>\n",
       "    <tr>\n",
       "      <th>5</th>\n",
       "      <td>6</td>\n",
       "      <td>F</td>\n",
       "      <td>Meera</td>\n",
       "      <td>98</td>\n",
       "      <td>80</td>\n",
       "      <td>93</td>\n",
       "      <td>271</td>\n",
       "    </tr>\n",
       "    <tr>\n",
       "      <th>6</th>\n",
       "      <td>7</td>\n",
       "      <td>F</td>\n",
       "      <td>Seetha</td>\n",
       "      <td>57</td>\n",
       "      <td>35</td>\n",
       "      <td>62</td>\n",
       "      <td>154</td>\n",
       "    </tr>\n",
       "    <tr>\n",
       "      <th>7</th>\n",
       "      <td>8</td>\n",
       "      <td>F</td>\n",
       "      <td>Jayanthi</td>\n",
       "      <td>78</td>\n",
       "      <td>76</td>\n",
       "      <td>66</td>\n",
       "      <td>220</td>\n",
       "    </tr>\n",
       "    <tr>\n",
       "      <th>8</th>\n",
       "      <td>9</td>\n",
       "      <td>F</td>\n",
       "      <td>Sujatha</td>\n",
       "      <td>78</td>\n",
       "      <td>67</td>\n",
       "      <td>84</td>\n",
       "      <td>229</td>\n",
       "    </tr>\n",
       "    <tr>\n",
       "      <th>9</th>\n",
       "      <td>10</td>\n",
       "      <td>F</td>\n",
       "      <td>Kausalya</td>\n",
       "      <td>56</td>\n",
       "      <td>37</td>\n",
       "      <td>68</td>\n",
       "      <td>161</td>\n",
       "    </tr>\n",
       "  </tbody>\n",
       "</table>\n",
       "</div>"
      ],
      "text/plain": [
       "   Roll Number Gender      Name  Marks1  Marks2  Marks3  Total Marks\n",
       "0            1      M     Surya      79      65      53          197\n",
       "1            2      M       Joy      60      76      37          173\n",
       "2            3      M     Shawn      75      55      39          169\n",
       "3            4      M     Krish      92      87      84          263\n",
       "4            5      M      Mark      83      68      77          228\n",
       "5            6      F     Meera      98      80      93          271\n",
       "6            7      F    Seetha      57      35      62          154\n",
       "7            8      F  Jayanthi      78      76      66          220\n",
       "8            9      F   Sujatha      78      67      84          229\n",
       "9           10      F  Kausalya      56      37      68          161"
      ]
     },
     "execution_count": 3,
     "metadata": {},
     "output_type": "execute_result"
    }
   ],
   "source": [
    "# Create a new column with total marks\n",
    "\n",
    "\n",
    "total_marks = students['Marks1'] + students['Marks2'] + students['Marks3']\n",
    "students['Total Marks'] = total_marks\n",
    "students"
   ]
  },
  {
   "cell_type": "code",
   "execution_count": 4,
   "id": "679196c8",
   "metadata": {},
   "outputs": [
    {
     "data": {
      "text/plain": [
       "56"
      ]
     },
     "execution_count": 4,
     "metadata": {},
     "output_type": "execute_result"
    }
   ],
   "source": [
    "# Find the Lowest marks in Marks 1 \n",
    "\n",
    "students['Marks1'].min()"
   ]
  },
  {
   "cell_type": "code",
   "execution_count": 5,
   "id": "ed79af83",
   "metadata": {},
   "outputs": [
    {
     "data": {
      "text/plain": [
       "87"
      ]
     },
     "execution_count": 5,
     "metadata": {},
     "output_type": "execute_result"
    }
   ],
   "source": [
    "# Find the Highest marks in Marks 2\n",
    "\n",
    "students['Marks2'].max()"
   ]
  },
  {
   "cell_type": "code",
   "execution_count": 6,
   "id": "2240974a",
   "metadata": {},
   "outputs": [
    {
     "data": {
      "text/plain": [
       "66.3"
      ]
     },
     "execution_count": 6,
     "metadata": {},
     "output_type": "execute_result"
    }
   ],
   "source": [
    "# Find the average marks in Marks 3\n",
    "\n",
    "students['Marks3'].mean()"
   ]
  },
  {
   "cell_type": "code",
   "execution_count": 7,
   "id": "b9355390",
   "metadata": {},
   "outputs": [
    {
     "data": {
      "text/plain": [
       "5    Meera\n",
       "Name: Name, dtype: object"
      ]
     },
     "execution_count": 7,
     "metadata": {},
     "output_type": "execute_result"
    }
   ],
   "source": [
    "# 6. Find student name with Highest average\n",
    "\n",
    "\n",
    "students[(students['Total Marks']/3) == (students['Total Marks']/3).max()]['Name']\n",
    "\n",
    "                    # OR \n",
    "    \n",
    "#     Avg_marks = students['Total Marks'] / 3     \n",
    "#     students['Avg Marks'] = Avg_marks\n",
    "#     students[students['Avg Marks'] == students['Avg Marks'].max()]['Name']\n",
    "    \n",
    "                    # OR \n",
    "    \n",
    "#   students[(students['Total Marks']/3) == (students['Total Marks']/3).max()]"
   ]
  },
  {
   "cell_type": "code",
   "execution_count": 8,
   "id": "ed3ac89a",
   "metadata": {},
   "outputs": [
    {
     "data": {
      "text/plain": [
       "2"
      ]
     },
     "execution_count": 8,
     "metadata": {},
     "output_type": "execute_result"
    }
   ],
   "source": [
    "# Find how many students failed in Marks 2 ( <40 )\n",
    "\n",
    "\n",
    "students[students['Marks2'] < 40].shape[0]         \n",
    "\n",
    "                    # OR\n",
    "\n",
    "#      len(students[students['Marks2'] < 40])\n",
    "\n",
    "\n",
    "#      For number of columns in a DataFrame use: - df.shape[1]"
   ]
  },
  {
   "cell_type": "code",
   "execution_count": null,
   "id": "491f6ed0",
   "metadata": {},
   "outputs": [],
   "source": []
  }
 ],
 "metadata": {
  "kernelspec": {
   "display_name": "Python 3",
   "language": "python",
   "name": "python3"
  },
  "language_info": {
   "codemirror_mode": {
    "name": "ipython",
    "version": 3
   },
   "file_extension": ".py",
   "mimetype": "text/x-python",
   "name": "python",
   "nbconvert_exporter": "python",
   "pygments_lexer": "ipython3",
   "version": "3.8.8"
  }
 },
 "nbformat": 4,
 "nbformat_minor": 5
}
