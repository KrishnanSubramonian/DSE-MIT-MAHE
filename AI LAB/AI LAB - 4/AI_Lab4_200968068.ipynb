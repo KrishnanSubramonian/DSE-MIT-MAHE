{
  "cells": [
    {
      "cell_type": "markdown",
      "source": [
        "# WEEK 4: Gaming Agent & Negamax search"
      ],
      "metadata": {
        "id": "ES0Es2K7-Yql"
      }
    },
    {
      "cell_type": "code",
      "execution_count": 1,
      "metadata": {
        "colab": {
          "base_uri": "https://localhost:8080/"
        },
        "id": "pE3RFC2T9MzQ",
        "outputId": "31e84d5f-753f-4ac9-b9df-402285e7086c"
      },
      "outputs": [
        {
          "output_type": "stream",
          "name": "stdout",
          "text": [
            "Looking in indexes: https://pypi.org/simple, https://us-python.pkg.dev/colab-wheels/public/simple/\n",
            "Collecting easyAI\n",
            "  Downloading easyAI-2.0.12-py3-none-any.whl (42 kB)\n",
            "\u001b[2K     \u001b[90m━━━━━━━━━━━━━━━━━━━━━━━━━━━━━━━━━━━━━━━━\u001b[0m \u001b[32m42.2/42.2 KB\u001b[0m \u001b[31m4.8 MB/s\u001b[0m eta \u001b[36m0:00:00\u001b[0m\n",
            "\u001b[?25hRequirement already satisfied: numpy in /usr/local/lib/python3.8/dist-packages (from easyAI) (1.22.4)\n",
            "Installing collected packages: easyAI\n",
            "Successfully installed easyAI-2.0.12\n"
          ]
        }
      ],
      "source": [
        "# installing easyAI\n",
        "\n",
        "!pip install easyAI"
      ]
    },
    {
      "cell_type": "markdown",
      "metadata": {
        "id": "qzgRbovU9Ws1"
      },
      "source": [
        "> ## Python program to define and implement a tic-tac-toe (with one human player)"
      ]
    },
    {
      "cell_type": "code",
      "execution_count": 2,
      "metadata": {
        "id": "GhjVXT6b9Xar"
      },
      "outputs": [],
      "source": [
        "from easyAI import TwoPlayerGame\n",
        "from easyAI.Player import Human_Player\n",
        "\n",
        "#defining a class for Tic Tac Toe game and all required functions for the enviornment\n",
        "class TicTacToe(TwoPlayerGame):\n",
        "    \"\"\"The board positions are numbered as follows:\n",
        "    1 2 3\n",
        "    4 5 6\n",
        "    7 8 9\n",
        "    \"\"\"\n",
        "\n",
        "    def __init__(self, players):\n",
        "        self.players = players\n",
        "        self.board = [0 for i in range(9)]\n",
        "        self.current_player = 1  # player 1 starts.\n",
        "\n",
        "    def possible_moves(self):\n",
        "        return [i + 1 for i, e in enumerate(self.board) if e == 0]\n",
        "\n",
        "    def make_move(self, move):\n",
        "        self.board[int(move) - 1] = self.current_player\n",
        "\n",
        "    def unmake_move(self, move):  # optional method (speeds up the AI)\n",
        "        self.board[int(move) - 1] = 0\n",
        "\n",
        "    def lose(self):\n",
        "        \"\"\" Has the opponent \"three in line ?\" \"\"\"\n",
        "        return any(\n",
        "            [\n",
        "                all([(self.board[c - 1] == self.opponent_index) for c in line])\n",
        "                for line in [\n",
        "                    [1, 2, 3],\n",
        "                    [4, 5, 6],\n",
        "                    [7, 8, 9],  # horizontal\n",
        "                    [1, 4, 7],\n",
        "                    [2, 5, 8],\n",
        "                    [3, 6, 9],  # vertical\n",
        "                    [1, 5, 9],\n",
        "                    [3, 5, 7],\n",
        "                ]\n",
        "            ]\n",
        "        )  # diagonal\n",
        "\n",
        "    def is_over(self):\n",
        "        return (self.possible_moves() == []) or self.lose()\n",
        "\n",
        "    def show(self):\n",
        "        print(\n",
        "            \"\\n\"\n",
        "            + \"\\n\".join(\n",
        "                [\n",
        "                    \" \".join([[\".\", \"O\", \"X\"][self.board[3 * j + i]] for i in range(3)])\n",
        "                    for j in range(3)\n",
        "                ]\n",
        "            )\n",
        "        )\n",
        "\n",
        "    def scoring(self):\n",
        "        return -1 if self.lose() else 1"
      ]
    },
    {
      "cell_type": "code",
      "execution_count": 3,
      "metadata": {
        "colab": {
          "base_uri": "https://localhost:8080/"
        },
        "id": "zsMIuhIm9hwI",
        "outputId": "d67ed248-ace7-4a33-f9cc-9d0d28a388c1"
      },
      "outputs": [
        {
          "output_type": "stream",
          "name": "stdout",
          "text": [
            "\n",
            ". . .\n",
            ". . .\n",
            ". . .\n",
            "\n",
            "Player 1 what do you play ? 1\n",
            "\n",
            "Move #1: player 1 plays 1 :\n",
            "\n",
            "O . .\n",
            ". . .\n",
            ". . .\n",
            "\n",
            "Move #2: player 2 plays 2 :\n",
            "\n",
            "O X .\n",
            ". . .\n",
            ". . .\n",
            "\n",
            "Player 1 what do you play ? 5\n",
            "\n",
            "Move #3: player 1 plays 5 :\n",
            "\n",
            "O X .\n",
            ". O .\n",
            ". . .\n",
            "\n",
            "Move #4: player 2 plays 9 :\n",
            "\n",
            "O X .\n",
            ". O .\n",
            ". . X\n",
            "\n",
            "Player 1 what do you play ? 6\n",
            "\n",
            "Move #5: player 1 plays 6 :\n",
            "\n",
            "O X .\n",
            ". O O\n",
            ". . X\n",
            "\n",
            "Move #6: player 2 plays 4 :\n",
            "\n",
            "O X .\n",
            "X O O\n",
            ". . X\n",
            "\n",
            "Player 1 what do you play ? 7\n",
            "\n",
            "Move #7: player 1 plays 7 :\n",
            "\n",
            "O X .\n",
            "X O O\n",
            "O . X\n",
            "\n",
            "Move #8: player 2 plays 3 :\n",
            "\n",
            "O X X\n",
            "X O O\n",
            "O . X\n",
            "\n",
            "Player 1 what do you play ? 8\n",
            "\n",
            "Move #9: player 1 plays 8 :\n",
            "\n",
            "O X X\n",
            "X O O\n",
            "O O X\n"
          ]
        }
      ],
      "source": [
        "from easyAI import AI_Player, Negamax\n",
        "\n",
        "if __name__ == \"__main__\":\n",
        "    TicTacToe([Human_Player(), AI_Player(Negamax(5))]).play()"
      ]
    },
    {
      "cell_type": "markdown",
      "metadata": {
        "id": "yoWECM4Q946V"
      },
      "source": [
        "> ## Solving the game using the built in algorithms"
      ]
    },
    {
      "cell_type": "markdown",
      "metadata": {
        "id": "m8UFfEjh9-C4"
      },
      "source": [
        "> **A. Iterative Deepening Search**"
      ]
    },
    {
      "cell_type": "code",
      "execution_count": 5,
      "metadata": {
        "colab": {
          "base_uri": "https://localhost:8080/"
        },
        "id": "KUYKnA-g9-9R",
        "outputId": "5364c8aa-d091-4673-de9e-2e321544c18f"
      },
      "outputs": [
        {
          "output_type": "stream",
          "name": "stdout",
          "text": [
            "d:2, a:1, m:1\n",
            "d:3, a:-1, m:1\n",
            "d:4, a:1, m:1\n",
            "d:5, a:-1, m:1\n",
            "d:6, a:1, m:1\n",
            "d:7, a:-1, m:1\n",
            "d:8, a:1, m:1\n",
            "\n",
            "r = 0\n"
          ]
        }
      ],
      "source": [
        "from easyAI import solve_with_iterative_deepening\n",
        "r,d,m = solve_with_iterative_deepening(\n",
        "    game=TicTacToe([]),\n",
        "    ai_depths=range(2,9),\n",
        "    win_score=100\n",
        ")\n",
        "print(\"\\nr = \" + str(r))"
      ]
    },
    {
      "cell_type": "markdown",
      "source": [
        "The result r = 0 implies that if the first player plays perfectly the outcome will most likely be a draw"
      ],
      "metadata": {
        "id": "GZNPmNgtBWT2"
      }
    },
    {
      "cell_type": "markdown",
      "metadata": {
        "id": "ASVf0Q6y-Cwl"
      },
      "source": [
        "> **B. Depth First search**"
      ]
    },
    {
      "cell_type": "code",
      "execution_count": 6,
      "metadata": {
        "colab": {
          "base_uri": "https://localhost:8080/"
        },
        "id": "u8XWRz4t-G9j",
        "outputId": "c6e6ea2f-92c1-4900-8d06-a3b10bfb3ce1"
      },
      "outputs": [
        {
          "output_type": "stream",
          "name": "stdout",
          "text": [
            "\n",
            "u = 0\n"
          ]
        }
      ],
      "source": [
        "from easyAI import solve_with_depth_first_search\n",
        "u = solve_with_depth_first_search(\n",
        "    game=TicTacToe([]),\n",
        "    win_score=100\n",
        ")\n",
        "print(\"\\nu = \" + str(u))"
      ]
    },
    {
      "cell_type": "markdown",
      "source": [
        "The result u = 0 implies that if the first player plays perfectly the outcome will most likely be a draw"
      ],
      "metadata": {
        "id": "YPuwkdYgBa7L"
      }
    },
    {
      "cell_type": "markdown",
      "source": [
        "Here as we may not see much differences but when games are a bit complex like chess or go then we can see the differences clearly"
      ],
      "metadata": {
        "id": "UXQjCEsYBwBv"
      }
    },
    {
      "cell_type": "markdown",
      "metadata": {
        "id": "1jDrCnXa-OSB"
      },
      "source": [
        "> ## Depth First search v/s Iterative Deepening Search"
      ]
    },
    {
      "cell_type": "markdown",
      "source": [
        "### **Depth First search**\n",
        "In a DFS, we start at the initial node in the graph and keep going on to explore deeper and deeper into the graph while we are able to find new and unexplored nodes or we find the solution. \n",
        "\n",
        "If the search algorithm runs out of branches to explore, it will backtrack to the last point where it could go down a different branch and explores from there. \n",
        "\n",
        "This causes problems for large graphs, as DFS might explore the entire graph along one path only to find the solution after looking at each node. If the graph is infinite, the search might not terminate. This path may not be the most optimal path to the solution either."
      ],
      "metadata": {
        "id": "MFTZU_bgA4D5"
      }
    },
    {
      "cell_type": "markdown",
      "source": [
        "### **Iterative Deepening Search**\n",
        "Iterative deepening uses solves this problem by limiting the depth of any one path taken by the DFS and increases this limit iteratively. \n",
        "\n",
        "This ensures that we never explore nodes that have a distance greater than a certain threshold for any given iteration, meaning that we never explore out infinitely if there were such a situation. \n",
        "\n",
        "This means that we never end up exploring along infinite dead-end paths, since the length of each path is capped by some length at each iteration. It also means that we find the shortest possible path to the solution."
      ],
      "metadata": {
        "id": "C5LPZQ2uA7rW"
      }
    },
    {
      "cell_type": "code",
      "source": [],
      "metadata": {
        "id": "MHPQ30SJBQnR"
      },
      "execution_count": null,
      "outputs": []
    }
  ],
  "metadata": {
    "colab": {
      "provenance": []
    },
    "kernelspec": {
      "display_name": "Python 3",
      "language": "python",
      "name": "python3"
    },
    "language_info": {
      "codemirror_mode": {
        "name": "ipython",
        "version": 3
      },
      "file_extension": ".py",
      "mimetype": "text/x-python",
      "name": "python",
      "nbconvert_exporter": "python",
      "pygments_lexer": "ipython3",
      "version": "3.8.8"
    },
    "gpuClass": "standard"
  },
  "nbformat": 4,
  "nbformat_minor": 0
}