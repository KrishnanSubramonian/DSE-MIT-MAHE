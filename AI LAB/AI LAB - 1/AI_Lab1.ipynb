{
  "nbformat": 4,
  "nbformat_minor": 0,
  "metadata": {
    "colab": {
      "provenance": []
    },
    "kernelspec": {
      "name": "python3",
      "display_name": "Python 3"
    },
    "language_info": {
      "name": "python"
    },
    "gpuClass": "standard",
    "accelerator": "GPU"
  },
  "cells": [
    {
      "cell_type": "markdown",
      "source": [
        "## ARTIFICIAL INTELLIGENCE LABORATORY"
      ],
      "metadata": {
        "id": "shneVTrkngC5"
      }
    },
    {
      "cell_type": "markdown",
      "source": [
        "**WEEK 1 Representational Learning using Autoencoders**"
      ],
      "metadata": {
        "id": "ky1F335wnlBx"
      }
    },
    {
      "cell_type": "markdown",
      "source": [
        "**1. Use the Fashion MNIST data set and train a basic autoencoder to reconstruct images**"
      ],
      "metadata": {
        "id": "UryPKepen8yx"
      }
    },
    {
      "cell_type": "code",
      "execution_count": 1,
      "metadata": {
        "id": "uPSSrxkmVSp6"
      },
      "outputs": [],
      "source": [
        "from tensorflow.keras.datasets import fashion_mnist"
      ]
    },
    {
      "cell_type": "code",
      "source": [
        "import tensorflow as tf\n",
        "import numpy as np\n",
        "from tensorflow.keras.models import Model, Sequential\n",
        "from tensorflow.keras.layers import *\n",
        "from matplotlib import pyplot as plt"
      ],
      "metadata": {
        "id": "Y7LXGxPAZMC3"
      },
      "execution_count": 2,
      "outputs": []
    },
    {
      "cell_type": "code",
      "source": [
        "(x_train, y_train), (x_test, y_test) = fashion_mnist.load_data()"
      ],
      "metadata": {
        "colab": {
          "base_uri": "https://localhost:8080/"
        },
        "id": "mLi64Q3jXXeH",
        "outputId": "1ea5fa90-71b5-4be2-e1fb-442c6988b4bf"
      },
      "execution_count": 3,
      "outputs": [
        {
          "output_type": "stream",
          "name": "stdout",
          "text": [
            "Downloading data from https://storage.googleapis.com/tensorflow/tf-keras-datasets/train-labels-idx1-ubyte.gz\n",
            "29515/29515 [==============================] - 0s 0us/step\n",
            "Downloading data from https://storage.googleapis.com/tensorflow/tf-keras-datasets/train-images-idx3-ubyte.gz\n",
            "26421880/26421880 [==============================] - 2s 0us/step\n",
            "Downloading data from https://storage.googleapis.com/tensorflow/tf-keras-datasets/t10k-labels-idx1-ubyte.gz\n",
            "5148/5148 [==============================] - 0s 0us/step\n",
            "Downloading data from https://storage.googleapis.com/tensorflow/tf-keras-datasets/t10k-images-idx3-ubyte.gz\n",
            "4422102/4422102 [==============================] - 0s 0us/step\n"
          ]
        }
      ]
    },
    {
      "cell_type": "code",
      "source": [
        "print(\"FASHION MNIST Dataset Shape:\")\n",
        "print(\"X Train: \" + str(x_train.shape))\n",
        "print(\"Y Train: \" + str(y_train.shape))\n",
        "print(\"X Test: \" + str(x_test.shape))\n",
        "print(\"Y Test: \" + str(y_test.shape))"
      ],
      "metadata": {
        "colab": {
          "base_uri": "https://localhost:8080/"
        },
        "id": "PgiSc8bwX5LD",
        "outputId": "ba964e96-55fc-4a7b-98a3-3585d55a4f54"
      },
      "execution_count": 4,
      "outputs": [
        {
          "output_type": "stream",
          "name": "stdout",
          "text": [
            "FASHION MNIST Dataset Shape:\n",
            "X Train: (60000, 28, 28)\n",
            "Y Train: (60000,)\n",
            "X Test: (10000, 28, 28)\n",
            "Y Test: (10000,)\n"
          ]
        }
      ]
    },
    {
      "cell_type": "code",
      "source": [
        "x_train = x_train/255.0\n",
        "x_test = x_test/255.0"
      ],
      "metadata": {
        "id": "tqx-2BX0YcnD"
      },
      "execution_count": 5,
      "outputs": []
    },
    {
      "cell_type": "code",
      "source": [
        "plt.imshow(x_train[0], cmap = \"gray\")\n",
        "plt.show()"
      ],
      "metadata": {
        "colab": {
          "base_uri": "https://localhost:8080/",
          "height": 265
        },
        "id": "2Phntgkbdo7r",
        "outputId": "cc4139c3-36b4-476a-be83-567621fe798c"
      },
      "execution_count": 6,
      "outputs": [
        {
          "output_type": "display_data",
          "data": {
            "text/plain": [
              "<Figure size 432x288 with 1 Axes>"
            ],
            "image/png": "[encoded data removed]"
          },
          "metadata": {
            "needs_background": "light"
          }
        }
      ]
    },
    {
      "cell_type": "code",
      "source": [
        "latent_size = 64"
      ],
      "metadata": {
        "id": "y9r1bOXud3Jg"
      },
      "execution_count": 7,
      "outputs": []
    },
    {
      "cell_type": "code",
      "source": [
        "# Encoder - Autoencoder:\n",
        "\n",
        "encoder = Sequential()\n",
        "encoder.add(Conv2D(96, 11, 4, padding = \"same\", name = \"ConvLayer1\"))                                                      # padding = \"valid\"\n",
        "encoder.add(BatchNormalization(momentum=0.93, epsilon=0.01))\n",
        "encoder.add(MaxPool2D(pool_size = 3, strides = 2, name = \"MaxPoolLayer1\"))\n",
        "encoder.add(Conv2D(256, 5, 1, activation=LeakyReLU(0.25), padding = \"same\", name = \"ConvLayer2\"))\n",
        "encoder.add(MaxPool2D(pool_size = 3, strides = 2, name = \"MaxPoolLayer2\"))\n",
        "encoder.add(BatchNormalization(momentum=0.93, epsilon=0.01))\n",
        "encoder.add(Conv2D(384, 3, 1, activation=LeakyReLU(0.25), padding = \"same\", name = \"ConvLayer3\"))\n",
        "encoder.add(Conv2D(384, 3, 1, activation=LeakyReLU(0.25), padding = \"same\", name = \"ConvLayer4\"))\n",
        "encoder.add(Conv2D(256, 3, 1, activation=LeakyReLU(0.25), padding = \"same\", name = \"ConvLayer5\"))\n",
        "# encoder.add(MaxPool2D(pool_size = 3, strides = 2, name = \"MaxPoolLayer3\"))\n",
        "encoder.add(Flatten())\n",
        "encoder.add(BatchNormalization(momentum=0.93, epsilon=0.01))\n",
        "encoder.add(Dense(4096, activation=LeakyReLU(0.25), name = \"HiddenLayer1\"))\n",
        "encoder.add(Dropout(0.8))\n",
        "encoder.add(Dense(4096, activation=LeakyReLU(0.25), name = \"HiddenLayer2\"))\n",
        "encoder.add(Dropout(0.6))\n",
        "encoder.add(Dense(64, activation=LeakyReLU(0.25), name = \"LatentSpace\"))"
      ],
      "metadata": {
        "id": "Nj0fekLoYtak"
      },
      "execution_count": 8,
      "outputs": []
    },
    {
      "cell_type": "code",
      "source": [
        "# Decoder - Autoencoder:\n",
        "\n",
        "decoder = Sequential()\n",
        "decoder.add(Dense(64, activation=\"sigmoid\", name = \"LatentSpace\"))\n",
        "decoder.add(Dropout(0.6))\n",
        "decoder.add(Dense(4096, activation=\"sigmoid\", name = \"HiddenLayer1\"))\n",
        "decoder.add(Dropout(0.8))\n",
        "decoder.add(Dense(4096, activation=\"sigmoid\", name = \"HiddenLayer2\"))\n",
        "decoder.add(BatchNormalization(momentum=0.93, epsilon=0.01))\n",
        "decoder.add(Dense(784, activation=\"sigmoid\", name = \"OutputLayer\"))\n",
        "decoder.add(Reshape((28, 28)))"
      ],
      "metadata": {
        "id": "gt5ccjYzlqhm"
      },
      "execution_count": 9,
      "outputs": []
    },
    {
      "cell_type": "code",
      "source": [],
      "metadata": {
        "id": "g6t2PWiylqto"
      },
      "execution_count": 9,
      "outputs": []
    },
    {
      "cell_type": "code",
      "source": [
        "ae_input = Input(shape = (28, 28, 1))"
      ],
      "metadata": {
        "id": "KbTtRxQ4lWx4"
      },
      "execution_count": 10,
      "outputs": []
    },
    {
      "cell_type": "code",
      "source": [
        "latent_vector = encoder(ae_input)\n",
        "ae_output = decoder(latent_vector)"
      ],
      "metadata": {
        "id": "om8OUwQ7niBA"
      },
      "execution_count": 11,
      "outputs": []
    },
    {
      "cell_type": "code",
      "source": [
        "model = Model(ae_input, ae_output)"
      ],
      "metadata": {
        "id": "nXVI27rgn027"
      },
      "execution_count": 12,
      "outputs": []
    },
    {
      "cell_type": "code",
      "source": [
        "model.compile(optimizer=tf.keras.optimizers.Adam(learning_rate=1e-3), loss = \"mean_squared_error\")"
      ],
      "metadata": {
        "id": "FYoCsnztoAUM"
      },
      "execution_count": 13,
      "outputs": []
    },
    {
      "cell_type": "code",
      "source": [
        "model.fit(x_train, x_train, epochs = 20, batch_size = 128)"
      ],
      "metadata": {
        "colab": {
          "base_uri": "https://localhost:8080/"
        },
        "id": "ZeZIIqGEpbhk",
        "outputId": "adbbdee2-4193-4093-e77e-f61f472835f1"
      },
      "execution_count": 14,
      "outputs": [
        {
          "output_type": "stream",
          "name": "stdout",
          "text": [
            "Epoch 1/20\n",
            "469/469 [==============================] - 24s 27ms/step - loss: 0.0653\n",
            "Epoch 2/20\n",
            "469/469 [==============================] - 11s 23ms/step - loss: 0.0528\n",
            "Epoch 3/20\n",
            "469/469 [==============================] - 12s 25ms/step - loss: 0.0532\n",
            "Epoch 4/20\n",
            "469/469 [==============================] - 14s 30ms/step - loss: 0.0526\n",
            "Epoch 5/20\n",
            "469/469 [==============================] - 12s 25ms/step - loss: 0.0518\n",
            "Epoch 6/20\n",
            "469/469 [==============================] - 12s 26ms/step - loss: 0.0534\n",
            "Epoch 7/20\n",
            "469/469 [==============================] - 13s 29ms/step - loss: 0.0527\n",
            "Epoch 8/20\n",
            "469/469 [==============================] - 11s 24ms/step - loss: 0.0504\n",
            "Epoch 9/20\n",
            "469/469 [==============================] - 12s 26ms/step - loss: 0.0527\n",
            "Epoch 10/20\n",
            "469/469 [==============================] - 12s 25ms/step - loss: 0.0517\n",
            "Epoch 11/20\n",
            "469/469 [==============================] - 11s 24ms/step - loss: 0.0505\n",
            "Epoch 12/20\n",
            "469/469 [==============================] - 13s 27ms/step - loss: 0.0512\n",
            "Epoch 13/20\n",
            "469/469 [==============================] - 11s 24ms/step - loss: 0.0526\n",
            "Epoch 14/20\n",
            "469/469 [==============================] - 12s 25ms/step - loss: 0.0503\n",
            "Epoch 15/20\n",
            "469/469 [==============================] - 13s 28ms/step - loss: 0.0511\n",
            "Epoch 16/20\n",
            "469/469 [==============================] - 11s 23ms/step - loss: 0.0511\n",
            "Epoch 17/20\n",
            "469/469 [==============================] - 11s 23ms/step - loss: 0.0510\n",
            "Epoch 18/20\n",
            "469/469 [==============================] - 11s 23ms/step - loss: 0.0515\n",
            "Epoch 19/20\n",
            "469/469 [==============================] - 11s 23ms/step - loss: 0.0523\n",
            "Epoch 20/20\n",
            "469/469 [==============================] - 11s 24ms/step - loss: 0.0524\n"
          ]
        },
        {
          "output_type": "execute_result",
          "data": {
            "text/plain": [
              "<keras.callbacks.History at 0x7f43d0137d90>"
            ]
          },
          "metadata": {},
          "execution_count": 14
        }
      ]
    },
    {
      "cell_type": "code",
      "source": [
        "reconstructed_images = model.predict(x_test)"
      ],
      "metadata": {
        "colab": {
          "base_uri": "https://localhost:8080/"
        },
        "id": "tOrD8Yoas2bo",
        "outputId": "6c44107f-720b-4985-8a78-6e8a03a3db4c"
      },
      "execution_count": 15,
      "outputs": [
        {
          "output_type": "stream",
          "name": "stdout",
          "text": [
            "313/313 [==============================] - 2s 4ms/step\n"
          ]
        }
      ]
    },
    {
      "cell_type": "code",
      "source": [
        "from random import randint\n",
        "\n",
        "\n",
        "plt.figure(figsize = (20 ,4))\n",
        "\n",
        "for i in range(1, 11):\n",
        "\n",
        "  rand_num = randint(0, 10001)\n",
        "\n",
        "  ax = plt.subplot(2, 10, i)\n",
        "  plt.imshow(x_test[rand_num])\n",
        "  # plt.gray()\n",
        "  ax.get_xaxis().set_visible(False)\n",
        "  ax.get_yaxis().set_visible(False)\n",
        "\n",
        "  ax = plt.subplot(2, 10, i+10)\n",
        "  plt.imshow(reconstructed_images[rand_num])\n",
        "  # plt.gray()\n",
        "  ax.get_xaxis().set_visible(False)\n",
        "  ax.get_yaxis().set_visible(False)\n",
        "\n",
        "\n",
        "plt.show()"
      ],
      "metadata": {
        "colab": {
          "base_uri": "https://localhost:8080/",
          "height": 248
        },
        "id": "jzuNHcQyunES",
        "outputId": "922079a5-d402-4283-b485-cc465ec065de"
      },
      "execution_count": 16,
      "outputs": [
        {
          "output_type": "display_data",
          "data": {
            "text/plain": [
              "<Figure size 1440x288 with 20 Axes>"
            ],
            "image/png": "[encoded data removed]"
          },
          "metadata": {
            "needs_background": "light"
          }
        }
      ]
    },
    {
      "cell_type": "code",
      "source": [],
      "metadata": {
        "id": "ZMlAqMc_wbX4"
      },
      "execution_count": 16,
      "outputs": []
    },
    {
      "cell_type": "code",
      "source": [],
      "metadata": {
        "id": "AO-7ZEy_w_Vz"
      },
      "execution_count": 16,
      "outputs": []
    },
    {
      "cell_type": "markdown",
      "source": [
        "**2. Train an autoencoder to detect anomalies using the ECG5000 dataset**"
      ],
      "metadata": {
        "id": "o6tkYnYaoKRi"
      }
    },
    {
      "cell_type": "code",
      "source": [
        "import matplotlib.pyplot as plt\n",
        "import numpy as np\n",
        "import pandas as pd\n",
        "import tensorflow as tf\n",
        "from sklearn.metrics import accuracy_score,precision_score,recall_score\n",
        "from sklearn.model_selection import train_test_split\n",
        "from tensorflow.keras import layers,losses\n",
        "from tensorflow.keras.datasets import fashion_mnist\n",
        "from tensorflow.keras.models import Model"
      ],
      "metadata": {
        "id": "fVEkatiVw_a9"
      },
      "execution_count": 19,
      "outputs": []
    },
    {
      "cell_type": "code",
      "source": [
        "dataframe = pd.read_csv('http://storage.googleapis.com/download.tensorflow.org/data/ecg.csv', header=None)\n",
        "raw_data = dataframe.values\n",
        "dataframe.head()"
      ],
      "metadata": {
        "colab": {
          "base_uri": "https://localhost:8080/",
          "height": 299
        },
        "id": "JnXsavWu5mEx",
        "outputId": "44331801-9b1b-4484-a0db-7ba783225e60"
      },
      "execution_count": 20,
      "outputs": [
        {
          "output_type": "execute_result",
          "data": {
            "text/plain": [
              "        0         1         2         3         4         5         6    \\\n",
              "0 -0.112522 -2.827204 -3.773897 -4.349751 -4.376041 -3.474986 -2.181408   \n",
              "1 -1.100878 -3.996840 -4.285843 -4.506579 -4.022377 -3.234368 -1.566126   \n",
              "2 -0.567088 -2.593450 -3.874230 -4.584095 -4.187449 -3.151462 -1.742940   \n",
              "3  0.490473 -1.914407 -3.616364 -4.318823 -4.268016 -3.881110 -2.993280   \n",
              "4  0.800232 -0.874252 -2.384761 -3.973292 -4.338224 -3.802422 -2.534510   \n",
              "\n",
              "        7         8         9    ...       131       132       133       134  \\\n",
              "0 -1.818286 -1.250522 -0.477492  ...  0.792168  0.933541  0.796958  0.578621   \n",
              "1 -0.992258 -0.754680  0.042321  ...  0.538356  0.656881  0.787490  0.724046   \n",
              "2 -1.490659 -1.183580 -0.394229  ...  0.886073  0.531452  0.311377 -0.021919   \n",
              "3 -1.671131 -1.333884 -0.965629  ...  0.350816  0.499111  0.600345  0.842069   \n",
              "4 -1.783423 -1.594450 -0.753199  ...  1.148884  0.958434  1.059025  1.371682   \n",
              "\n",
              "        135       136       137       138       139  140  \n",
              "0  0.257740  0.228077  0.123431  0.925286  0.193137  1.0  \n",
              "1  0.555784  0.476333  0.773820  1.119621 -1.436250  1.0  \n",
              "2 -0.713683 -0.532197  0.321097  0.904227 -0.421797  1.0  \n",
              "3  0.952074  0.990133  1.086798  1.403011 -0.383564  1.0  \n",
              "4  1.277392  0.960304  0.971020  1.614392  1.421456  1.0  \n",
              "\n",
              "[5 rows x 141 columns]"
            ],
            "text/html": [
              "\n",
              "  <div id=\"df-695b12d3-f75f-48ba-9afd-01afe28aa418\">\n",
              "    <div class=\"colab-df-container\">\n",
              "      <div>\n",
              "<style scoped>\n",
              "    .dataframe tbody tr th:only-of-type {\n",
              "        vertical-align: middle;\n",
              "    }\n",
              "\n",
              "    .dataframe tbody tr th {\n",
              "        vertical-align: top;\n",
              "    }\n",
              "\n",
              "    .dataframe thead th {\n",
              "        text-align: right;\n",
              "    }\n",
              "</style>\n",
              "<table border=\"1\" class=\"dataframe\">\n",
              "  <thead>\n",
              "    <tr style=\"text-align: right;\">\n",
              "      <th></th>\n",
              "      <th>0</th>\n",
              "      <th>1</th>\n",
              "      <th>2</th>\n",
              "      <th>3</th>\n",
              "      <th>4</th>\n",
              "      <th>5</th>\n",
              "      <th>6</th>\n",
              "      <th>7</th>\n",
              "      <th>8</th>\n",
              "      <th>9</th>\n",
              "      <th>...</th>\n",
              "      <th>131</th>\n",
              "      <th>132</th>\n",
              "      <th>133</th>\n",
              "      <th>134</th>\n",
              "      <th>135</th>\n",
              "      <th>136</th>\n",
              "      <th>137</th>\n",
              "      <th>138</th>\n",
              "      <th>139</th>\n",
              "      <th>140</th>\n",
              "    </tr>\n",
              "  </thead>\n",
              "  <tbody>\n",
              "    <tr>\n",
              "      <th>0</th>\n",
              "      <td>-0.112522</td>\n",
              "      <td>-2.827204</td>\n",
              "      <td>-3.773897</td>\n",
              "      <td>-4.349751</td>\n",
              "      <td>-4.376041</td>\n",
              "      <td>-3.474986</td>\n",
              "      <td>-2.181408</td>\n",
              "      <td>-1.818286</td>\n",
              "      <td>-1.250522</td>\n",
              "      <td>-0.477492</td>\n",
              "      <td>...</td>\n",
              "      <td>0.792168</td>\n",
              "      <td>0.933541</td>\n",
              "      <td>0.796958</td>\n",
              "      <td>0.578621</td>\n",
              "      <td>0.257740</td>\n",
              "      <td>0.228077</td>\n",
              "      <td>0.123431</td>\n",
              "      <td>0.925286</td>\n",
              "      <td>0.193137</td>\n",
              "      <td>1.0</td>\n",
              "    </tr>\n",
              "    <tr>\n",
              "      <th>1</th>\n",
              "      <td>-1.100878</td>\n",
              "      <td>-3.996840</td>\n",
              "      <td>-4.285843</td>\n",
              "      <td>-4.506579</td>\n",
              "      <td>-4.022377</td>\n",
              "      <td>-3.234368</td>\n",
              "      <td>-1.566126</td>\n",
              "      <td>-0.992258</td>\n",
              "      <td>-0.754680</td>\n",
              "      <td>0.042321</td>\n",
              "      <td>...</td>\n",
              "      <td>0.538356</td>\n",
              "      <td>0.656881</td>\n",
              "      <td>0.787490</td>\n",
              "      <td>0.724046</td>\n",
              "      <td>0.555784</td>\n",
              "      <td>0.476333</td>\n",
              "      <td>0.773820</td>\n",
              "      <td>1.119621</td>\n",
              "      <td>-1.436250</td>\n",
              "      <td>1.0</td>\n",
              "    </tr>\n",
              "    <tr>\n",
              "      <th>2</th>\n",
              "      <td>-0.567088</td>\n",
              "      <td>-2.593450</td>\n",
              "      <td>-3.874230</td>\n",
              "      <td>-4.584095</td>\n",
              "      <td>-4.187449</td>\n",
              "      <td>-3.151462</td>\n",
              "      <td>-1.742940</td>\n",
              "      <td>-1.490659</td>\n",
              "      <td>-1.183580</td>\n",
              "      <td>-0.394229</td>\n",
              "      <td>...</td>\n",
              "      <td>0.886073</td>\n",
              "      <td>0.531452</td>\n",
              "      <td>0.311377</td>\n",
              "      <td>-0.021919</td>\n",
              "      <td>-0.713683</td>\n",
              "      <td>-0.532197</td>\n",
              "      <td>0.321097</td>\n",
              "      <td>0.904227</td>\n",
              "      <td>-0.421797</td>\n",
              "      <td>1.0</td>\n",
              "    </tr>\n",
              "    <tr>\n",
              "      <th>3</th>\n",
              "      <td>0.490473</td>\n",
              "      <td>-1.914407</td>\n",
              "      <td>-3.616364</td>\n",
              "      <td>-4.318823</td>\n",
              "      <td>-4.268016</td>\n",
              "      <td>-3.881110</td>\n",
              "      <td>-2.993280</td>\n",
              "      <td>-1.671131</td>\n",
              "      <td>-1.333884</td>\n",
              "      <td>-0.965629</td>\n",
              "      <td>...</td>\n",
              "      <td>0.350816</td>\n",
              "      <td>0.499111</td>\n",
              "      <td>0.600345</td>\n",
              "      <td>0.842069</td>\n",
              "      <td>0.952074</td>\n",
              "      <td>0.990133</td>\n",
              "      <td>1.086798</td>\n",
              "      <td>1.403011</td>\n",
              "      <td>-0.383564</td>\n",
              "      <td>1.0</td>\n",
              "    </tr>\n",
              "    <tr>\n",
              "      <th>4</th>\n",
              "      <td>0.800232</td>\n",
              "      <td>-0.874252</td>\n",
              "      <td>-2.384761</td>\n",
              "      <td>-3.973292</td>\n",
              "      <td>-4.338224</td>\n",
              "      <td>-3.802422</td>\n",
              "      <td>-2.534510</td>\n",
              "      <td>-1.783423</td>\n",
              "      <td>-1.594450</td>\n",
              "      <td>-0.753199</td>\n",
              "      <td>...</td>\n",
              "      <td>1.148884</td>\n",
              "      <td>0.958434</td>\n",
              "      <td>1.059025</td>\n",
              "      <td>1.371682</td>\n",
              "      <td>1.277392</td>\n",
              "      <td>0.960304</td>\n",
              "      <td>0.971020</td>\n",
              "      <td>1.614392</td>\n",
              "      <td>1.421456</td>\n",
              "      <td>1.0</td>\n",
              "    </tr>\n",
              "  </tbody>\n",
              "</table>\n",
              "<p>5 rows × 141 columns</p>\n",
              "</div>\n",
              "      <button class=\"colab-df-convert\" onclick=\"convertToInteractive('df-695b12d3-f75f-48ba-9afd-01afe28aa418')\"\n",
              "              title=\"Convert this dataframe to an interactive table.\"\n",
              "              style=\"display:none;\">\n",
              "        \n",
              "  <svg xmlns=\"http://www.w3.org/2000/svg\" height=\"24px\"viewBox=\"0 0 24 24\"\n",
              "       width=\"24px\">\n",
              "    <path d=\"M0 0h24v24H0V0z\" fill=\"none\"/>\n",
              "    <path d=\"M18.56 5.44l.94 2.06.94-2.06 2.06-.94-2.06-.94-.94-2.06-.94 2.06-2.06.94zm-11 1L8.5 8.5l.94-2.06 2.06-.94-2.06-.94L8.5 2.5l-.94 2.06-2.06.94zm10 10l.94 2.06.94-2.06 2.06-.94-2.06-.94-.94-2.06-.94 2.06-2.06.94z\"/><path d=\"M17.41 7.96l-1.37-1.37c-.4-.4-.92-.59-1.43-.59-.52 0-1.04.2-1.43.59L10.3 9.45l-7.72 7.72c-.78.78-.78 2.05 0 2.83L4 21.41c.39.39.9.59 1.41.59.51 0 1.02-.2 1.41-.59l7.78-7.78 2.81-2.81c.8-.78.8-2.07 0-2.86zM5.41 20L4 18.59l7.72-7.72 1.47 1.35L5.41 20z\"/>\n",
              "  </svg>\n",
              "      </button>\n",
              "      \n",
              "  <style>\n",
              "    .colab-df-container {\n",
              "      display:flex;\n",
              "      flex-wrap:wrap;\n",
              "      gap: 12px;\n",
              "    }\n",
              "\n",
              "    .colab-df-convert {\n",
              "      background-color: #E8F0FE;\n",
              "      border: none;\n",
              "      border-radius: 50%;\n",
              "      cursor: pointer;\n",
              "      display: none;\n",
              "      fill: #1967D2;\n",
              "      height: 32px;\n",
              "      padding: 0 0 0 0;\n",
              "      width: 32px;\n",
              "    }\n",
              "\n",
              "    .colab-df-convert:hover {\n",
              "      background-color: #E2EBFA;\n",
              "      box-shadow: 0px 1px 2px rgba(60, 64, 67, 0.3), 0px 1px 3px 1px rgba(60, 64, 67, 0.15);\n",
              "      fill: #174EA6;\n",
              "    }\n",
              "\n",
              "    [theme=dark] .colab-df-convert {\n",
              "      background-color: #3B4455;\n",
              "      fill: #D2E3FC;\n",
              "    }\n",
              "\n",
              "    [theme=dark] .colab-df-convert:hover {\n",
              "      background-color: #434B5C;\n",
              "      box-shadow: 0px 1px 3px 1px rgba(0, 0, 0, 0.15);\n",
              "      filter: drop-shadow(0px 1px 2px rgba(0, 0, 0, 0.3));\n",
              "      fill: #FFFFFF;\n",
              "    }\n",
              "  </style>\n",
              "\n",
              "      <script>\n",
              "        const buttonEl =\n",
              "          document.querySelector('#df-695b12d3-f75f-48ba-9afd-01afe28aa418 button.colab-df-convert');\n",
              "        buttonEl.style.display =\n",
              "          google.colab.kernel.accessAllowed ? 'block' : 'none';\n",
              "\n",
              "        async function convertToInteractive(key) {\n",
              "          const element = document.querySelector('#df-695b12d3-f75f-48ba-9afd-01afe28aa418');\n",
              "          const dataTable =\n",
              "            await google.colab.kernel.invokeFunction('convertToInteractive',\n",
              "                                                     [key], {});\n",
              "          if (!dataTable) return;\n",
              "\n",
              "          const docLinkHtml = 'Like what you see? Visit the ' +\n",
              "            '<a target=\"_blank\" href=https://colab.research.google.com/notebooks/data_table.ipynb>data table notebook</a>'\n",
              "            + ' to learn more about interactive tables.';\n",
              "          element.innerHTML = '';\n",
              "          dataTable['output_type'] = 'display_data';\n",
              "          await google.colab.output.renderOutput(dataTable, element);\n",
              "          const docLink = document.createElement('div');\n",
              "          docLink.innerHTML = docLinkHtml;\n",
              "          element.appendChild(docLink);\n",
              "        }\n",
              "      </script>\n",
              "    </div>\n",
              "  </div>\n",
              "  "
            ]
          },
          "metadata": {},
          "execution_count": 20
        }
      ]
    },
    {
      "cell_type": "code",
      "source": [
        "labels=raw_data[:,-1]\n",
        "data=raw_data[:,0:-1]\n",
        "train_data,test_data,train_labels,test_labels=train_test_split(data,labels,test_size=0.2,random_state=21)"
      ],
      "metadata": {
        "id": "2dZRNhoT5qq-"
      },
      "execution_count": 21,
      "outputs": []
    },
    {
      "cell_type": "code",
      "source": [
        "min_val=tf.reduce_min(train_data)\n",
        "max_val=tf.reduce_max(train_data)\n",
        "train_data=(train_data-min_val)/(max_val-min_val)\n",
        "test_data=(test_data-min_val)/(max_val-min_val)\n",
        "train_data=tf.cast(train_data,tf.float32)\n",
        "test_data=tf.cast(test_data,tf.float32)\n",
        "test_data.dtype"
      ],
      "metadata": {
        "colab": {
          "base_uri": "https://localhost:8080/"
        },
        "id": "M_s6tBoD5quD",
        "outputId": "0308552f-aa34-497b-e9d7-2fc7d0271113"
      },
      "execution_count": 23,
      "outputs": [
        {
          "output_type": "execute_result",
          "data": {
            "text/plain": [
              "tf.float32"
            ]
          },
          "metadata": {},
          "execution_count": 23
        }
      ]
    },
    {
      "cell_type": "code",
      "source": [
        "trian_labels=train_labels.astype(bool)\n",
        "test_labels=test_labels.astype(bool)\n",
        "\n",
        "normal_train_data = train_data[train_labels==True]\n",
        "normal_test_data = test_data[test_labels==True]\n",
        "\n",
        "anomalous_train_data = train_data[train_labels==False]\n",
        "anomalous_test_data = test_data[test_labels==False]\n",
        "normal_test_data"
      ],
      "metadata": {
        "colab": {
          "base_uri": "https://localhost:8080/"
        },
        "id": "PV2OrLqQ5qwR",
        "outputId": "57516a56-8c89-418c-8dfe-d178c9ceebf0"
      },
      "execution_count": 24,
      "outputs": [
        {
          "output_type": "execute_result",
          "data": {
            "text/plain": [
              "<tf.Tensor: shape=(560, 140), dtype=float32, numpy=\n",
              "array([[0.48035768, 0.28877792, 0.19828546, ..., 0.45463306, 0.5246125 ,\n",
              "        0.3713729 ],\n",
              "       [0.45354807, 0.2557325 , 0.15979648, ..., 0.4801337 , 0.5284734 ,\n",
              "        0.49527124],\n",
              "       [0.4521779 , 0.25685105, 0.12592098, ..., 0.55448556, 0.5861353 ,\n",
              "        0.4754273 ],\n",
              "       ...,\n",
              "       [0.48304972, 0.36122933, 0.27729514, ..., 0.32799056, 0.3158066 ,\n",
              "        0.26930442],\n",
              "       [0.4090865 , 0.27907097, 0.22604261, ..., 0.39099607, 0.45987615,\n",
              "        0.42140076],\n",
              "       [0.42648116, 0.17669384, 0.14546008, ..., 0.4733389 , 0.55036914,\n",
              "        0.37805188]], dtype=float32)>"
            ]
          },
          "metadata": {},
          "execution_count": 24
        }
      ]
    },
    {
      "cell_type": "code",
      "source": [
        "plt.grid(linestyle=\":\",color=\"b\")\n",
        "plt.plot(np.arange(140),normal_train_data[0])\n",
        "plt.title(\"A Normal ECG\")\n",
        "plt.show()"
      ],
      "metadata": {
        "colab": {
          "base_uri": "https://localhost:8080/",
          "height": 281
        },
        "id": "Z3Xpu8MA5qy1",
        "outputId": "b529bb5a-e634-47b9-d489-6e2929ca608e"
      },
      "execution_count": 25,
      "outputs": [
        {
          "output_type": "display_data",
          "data": {
            "text/plain": [
              "<Figure size 432x288 with 1 Axes>"
            ],
            "image/png": "[encoded data removed]"
          },
          "metadata": {
            "needs_background": "light"
          }
        }
      ]
    },
    {
      "cell_type": "code",
      "source": [
        "plt.grid(linestyle=\":\",color=\"b\")\n",
        "plt.plot(np.arange(140),anomalous_train_data[0])\n",
        "plt.title(\"An Anomalous ECG\")\n",
        "plt.show()"
      ],
      "metadata": {
        "colab": {
          "base_uri": "https://localhost:8080/",
          "height": 281
        },
        "id": "DkkE1UTf5q1Y",
        "outputId": "c7ac3d4b-0806-4dd7-f134-d292e8579550"
      },
      "execution_count": 26,
      "outputs": [
        {
          "output_type": "display_data",
          "data": {
            "text/plain": [
              "<Figure size 432x288 with 1 Axes>"
            ],
            "image/png": "[encoded data removed]"
          },
          "metadata": {
            "needs_background": "light"
          }
        }
      ]
    },
    {
      "cell_type": "code",
      "source": [
        "class AnomalyDetector(Model):\n",
        "    def __init__(self):\n",
        "        super(AnomalyDetector,self).__init__()\n",
        "        self.encoder=tf.keras.Sequential([layers.Dense(32,activation=\"relu\"),\n",
        "                                          layers.Dense(16,activation=\"relu\"),\n",
        "                                          layers.Dense(8,activation=\"relu\")])\n",
        "        \n",
        "        self.decoder=tf.keras.Sequential([\n",
        "                                          layers.Dense(16, activation=\"relu\"),\n",
        "                                          layers.Dense(32, activation=\"relu\"),\n",
        "                                          layers.Dense(140, activation=\"sigmoid\")])\n",
        "    def call(self,x):\n",
        "        encoded=self.encoder(x)\n",
        "        decoded=self.decoder(x)\n",
        "        return decoded\n",
        "\n",
        "autoencoder=AnomalyDetector()\n",
        "\n",
        "autoencoder.compile(optimizer='adam',loss='mae')"
      ],
      "metadata": {
        "id": "vWMwhuE35q3u"
      },
      "execution_count": 27,
      "outputs": []
    },
    {
      "cell_type": "code",
      "source": [
        "history=autoencoder.fit(normal_train_data,normal_train_data,epochs=20,batch_size=512, validation_data=(test_data,test_data),shuffle=True)"
      ],
      "metadata": {
        "colab": {
          "base_uri": "https://localhost:8080/"
        },
        "id": "L8RCt9zn5q6M",
        "outputId": "1361293e-2860-4e58-e90d-c3946375dc2a"
      },
      "execution_count": 28,
      "outputs": [
        {
          "output_type": "stream",
          "name": "stdout",
          "text": [
            "Epoch 1/20\n"
          ]
        },
        {
          "output_type": "stream",
          "name": "stderr",
          "text": [
            "WARNING:tensorflow:Gradients do not exist for variables ['dense/kernel:0', 'dense/bias:0', 'dense_1/kernel:0', 'dense_1/bias:0', 'dense_2/kernel:0', 'dense_2/bias:0'] when minimizing the loss. If you're using `model.compile()`, did you forget to provide a `loss`argument?\n",
            "WARNING:tensorflow:Gradients do not exist for variables ['dense/kernel:0', 'dense/bias:0', 'dense_1/kernel:0', 'dense_1/bias:0', 'dense_2/kernel:0', 'dense_2/bias:0'] when minimizing the loss. If you're using `model.compile()`, did you forget to provide a `loss`argument?\n"
          ]
        },
        {
          "output_type": "stream",
          "name": "stdout",
          "text": [
            "5/5 [==============================] - 1s 43ms/step - loss: 0.0581 - val_loss: 0.0532\n",
            "Epoch 2/20\n",
            "5/5 [==============================] - 0s 8ms/step - loss: 0.0557 - val_loss: 0.0515\n",
            "Epoch 3/20\n",
            "5/5 [==============================] - 0s 7ms/step - loss: 0.0528 - val_loss: 0.0499\n",
            "Epoch 4/20\n",
            "5/5 [==============================] - 0s 8ms/step - loss: 0.0493 - val_loss: 0.0486\n",
            "Epoch 5/20\n",
            "5/5 [==============================] - 0s 13ms/step - loss: 0.0458 - val_loss: 0.0470\n",
            "Epoch 6/20\n",
            "5/5 [==============================] - 0s 13ms/step - loss: 0.0421 - val_loss: 0.0448\n",
            "Epoch 7/20\n",
            "5/5 [==============================] - 0s 16ms/step - loss: 0.0386 - val_loss: 0.0428\n",
            "Epoch 8/20\n",
            "5/5 [==============================] - 0s 13ms/step - loss: 0.0353 - val_loss: 0.0413\n",
            "Epoch 9/20\n",
            "5/5 [==============================] - 0s 14ms/step - loss: 0.0326 - val_loss: 0.0402\n",
            "Epoch 10/20\n",
            "5/5 [==============================] - 0s 12ms/step - loss: 0.0305 - val_loss: 0.0391\n",
            "Epoch 11/20\n",
            "5/5 [==============================] - 0s 14ms/step - loss: 0.0288 - val_loss: 0.0383\n",
            "Epoch 12/20\n",
            "5/5 [==============================] - 0s 10ms/step - loss: 0.0275 - val_loss: 0.0376\n",
            "Epoch 13/20\n",
            "5/5 [==============================] - 0s 11ms/step - loss: 0.0263 - val_loss: 0.0369\n",
            "Epoch 14/20\n",
            "5/5 [==============================] - 0s 10ms/step - loss: 0.0254 - val_loss: 0.0363\n",
            "Epoch 15/20\n",
            "5/5 [==============================] - 0s 13ms/step - loss: 0.0245 - val_loss: 0.0357\n",
            "Epoch 16/20\n",
            "5/5 [==============================] - 0s 14ms/step - loss: 0.0238 - val_loss: 0.0352\n",
            "Epoch 17/20\n",
            "5/5 [==============================] - 0s 10ms/step - loss: 0.0232 - val_loss: 0.0347\n",
            "Epoch 18/20\n",
            "5/5 [==============================] - 0s 10ms/step - loss: 0.0227 - val_loss: 0.0344\n",
            "Epoch 19/20\n",
            "5/5 [==============================] - 0s 11ms/step - loss: 0.0223 - val_loss: 0.0341\n",
            "Epoch 20/20\n",
            "5/5 [==============================] - 0s 10ms/step - loss: 0.0219 - val_loss: 0.0339\n"
          ]
        }
      ]
    },
    {
      "cell_type": "code",
      "source": [
        "plt.plot(history.history[\"loss\"],label=\"Training Loss\")\n",
        "plt.plot(history.history[\"val_loss\"],label=\"Validation Loss\")\n",
        "plt.legend()"
      ],
      "metadata": {
        "colab": {
          "base_uri": "https://localhost:8080/",
          "height": 282
        },
        "id": "4pozmk3a5q8f",
        "outputId": "b4852727-ffe3-423a-bea8-b9083bdd257a"
      },
      "execution_count": 29,
      "outputs": [
        {
          "output_type": "execute_result",
          "data": {
            "text/plain": [
              "<matplotlib.legend.Legend at 0x7f43e172d310>"
            ]
          },
          "metadata": {},
          "execution_count": 29
        },
        {
          "output_type": "display_data",
          "data": {
            "text/plain": [
              "<Figure size 432x288 with 1 Axes>"
            ],
            "image/png": "[encoded data removed]"
          },
          "metadata": {
            "needs_background": "light"
          }
        }
      ]
    },
    {
      "cell_type": "code",
      "source": [
        "# Plot Error after Reconstruction of Normal:\n",
        "\n",
        "encoded_imgs=autoencoder.encoder(normal_test_data).numpy()\n",
        "decoded_imgs=autoencoder.decoder(normal_test_data).numpy()\n",
        "plt.plot(normal_test_data[0],'b')\n",
        "plt.plot(decoded_imgs[0],'r')\n",
        "plt.fill_between(np.arange(140),decoded_imgs[0],normal_test_data[0],color='lightcoral')\n",
        "plt.legend(labels=[\"Input\",\"Reconstruction\",\"Error\"])\n",
        "plt.show()\n",
        "encoded_imgs"
      ],
      "metadata": {
        "colab": {
          "base_uri": "https://localhost:8080/",
          "height": 491
        },
        "id": "AAxCCNqY5q-9",
        "outputId": "9c0b876e-4583-4586-b8f8-f4c4dd6c4545"
      },
      "execution_count": 30,
      "outputs": [
        {
          "output_type": "display_data",
          "data": {
            "text/plain": [
              "<Figure size 432x288 with 1 Axes>"
            ],
            "image/png": "[encoded data removed]"
          },
          "metadata": {
            "needs_background": "light"
          }
        },
        {
          "output_type": "execute_result",
          "data": {
            "text/plain": [
              "array([[0.3321983 , 0.03842928, 0.        , ..., 0.        , 0.        ,\n",
              "        0.1464475 ],\n",
              "       [0.37149942, 0.06173778, 0.        , ..., 0.        , 0.        ,\n",
              "        0.17739712],\n",
              "       [0.38113335, 0.07062793, 0.        , ..., 0.        , 0.        ,\n",
              "        0.16044922],\n",
              "       ...,\n",
              "       [0.3808723 , 0.05446419, 0.        , ..., 0.        , 0.        ,\n",
              "        0.12572896],\n",
              "       [0.37355548, 0.06125681, 0.        , ..., 0.        , 0.        ,\n",
              "        0.16071354],\n",
              "       [0.37024516, 0.05876824, 0.        , ..., 0.        , 0.        ,\n",
              "        0.1772518 ]], dtype=float32)"
            ]
          },
          "metadata": {},
          "execution_count": 30
        }
      ]
    },
    {
      "cell_type": "code",
      "source": [
        "encoded_imgs=autoencoder.encoder(anomalous_test_data).numpy()\n",
        "decoded_imgs=autoencoder.decoder(anomalous_test_data).numpy()"
      ],
      "metadata": {
        "id": "-BZD6MNj5rBY"
      },
      "execution_count": 31,
      "outputs": []
    },
    {
      "cell_type": "code",
      "source": [
        "# Plot Error after Reconstruction for Anomalous:\n",
        "\n",
        "plt.plot(anomalous_test_data[0],'b')\n",
        "plt.plot(decoded_imgs[0],'r')\n",
        "plt.fill_between(np.arange(140),decoded_imgs[0],anomalous_test_data[0],color='lightcoral')\n",
        "plt.legend(labels=[\"Input\",\"Reconstruction\",\"Error\"])\n",
        "plt.show()"
      ],
      "metadata": {
        "colab": {
          "base_uri": "https://localhost:8080/",
          "height": 265
        },
        "id": "dnW75RpChAxo",
        "outputId": "4a0f4401-6122-4bdb-a10f-5d64cc8ca0b9"
      },
      "execution_count": 32,
      "outputs": [
        {
          "output_type": "display_data",
          "data": {
            "text/plain": [
              "<Figure size 432x288 with 1 Axes>"
            ],
            "image/png": "[encoded data removed]"
          },
          "metadata": {
            "needs_background": "light"
          }
        }
      ]
    },
    {
      "cell_type": "code",
      "source": [
        "reconstructions=autoencoder.predict(normal_train_data)\n",
        "reconstructions"
      ],
      "metadata": {
        "colab": {
          "base_uri": "https://localhost:8080/"
        },
        "id": "a-PUIPIWhA0j",
        "outputId": "cba29672-6f7b-4088-f62e-360281c684bc"
      },
      "execution_count": 33,
      "outputs": [
        {
          "output_type": "stream",
          "name": "stdout",
          "text": [
            "74/74 [==============================] - 0s 3ms/step\n"
          ]
        },
        {
          "output_type": "execute_result",
          "data": {
            "text/plain": [
              "array([[0.41779578, 0.29134563, 0.2689694 , ..., 0.5119273 , 0.5156709 ,\n",
              "        0.41799766],\n",
              "       [0.42090324, 0.29849583, 0.27679995, ..., 0.51130515, 0.5146759 ,\n",
              "        0.42085686],\n",
              "       [0.41895714, 0.29400778, 0.27188134, ..., 0.5116946 , 0.5152988 ,\n",
              "        0.41906628],\n",
              "       ...,\n",
              "       [0.4203289 , 0.2971679 , 0.2753434 , ..., 0.51142   , 0.5148597 ,\n",
              "        0.42032847],\n",
              "       [0.41816586, 0.2921927 , 0.2698955 , ..., 0.5118531 , 0.5155523 ,\n",
              "        0.4183382 ],\n",
              "       [0.4210873 , 0.298922  , 0.27726758, ..., 0.5112683 , 0.5146171 ,\n",
              "        0.42102617]], dtype=float32)"
            ]
          },
          "metadata": {},
          "execution_count": 33
        }
      ]
    },
    {
      "cell_type": "code",
      "source": [
        "train_loss=tf.keras.losses.mae(reconstructions,normal_train_data).numpy()\n",
        "train_loss"
      ],
      "metadata": {
        "colab": {
          "base_uri": "https://localhost:8080/"
        },
        "id": "kB5o3sTdhA3h",
        "outputId": "c55a3d36-d634-4b28-9ce3-362074090bcb"
      },
      "execution_count": 34,
      "outputs": [
        {
          "output_type": "execute_result",
          "data": {
            "text/plain": [
              "array([0.02807313, 0.01278305, 0.02077822, ..., 0.0139117 , 0.0235725 ,\n",
              "       0.01803436], dtype=float32)"
            ]
          },
          "metadata": {},
          "execution_count": 34
        }
      ]
    },
    {
      "cell_type": "code",
      "source": [
        "plt.hist(train_loss,bins=50,density=True)\n",
        "plt.xlabel(\"Train Loss\")\n",
        "plt.ylabel(\"No of Examples\")\n",
        "plt.show()"
      ],
      "metadata": {
        "colab": {
          "base_uri": "https://localhost:8080/",
          "height": 279
        },
        "id": "9pWlN8fjhA6f",
        "outputId": "2bc6d6d7-644a-4810-a179-dcea197f3b64"
      },
      "execution_count": 35,
      "outputs": [
        {
          "output_type": "display_data",
          "data": {
            "text/plain": [
              "<Figure size 432x288 with 1 Axes>"
            ],
            "image/png": "[encoded data removed]"
          },
          "metadata": {
            "needs_background": "light"
          }
        }
      ]
    },
    {
      "cell_type": "code",
      "source": [
        "threshold=np.mean(train_loss)+np.std(train_loss)\n",
        "print(\"Threshold\",threshold)"
      ],
      "metadata": {
        "colab": {
          "base_uri": "https://localhost:8080/"
        },
        "id": "17COdNrfhG2a",
        "outputId": "096a9058-ba44-4da1-d5fd-a6459886c179"
      },
      "execution_count": 36,
      "outputs": [
        {
          "output_type": "stream",
          "name": "stdout",
          "text": [
            "Threshold 0.03385853\n"
          ]
        }
      ]
    },
    {
      "cell_type": "code",
      "source": [
        "reconstructions=autoencoder.predict(anomalous_test_data)\n",
        "reconstructions"
      ],
      "metadata": {
        "colab": {
          "base_uri": "https://localhost:8080/"
        },
        "id": "WXB_yuB2hG5P",
        "outputId": "5c0ad2b6-5cad-4476-fe8e-1199300b53bf"
      },
      "execution_count": 37,
      "outputs": [
        {
          "output_type": "stream",
          "name": "stdout",
          "text": [
            "14/14 [==============================] - 0s 2ms/step\n"
          ]
        },
        {
          "output_type": "execute_result",
          "data": {
            "text/plain": [
              "array([[0.42098936, 0.29869524, 0.27701873, ..., 0.5112879 , 0.5146484 ,\n",
              "        0.42093608],\n",
              "       [0.42301026, 0.30326432, 0.2838518 , ..., 0.51104313, 0.5124347 ,\n",
              "        0.4248719 ],\n",
              "       [0.422249  , 0.3015695 , 0.28087217, ..., 0.51109755, 0.5136399 ,\n",
              "        0.4228967 ],\n",
              "       ...,\n",
              "       [0.42275494, 0.30267504, 0.2831155 , ..., 0.5110866 , 0.51259047,\n",
              "        0.4245385 ],\n",
              "       [0.4228888 , 0.3029251 , 0.28426868, ..., 0.51113665, 0.51179075,\n",
              "        0.4256652 ],\n",
              "       [0.422647  , 0.3026142 , 0.281343  , ..., 0.5109522 , 0.51408225,\n",
              "        0.4224744 ]], dtype=float32)"
            ]
          },
          "metadata": {},
          "execution_count": 37
        }
      ]
    },
    {
      "cell_type": "code",
      "source": [
        "test_loss=tf.keras.losses.mae(reconstructions,anomalous_test_data).numpy()\n",
        "plt.hist(test_loss,bins=50,density=True)\n",
        "plt.xlabel(\"Test Loss\")\n",
        "plt.ylabel(\"No of Examples\")\n",
        "plt.show()"
      ],
      "metadata": {
        "colab": {
          "base_uri": "https://localhost:8080/",
          "height": 279
        },
        "id": "LO-DfLdMhG8L",
        "outputId": "005deb93-dc3f-4023-f16c-630405d05ef8"
      },
      "execution_count": 38,
      "outputs": [
        {
          "output_type": "display_data",
          "data": {
            "text/plain": [
              "<Figure size 432x288 with 1 Axes>"
            ],
            "image/png": "[encoded data removed]"
          },
          "metadata": {
            "needs_background": "light"
          }
        }
      ]
    },
    {
      "cell_type": "code",
      "source": [
        "def predict(model,data,threshold):\n",
        "    reconstructions=model(data)\n",
        "    loss=tf.keras.losses.mae(reconstructions,data)\n",
        "    return tf.math.less(loss,threshold)\n",
        "def print_stats(prediction,labels):\n",
        "    print(\"Accuracy={}\".format(accuracy_score(labels,preds)))\n",
        "    print(\"Precision={}\".format(precision_score(labels,preds)))\n",
        "    print(\"Recall={}\".format(recall_score(labels,preds)))"
      ],
      "metadata": {
        "id": "Hn_p3Y8ZhA8T"
      },
      "execution_count": 39,
      "outputs": []
    },
    {
      "cell_type": "code",
      "source": [
        "preds=predict(autoencoder,test_data,threshold)\n",
        "print_stats(preds,test_labels)"
      ],
      "metadata": {
        "colab": {
          "base_uri": "https://localhost:8080/"
        },
        "id": "7WVGPzpA5rDo",
        "outputId": "9c4f6e6b-01a0-40f7-cd1b-fd87c660d641"
      },
      "execution_count": 40,
      "outputs": [
        {
          "output_type": "stream",
          "name": "stdout",
          "text": [
            "Accuracy=0.946\n",
            "Precision=0.9922178988326849\n",
            "Recall=0.9107142857142857\n"
          ]
        }
      ]
    }
  ]
}