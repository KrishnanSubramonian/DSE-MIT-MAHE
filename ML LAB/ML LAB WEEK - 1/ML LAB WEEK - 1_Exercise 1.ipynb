{
 "cells": [
  {
   "cell_type": "markdown",
   "id": "61cac05f",
   "metadata": {},
   "source": [
    "# SECTION A [BATCH 1]\n",
    "# WEEK 1"
   ]
  },
  {
   "cell_type": "markdown",
   "id": "90bc019c",
   "metadata": {},
   "source": [
    "# Exercise 1"
   ]
  },
  {
   "cell_type": "markdown",
   "id": "7ff703da",
   "metadata": {},
   "source": [
    "**Used Resources:**"
   ]
  },
  {
   "cell_type": "markdown",
   "id": "cf1f034c",
   "metadata": {},
   "source": [
    "**1.)https://towardsdatascience.com/linear-regression-using-least-squares-a4c3456e8570**"
   ]
  },
  {
   "cell_type": "markdown",
   "id": "140a0347",
   "metadata": {},
   "source": [
    "**2.)**"
   ]
  },
  {
   "cell_type": "markdown",
   "id": "85ad8a42",
   "metadata": {},
   "source": [
    "**3.)**"
   ]
  },
  {
   "cell_type": "markdown",
   "id": "7ccec198",
   "metadata": {},
   "source": [
    "**4.)**"
   ]
  },
  {
   "cell_type": "markdown",
   "id": "277d9b23",
   "metadata": {},
   "source": [
    "# DATASET: mt cars.csv"
   ]
  },
  {
   "cell_type": "markdown",
   "id": "22a6abc8",
   "metadata": {},
   "source": [
    "# Write a user defined function ‘myFnLinReg(x,y)’ to perform Simple Linear Regression given one predictor attribute and one response attribute. The function should return the coefficients of the straight line"
   ]
  },
  {
   "cell_type": "code",
   "execution_count": 1,
   "id": "56a1c612",
   "metadata": {},
   "outputs": [],
   "source": [
    "import pandas as pd\n",
    "import numpy as np\n",
    "import matplotlib.pyplot as plt\n",
    "import seaborn as sb\n",
    "\n",
    "%matplotlib inline"
   ]
  },
  {
   "cell_type": "code",
   "execution_count": 3,
   "id": "15894a70",
   "metadata": {
    "scrolled": true
   },
   "outputs": [
    {
     "data": {
      "text/html": [
       "<div>\n",
       "<style scoped>\n",
       "    .dataframe tbody tr th:only-of-type {\n",
       "        vertical-align: middle;\n",
       "    }\n",
       "\n",
       "    .dataframe tbody tr th {\n",
       "        vertical-align: top;\n",
       "    }\n",
       "\n",
       "    .dataframe thead th {\n",
       "        text-align: right;\n",
       "    }\n",
       "</style>\n",
       "<table border=\"1\" class=\"dataframe\">\n",
       "  <thead>\n",
       "    <tr style=\"text-align: right;\">\n",
       "      <th></th>\n",
       "      <th>model</th>\n",
       "      <th>mpg</th>\n",
       "      <th>cyl</th>\n",
       "      <th>disp</th>\n",
       "      <th>hp</th>\n",
       "      <th>drat</th>\n",
       "      <th>wt</th>\n",
       "      <th>qsec</th>\n",
       "      <th>vs</th>\n",
       "      <th>am</th>\n",
       "      <th>gear</th>\n",
       "      <th>carb</th>\n",
       "    </tr>\n",
       "  </thead>\n",
       "  <tbody>\n",
       "    <tr>\n",
       "      <th>0</th>\n",
       "      <td>Mazda RX4</td>\n",
       "      <td>21.0</td>\n",
       "      <td>6</td>\n",
       "      <td>160.0</td>\n",
       "      <td>110</td>\n",
       "      <td>3.90</td>\n",
       "      <td>2.620</td>\n",
       "      <td>16.46</td>\n",
       "      <td>0</td>\n",
       "      <td>1</td>\n",
       "      <td>4</td>\n",
       "      <td>4</td>\n",
       "    </tr>\n",
       "    <tr>\n",
       "      <th>1</th>\n",
       "      <td>Mazda RX4 Wag</td>\n",
       "      <td>21.0</td>\n",
       "      <td>6</td>\n",
       "      <td>160.0</td>\n",
       "      <td>110</td>\n",
       "      <td>3.90</td>\n",
       "      <td>2.875</td>\n",
       "      <td>17.02</td>\n",
       "      <td>0</td>\n",
       "      <td>1</td>\n",
       "      <td>4</td>\n",
       "      <td>4</td>\n",
       "    </tr>\n",
       "    <tr>\n",
       "      <th>2</th>\n",
       "      <td>Datsun 710</td>\n",
       "      <td>22.8</td>\n",
       "      <td>4</td>\n",
       "      <td>108.0</td>\n",
       "      <td>93</td>\n",
       "      <td>3.85</td>\n",
       "      <td>2.320</td>\n",
       "      <td>18.61</td>\n",
       "      <td>1</td>\n",
       "      <td>1</td>\n",
       "      <td>4</td>\n",
       "      <td>1</td>\n",
       "    </tr>\n",
       "    <tr>\n",
       "      <th>3</th>\n",
       "      <td>Hornet 4 Drive</td>\n",
       "      <td>21.4</td>\n",
       "      <td>6</td>\n",
       "      <td>258.0</td>\n",
       "      <td>110</td>\n",
       "      <td>3.08</td>\n",
       "      <td>3.215</td>\n",
       "      <td>19.44</td>\n",
       "      <td>1</td>\n",
       "      <td>0</td>\n",
       "      <td>3</td>\n",
       "      <td>1</td>\n",
       "    </tr>\n",
       "    <tr>\n",
       "      <th>4</th>\n",
       "      <td>Hornet Sportabout</td>\n",
       "      <td>18.7</td>\n",
       "      <td>8</td>\n",
       "      <td>360.0</td>\n",
       "      <td>175</td>\n",
       "      <td>3.15</td>\n",
       "      <td>3.440</td>\n",
       "      <td>17.02</td>\n",
       "      <td>0</td>\n",
       "      <td>0</td>\n",
       "      <td>3</td>\n",
       "      <td>2</td>\n",
       "    </tr>\n",
       "  </tbody>\n",
       "</table>\n",
       "</div>"
      ],
      "text/plain": [
       "               model   mpg  cyl   disp   hp  drat     wt   qsec  vs  am  gear  \\\n",
       "0          Mazda RX4  21.0    6  160.0  110  3.90  2.620  16.46   0   1     4   \n",
       "1      Mazda RX4 Wag  21.0    6  160.0  110  3.90  2.875  17.02   0   1     4   \n",
       "2         Datsun 710  22.8    4  108.0   93  3.85  2.320  18.61   1   1     4   \n",
       "3     Hornet 4 Drive  21.4    6  258.0  110  3.08  3.215  19.44   1   0     3   \n",
       "4  Hornet Sportabout  18.7    8  360.0  175  3.15  3.440  17.02   0   0     3   \n",
       "\n",
       "   carb  \n",
       "0     4  \n",
       "1     4  \n",
       "2     1  \n",
       "3     1  \n",
       "4     2  "
      ]
     },
     "execution_count": 3,
     "metadata": {},
     "output_type": "execute_result"
    }
   ],
   "source": [
    "mt = pd.read_csv(\"mtcars.csv\")\n",
    "mt.head()"
   ]
  },
  {
   "cell_type": "code",
   "execution_count": 24,
   "id": "2d301ba7",
   "metadata": {},
   "outputs": [
    {
     "data": {
      "image/png": "[encoded data removed]",
      "text/plain": [
       "<Figure size 432x432 with 1 Axes>"
      ]
     },
     "metadata": {
      "needs_background": "light"
     },
     "output_type": "display_data"
    }
   ],
   "source": [
    "x = mt.iloc[:, 6]\n",
    "y = mt.iloc[:, 1]\n",
    "\n",
    "plt.figure(figsize = (6, 6))\n",
    "plt.scatter(x, y)\n",
    "plt.xlabel('wt')\n",
    "plt.ylabel('mpg')\n",
    "plt.title('mpg Vs wt')\n",
    "plt.show()"
   ]
  },
  {
   "cell_type": "code",
   "execution_count": 48,
   "id": "fa0710cf",
   "metadata": {
    "scrolled": true
   },
   "outputs": [
    {
     "name": "stdout",
     "output_type": "stream",
     "text": [
      "x = \n",
      " 0     2.620\n",
      "1     2.875\n",
      "2     2.320\n",
      "3     3.215\n",
      "4     3.440\n",
      "5     3.460\n",
      "6     3.570\n",
      "7     3.190\n",
      "8     3.150\n",
      "9     3.440\n",
      "10    3.440\n",
      "11    4.070\n",
      "12    3.730\n",
      "13    3.780\n",
      "14    5.250\n",
      "15    5.424\n",
      "16    5.345\n",
      "17    2.200\n",
      "18    1.615\n",
      "19    1.835\n",
      "20    2.465\n",
      "21    3.520\n",
      "22    3.435\n",
      "23    3.840\n",
      "24    3.845\n",
      "25    1.935\n",
      "26    2.140\n",
      "27    1.513\n",
      "28    3.170\n",
      "29    2.770\n",
      "30    3.570\n",
      "31    2.780\n",
      "Name: wt, dtype: float64\n",
      "y = \n",
      " 0     21.0\n",
      "1     21.0\n",
      "2     22.8\n",
      "3     21.4\n",
      "4     18.7\n",
      "5     18.1\n",
      "6     14.3\n",
      "7     24.4\n",
      "8     22.8\n",
      "9     19.2\n",
      "10    17.8\n",
      "11    16.4\n",
      "12    17.3\n",
      "13    15.2\n",
      "14    10.4\n",
      "15    10.4\n",
      "16    14.7\n",
      "17    32.4\n",
      "18    30.4\n",
      "19    33.9\n",
      "20    21.5\n",
      "21    15.5\n",
      "22    15.2\n",
      "23    13.3\n",
      "24    19.2\n",
      "25    27.3\n",
      "26    26.0\n",
      "27    30.4\n",
      "28    15.8\n",
      "29    19.7\n",
      "30    15.0\n",
      "31    21.4\n",
      "Name: mpg, dtype: float64\n"
     ]
    }
   ],
   "source": [
    "print(\"x = \\n\", x)\n",
    "print(\"y = \\n\", y)"
   ]
  },
  {
   "cell_type": "code",
   "execution_count": 29,
   "id": "e8bbe51e",
   "metadata": {},
   "outputs": [
    {
     "name": "stdout",
     "output_type": "stream",
     "text": [
      "3.2172499999999995\n",
      "20.090624999999996\n"
     ]
    }
   ],
   "source": [
    "x_mean = np.mean(x)\n",
    "y_mean = np.mean(y)\n",
    "\n",
    "print(x_mean)\n",
    "print(y_mean)"
   ]
  },
  {
   "cell_type": "code",
   "execution_count": 94,
   "id": "f1424c99",
   "metadata": {},
   "outputs": [
    {
     "name": "stdout",
     "output_type": "stream",
     "text": [
      "y = 37.285126167342014 + (-5.344471572722675)*x\n"
     ]
    }
   ],
   "source": [
    "# Model Building: -\n",
    "\n",
    "def myFnLinReg(x, y):\n",
    "    \n",
    "    numerator = 0\n",
    "    denominator = 0\n",
    "    \n",
    "    x_mean = np.mean(x)\n",
    "    y_mean = np.mean(y)\n",
    "\n",
    "    for i in range(len(x)):\n",
    "        \n",
    "        numerator += (x[i] - x_mean)*(y[i] - y_mean)\n",
    "        denominator += (x[i] - x_mean)**2\n",
    "    \n",
    "    \n",
    "    theta_1 = numerator / denominator\n",
    "    theta_0 = y_mean - (theta_1)*x_mean\n",
    "\n",
    "    return(theta_0, theta_1)\n",
    "\n",
    "theta_0, theta_1 = myFnLinReg(x, y)\n",
    "\n",
    "y_pred_line = theta_0 + theta_1*x\n",
    "\n",
    "print(\"y = {} + ({})*x\".format(theta_0, theta_1))"
   ]
  },
  {
   "cell_type": "code",
   "execution_count": 146,
   "id": "f284a563",
   "metadata": {},
   "outputs": [
    {
     "data": {
      "text/plain": [
       "0     23.282611\n",
       "1     21.919770\n",
       "2     24.885952\n",
       "3     20.102650\n",
       "4     18.900144\n",
       "5     18.793255\n",
       "6     18.205363\n",
       "7     20.236262\n",
       "8     20.450041\n",
       "9     18.900144\n",
       "10    18.900144\n",
       "11    15.533127\n",
       "12    17.350247\n",
       "13    17.083024\n",
       "14     9.226650\n",
       "15     8.296712\n",
       "16     8.718926\n",
       "17    25.527289\n",
       "18    28.653805\n",
       "19    27.478021\n",
       "20    24.111004\n",
       "21    18.472586\n",
       "22    18.926866\n",
       "23    16.762355\n",
       "24    16.735633\n",
       "25    26.943574\n",
       "26    25.847957\n",
       "27    29.198941\n",
       "28    20.343151\n",
       "29    22.480940\n",
       "30    18.205363\n",
       "31    22.427495\n",
       "Name: wt, dtype: float64"
      ]
     },
     "execution_count": 146,
     "metadata": {},
     "output_type": "execute_result"
    }
   ],
   "source": [
    "y_pred_line"
   ]
  },
  {
   "cell_type": "code",
   "execution_count": null,
   "id": "217d0f81",
   "metadata": {},
   "outputs": [],
   "source": [
    "# You can also follow this process to get theta_0, theta_1: -\n",
    "\n",
    "#X = mtcars.wt\n",
    "#X = np.array(X)\n",
    "\n",
    "#Y = mtcars.mpg\n",
    "#Y = np.array(Y)\n",
    "\n",
    "\n",
    "#def myFnLinReg(x,y):\n",
    "\n",
    "#    x_mean = np.mean(X)\n",
    "#    y_mean = np.mean(Y)\n",
    "\n",
    "#    m = np.sum((X-x_mean)*(Y-y_mean))/np.sum((X-x_mean)**2)\n",
    "#    c = y_mean - m*x_mean\n",
    "\n",
    "#    return c, m"
   ]
  },
  {
   "cell_type": "code",
   "execution_count": 51,
   "id": "89457fe8",
   "metadata": {},
   "outputs": [
    {
     "name": "stdout",
     "output_type": "stream",
     "text": [
      "The constant is :\n",
      " 37.285126167342014\n",
      "\n",
      "The coefficient is :\n",
      " -5.344471572722675\n"
     ]
    }
   ],
   "source": [
    "print(\"The constant is :\\n\", theta_0)\n",
    "print(\"\\nThe coefficient is :\\n\", theta_1)"
   ]
  },
  {
   "cell_type": "code",
   "execution_count": 63,
   "id": "05ee8af1",
   "metadata": {},
   "outputs": [
    {
     "data": {
      "image/png": "[encoded data removed]",
      "text/plain": [
       "<Figure size 432x432 with 1 Axes>"
      ]
     },
     "metadata": {
      "needs_background": "light"
     },
     "output_type": "display_data"
    }
   ],
   "source": [
    "plt.figure(figsize = (6, 6))\n",
    "plt.scatter(x, y)                                                                       # Actual\n",
    "#plt.scatter(x, y_pred_line, color = 'red')\n",
    "\n",
    "#plt.plot(x, y_pred_line, color = 'red')\n",
    "          # OR\n",
    "plt.plot([min(x), max(x)], [max(y_pred_line), min(y_pred_line)], color = 'red')         # Predicted\n",
    "\n",
    "plt.xlabel('wt')\n",
    "plt.ylabel('mpg')\n",
    "plt.title('Linear Regression')\n",
    "plt.show()"
   ]
  },
  {
   "cell_type": "markdown",
   "id": "1c52a6f1",
   "metadata": {},
   "source": [
    "# Use mtcars data set and consider the attributes mpg and weight. Split data into train and test sets (70 %,30%). Put training data set to ‘myFnLinReg(x,y)’ to build a linear regression model to predict mpg given the weight of the car"
   ]
  },
  {
   "cell_type": "code",
   "execution_count": 98,
   "id": "efe8193e",
   "metadata": {},
   "outputs": [],
   "source": [
    "from sklearn.model_selection import train_test_split\n",
    "\n",
    "x_train, x_test, y_train, y_test = train_test_split(x, y, test_size = 0.3, random_state = 2000)"
   ]
  },
  {
   "cell_type": "code",
   "execution_count": 104,
   "id": "9d3cfb4b",
   "metadata": {
    "scrolled": false
   },
   "outputs": [
    {
     "data": {
      "text/plain": [
       "0     2.620\n",
       "19    1.835\n",
       "9     3.440\n",
       "21    3.520\n",
       "7     3.190\n",
       "17    2.200\n",
       "12    3.730\n",
       "24    3.845\n",
       "1     2.875\n",
       "11    4.070\n",
       "2     2.320\n",
       "15    5.424\n",
       "26    2.140\n",
       "29    2.770\n",
       "23    3.840\n",
       "18    1.615\n",
       "4     3.440\n",
       "31    2.780\n",
       "13    3.780\n",
       "14    5.250\n",
       "8     3.150\n",
       "22    3.435\n",
       "Name: wt, dtype: float64"
      ]
     },
     "execution_count": 104,
     "metadata": {},
     "output_type": "execute_result"
    }
   ],
   "source": [
    "x_train"
   ]
  },
  {
   "cell_type": "code",
   "execution_count": 100,
   "id": "2316db1d",
   "metadata": {},
   "outputs": [
    {
     "data": {
      "text/plain": [
       "array([2.62 , 1.835, 3.44 , 3.52 , 3.19 , 2.2  , 3.73 , 3.845, 2.875,\n",
       "       4.07 , 2.32 , 5.424, 2.14 , 2.77 , 3.84 , 1.615, 3.44 , 2.78 ,\n",
       "       3.78 , 5.25 , 3.15 , 3.435])"
      ]
     },
     "execution_count": 100,
     "metadata": {},
     "output_type": "execute_result"
    }
   ],
   "source": [
    "x_train.values                \n",
    "\n",
    "# Since we a for loop where 'i' iterates one by one so we need to convert the above cell result into a orderly array with proper\n",
    "# index"
   ]
  },
  {
   "cell_type": "code",
   "execution_count": 130,
   "id": "b769c655",
   "metadata": {},
   "outputs": [
    {
     "name": "stdout",
     "output_type": "stream",
     "text": [
      "[23.91447691 28.49456469 19.1301814  18.66342087 20.58880808 26.36496973\n",
      " 17.43817445 16.76720618 22.4266777  15.45444217 25.66482893  7.55452007\n",
      " 26.71504014 23.0393009  16.79637872 29.77815617 19.1301814  22.98095584\n",
      " 17.14644912  8.56972424 20.82218835 19.15935394]\n"
     ]
    }
   ],
   "source": [
    "c, m = myFnLinReg(x_train.values, y_train.values)\n",
    "\n",
    "y_pred_train = c + m*x_train.values\n",
    "print(y_pred_train)"
   ]
  },
  {
   "cell_type": "code",
   "execution_count": 117,
   "id": "8ea4df09",
   "metadata": {
    "scrolled": false
   },
   "outputs": [
    {
     "data": {
      "text/plain": [
       "y_pred_train  0     23.914477\n",
       "              1     28.494565\n",
       "              2     19.130181\n",
       "              3     18.663421\n",
       "              4     20.588808\n",
       "              5     26.364970\n",
       "              6     17.438174\n",
       "              7     16.767206\n",
       "              8     22.426678\n",
       "              9     15.454442\n",
       "              10    25.664829\n",
       "              11     7.554520\n",
       "              12    26.715040\n",
       "              13    23.039301\n",
       "              14    16.796379\n",
       "              15    29.778156\n",
       "              16    19.130181\n",
       "              17    22.980956\n",
       "              18    17.146449\n",
       "              19     8.569724\n",
       "              20    20.822188\n",
       "              21    19.159354\n",
       "dtype: float64"
      ]
     },
     "execution_count": 117,
     "metadata": {},
     "output_type": "execute_result"
    }
   ],
   "source": [
    "y_pred_train_pd_df = pd.DataFrame({'y_pred_train':y_pred_train})\n",
    "y_pred_train_pd_series = y_pred_train_pd_df.unstack()\n",
    "y_pred_train_pd_series"
   ]
  },
  {
   "cell_type": "code",
   "execution_count": 129,
   "id": "2ed2220d",
   "metadata": {},
   "outputs": [
    {
     "data": {
      "text/plain": [
       "array([2.62 , 1.835, 3.44 , 3.52 , 3.19 , 2.2  , 3.73 , 3.845, 2.875,\n",
       "       4.07 , 2.32 , 5.424, 2.14 , 2.77 , 3.84 , 1.615, 3.44 , 2.78 ,\n",
       "       3.78 , 5.25 , 3.15 , 3.435])"
      ]
     },
     "execution_count": 129,
     "metadata": {},
     "output_type": "execute_result"
    }
   ],
   "source": [
    "x_train.values"
   ]
  },
  {
   "cell_type": "code",
   "execution_count": 132,
   "id": "631fc5dd",
   "metadata": {
    "scrolled": true
   },
   "outputs": [
    {
     "ename": "ValueError",
     "evalue": "x and y must be the same size",
     "output_type": "error",
     "traceback": [
      "\u001b[1;31m---------------------------------------------------------------------------\u001b[0m",
      "\u001b[1;31mValueError\u001b[0m                                Traceback (most recent call last)",
      "\u001b[1;32m~\\AppData\\Local\\Temp/ipykernel_7268/1128644868.py\u001b[0m in \u001b[0;36m<module>\u001b[1;34m\u001b[0m\n\u001b[0;32m      1\u001b[0m \u001b[0mplt\u001b[0m\u001b[1;33m.\u001b[0m\u001b[0mfigure\u001b[0m\u001b[1;33m(\u001b[0m\u001b[0mfigsize\u001b[0m \u001b[1;33m=\u001b[0m \u001b[1;33m(\u001b[0m\u001b[1;36m6\u001b[0m\u001b[1;33m,\u001b[0m \u001b[1;36m6\u001b[0m\u001b[1;33m)\u001b[0m\u001b[1;33m)\u001b[0m\u001b[1;33m\u001b[0m\u001b[1;33m\u001b[0m\u001b[0m\n\u001b[0;32m      2\u001b[0m \u001b[0mplt\u001b[0m\u001b[1;33m.\u001b[0m\u001b[0mscatter\u001b[0m\u001b[1;33m(\u001b[0m\u001b[0mx\u001b[0m\u001b[1;33m,\u001b[0m \u001b[0my\u001b[0m\u001b[1;33m)\u001b[0m\u001b[1;33m\u001b[0m\u001b[1;33m\u001b[0m\u001b[0m\n\u001b[1;32m----> 3\u001b[1;33m \u001b[0mplt\u001b[0m\u001b[1;33m.\u001b[0m\u001b[0mscatter\u001b[0m\u001b[1;33m(\u001b[0m\u001b[0mx\u001b[0m\u001b[1;33m,\u001b[0m \u001b[0my_pred_train\u001b[0m\u001b[1;33m)\u001b[0m\u001b[1;33m\u001b[0m\u001b[1;33m\u001b[0m\u001b[0m\n\u001b[0m\u001b[0;32m      4\u001b[0m \u001b[1;33m\u001b[0m\u001b[0m\n\u001b[0;32m      5\u001b[0m \u001b[0mplt\u001b[0m\u001b[1;33m.\u001b[0m\u001b[0mxlabel\u001b[0m\u001b[1;33m(\u001b[0m\u001b[1;34m'True wt'\u001b[0m\u001b[1;33m)\u001b[0m\u001b[1;33m\u001b[0m\u001b[1;33m\u001b[0m\u001b[0m\n",
      "\u001b[1;32m~\\anaconda3\\lib\\site-packages\\matplotlib\\pyplot.py\u001b[0m in \u001b[0;36mscatter\u001b[1;34m(x, y, s, c, marker, cmap, norm, vmin, vmax, alpha, linewidths, edgecolors, plotnonfinite, data, **kwargs)\u001b[0m\n\u001b[0;32m   2805\u001b[0m         \u001b[0mvmin\u001b[0m\u001b[1;33m=\u001b[0m\u001b[1;32mNone\u001b[0m\u001b[1;33m,\u001b[0m \u001b[0mvmax\u001b[0m\u001b[1;33m=\u001b[0m\u001b[1;32mNone\u001b[0m\u001b[1;33m,\u001b[0m \u001b[0malpha\u001b[0m\u001b[1;33m=\u001b[0m\u001b[1;32mNone\u001b[0m\u001b[1;33m,\u001b[0m \u001b[0mlinewidths\u001b[0m\u001b[1;33m=\u001b[0m\u001b[1;32mNone\u001b[0m\u001b[1;33m,\u001b[0m \u001b[1;33m*\u001b[0m\u001b[1;33m,\u001b[0m\u001b[1;33m\u001b[0m\u001b[1;33m\u001b[0m\u001b[0m\n\u001b[0;32m   2806\u001b[0m         edgecolors=None, plotnonfinite=False, data=None, **kwargs):\n\u001b[1;32m-> 2807\u001b[1;33m     __ret = gca().scatter(\n\u001b[0m\u001b[0;32m   2808\u001b[0m         \u001b[0mx\u001b[0m\u001b[1;33m,\u001b[0m \u001b[0my\u001b[0m\u001b[1;33m,\u001b[0m \u001b[0ms\u001b[0m\u001b[1;33m=\u001b[0m\u001b[0ms\u001b[0m\u001b[1;33m,\u001b[0m \u001b[0mc\u001b[0m\u001b[1;33m=\u001b[0m\u001b[0mc\u001b[0m\u001b[1;33m,\u001b[0m \u001b[0mmarker\u001b[0m\u001b[1;33m=\u001b[0m\u001b[0mmarker\u001b[0m\u001b[1;33m,\u001b[0m \u001b[0mcmap\u001b[0m\u001b[1;33m=\u001b[0m\u001b[0mcmap\u001b[0m\u001b[1;33m,\u001b[0m \u001b[0mnorm\u001b[0m\u001b[1;33m=\u001b[0m\u001b[0mnorm\u001b[0m\u001b[1;33m,\u001b[0m\u001b[1;33m\u001b[0m\u001b[1;33m\u001b[0m\u001b[0m\n\u001b[0;32m   2809\u001b[0m         \u001b[0mvmin\u001b[0m\u001b[1;33m=\u001b[0m\u001b[0mvmin\u001b[0m\u001b[1;33m,\u001b[0m \u001b[0mvmax\u001b[0m\u001b[1;33m=\u001b[0m\u001b[0mvmax\u001b[0m\u001b[1;33m,\u001b[0m \u001b[0malpha\u001b[0m\u001b[1;33m=\u001b[0m\u001b[0malpha\u001b[0m\u001b[1;33m,\u001b[0m \u001b[0mlinewidths\u001b[0m\u001b[1;33m=\u001b[0m\u001b[0mlinewidths\u001b[0m\u001b[1;33m,\u001b[0m\u001b[1;33m\u001b[0m\u001b[1;33m\u001b[0m\u001b[0m\n",
      "\u001b[1;32m~\\anaconda3\\lib\\site-packages\\matplotlib\\__init__.py\u001b[0m in \u001b[0;36minner\u001b[1;34m(ax, data, *args, **kwargs)\u001b[0m\n\u001b[0;32m   1410\u001b[0m     \u001b[1;32mdef\u001b[0m \u001b[0minner\u001b[0m\u001b[1;33m(\u001b[0m\u001b[0max\u001b[0m\u001b[1;33m,\u001b[0m \u001b[1;33m*\u001b[0m\u001b[0margs\u001b[0m\u001b[1;33m,\u001b[0m \u001b[0mdata\u001b[0m\u001b[1;33m=\u001b[0m\u001b[1;32mNone\u001b[0m\u001b[1;33m,\u001b[0m \u001b[1;33m**\u001b[0m\u001b[0mkwargs\u001b[0m\u001b[1;33m)\u001b[0m\u001b[1;33m:\u001b[0m\u001b[1;33m\u001b[0m\u001b[1;33m\u001b[0m\u001b[0m\n\u001b[0;32m   1411\u001b[0m         \u001b[1;32mif\u001b[0m \u001b[0mdata\u001b[0m \u001b[1;32mis\u001b[0m \u001b[1;32mNone\u001b[0m\u001b[1;33m:\u001b[0m\u001b[1;33m\u001b[0m\u001b[1;33m\u001b[0m\u001b[0m\n\u001b[1;32m-> 1412\u001b[1;33m             \u001b[1;32mreturn\u001b[0m \u001b[0mfunc\u001b[0m\u001b[1;33m(\u001b[0m\u001b[0max\u001b[0m\u001b[1;33m,\u001b[0m \u001b[1;33m*\u001b[0m\u001b[0mmap\u001b[0m\u001b[1;33m(\u001b[0m\u001b[0msanitize_sequence\u001b[0m\u001b[1;33m,\u001b[0m \u001b[0margs\u001b[0m\u001b[1;33m)\u001b[0m\u001b[1;33m,\u001b[0m \u001b[1;33m**\u001b[0m\u001b[0mkwargs\u001b[0m\u001b[1;33m)\u001b[0m\u001b[1;33m\u001b[0m\u001b[1;33m\u001b[0m\u001b[0m\n\u001b[0m\u001b[0;32m   1413\u001b[0m \u001b[1;33m\u001b[0m\u001b[0m\n\u001b[0;32m   1414\u001b[0m         \u001b[0mbound\u001b[0m \u001b[1;33m=\u001b[0m \u001b[0mnew_sig\u001b[0m\u001b[1;33m.\u001b[0m\u001b[0mbind\u001b[0m\u001b[1;33m(\u001b[0m\u001b[0max\u001b[0m\u001b[1;33m,\u001b[0m \u001b[1;33m*\u001b[0m\u001b[0margs\u001b[0m\u001b[1;33m,\u001b[0m \u001b[1;33m**\u001b[0m\u001b[0mkwargs\u001b[0m\u001b[1;33m)\u001b[0m\u001b[1;33m\u001b[0m\u001b[1;33m\u001b[0m\u001b[0m\n",
      "\u001b[1;32m~\\anaconda3\\lib\\site-packages\\matplotlib\\axes\\_axes.py\u001b[0m in \u001b[0;36mscatter\u001b[1;34m(self, x, y, s, c, marker, cmap, norm, vmin, vmax, alpha, linewidths, edgecolors, plotnonfinite, **kwargs)\u001b[0m\n\u001b[0;32m   4321\u001b[0m         \u001b[0my\u001b[0m \u001b[1;33m=\u001b[0m \u001b[0mnp\u001b[0m\u001b[1;33m.\u001b[0m\u001b[0mma\u001b[0m\u001b[1;33m.\u001b[0m\u001b[0mravel\u001b[0m\u001b[1;33m(\u001b[0m\u001b[0my\u001b[0m\u001b[1;33m)\u001b[0m\u001b[1;33m\u001b[0m\u001b[1;33m\u001b[0m\u001b[0m\n\u001b[0;32m   4322\u001b[0m         \u001b[1;32mif\u001b[0m \u001b[0mx\u001b[0m\u001b[1;33m.\u001b[0m\u001b[0msize\u001b[0m \u001b[1;33m!=\u001b[0m \u001b[0my\u001b[0m\u001b[1;33m.\u001b[0m\u001b[0msize\u001b[0m\u001b[1;33m:\u001b[0m\u001b[1;33m\u001b[0m\u001b[1;33m\u001b[0m\u001b[0m\n\u001b[1;32m-> 4323\u001b[1;33m             \u001b[1;32mraise\u001b[0m \u001b[0mValueError\u001b[0m\u001b[1;33m(\u001b[0m\u001b[1;34m\"x and y must be the same size\"\u001b[0m\u001b[1;33m)\u001b[0m\u001b[1;33m\u001b[0m\u001b[1;33m\u001b[0m\u001b[0m\n\u001b[0m\u001b[0;32m   4324\u001b[0m \u001b[1;33m\u001b[0m\u001b[0m\n\u001b[0;32m   4325\u001b[0m         \u001b[1;32mif\u001b[0m \u001b[0ms\u001b[0m \u001b[1;32mis\u001b[0m \u001b[1;32mNone\u001b[0m\u001b[1;33m:\u001b[0m\u001b[1;33m\u001b[0m\u001b[1;33m\u001b[0m\u001b[0m\n",
      "\u001b[1;31mValueError\u001b[0m: x and y must be the same size"
     ]
    },
    {
     "data": {
      "image/png": "[encoded data removed]",
      "text/plain": [
       "<Figure size 432x432 with 1 Axes>"
      ]
     },
     "metadata": {
      "needs_background": "light"
     },
     "output_type": "display_data"
    }
   ],
   "source": [
    "# Doubt: why is error comming here, in week 1 Exercise 2 has the same situation but the plot is being drawn there why not here ?\n",
    "\n",
    "plt.figure(figsize = (6, 6))\n",
    "plt.scatter(x, y)\n",
    "plt.scatter(x, y_pred_train)\n",
    "\n",
    "plt.xlabel('True wt')\n",
    "plt.ylabel('Predicted mpg')\n",
    "plt.title('Predicted mpg Vs True wt')\n",
    "plt.show()"
   ]
  },
  {
   "cell_type": "code",
   "execution_count": null,
   "id": "2f6d286b",
   "metadata": {},
   "outputs": [],
   "source": []
  },
  {
   "cell_type": "code",
   "execution_count": null,
   "id": "d8602081",
   "metadata": {},
   "outputs": [],
   "source": []
  },
  {
   "cell_type": "markdown",
   "id": "9fc60741",
   "metadata": {},
   "source": [
    "# What is the mpg of a car, whose weight is 6.7?"
   ]
  },
  {
   "cell_type": "code",
   "execution_count": 81,
   "id": "b717deca",
   "metadata": {},
   "outputs": [
    {
     "name": "stdout",
     "output_type": "stream",
     "text": [
      "Predicted miles per gallon(mpg) of car with weight(wt) 6.7 is: 1.4771666301000934\n"
     ]
    }
   ],
   "source": [
    "def predict(x_test):\n",
    "    y = theta_0 + theta_1*x_test\n",
    "    return y\n",
    "\n",
    "print(\"Predicted miles per gallon(mpg) of car with weight(wt) 6.7 is: {}\".format(predict(6.7)))"
   ]
  },
  {
   "cell_type": "markdown",
   "id": "a1ea1a69",
   "metadata": {},
   "source": [
    "# Compute and print accuracy measures such as RMSE and R2 for the test set"
   ]
  },
  {
   "cell_type": "code",
   "execution_count": null,
   "id": "80751ac9",
   "metadata": {},
   "outputs": [],
   "source": []
  },
  {
   "cell_type": "code",
   "execution_count": null,
   "id": "d325d8ea",
   "metadata": {},
   "outputs": [],
   "source": []
  },
  {
   "cell_type": "code",
   "execution_count": null,
   "id": "cf273714",
   "metadata": {},
   "outputs": [],
   "source": []
  },
  {
   "cell_type": "code",
   "execution_count": null,
   "id": "f4efd382",
   "metadata": {},
   "outputs": [],
   "source": []
  },
  {
   "cell_type": "code",
   "execution_count": null,
   "id": "cf604e48",
   "metadata": {},
   "outputs": [],
   "source": []
  },
  {
   "cell_type": "code",
   "execution_count": null,
   "id": "d3851546",
   "metadata": {},
   "outputs": [],
   "source": []
  },
  {
   "cell_type": "code",
   "execution_count": null,
   "id": "93a7cccb",
   "metadata": {},
   "outputs": [],
   "source": []
  },
  {
   "cell_type": "code",
   "execution_count": 136,
   "id": "616e8d37",
   "metadata": {},
   "outputs": [],
   "source": [
    "def RSME(y_data, y_predict):\n",
    "    return np.sqrt(np.mean(np.sum(np.abs(np.subtract(y_data, y_predict))**2)))"
   ]
  },
  {
   "cell_type": "code",
   "execution_count": 137,
   "id": "cab39409",
   "metadata": {},
   "outputs": [
    {
     "name": "stdout",
     "output_type": "stream",
     "text": [
      "rmse =  16.682983472489067\n"
     ]
    }
   ],
   "source": [
    "rmse = RSME(y, y_pred_line)\n",
    "print(\"rmse = \", rmse)"
   ]
  },
  {
   "cell_type": "code",
   "execution_count": 138,
   "id": "e137e5fb",
   "metadata": {},
   "outputs": [],
   "source": [
    "def R_Squared(y_data, y_predict):\n",
    "    y_mean = np.mean(y_data)\n",
    "    ssr = np.sum(np.subtract(y_predict, y_mean)**2)\n",
    "    sst = np.sum(np.subtract(y_data, y_mean)**2)\n",
    "    \n",
    "    return np.divide(ssr,sst)"
   ]
  },
  {
   "cell_type": "code",
   "execution_count": 141,
   "id": "5992bfa1",
   "metadata": {},
   "outputs": [
    {
     "name": "stdout",
     "output_type": "stream",
     "text": [
      "r_Square =  0.7528327936582645\n"
     ]
    }
   ],
   "source": [
    "rsquared = R_Squared(y, y_pred_line)\n",
    "print(\"r_Square = \", rsquared)"
   ]
  },
  {
   "cell_type": "code",
   "execution_count": 145,
   "id": "5e81d29c",
   "metadata": {},
   "outputs": [
    {
     "name": "stdout",
     "output_type": "stream",
     "text": [
      "R_Square = 0.7528327936582646\n",
      "RMSE = 2.9491626859550286\n"
     ]
    }
   ],
   "source": [
    "from sklearn.metrics import r2_score, mean_squared_error\n",
    "\n",
    "r2 = r2_score(y, y_pred_line)\n",
    "rmse = mean_squared_error(y, y_pred_line)**0.5\n",
    "\n",
    "print(\"R_Square = {}\\nRMSE = {}\".format(r2, rmse))"
   ]
  },
  {
   "cell_type": "code",
   "execution_count": null,
   "id": "e2ecaf3c",
   "metadata": {},
   "outputs": [],
   "source": []
  },
  {
   "cell_type": "code",
   "execution_count": null,
   "id": "41abb620",
   "metadata": {},
   "outputs": [],
   "source": []
  },
  {
   "cell_type": "markdown",
   "id": "05089592",
   "metadata": {},
   "source": [
    "# Apply the stochastic gradient descent and mini batch gradient descent algorithms to enhance the accuracy and visualize the cost function"
   ]
  },
  {
   "cell_type": "code",
   "execution_count": 152,
   "id": "1d82a14d",
   "metadata": {},
   "outputs": [],
   "source": [
    "X_train, X_test,Y_train,Y_test= train_test_split(x, y,test_size=0.20,random_state=1)  "
   ]
  },
  {
   "cell_type": "code",
   "execution_count": 153,
   "id": "35c5cb77",
   "metadata": {},
   "outputs": [],
   "source": [
    "X_train = np.vstack((np.ones((X_train.shape[0], )), X_train.T)).T\n",
    "X_test = np.vstack((np.ones((X_test.shape[0], )), X_test.T)).T"
   ]
  },
  {
   "cell_type": "code",
   "execution_count": 148,
   "id": "57e005a1",
   "metadata": {},
   "outputs": [],
   "source": [
    "def stochastic_model(X, Y, learning_rate, iteration):\n",
    "    m_test = Y.size\n",
    "    m,n = X.shape\n",
    "    theta = np.random.rand(n, 1)\n",
    "    cost_list = []\n",
    "    cost = 0\n",
    "    for i in range(iteration):\n",
    "        cost = 0\n",
    "        for j in range(m):\n",
    "            y_pred = np.dot(X[j], theta).reshape(1,1)\n",
    "            cost = cost + np.square(y_pred - Y[j])\n",
    "            d_theta = np.dot((y_pred - Y[j]).reshape(1,1),(X[j].reshape(2,1)).T)\n",
    "            theta = theta - learning_rate*(d_theta.T)\n",
    "            #cost_list.append(cost)\n",
    "            #to print the cost for 10 times\n",
    "        cost1 = cost/(2*m)\n",
    "        cost_list.append(cost1)\n",
    "        if(i%200 == 0):\n",
    "                print(Y)\n",
    "                print(y_pred)\n",
    "                print(cost1)\n",
    "    \n",
    "    return theta, cost_list"
   ]
  },
  {
   "cell_type": "code",
   "execution_count": 149,
   "id": "57906186",
   "metadata": {},
   "outputs": [],
   "source": [
    "def random_mini_batches(X, Y, mini_batch_size = 4,seed = 0):\n",
    "\n",
    "    \n",
    "            \n",
    "    m = X.shape[1]                  \n",
    "    mini_batches = []\n",
    "        \n",
    "   \n",
    "    permutation = list(np.random.permutation(m))\n",
    "    shuffled_X = X[:, permutation]\n",
    "    shuffled_Y = Y[:, permutation].reshape((1,m))\n",
    "\n",
    "    \n",
    "    num_complete_minibatches = math.floor(m/mini_batch_size) \n",
    "    for k in range(0, num_complete_minibatches):\n",
    "\n",
    "        mini_batch_X = shuffled_X[:, k*mini_batch_size : (k+1)*mini_batch_size]\n",
    "        mini_batch_Y = shuffled_Y[:, k*mini_batch_size : (k+1)*mini_batch_size]\n",
    "\n",
    "        mini_batch = (mini_batch_X, mini_batch_Y)\n",
    "        mini_batches.append(mini_batch)\n",
    "    \n",
    " \n",
    "    if m % mini_batch_size != 0:\n",
    "\n",
    "        mini_batch_X = shuffled_X[:, int(m/mini_batch_size)*mini_batch_size : ]\n",
    "        mini_batch_Y = shuffled_Y[:, int(m/mini_batch_size)*mini_batch_size : ]\n",
    "        mini_batch = (mini_batch_X, mini_batch_Y)\n",
    "        mini_batches.append(mini_batch)\n",
    "    \n",
    "    return mini_batches"
   ]
  },
  {
   "cell_type": "code",
   "execution_count": 150,
   "id": "4d521297",
   "metadata": {},
   "outputs": [],
   "source": [
    "def minibatch_model(X,Y,minibatch_number,learning_rate, iteration):\n",
    "        #m_test = Y.size\n",
    "    m,n = X.shape\n",
    "    theta = np.random.rand(n, 1)\n",
    "    cost_list = []\n",
    "    for i in range(iteration):\n",
    "        \n",
    "        for j in range(minibatch_number):\n",
    "            m_curr = Y[j].size\n",
    "            y_pred = np.dot(X[j], theta)\n",
    "            cost = (1/(2*m_curr))*np.sum(np.square(y_pred - Y[j]))\n",
    "            d_theta = (1/m_curr)*np.dot(X[j].T.reshape(2,1), (y_pred - Y[j]).reshape(1,1))\n",
    "            theta = theta - learning_rate*d_theta\n",
    "\n",
    "        \n",
    "        cost_list.append(cost)\n",
    "        \n",
    "    #cost_list.append(cost_list_mini)   \n",
    "    return theta, cost_list"
   ]
  },
  {
   "cell_type": "code",
   "execution_count": 154,
   "id": "05fbbfea",
   "metadata": {},
   "outputs": [],
   "source": [
    "Y_train1 = np.array(Y_train)"
   ]
  },
  {
   "cell_type": "code",
   "execution_count": 179,
   "id": "49a46c46",
   "metadata": {},
   "outputs": [
    {
     "name": "stdout",
     "output_type": "stream",
     "text": [
      "3875.4543842069806\n",
      "225.08684092788175\n",
      "171.19801403119757\n",
      "130.21089943510597\n",
      "99.03665312735218\n",
      "75.32594203110993\n",
      "57.2918951085502\n",
      "43.57544235920062\n",
      "33.14289347912735\n",
      "25.20803757111723\n",
      "19.172893235379302\n",
      "14.58264388801294\n",
      "11.091362172308811\n",
      "8.43594040847729\n",
      "6.416262445477976\n",
      "4.880122639069479\n",
      "3.711755430007847\n",
      "2.8231110959989634\n",
      "2.1472202063527788\n",
      "1.6331467157292907\n",
      "1.2421493553415184\n",
      "0.9447620389000627\n",
      "0.7185732587698389\n",
      "0.546537124650209\n",
      "0.4156887623848948\n",
      "0.31616726363040715\n",
      "0.24047255455749483\n",
      "0.1829001802128557\n",
      "0.13911140913129397\n",
      "0.10580626070445799\n",
      "0.0804748142094774\n",
      "0.06120805781181067\n",
      "0.046554022869095206\n",
      "0.035408361623882896\n",
      "0.02693112207323303\n",
      "0.020483448057483266\n",
      "0.015579434201914478\n",
      "0.011849507435008868\n",
      "0.00901257546535688\n",
      "0.006854843288994269\n",
      "0.005213701310716328\n",
      "0.003965470866564339\n",
      "0.003016083633569649\n",
      "0.002293992514580808\n",
      "0.001744779752915572\n",
      "0.001327055937120224\n",
      "0.0010093408393257817\n",
      "0.0007676910229884635\n",
      "0.0005838954333511067\n",
      "0.0004441029878936813\n"
     ]
    }
   ],
   "source": [
    "#2\n",
    "iterations = 200\n",
    "learning_rate = 0.01\n",
    "theta, cost_list = myFnLinReg(X_train, Y_train1, learning_rate = learning_rate, iteration = iterations)"
   ]
  },
  {
   "cell_type": "code",
   "execution_count": 156,
   "id": "a96a17bc",
   "metadata": {},
   "outputs": [
    {
     "data": {
      "text/plain": [
       "array([[1.57848093e+01, 3.38668644e+01, 1.03901630e+01, 1.91814384e+01,\n",
       "        1.77828264e+01, 2.14791581e+01, 2.59746967e+01, 1.86819341e+01,\n",
       "        2.27778693e+01, 2.72734078e+01, 1.42862964e+01, 1.51854041e+01,\n",
       "        2.43762830e+01, 1.96809427e+01, 2.09796538e+01, 1.46858999e+01,\n",
       "        2.09796538e+01, 1.03901630e+01, 2.13792573e+01, 1.49856024e+01,\n",
       "        1.91814384e+01, 2.27778693e+01, 1.72833221e+01, 1.63842144e+01,\n",
       "        1.80825290e+01],\n",
       "       [4.23128329e-03, 9.22973518e-03, 2.74003246e-03, 5.17021901e-03,\n",
       "        4.78359842e-03, 5.80538140e-03, 7.04809043e-03, 5.03214023e-03,\n",
       "        6.16438623e-03, 7.40709527e-03, 3.81704695e-03, 4.06558876e-03,\n",
       "        6.60623833e-03, 5.30829779e-03, 5.66730262e-03, 3.92750998e-03,\n",
       "        5.66730262e-03, 2.74003246e-03, 5.77776565e-03, 4.01035724e-03,\n",
       "        5.17021901e-03, 6.16438623e-03, 4.64551964e-03, 4.39697783e-03,\n",
       "        4.86644569e-03]])"
      ]
     },
     "execution_count": 156,
     "metadata": {},
     "output_type": "execute_result"
    }
   ],
   "source": [
    "theta"
   ]
  },
  {
   "cell_type": "code",
   "execution_count": 157,
   "id": "fbc52d15",
   "metadata": {},
   "outputs": [
    {
     "name": "stdout",
     "output_type": "stream",
     "text": [
      "[15.8 33.9 10.4 19.2 17.8 21.5 26.  18.7 22.8 27.3 14.3 15.2 24.4 19.7\n",
      " 21.  14.7 21.  10.4 21.4 15.  19.2 22.8 17.3 16.4 18.1]\n",
      "[[15.9207093]]\n",
      "[[68.96572069]]\n",
      "[15.8 33.9 10.4 19.2 17.8 21.5 26.  18.7 22.8 27.3 14.3 15.2 24.4 19.7\n",
      " 21.  14.7 21.  10.4 21.4 15.  19.2 22.8 17.3 16.4 18.1]\n",
      "[[18.92978631]]\n",
      "[[4.00879275]]\n",
      "[15.8 33.9 10.4 19.2 17.8 21.5 26.  18.7 22.8 27.3 14.3 15.2 24.4 19.7\n",
      " 21.  14.7 21.  10.4 21.4 15.  19.2 22.8 17.3 16.4 18.1]\n",
      "[[18.99915123]]\n",
      "[[4.00055151]]\n",
      "[15.8 33.9 10.4 19.2 17.8 21.5 26.  18.7 22.8 27.3 14.3 15.2 24.4 19.7\n",
      " 21.  14.7 21.  10.4 21.4 15.  19.2 22.8 17.3 16.4 18.1]\n",
      "[[19.00105429]]\n",
      "[[4.00125447]]\n",
      "[15.8 33.9 10.4 19.2 17.8 21.5 26.  18.7 22.8 27.3 14.3 15.2 24.4 19.7\n",
      " 21.  14.7 21.  10.4 21.4 15.  19.2 22.8 17.3 16.4 18.1]\n",
      "[[19.0011065]]\n",
      "[[4.00127445]]\n",
      "[15.8 33.9 10.4 19.2 17.8 21.5 26.  18.7 22.8 27.3 14.3 15.2 24.4 19.7\n",
      " 21.  14.7 21.  10.4 21.4 15.  19.2 22.8 17.3 16.4 18.1]\n",
      "[[19.00110793]]\n",
      "[[4.001275]]\n",
      "[15.8 33.9 10.4 19.2 17.8 21.5 26.  18.7 22.8 27.3 14.3 15.2 24.4 19.7\n",
      " 21.  14.7 21.  10.4 21.4 15.  19.2 22.8 17.3 16.4 18.1]\n",
      "[[19.00110797]]\n",
      "[[4.00127502]]\n",
      "[15.8 33.9 10.4 19.2 17.8 21.5 26.  18.7 22.8 27.3 14.3 15.2 24.4 19.7\n",
      " 21.  14.7 21.  10.4 21.4 15.  19.2 22.8 17.3 16.4 18.1]\n",
      "[[19.00110797]]\n",
      "[[4.00127502]]\n",
      "[15.8 33.9 10.4 19.2 17.8 21.5 26.  18.7 22.8 27.3 14.3 15.2 24.4 19.7\n",
      " 21.  14.7 21.  10.4 21.4 15.  19.2 22.8 17.3 16.4 18.1]\n",
      "[[19.00110797]]\n",
      "[[4.00127502]]\n",
      "[15.8 33.9 10.4 19.2 17.8 21.5 26.  18.7 22.8 27.3 14.3 15.2 24.4 19.7\n",
      " 21.  14.7 21.  10.4 21.4 15.  19.2 22.8 17.3 16.4 18.1]\n",
      "[[19.00110797]]\n",
      "[[4.00127502]]\n",
      "[15.8 33.9 10.4 19.2 17.8 21.5 26.  18.7 22.8 27.3 14.3 15.2 24.4 19.7\n",
      " 21.  14.7 21.  10.4 21.4 15.  19.2 22.8 17.3 16.4 18.1]\n",
      "[[19.00110797]]\n",
      "[[4.00127502]]\n",
      "[15.8 33.9 10.4 19.2 17.8 21.5 26.  18.7 22.8 27.3 14.3 15.2 24.4 19.7\n",
      " 21.  14.7 21.  10.4 21.4 15.  19.2 22.8 17.3 16.4 18.1]\n",
      "[[19.00110797]]\n",
      "[[4.00127502]]\n",
      "[15.8 33.9 10.4 19.2 17.8 21.5 26.  18.7 22.8 27.3 14.3 15.2 24.4 19.7\n",
      " 21.  14.7 21.  10.4 21.4 15.  19.2 22.8 17.3 16.4 18.1]\n",
      "[[19.00110797]]\n",
      "[[4.00127502]]\n",
      "[15.8 33.9 10.4 19.2 17.8 21.5 26.  18.7 22.8 27.3 14.3 15.2 24.4 19.7\n",
      " 21.  14.7 21.  10.4 21.4 15.  19.2 22.8 17.3 16.4 18.1]\n",
      "[[19.00110797]]\n",
      "[[4.00127502]]\n",
      "[15.8 33.9 10.4 19.2 17.8 21.5 26.  18.7 22.8 27.3 14.3 15.2 24.4 19.7\n",
      " 21.  14.7 21.  10.4 21.4 15.  19.2 22.8 17.3 16.4 18.1]\n",
      "[[19.00110797]]\n",
      "[[4.00127502]]\n",
      "[15.8 33.9 10.4 19.2 17.8 21.5 26.  18.7 22.8 27.3 14.3 15.2 24.4 19.7\n",
      " 21.  14.7 21.  10.4 21.4 15.  19.2 22.8 17.3 16.4 18.1]\n",
      "[[19.00110797]]\n",
      "[[4.00127502]]\n",
      "[15.8 33.9 10.4 19.2 17.8 21.5 26.  18.7 22.8 27.3 14.3 15.2 24.4 19.7\n",
      " 21.  14.7 21.  10.4 21.4 15.  19.2 22.8 17.3 16.4 18.1]\n",
      "[[19.00110797]]\n",
      "[[4.00127502]]\n",
      "[15.8 33.9 10.4 19.2 17.8 21.5 26.  18.7 22.8 27.3 14.3 15.2 24.4 19.7\n",
      " 21.  14.7 21.  10.4 21.4 15.  19.2 22.8 17.3 16.4 18.1]\n",
      "[[19.00110797]]\n",
      "[[4.00127502]]\n",
      "[15.8 33.9 10.4 19.2 17.8 21.5 26.  18.7 22.8 27.3 14.3 15.2 24.4 19.7\n",
      " 21.  14.7 21.  10.4 21.4 15.  19.2 22.8 17.3 16.4 18.1]\n",
      "[[19.00110797]]\n",
      "[[4.00127502]]\n",
      "[15.8 33.9 10.4 19.2 17.8 21.5 26.  18.7 22.8 27.3 14.3 15.2 24.4 19.7\n",
      " 21.  14.7 21.  10.4 21.4 15.  19.2 22.8 17.3 16.4 18.1]\n",
      "[[19.00110797]]\n",
      "[[4.00127502]]\n",
      "[15.8 33.9 10.4 19.2 17.8 21.5 26.  18.7 22.8 27.3 14.3 15.2 24.4 19.7\n",
      " 21.  14.7 21.  10.4 21.4 15.  19.2 22.8 17.3 16.4 18.1]\n",
      "[[19.00110797]]\n",
      "[[4.00127502]]\n",
      "[15.8 33.9 10.4 19.2 17.8 21.5 26.  18.7 22.8 27.3 14.3 15.2 24.4 19.7\n",
      " 21.  14.7 21.  10.4 21.4 15.  19.2 22.8 17.3 16.4 18.1]\n",
      "[[19.00110797]]\n",
      "[[4.00127502]]\n",
      "[15.8 33.9 10.4 19.2 17.8 21.5 26.  18.7 22.8 27.3 14.3 15.2 24.4 19.7\n",
      " 21.  14.7 21.  10.4 21.4 15.  19.2 22.8 17.3 16.4 18.1]\n",
      "[[19.00110797]]\n",
      "[[4.00127502]]\n",
      "[15.8 33.9 10.4 19.2 17.8 21.5 26.  18.7 22.8 27.3 14.3 15.2 24.4 19.7\n",
      " 21.  14.7 21.  10.4 21.4 15.  19.2 22.8 17.3 16.4 18.1]\n",
      "[[19.00110797]]\n",
      "[[4.00127502]]\n",
      "[15.8 33.9 10.4 19.2 17.8 21.5 26.  18.7 22.8 27.3 14.3 15.2 24.4 19.7\n",
      " 21.  14.7 21.  10.4 21.4 15.  19.2 22.8 17.3 16.4 18.1]\n",
      "[[19.00110797]]\n",
      "[[4.00127502]]\n",
      "[15.8 33.9 10.4 19.2 17.8 21.5 26.  18.7 22.8 27.3 14.3 15.2 24.4 19.7\n",
      " 21.  14.7 21.  10.4 21.4 15.  19.2 22.8 17.3 16.4 18.1]\n",
      "[[19.00110797]]\n",
      "[[4.00127502]]\n",
      "[15.8 33.9 10.4 19.2 17.8 21.5 26.  18.7 22.8 27.3 14.3 15.2 24.4 19.7\n",
      " 21.  14.7 21.  10.4 21.4 15.  19.2 22.8 17.3 16.4 18.1]\n",
      "[[19.00110797]]\n",
      "[[4.00127502]]\n",
      "[15.8 33.9 10.4 19.2 17.8 21.5 26.  18.7 22.8 27.3 14.3 15.2 24.4 19.7\n",
      " 21.  14.7 21.  10.4 21.4 15.  19.2 22.8 17.3 16.4 18.1]\n",
      "[[19.00110797]]\n",
      "[[4.00127502]]\n",
      "[15.8 33.9 10.4 19.2 17.8 21.5 26.  18.7 22.8 27.3 14.3 15.2 24.4 19.7\n",
      " 21.  14.7 21.  10.4 21.4 15.  19.2 22.8 17.3 16.4 18.1]\n",
      "[[19.00110797]]\n",
      "[[4.00127502]]\n",
      "[15.8 33.9 10.4 19.2 17.8 21.5 26.  18.7 22.8 27.3 14.3 15.2 24.4 19.7\n",
      " 21.  14.7 21.  10.4 21.4 15.  19.2 22.8 17.3 16.4 18.1]\n",
      "[[19.00110797]]\n",
      "[[4.00127502]]\n",
      "[15.8 33.9 10.4 19.2 17.8 21.5 26.  18.7 22.8 27.3 14.3 15.2 24.4 19.7\n",
      " 21.  14.7 21.  10.4 21.4 15.  19.2 22.8 17.3 16.4 18.1]\n",
      "[[19.00110797]]\n",
      "[[4.00127502]]\n",
      "[15.8 33.9 10.4 19.2 17.8 21.5 26.  18.7 22.8 27.3 14.3 15.2 24.4 19.7\n",
      " 21.  14.7 21.  10.4 21.4 15.  19.2 22.8 17.3 16.4 18.1]\n",
      "[[19.00110797]]\n",
      "[[4.00127502]]\n",
      "[15.8 33.9 10.4 19.2 17.8 21.5 26.  18.7 22.8 27.3 14.3 15.2 24.4 19.7\n",
      " 21.  14.7 21.  10.4 21.4 15.  19.2 22.8 17.3 16.4 18.1]\n",
      "[[19.00110797]]\n",
      "[[4.00127502]]\n",
      "[15.8 33.9 10.4 19.2 17.8 21.5 26.  18.7 22.8 27.3 14.3 15.2 24.4 19.7\n",
      " 21.  14.7 21.  10.4 21.4 15.  19.2 22.8 17.3 16.4 18.1]\n",
      "[[19.00110797]]\n",
      "[[4.00127502]]\n",
      "[15.8 33.9 10.4 19.2 17.8 21.5 26.  18.7 22.8 27.3 14.3 15.2 24.4 19.7\n",
      " 21.  14.7 21.  10.4 21.4 15.  19.2 22.8 17.3 16.4 18.1]\n",
      "[[19.00110797]]\n",
      "[[4.00127502]]\n",
      "[15.8 33.9 10.4 19.2 17.8 21.5 26.  18.7 22.8 27.3 14.3 15.2 24.4 19.7\n",
      " 21.  14.7 21.  10.4 21.4 15.  19.2 22.8 17.3 16.4 18.1]\n",
      "[[19.00110797]]\n",
      "[[4.00127502]]\n",
      "[15.8 33.9 10.4 19.2 17.8 21.5 26.  18.7 22.8 27.3 14.3 15.2 24.4 19.7\n",
      " 21.  14.7 21.  10.4 21.4 15.  19.2 22.8 17.3 16.4 18.1]\n",
      "[[19.00110797]]\n",
      "[[4.00127502]]\n",
      "[15.8 33.9 10.4 19.2 17.8 21.5 26.  18.7 22.8 27.3 14.3 15.2 24.4 19.7\n",
      " 21.  14.7 21.  10.4 21.4 15.  19.2 22.8 17.3 16.4 18.1]\n",
      "[[19.00110797]]\n",
      "[[4.00127502]]\n",
      "[15.8 33.9 10.4 19.2 17.8 21.5 26.  18.7 22.8 27.3 14.3 15.2 24.4 19.7\n",
      " 21.  14.7 21.  10.4 21.4 15.  19.2 22.8 17.3 16.4 18.1]\n",
      "[[19.00110797]]\n",
      "[[4.00127502]]\n",
      "[15.8 33.9 10.4 19.2 17.8 21.5 26.  18.7 22.8 27.3 14.3 15.2 24.4 19.7\n",
      " 21.  14.7 21.  10.4 21.4 15.  19.2 22.8 17.3 16.4 18.1]\n",
      "[[19.00110797]]\n",
      "[[4.00127502]]\n",
      "[15.8 33.9 10.4 19.2 17.8 21.5 26.  18.7 22.8 27.3 14.3 15.2 24.4 19.7\n",
      " 21.  14.7 21.  10.4 21.4 15.  19.2 22.8 17.3 16.4 18.1]\n",
      "[[19.00110797]]\n",
      "[[4.00127502]]\n",
      "[15.8 33.9 10.4 19.2 17.8 21.5 26.  18.7 22.8 27.3 14.3 15.2 24.4 19.7\n",
      " 21.  14.7 21.  10.4 21.4 15.  19.2 22.8 17.3 16.4 18.1]\n",
      "[[19.00110797]]\n",
      "[[4.00127502]]\n",
      "[15.8 33.9 10.4 19.2 17.8 21.5 26.  18.7 22.8 27.3 14.3 15.2 24.4 19.7\n",
      " 21.  14.7 21.  10.4 21.4 15.  19.2 22.8 17.3 16.4 18.1]\n",
      "[[19.00110797]]\n",
      "[[4.00127502]]\n",
      "[15.8 33.9 10.4 19.2 17.8 21.5 26.  18.7 22.8 27.3 14.3 15.2 24.4 19.7\n",
      " 21.  14.7 21.  10.4 21.4 15.  19.2 22.8 17.3 16.4 18.1]\n",
      "[[19.00110797]]\n",
      "[[4.00127502]]\n",
      "[15.8 33.9 10.4 19.2 17.8 21.5 26.  18.7 22.8 27.3 14.3 15.2 24.4 19.7\n",
      " 21.  14.7 21.  10.4 21.4 15.  19.2 22.8 17.3 16.4 18.1]\n",
      "[[19.00110797]]\n",
      "[[4.00127502]]\n",
      "[15.8 33.9 10.4 19.2 17.8 21.5 26.  18.7 22.8 27.3 14.3 15.2 24.4 19.7\n",
      " 21.  14.7 21.  10.4 21.4 15.  19.2 22.8 17.3 16.4 18.1]\n",
      "[[19.00110797]]\n",
      "[[4.00127502]]\n",
      "[15.8 33.9 10.4 19.2 17.8 21.5 26.  18.7 22.8 27.3 14.3 15.2 24.4 19.7\n",
      " 21.  14.7 21.  10.4 21.4 15.  19.2 22.8 17.3 16.4 18.1]\n",
      "[[19.00110797]]\n",
      "[[4.00127502]]\n",
      "[15.8 33.9 10.4 19.2 17.8 21.5 26.  18.7 22.8 27.3 14.3 15.2 24.4 19.7\n",
      " 21.  14.7 21.  10.4 21.4 15.  19.2 22.8 17.3 16.4 18.1]\n",
      "[[19.00110797]]\n",
      "[[4.00127502]]\n",
      "[15.8 33.9 10.4 19.2 17.8 21.5 26.  18.7 22.8 27.3 14.3 15.2 24.4 19.7\n",
      " 21.  14.7 21.  10.4 21.4 15.  19.2 22.8 17.3 16.4 18.1]\n",
      "[[19.00110797]]\n",
      "[[4.00127502]]\n",
      "[15.8 33.9 10.4 19.2 17.8 21.5 26.  18.7 22.8 27.3 14.3 15.2 24.4 19.7\n",
      " 21.  14.7 21.  10.4 21.4 15.  19.2 22.8 17.3 16.4 18.1]\n",
      "[[19.00110797]]\n",
      "[[4.00127502]]\n"
     ]
    }
   ],
   "source": [
    "iterations_stochastic = 200\n",
    "learning_rate = 0.01\n",
    "theta_stochastic, cost_list_stochastic = stochastic_model(X_train, Y_train1, learning_rate = learning_rate, iteration = iterations_stochastic)"
   ]
  },
  {
   "cell_type": "code",
   "execution_count": 180,
   "id": "ff1f64d1",
   "metadata": {
    "scrolled": true
   },
   "outputs": [
    {
     "ename": "ValueError",
     "evalue": "operands could not be broadcast together with shapes (7,25) (7,) ",
     "output_type": "error",
     "traceback": [
      "\u001b[1;31m---------------------------------------------------------------------------\u001b[0m",
      "\u001b[1;31mValueError\u001b[0m                                Traceback (most recent call last)",
      "\u001b[1;32m~\\AppData\\Local\\Temp/ipykernel_7268/2096427527.py\u001b[0m in \u001b[0;36m<module>\u001b[1;34m\u001b[0m\n\u001b[0;32m      1\u001b[0m \u001b[0mY_test1\u001b[0m \u001b[1;33m=\u001b[0m \u001b[0mnp\u001b[0m\u001b[1;33m.\u001b[0m\u001b[0marray\u001b[0m\u001b[1;33m(\u001b[0m\u001b[0mY_test\u001b[0m\u001b[1;33m)\u001b[0m\u001b[1;33m\u001b[0m\u001b[1;33m\u001b[0m\u001b[0m\n\u001b[0;32m      2\u001b[0m \u001b[0my_pred\u001b[0m \u001b[1;33m=\u001b[0m \u001b[0mnp\u001b[0m\u001b[1;33m.\u001b[0m\u001b[0mdot\u001b[0m\u001b[1;33m(\u001b[0m\u001b[0mX_test\u001b[0m\u001b[1;33m,\u001b[0m \u001b[0mtheta\u001b[0m\u001b[1;33m)\u001b[0m\u001b[1;33m\u001b[0m\u001b[1;33m\u001b[0m\u001b[0m\n\u001b[1;32m----> 3\u001b[1;33m \u001b[0merror\u001b[0m \u001b[1;33m=\u001b[0m \u001b[0mnp\u001b[0m\u001b[1;33m.\u001b[0m\u001b[0msqrt\u001b[0m\u001b[1;33m(\u001b[0m\u001b[1;33m(\u001b[0m\u001b[1;36m1\u001b[0m\u001b[1;33m/\u001b[0m\u001b[1;33m(\u001b[0m\u001b[1;36m2\u001b[0m\u001b[1;33m*\u001b[0m\u001b[1;33m(\u001b[0m\u001b[0mX_test\u001b[0m\u001b[1;33m.\u001b[0m\u001b[0mshape\u001b[0m\u001b[1;33m[\u001b[0m\u001b[1;36m0\u001b[0m\u001b[1;33m]\u001b[0m\u001b[1;33m)\u001b[0m\u001b[1;33m)\u001b[0m\u001b[1;33m)\u001b[0m\u001b[1;33m*\u001b[0m\u001b[0mnp\u001b[0m\u001b[1;33m.\u001b[0m\u001b[0msum\u001b[0m\u001b[1;33m(\u001b[0m\u001b[0mnp\u001b[0m\u001b[1;33m.\u001b[0m\u001b[0msquare\u001b[0m\u001b[1;33m(\u001b[0m\u001b[0my_pred\u001b[0m \u001b[1;33m-\u001b[0m \u001b[0mnp\u001b[0m\u001b[1;33m.\u001b[0m\u001b[0marray\u001b[0m\u001b[1;33m(\u001b[0m\u001b[0mY_test\u001b[0m\u001b[1;33m)\u001b[0m\u001b[1;33m)\u001b[0m\u001b[1;33m)\u001b[0m\u001b[1;33m)\u001b[0m\u001b[1;33m\u001b[0m\u001b[1;33m\u001b[0m\u001b[0m\n\u001b[0m",
      "\u001b[1;31mValueError\u001b[0m: operands could not be broadcast together with shapes (7,25) (7,) "
     ]
    }
   ],
   "source": [
    "Y_test1 = np.array(Y_test)\n",
    "y_pred = np.dot(X_test, theta)\n",
    "error = np.sqrt((1/(2*(X_test.shape[0])))*np.sum(np.square(y_pred - np.array(Y_test))))"
   ]
  },
  {
   "cell_type": "code",
   "execution_count": 184,
   "id": "cfb9d708",
   "metadata": {
    "scrolled": true
   },
   "outputs": [
    {
     "ename": "NameError",
     "evalue": "name 'error' is not defined",
     "output_type": "error",
     "traceback": [
      "\u001b[1;31m---------------------------------------------------------------------------\u001b[0m",
      "\u001b[1;31mNameError\u001b[0m                                 Traceback (most recent call last)",
      "\u001b[1;32m~\\AppData\\Local\\Temp/ipykernel_7268/1289943111.py\u001b[0m in \u001b[0;36m<module>\u001b[1;34m\u001b[0m\n\u001b[0;32m      1\u001b[0m \u001b[1;31m#4\u001b[0m\u001b[1;33m\u001b[0m\u001b[1;33m\u001b[0m\u001b[1;33m\u001b[0m\u001b[0m\n\u001b[1;32m----> 2\u001b[1;33m \u001b[0mprint\u001b[0m\u001b[1;33m(\u001b[0m\u001b[1;34m\"RMSE Test Error for if we use batch grad descent is :\"\u001b[0m\u001b[1;33m,\u001b[0m \u001b[0merror\u001b[0m\u001b[1;33m)\u001b[0m\u001b[1;33m\u001b[0m\u001b[1;33m\u001b[0m\u001b[0m\n\u001b[0m\u001b[0;32m      3\u001b[0m \u001b[0mprint\u001b[0m\u001b[1;33m(\u001b[0m\u001b[1;34m\"R2 score is :\"\u001b[0m\u001b[1;33m,\u001b[0m \u001b[0mr2_score\u001b[0m\u001b[1;33m(\u001b[0m\u001b[0mY_test_squeeze\u001b[0m\u001b[1;33m,\u001b[0m\u001b[0my_pred_squeeze\u001b[0m\u001b[1;33m)\u001b[0m\u001b[1;33m)\u001b[0m\u001b[1;33m\u001b[0m\u001b[1;33m\u001b[0m\u001b[0m\n",
      "\u001b[1;31mNameError\u001b[0m: name 'error' is not defined"
     ]
    }
   ],
   "source": [
    "#4\n",
    "print(\"RMSE Test Error for if we use batch grad descent is :\", error)\n",
    "print(\"R2 score is :\", r2_score(Y_test_squeeze,y_pred_squeeze))"
   ]
  },
  {
   "cell_type": "code",
   "execution_count": 165,
   "id": "eec90b38",
   "metadata": {},
   "outputs": [],
   "source": [
    "#5\n",
    "#stochastic\n",
    "y_pred_stochastic = np.dot(X_test, theta_stochastic)\n",
    "error_stochastic = np.sqrt((1/(2*(X_test.shape[0])))*np.sum(np.square(y_pred_stochastic - np.array(Y_test))))"
   ]
  },
  {
   "cell_type": "code",
   "execution_count": 166,
   "id": "ca001ff4",
   "metadata": {},
   "outputs": [
    {
     "name": "stdout",
     "output_type": "stream",
     "text": [
      "RMSE Test Error if we use stochastic grad descent : 16.32570573659722\n",
      "R2 score is : 0.7217001626958642\n"
     ]
    }
   ],
   "source": [
    "print(\"RMSE Test Error if we use stochastic grad descent :\", error_stochastic)\n",
    "print(\"R2 score is :\", r2_score(Y_test1,y_pred_stochastic))"
   ]
  },
  {
   "cell_type": "code",
   "execution_count": 183,
   "id": "744c0b73",
   "metadata": {},
   "outputs": [
    {
     "ename": "IndexError",
     "evalue": "too many indices for array: array is 1-dimensional, but 2 were indexed",
     "output_type": "error",
     "traceback": [
      "\u001b[1;31m---------------------------------------------------------------------------\u001b[0m",
      "\u001b[1;31mIndexError\u001b[0m                                Traceback (most recent call last)",
      "\u001b[1;32m~\\AppData\\Local\\Temp/ipykernel_7268/1986332323.py\u001b[0m in \u001b[0;36m<module>\u001b[1;34m\u001b[0m\n\u001b[0;32m      1\u001b[0m \u001b[1;31m#mini batch\u001b[0m\u001b[1;33m\u001b[0m\u001b[1;33m\u001b[0m\u001b[1;33m\u001b[0m\u001b[0m\n\u001b[1;32m----> 2\u001b[1;33m \u001b[0mmini_batches\u001b[0m \u001b[1;33m=\u001b[0m \u001b[0mrandom_mini_batches\u001b[0m\u001b[1;33m(\u001b[0m\u001b[0mX_train\u001b[0m\u001b[1;33m.\u001b[0m\u001b[0mT\u001b[0m\u001b[1;33m,\u001b[0m\u001b[0mY_train1\u001b[0m\u001b[1;33m.\u001b[0m\u001b[0mT\u001b[0m\u001b[1;33m)\u001b[0m\u001b[1;33m\u001b[0m\u001b[1;33m\u001b[0m\u001b[0m\n\u001b[0m\u001b[0;32m      3\u001b[0m \u001b[0mtheta_minibatch\u001b[0m\u001b[1;33m,\u001b[0m \u001b[0mcost_list_minibatch\u001b[0m \u001b[1;33m=\u001b[0m \u001b[0mminibatch_model\u001b[0m\u001b[1;33m(\u001b[0m\u001b[0mX_train\u001b[0m\u001b[1;33m,\u001b[0m\u001b[0mY_train1\u001b[0m\u001b[1;33m,\u001b[0m\u001b[0mlen\u001b[0m\u001b[1;33m(\u001b[0m\u001b[0mmini_batches\u001b[0m\u001b[1;33m)\u001b[0m\u001b[1;33m,\u001b[0m\u001b[0mlearning_rate\u001b[0m \u001b[1;33m=\u001b[0m \u001b[0mlearning_rate\u001b[0m\u001b[1;33m,\u001b[0m \u001b[0miteration\u001b[0m \u001b[1;33m=\u001b[0m \u001b[0miterations\u001b[0m\u001b[1;33m)\u001b[0m\u001b[1;33m\u001b[0m\u001b[1;33m\u001b[0m\u001b[0m\n",
      "\u001b[1;32m~\\AppData\\Local\\Temp/ipykernel_7268/1288952317.py\u001b[0m in \u001b[0;36mrandom_mini_batches\u001b[1;34m(X, Y, mini_batch_size, seed)\u001b[0m\n\u001b[0;32m      9\u001b[0m     \u001b[0mpermutation\u001b[0m \u001b[1;33m=\u001b[0m \u001b[0mlist\u001b[0m\u001b[1;33m(\u001b[0m\u001b[0mnp\u001b[0m\u001b[1;33m.\u001b[0m\u001b[0mrandom\u001b[0m\u001b[1;33m.\u001b[0m\u001b[0mpermutation\u001b[0m\u001b[1;33m(\u001b[0m\u001b[0mm\u001b[0m\u001b[1;33m)\u001b[0m\u001b[1;33m)\u001b[0m\u001b[1;33m\u001b[0m\u001b[1;33m\u001b[0m\u001b[0m\n\u001b[0;32m     10\u001b[0m     \u001b[0mshuffled_X\u001b[0m \u001b[1;33m=\u001b[0m \u001b[0mX\u001b[0m\u001b[1;33m[\u001b[0m\u001b[1;33m:\u001b[0m\u001b[1;33m,\u001b[0m \u001b[0mpermutation\u001b[0m\u001b[1;33m]\u001b[0m\u001b[1;33m\u001b[0m\u001b[1;33m\u001b[0m\u001b[0m\n\u001b[1;32m---> 11\u001b[1;33m     \u001b[0mshuffled_Y\u001b[0m \u001b[1;33m=\u001b[0m \u001b[0mY\u001b[0m\u001b[1;33m[\u001b[0m\u001b[1;33m:\u001b[0m\u001b[1;33m,\u001b[0m \u001b[0mpermutation\u001b[0m\u001b[1;33m]\u001b[0m\u001b[1;33m.\u001b[0m\u001b[0mreshape\u001b[0m\u001b[1;33m(\u001b[0m\u001b[1;33m(\u001b[0m\u001b[1;36m1\u001b[0m\u001b[1;33m,\u001b[0m\u001b[0mm\u001b[0m\u001b[1;33m)\u001b[0m\u001b[1;33m)\u001b[0m\u001b[1;33m\u001b[0m\u001b[1;33m\u001b[0m\u001b[0m\n\u001b[0m\u001b[0;32m     12\u001b[0m \u001b[1;33m\u001b[0m\u001b[0m\n\u001b[0;32m     13\u001b[0m \u001b[1;33m\u001b[0m\u001b[0m\n",
      "\u001b[1;31mIndexError\u001b[0m: too many indices for array: array is 1-dimensional, but 2 were indexed"
     ]
    }
   ],
   "source": [
    "#mini batch\n",
    "mini_batches = random_mini_batches(X_train.T,Y_train1.T)\n",
    "theta_minibatch, cost_list_minibatch = minibatch_model(X_train,Y_train1,len(mini_batches),learning_rate = learning_rate, iteration = iterations)"
   ]
  },
  {
   "cell_type": "code",
   "execution_count": 168,
   "id": "af71b5e4",
   "metadata": {},
   "outputs": [
    {
     "ename": "NameError",
     "evalue": "name 'theta_minibatch' is not defined",
     "output_type": "error",
     "traceback": [
      "\u001b[1;31m---------------------------------------------------------------------------\u001b[0m",
      "\u001b[1;31mNameError\u001b[0m                                 Traceback (most recent call last)",
      "\u001b[1;32m~\\AppData\\Local\\Temp/ipykernel_7268/3084312108.py\u001b[0m in \u001b[0;36m<module>\u001b[1;34m\u001b[0m\n\u001b[1;32m----> 1\u001b[1;33m \u001b[0my_pred_minibatch\u001b[0m \u001b[1;33m=\u001b[0m \u001b[0mnp\u001b[0m\u001b[1;33m.\u001b[0m\u001b[0mdot\u001b[0m\u001b[1;33m(\u001b[0m\u001b[0mX_test\u001b[0m\u001b[1;33m,\u001b[0m \u001b[0mtheta_minibatch\u001b[0m\u001b[1;33m)\u001b[0m\u001b[1;33m\u001b[0m\u001b[1;33m\u001b[0m\u001b[0m\n\u001b[0m",
      "\u001b[1;31mNameError\u001b[0m: name 'theta_minibatch' is not defined"
     ]
    }
   ],
   "source": [
    "y_pred_minibatch = np.dot(X_test, theta_minibatch)"
   ]
  },
  {
   "cell_type": "code",
   "execution_count": 169,
   "id": "f85d78a7",
   "metadata": {},
   "outputs": [
    {
     "ename": "NameError",
     "evalue": "name 'y_pred_minibatch' is not defined",
     "output_type": "error",
     "traceback": [
      "\u001b[1;31m---------------------------------------------------------------------------\u001b[0m",
      "\u001b[1;31mNameError\u001b[0m                                 Traceback (most recent call last)",
      "\u001b[1;32m~\\AppData\\Local\\Temp/ipykernel_7268/1301469902.py\u001b[0m in \u001b[0;36m<module>\u001b[1;34m\u001b[0m\n\u001b[1;32m----> 1\u001b[1;33m \u001b[0my_pred_minibatch_squeeze\u001b[0m \u001b[1;33m=\u001b[0m \u001b[0mnp\u001b[0m\u001b[1;33m.\u001b[0m\u001b[0msqueeze\u001b[0m\u001b[1;33m(\u001b[0m\u001b[0my_pred_minibatch\u001b[0m\u001b[1;33m)\u001b[0m\u001b[1;33m\u001b[0m\u001b[1;33m\u001b[0m\u001b[0m\n\u001b[0m\u001b[0;32m      2\u001b[0m \u001b[0mprint\u001b[0m\u001b[1;33m(\u001b[0m\u001b[0my_pred_minibatch_squeeze\u001b[0m\u001b[1;33m)\u001b[0m\u001b[1;33m\u001b[0m\u001b[1;33m\u001b[0m\u001b[0m\n",
      "\u001b[1;31mNameError\u001b[0m: name 'y_pred_minibatch' is not defined"
     ]
    }
   ],
   "source": [
    "y_pred_minibatch_squeeze = np.squeeze(y_pred_minibatch)\n",
    "print(y_pred_minibatch_squeeze)"
   ]
  },
  {
   "cell_type": "code",
   "execution_count": 170,
   "id": "90442e9a",
   "metadata": {},
   "outputs": [
    {
     "ename": "NameError",
     "evalue": "name 'y_pred_minibatch' is not defined",
     "output_type": "error",
     "traceback": [
      "\u001b[1;31m---------------------------------------------------------------------------\u001b[0m",
      "\u001b[1;31mNameError\u001b[0m                                 Traceback (most recent call last)",
      "\u001b[1;32m~\\AppData\\Local\\Temp/ipykernel_7268/4226103314.py\u001b[0m in \u001b[0;36m<module>\u001b[1;34m\u001b[0m\n\u001b[1;32m----> 1\u001b[1;33m \u001b[0merror_minibatch\u001b[0m \u001b[1;33m=\u001b[0m \u001b[0mnp\u001b[0m\u001b[1;33m.\u001b[0m\u001b[0msqrt\u001b[0m\u001b[1;33m(\u001b[0m\u001b[1;33m(\u001b[0m\u001b[1;36m1\u001b[0m\u001b[1;33m/\u001b[0m\u001b[1;33m(\u001b[0m\u001b[1;36m2\u001b[0m\u001b[1;33m*\u001b[0m\u001b[1;33m(\u001b[0m\u001b[0mX_test\u001b[0m\u001b[1;33m.\u001b[0m\u001b[0mshape\u001b[0m\u001b[1;33m[\u001b[0m\u001b[1;36m0\u001b[0m\u001b[1;33m]\u001b[0m\u001b[1;33m)\u001b[0m\u001b[1;33m)\u001b[0m\u001b[1;33m)\u001b[0m\u001b[1;33m*\u001b[0m\u001b[0mnp\u001b[0m\u001b[1;33m.\u001b[0m\u001b[0msum\u001b[0m\u001b[1;33m(\u001b[0m\u001b[0mnp\u001b[0m\u001b[1;33m.\u001b[0m\u001b[0msquare\u001b[0m\u001b[1;33m(\u001b[0m\u001b[0my_pred_minibatch\u001b[0m \u001b[1;33m-\u001b[0m \u001b[0mnp\u001b[0m\u001b[1;33m.\u001b[0m\u001b[0marray\u001b[0m\u001b[1;33m(\u001b[0m\u001b[0mY_test\u001b[0m\u001b[1;33m)\u001b[0m\u001b[1;33m)\u001b[0m\u001b[1;33m)\u001b[0m\u001b[1;33m)\u001b[0m\u001b[1;33m\u001b[0m\u001b[1;33m\u001b[0m\u001b[0m\n\u001b[0m",
      "\u001b[1;31mNameError\u001b[0m: name 'y_pred_minibatch' is not defined"
     ]
    }
   ],
   "source": [
    "error_minibatch = np.sqrt((1/(2*(X_test.shape[0])))*np.sum(np.square(y_pred_minibatch - np.array(Y_test))))"
   ]
  },
  {
   "cell_type": "code",
   "execution_count": 174,
   "id": "f42c804e",
   "metadata": {},
   "outputs": [],
   "source": [
    "iteration_no = list(range(1,201))"
   ]
  },
  {
   "cell_type": "code",
   "execution_count": 185,
   "id": "9dd53212",
   "metadata": {},
   "outputs": [
    {
     "data": {
      "image/png": "[encoded data removed]",
      "text/plain": [
       "<Figure size 432x288 with 1 Axes>"
      ]
     },
     "metadata": {
      "needs_background": "light"
     },
     "output_type": "display_data"
    }
   ],
   "source": [
    "plt.plot(iteration_no,cost_list)\n",
    "plt.xlabel('iteration')\n",
    "plt.ylabel('cost')\n",
    "\n",
    "plt.title('Batch gradeint descent')\n",
    "plt.show()"
   ]
  },
  {
   "cell_type": "code",
   "execution_count": 186,
   "id": "b3c3d8af",
   "metadata": {},
   "outputs": [
    {
     "data": {
      "image/png": "[encoded data removed]",
      "text/plain": [
       "<Figure size 432x288 with 1 Axes>"
      ]
     },
     "metadata": {
      "needs_background": "light"
     },
     "output_type": "display_data"
    }
   ],
   "source": [
    "plt.plot(iteration_no,np.squeeze(cost_list_stochastic))\n",
    "plt.ylabel('cost')\n",
    "\n",
    "plt.title('stochastic gradient descent')\n",
    "plt.show()"
   ]
  },
  {
   "cell_type": "code",
   "execution_count": 177,
   "id": "36f6ad22",
   "metadata": {},
   "outputs": [
    {
     "ename": "NameError",
     "evalue": "name 'cost_list_minibatch' is not defined",
     "output_type": "error",
     "traceback": [
      "\u001b[1;31m---------------------------------------------------------------------------\u001b[0m",
      "\u001b[1;31mNameError\u001b[0m                                 Traceback (most recent call last)",
      "\u001b[1;32m~\\AppData\\Local\\Temp/ipykernel_7268/1545630771.py\u001b[0m in \u001b[0;36m<module>\u001b[1;34m\u001b[0m\n\u001b[1;32m----> 1\u001b[1;33m \u001b[0mplt\u001b[0m\u001b[1;33m.\u001b[0m\u001b[0mplot\u001b[0m\u001b[1;33m(\u001b[0m\u001b[0miteration_no\u001b[0m\u001b[1;33m,\u001b[0m\u001b[0mcost_list_minibatch\u001b[0m\u001b[1;33m)\u001b[0m\u001b[1;33m\u001b[0m\u001b[1;33m\u001b[0m\u001b[0m\n\u001b[0m\u001b[0;32m      2\u001b[0m \u001b[0mplt\u001b[0m\u001b[1;33m.\u001b[0m\u001b[0mylabel\u001b[0m\u001b[1;33m(\u001b[0m\u001b[1;34m'cost'\u001b[0m\u001b[1;33m)\u001b[0m\u001b[1;33m\u001b[0m\u001b[1;33m\u001b[0m\u001b[0m\n\u001b[0;32m      3\u001b[0m \u001b[1;33m\u001b[0m\u001b[0m\n\u001b[0;32m      4\u001b[0m \u001b[0mplt\u001b[0m\u001b[1;33m.\u001b[0m\u001b[0mtitle\u001b[0m\u001b[1;33m(\u001b[0m\u001b[1;34m'minibatch grad descent'\u001b[0m\u001b[1;33m)\u001b[0m\u001b[1;33m\u001b[0m\u001b[1;33m\u001b[0m\u001b[0m\n\u001b[0;32m      5\u001b[0m \u001b[0mplt\u001b[0m\u001b[1;33m.\u001b[0m\u001b[0mshow\u001b[0m\u001b[1;33m(\u001b[0m\u001b[1;33m)\u001b[0m\u001b[1;33m\u001b[0m\u001b[1;33m\u001b[0m\u001b[0m\n",
      "\u001b[1;31mNameError\u001b[0m: name 'cost_list_minibatch' is not defined"
     ]
    }
   ],
   "source": [
    "plt.plot(iteration_no,cost_list_minibatch)\n",
    "plt.ylabel('cost')\n",
    "\n",
    "plt.title('minibatch grad descent')\n",
    "plt.show()"
   ]
  },
  {
   "cell_type": "code",
   "execution_count": null,
   "id": "d5b02256",
   "metadata": {},
   "outputs": [],
   "source": []
  }
 ],
 "metadata": {
  "kernelspec": {
   "display_name": "Python 3 (ipykernel)",
   "language": "python",
   "name": "python3"
  },
  "language_info": {
   "codemirror_mode": {
    "name": "ipython",
    "version": 3
   },
   "file_extension": ".py",
   "mimetype": "text/x-python",
   "name": "python",
   "nbconvert_exporter": "python",
   "pygments_lexer": "ipython3",
   "version": "3.8.8"
  }
 },
 "nbformat": 4,
 "nbformat_minor": 5
}
