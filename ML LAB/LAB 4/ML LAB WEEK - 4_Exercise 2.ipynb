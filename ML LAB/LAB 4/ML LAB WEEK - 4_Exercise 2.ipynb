{
 "cells": [
  {
   "cell_type": "markdown",
   "id": "f5b6725e",
   "metadata": {},
   "source": [
    "# SECTION A [BATCH 1]\n",
    "# WEEK 4"
   ]
  },
  {
   "cell_type": "markdown",
   "id": "ad390b2f",
   "metadata": {},
   "source": [
    "# Exercise 2"
   ]
  },
  {
   "cell_type": "markdown",
   "id": "46455a50",
   "metadata": {},
   "source": [
    "**Used Resources:**"
   ]
  },
  {
   "cell_type": "markdown",
   "id": "57e4e0f4",
   "metadata": {},
   "source": [
    "**1.)https://www.geeksforgeeks.org/python-implementation-of-polynomial-regression/**"
   ]
  },
  {
   "cell_type": "markdown",
   "id": "faeeee09",
   "metadata": {},
   "source": [
    "**2.)https://towardsdatascience.com/what-and-why-behind-fit-transform-vs-transform-in-scikit-learn-78f915cf96fe**"
   ]
  },
  {
   "cell_type": "markdown",
   "id": "6f5f6c9e",
   "metadata": {},
   "source": [
    "**3.)https://www.geeksforgeeks.org/how-to-calculate-residual-sum-of-squares-in-python/**"
   ]
  },
  {
   "cell_type": "markdown",
   "id": "407f38f0",
   "metadata": {},
   "source": [
    "# Download fuel consumption dataset \"FuelConsumption.csv\", which contains model specific fuel consumption ratings and estimated carbon dioxide emission"
   ]
  },
  {
   "cell_type": "code",
   "execution_count": 1,
   "id": "43568ef0",
   "metadata": {},
   "outputs": [],
   "source": [
    "import pandas as pd\n",
    "import numpy as np\n",
    "import matplotlib.pyplot as plt\n",
    "import seaborn as sb\n",
    "\n",
    "%matplotlib inline"
   ]
  },
  {
   "cell_type": "code",
   "execution_count": 2,
   "id": "873eb9ea",
   "metadata": {},
   "outputs": [],
   "source": [
    "from sklearn.preprocessing import PolynomialFeatures\n",
    "from sklearn.linear_model import LinearRegression\n",
    "from sklearn.model_selection import train_test_split\n",
    "from sklearn.metrics import mean_absolute_error, r2_score\n",
    "import statsmodels.api as sm"
   ]
  },
  {
   "cell_type": "code",
   "execution_count": 3,
   "id": "8d1f95b2",
   "metadata": {},
   "outputs": [
    {
     "data": {
      "text/html": [
       "<div>\n",
       "<style scoped>\n",
       "    .dataframe tbody tr th:only-of-type {\n",
       "        vertical-align: middle;\n",
       "    }\n",
       "\n",
       "    .dataframe tbody tr th {\n",
       "        vertical-align: top;\n",
       "    }\n",
       "\n",
       "    .dataframe thead th {\n",
       "        text-align: right;\n",
       "    }\n",
       "</style>\n",
       "<table border=\"1\" class=\"dataframe\">\n",
       "  <thead>\n",
       "    <tr style=\"text-align: right;\">\n",
       "      <th></th>\n",
       "      <th>MODELYEAR</th>\n",
       "      <th>MAKE</th>\n",
       "      <th>MODEL</th>\n",
       "      <th>VEHICLECLASS</th>\n",
       "      <th>ENGINESIZE</th>\n",
       "      <th>CYLINDERS</th>\n",
       "      <th>TRANSMISSION</th>\n",
       "      <th>FUELTYPE</th>\n",
       "      <th>FUELCONSUMPTION_CITY</th>\n",
       "      <th>FUELCONSUMPTION_HWY</th>\n",
       "      <th>FUELCONSUMPTION_COMB</th>\n",
       "      <th>FUELCONSUMPTION_COMB_MPG</th>\n",
       "      <th>CO2EMISSIONS</th>\n",
       "    </tr>\n",
       "  </thead>\n",
       "  <tbody>\n",
       "    <tr>\n",
       "      <th>0</th>\n",
       "      <td>2014</td>\n",
       "      <td>ACURA</td>\n",
       "      <td>ILX</td>\n",
       "      <td>COMPACT</td>\n",
       "      <td>2.0</td>\n",
       "      <td>4</td>\n",
       "      <td>AS5</td>\n",
       "      <td>Z</td>\n",
       "      <td>9.9</td>\n",
       "      <td>6.7</td>\n",
       "      <td>8.5</td>\n",
       "      <td>33</td>\n",
       "      <td>196</td>\n",
       "    </tr>\n",
       "    <tr>\n",
       "      <th>1</th>\n",
       "      <td>2014</td>\n",
       "      <td>ACURA</td>\n",
       "      <td>ILX</td>\n",
       "      <td>COMPACT</td>\n",
       "      <td>2.4</td>\n",
       "      <td>4</td>\n",
       "      <td>M6</td>\n",
       "      <td>Z</td>\n",
       "      <td>11.2</td>\n",
       "      <td>7.7</td>\n",
       "      <td>9.6</td>\n",
       "      <td>29</td>\n",
       "      <td>221</td>\n",
       "    </tr>\n",
       "    <tr>\n",
       "      <th>2</th>\n",
       "      <td>2014</td>\n",
       "      <td>ACURA</td>\n",
       "      <td>ILX HYBRID</td>\n",
       "      <td>COMPACT</td>\n",
       "      <td>1.5</td>\n",
       "      <td>4</td>\n",
       "      <td>AV7</td>\n",
       "      <td>Z</td>\n",
       "      <td>6.0</td>\n",
       "      <td>5.8</td>\n",
       "      <td>5.9</td>\n",
       "      <td>48</td>\n",
       "      <td>136</td>\n",
       "    </tr>\n",
       "    <tr>\n",
       "      <th>3</th>\n",
       "      <td>2014</td>\n",
       "      <td>ACURA</td>\n",
       "      <td>MDX 4WD</td>\n",
       "      <td>SUV - SMALL</td>\n",
       "      <td>3.5</td>\n",
       "      <td>6</td>\n",
       "      <td>AS6</td>\n",
       "      <td>Z</td>\n",
       "      <td>12.7</td>\n",
       "      <td>9.1</td>\n",
       "      <td>11.1</td>\n",
       "      <td>25</td>\n",
       "      <td>255</td>\n",
       "    </tr>\n",
       "    <tr>\n",
       "      <th>4</th>\n",
       "      <td>2014</td>\n",
       "      <td>ACURA</td>\n",
       "      <td>RDX AWD</td>\n",
       "      <td>SUV - SMALL</td>\n",
       "      <td>3.5</td>\n",
       "      <td>6</td>\n",
       "      <td>AS6</td>\n",
       "      <td>Z</td>\n",
       "      <td>12.1</td>\n",
       "      <td>8.7</td>\n",
       "      <td>10.6</td>\n",
       "      <td>27</td>\n",
       "      <td>244</td>\n",
       "    </tr>\n",
       "  </tbody>\n",
       "</table>\n",
       "</div>"
      ],
      "text/plain": [
       "   MODELYEAR   MAKE       MODEL VEHICLECLASS  ENGINESIZE  CYLINDERS  \\\n",
       "0       2014  ACURA         ILX      COMPACT         2.0          4   \n",
       "1       2014  ACURA         ILX      COMPACT         2.4          4   \n",
       "2       2014  ACURA  ILX HYBRID      COMPACT         1.5          4   \n",
       "3       2014  ACURA     MDX 4WD  SUV - SMALL         3.5          6   \n",
       "4       2014  ACURA     RDX AWD  SUV - SMALL         3.5          6   \n",
       "\n",
       "  TRANSMISSION FUELTYPE  FUELCONSUMPTION_CITY  FUELCONSUMPTION_HWY  \\\n",
       "0          AS5        Z                   9.9                  6.7   \n",
       "1           M6        Z                  11.2                  7.7   \n",
       "2          AV7        Z                   6.0                  5.8   \n",
       "3          AS6        Z                  12.7                  9.1   \n",
       "4          AS6        Z                  12.1                  8.7   \n",
       "\n",
       "   FUELCONSUMPTION_COMB  FUELCONSUMPTION_COMB_MPG  CO2EMISSIONS  \n",
       "0                   8.5                        33           196  \n",
       "1                   9.6                        29           221  \n",
       "2                   5.9                        48           136  \n",
       "3                  11.1                        25           255  \n",
       "4                  10.6                        27           244  "
      ]
     },
     "execution_count": 3,
     "metadata": {},
     "output_type": "execute_result"
    }
   ],
   "source": [
    "df = pd.read_csv(\"FuelConsumption.csv\")\n",
    "df.head()"
   ]
  },
  {
   "cell_type": "markdown",
   "id": "85134555",
   "metadata": {},
   "source": [
    "# Select the features 'ENGINESIZE', 'CYLINDERS', 'FUELCONSUMPTION_COMB', 'CO2EMISSIONS' to use for building the model. Plot Emission values with respect to Engine size."
   ]
  },
  {
   "cell_type": "code",
   "execution_count": 4,
   "id": "b3834422",
   "metadata": {},
   "outputs": [],
   "source": [
    "features = ['ENGINESIZE', 'CYLINDERS', 'FUELCONSUMPTION_COMB']"
   ]
  },
  {
   "cell_type": "code",
   "execution_count": 5,
   "id": "cbc7812f",
   "metadata": {},
   "outputs": [
    {
     "data": {
      "text/plain": [
       "Text(0.5, 0, 'Engine Size')"
      ]
     },
     "execution_count": 5,
     "metadata": {},
     "output_type": "execute_result"
    },
    {
     "data": {
      "image/png": "[encoded data removed]",
      "text/plain": [
       "<Figure size 720x720 with 1 Axes>"
      ]
     },
     "metadata": {
      "needs_background": "light"
     },
     "output_type": "display_data"
    }
   ],
   "source": [
    "plt.figure(figsize = (10, 10))\n",
    "plt.title('Emission Values Vs Engine Size')\n",
    "sb.scatterplot(data = df, x ='ENGINESIZE', y = 'CO2EMISSIONS')\n",
    "plt.ylabel('CO2 Emissions')\n",
    "plt.xlabel('Engine Size')"
   ]
  },
  {
   "cell_type": "markdown",
   "id": "09b2fd48",
   "metadata": {},
   "source": [
    "# split the data into training and test sets (70:30) to create a model using training set, evaluate the model using test set, and use model to predict unknown value"
   ]
  },
  {
   "cell_type": "code",
   "execution_count": 6,
   "id": "c7b99d7d",
   "metadata": {},
   "outputs": [],
   "source": [
    "x_es = df.iloc[:,4:5].values.reshape(-1, 1)\n",
    "y_es = df.iloc[:,-1].values.reshape(-1, 1)"
   ]
  },
  {
   "cell_type": "code",
   "execution_count": 7,
   "id": "73fdd00d",
   "metadata": {},
   "outputs": [],
   "source": [
    "x_c = df.iloc[:,5:6].values.reshape(-1, 1)\n",
    "y_c = df.iloc[:,-1].values.reshape(-1, 1)"
   ]
  },
  {
   "cell_type": "code",
   "execution_count": 8,
   "id": "3143cf24",
   "metadata": {},
   "outputs": [],
   "source": [
    "x_fcc = df.iloc[:,-3].values.reshape(-1, 1)\n",
    "y_fcc = df.iloc[:,-1].values.reshape(-1, 1)"
   ]
  },
  {
   "cell_type": "code",
   "execution_count": 9,
   "id": "f8adcd31",
   "metadata": {},
   "outputs": [],
   "source": [
    "x_train_es, x_test_es, y_train_es, y_test_es = train_test_split(x_es, y_es, test_size = 0.3, random_state = 100)"
   ]
  },
  {
   "cell_type": "code",
   "execution_count": 10,
   "id": "1db05923",
   "metadata": {},
   "outputs": [],
   "source": [
    "x_train_c, x_test_c, y_train_c, y_test_c = train_test_split(x_c, y_c, test_size = 0.3, random_state = 100)"
   ]
  },
  {
   "cell_type": "code",
   "execution_count": 11,
   "id": "9d0caa76",
   "metadata": {},
   "outputs": [],
   "source": [
    "x_train_fcc, x_test_fcc, y_train_fcc, y_test_fcc = train_test_split(x_fcc, y_es, test_size = 0.3, random_state = 100)"
   ]
  },
  {
   "cell_type": "markdown",
   "id": "b038f610",
   "metadata": {},
   "source": [
    "# Try to use a polynomial regression with the dataset of degree – 3, 4 & 5. Verify the accuracy by calculating Mean absolute error, Residual sum of squares, R2-score and comment on which model is the best"
   ]
  },
  {
   "cell_type": "markdown",
   "id": "1c274a7c",
   "metadata": {},
   "source": [
    "# Feature : ENGINESIZE"
   ]
  },
  {
   "cell_type": "code",
   "execution_count": 12,
   "id": "05e31337",
   "metadata": {},
   "outputs": [],
   "source": [
    "best_model_ENGINESIZE_df = pd.DataFrame(columns = ['Degree', 'Feature', 'Residual Sum Of Squares', 'Mean Absolute Error', 'R2-Score'])"
   ]
  },
  {
   "cell_type": "code",
   "execution_count": 13,
   "id": "e8db3441",
   "metadata": {},
   "outputs": [],
   "source": [
    "def get_mae(y_test, y_predict):\n",
    "    return mean_absolute_error(y_test, y_predict)"
   ]
  },
  {
   "cell_type": "code",
   "execution_count": 14,
   "id": "c4d9f3d3",
   "metadata": {},
   "outputs": [],
   "source": [
    "def get_rss(y_test, y_predict):\n",
    "    return np.sum(np.square(y_test - y_predict))"
   ]
  },
  {
   "cell_type": "code",
   "execution_count": 15,
   "id": "a3381432",
   "metadata": {},
   "outputs": [],
   "source": [
    "def get_r2Score(y_test, y_predict):\n",
    "    return r2_score(y_test, y_predict)"
   ]
  },
  {
   "cell_type": "code",
   "execution_count": 16,
   "id": "f8a9965e",
   "metadata": {},
   "outputs": [],
   "source": [
    "def polynomial_regression(feature, x_train, x_test, y_train, y_test):\n",
    "    for i in range( 3, 6 ):\n",
    "        \n",
    "        poly = PolynomialFeatures(degree = i)\n",
    "    \n",
    "        x_poly_train = poly.fit_transform(x_train)\n",
    "        x_poly_test = poly.fit_transform(x_test)\n",
    "    \n",
    "        linreg = LinearRegression()\n",
    "    \n",
    "        linreg.fit(x_poly_train, y_train)\n",
    "        y_predict = linreg.predict(x_poly_test)\n",
    "        best_model_ENGINESIZE_df.loc[i - 2] = [i, feature, get_mae(y_test, y_predict), get_rss(y_test, y_predict), get_r2Score(y_test, y_predict)]\n"
   ]
  },
  {
   "cell_type": "code",
   "execution_count": 17,
   "id": "613e28ef",
   "metadata": {},
   "outputs": [],
   "source": [
    "polynomial_regression('ENGINESIZE', x_train_es, x_test_es, y_train_es, y_test_es)"
   ]
  },
  {
   "cell_type": "code",
   "execution_count": 18,
   "id": "8fa428ad",
   "metadata": {},
   "outputs": [
    {
     "data": {
      "text/html": [
       "<div>\n",
       "<style scoped>\n",
       "    .dataframe tbody tr th:only-of-type {\n",
       "        vertical-align: middle;\n",
       "    }\n",
       "\n",
       "    .dataframe tbody tr th {\n",
       "        vertical-align: top;\n",
       "    }\n",
       "\n",
       "    .dataframe thead th {\n",
       "        text-align: right;\n",
       "    }\n",
       "</style>\n",
       "<table border=\"1\" class=\"dataframe\">\n",
       "  <thead>\n",
       "    <tr style=\"text-align: right;\">\n",
       "      <th></th>\n",
       "      <th>Degree</th>\n",
       "      <th>Feature</th>\n",
       "      <th>Residual Sum Of Squares</th>\n",
       "      <th>Mean Absolute Error</th>\n",
       "      <th>R2-Score</th>\n",
       "    </tr>\n",
       "  </thead>\n",
       "  <tbody>\n",
       "    <tr>\n",
       "      <th>1</th>\n",
       "      <td>3</td>\n",
       "      <td>ENGINESIZE</td>\n",
       "      <td>23.064492</td>\n",
       "      <td>282482.261942</td>\n",
       "      <td>0.761402</td>\n",
       "    </tr>\n",
       "    <tr>\n",
       "      <th>2</th>\n",
       "      <td>4</td>\n",
       "      <td>ENGINESIZE</td>\n",
       "      <td>23.027137</td>\n",
       "      <td>282467.977666</td>\n",
       "      <td>0.761415</td>\n",
       "    </tr>\n",
       "    <tr>\n",
       "      <th>3</th>\n",
       "      <td>5</td>\n",
       "      <td>ENGINESIZE</td>\n",
       "      <td>23.177276</td>\n",
       "      <td>283728.251843</td>\n",
       "      <td>0.760350</td>\n",
       "    </tr>\n",
       "  </tbody>\n",
       "</table>\n",
       "</div>"
      ],
      "text/plain": [
       "  Degree     Feature  Residual Sum Of Squares  Mean Absolute Error  R2-Score\n",
       "1      3  ENGINESIZE                23.064492        282482.261942  0.761402\n",
       "2      4  ENGINESIZE                23.027137        282467.977666  0.761415\n",
       "3      5  ENGINESIZE                23.177276        283728.251843  0.760350"
      ]
     },
     "execution_count": 18,
     "metadata": {},
     "output_type": "execute_result"
    }
   ],
   "source": [
    "best_model_ENGINESIZE_df"
   ]
  },
  {
   "cell_type": "raw",
   "id": "77d1625c",
   "metadata": {},
   "source": [
    "degree = 4 is better in this case"
   ]
  },
  {
   "cell_type": "markdown",
   "id": "43dc2de8",
   "metadata": {},
   "source": [
    "# Feature : CYLINDERS"
   ]
  },
  {
   "cell_type": "code",
   "execution_count": 19,
   "id": "cc419b82",
   "metadata": {},
   "outputs": [],
   "source": [
    "best_model_CYLINDERS_df = pd.DataFrame(columns = ['Degree', 'Feature', 'Residual Sum Of Squares', 'Mean Absolute Error', 'R2-Score'])"
   ]
  },
  {
   "cell_type": "code",
   "execution_count": 20,
   "id": "0aebf794",
   "metadata": {},
   "outputs": [],
   "source": [
    "def polynomial_regression(feature, x_train, x_test, y_train, y_test):\n",
    "    for i in range( 3, 6 ):\n",
    "        \n",
    "        poly = PolynomialFeatures(degree = i)\n",
    "    \n",
    "        x_poly_train = poly.fit_transform(x_train)\n",
    "        x_poly_test = poly.fit_transform(x_test)\n",
    "    \n",
    "        linreg = LinearRegression()\n",
    "    \n",
    "        linreg.fit(x_poly_train, y_train)\n",
    "        y_predict = linreg.predict(x_poly_test)\n",
    "        best_model_CYLINDERS_df.loc[i - 2] = [i, feature, get_mae(y_test, y_predict), get_rss(y_test, y_predict), get_r2Score(y_test, y_predict)]\n"
   ]
  },
  {
   "cell_type": "code",
   "execution_count": 21,
   "id": "fad9ab01",
   "metadata": {},
   "outputs": [],
   "source": [
    "polynomial_regression('CYLINDERS', x_train_c, x_test_c, y_train_c, y_test_c)"
   ]
  },
  {
   "cell_type": "code",
   "execution_count": 22,
   "id": "b7f180a9",
   "metadata": {},
   "outputs": [
    {
     "data": {
      "text/html": [
       "<div>\n",
       "<style scoped>\n",
       "    .dataframe tbody tr th:only-of-type {\n",
       "        vertical-align: middle;\n",
       "    }\n",
       "\n",
       "    .dataframe tbody tr th {\n",
       "        vertical-align: top;\n",
       "    }\n",
       "\n",
       "    .dataframe thead th {\n",
       "        text-align: right;\n",
       "    }\n",
       "</style>\n",
       "<table border=\"1\" class=\"dataframe\">\n",
       "  <thead>\n",
       "    <tr style=\"text-align: right;\">\n",
       "      <th></th>\n",
       "      <th>Degree</th>\n",
       "      <th>Feature</th>\n",
       "      <th>Residual Sum Of Squares</th>\n",
       "      <th>Mean Absolute Error</th>\n",
       "      <th>R2-Score</th>\n",
       "    </tr>\n",
       "  </thead>\n",
       "  <tbody>\n",
       "    <tr>\n",
       "      <th>1</th>\n",
       "      <td>3</td>\n",
       "      <td>CYLINDERS</td>\n",
       "      <td>25.127818</td>\n",
       "      <td>321385.675313</td>\n",
       "      <td>0.728543</td>\n",
       "    </tr>\n",
       "    <tr>\n",
       "      <th>2</th>\n",
       "      <td>4</td>\n",
       "      <td>CYLINDERS</td>\n",
       "      <td>25.197724</td>\n",
       "      <td>323026.704655</td>\n",
       "      <td>0.727157</td>\n",
       "    </tr>\n",
       "    <tr>\n",
       "      <th>3</th>\n",
       "      <td>5</td>\n",
       "      <td>CYLINDERS</td>\n",
       "      <td>25.263850</td>\n",
       "      <td>323747.915934</td>\n",
       "      <td>0.726548</td>\n",
       "    </tr>\n",
       "  </tbody>\n",
       "</table>\n",
       "</div>"
      ],
      "text/plain": [
       "  Degree    Feature  Residual Sum Of Squares  Mean Absolute Error  R2-Score\n",
       "1      3  CYLINDERS                25.127818        321385.675313  0.728543\n",
       "2      4  CYLINDERS                25.197724        323026.704655  0.727157\n",
       "3      5  CYLINDERS                25.263850        323747.915934  0.726548"
      ]
     },
     "execution_count": 22,
     "metadata": {},
     "output_type": "execute_result"
    }
   ],
   "source": [
    "best_model_CYLINDERS_df"
   ]
  },
  {
   "cell_type": "raw",
   "id": "ed77cd2c",
   "metadata": {},
   "source": [
    "degree = 3 is better in this case"
   ]
  },
  {
   "cell_type": "markdown",
   "id": "60243da9",
   "metadata": {},
   "source": [
    "# Feature : FUELCONSUMPTION_COMB"
   ]
  },
  {
   "cell_type": "code",
   "execution_count": 23,
   "id": "bd65c35e",
   "metadata": {},
   "outputs": [],
   "source": [
    "best_model_FUELCONSUMPTION_COMB_df = pd.DataFrame(columns = ['Degree', 'Feature', 'Residual Sum Of Squares', 'Mean Absolute Error', 'R2-Score'])"
   ]
  },
  {
   "cell_type": "code",
   "execution_count": 24,
   "id": "5e4ea82d",
   "metadata": {},
   "outputs": [],
   "source": [
    "def polynomial_regression(feature, x_train, x_test, y_train, y_test):\n",
    "    for i in range( 3, 6 ):\n",
    "        \n",
    "        poly = PolynomialFeatures(degree = i)\n",
    "    \n",
    "        x_poly_train = poly.fit_transform(x_train)\n",
    "        x_poly_test = poly.fit_transform(x_test)\n",
    "    \n",
    "        linreg = LinearRegression()\n",
    "    \n",
    "        linreg.fit(x_poly_train, y_train)\n",
    "        y_predict = linreg.predict(x_poly_test)\n",
    "        best_model_FUELCONSUMPTION_COMB_df.loc[i - 2] = [i, feature, get_mae(y_test, y_predict), get_rss(y_test, y_predict), get_r2Score(y_test, y_predict)]\n"
   ]
  },
  {
   "cell_type": "code",
   "execution_count": 25,
   "id": "ab356352",
   "metadata": {},
   "outputs": [],
   "source": [
    "polynomial_regression('FUELCONSUMPTION_COMB', x_train_fcc, x_test_fcc, y_train_fcc, y_test_fcc)"
   ]
  },
  {
   "cell_type": "code",
   "execution_count": 26,
   "id": "ade76f80",
   "metadata": {},
   "outputs": [
    {
     "data": {
      "text/html": [
       "<div>\n",
       "<style scoped>\n",
       "    .dataframe tbody tr th:only-of-type {\n",
       "        vertical-align: middle;\n",
       "    }\n",
       "\n",
       "    .dataframe tbody tr th {\n",
       "        vertical-align: top;\n",
       "    }\n",
       "\n",
       "    .dataframe thead th {\n",
       "        text-align: right;\n",
       "    }\n",
       "</style>\n",
       "<table border=\"1\" class=\"dataframe\">\n",
       "  <thead>\n",
       "    <tr style=\"text-align: right;\">\n",
       "      <th></th>\n",
       "      <th>Degree</th>\n",
       "      <th>Feature</th>\n",
       "      <th>Residual Sum Of Squares</th>\n",
       "      <th>Mean Absolute Error</th>\n",
       "      <th>R2-Score</th>\n",
       "    </tr>\n",
       "  </thead>\n",
       "  <tbody>\n",
       "    <tr>\n",
       "      <th>1</th>\n",
       "      <td>3</td>\n",
       "      <td>FUELCONSUMPTION_COMB</td>\n",
       "      <td>12.386401</td>\n",
       "      <td>185233.507685</td>\n",
       "      <td>0.843543</td>\n",
       "    </tr>\n",
       "    <tr>\n",
       "      <th>2</th>\n",
       "      <td>4</td>\n",
       "      <td>FUELCONSUMPTION_COMB</td>\n",
       "      <td>10.384293</td>\n",
       "      <td>170806.485923</td>\n",
       "      <td>0.855729</td>\n",
       "    </tr>\n",
       "    <tr>\n",
       "      <th>3</th>\n",
       "      <td>5</td>\n",
       "      <td>FUELCONSUMPTION_COMB</td>\n",
       "      <td>10.301025</td>\n",
       "      <td>170734.620413</td>\n",
       "      <td>0.855790</td>\n",
       "    </tr>\n",
       "  </tbody>\n",
       "</table>\n",
       "</div>"
      ],
      "text/plain": [
       "  Degree               Feature  Residual Sum Of Squares  Mean Absolute Error  \\\n",
       "1      3  FUELCONSUMPTION_COMB                12.386401        185233.507685   \n",
       "2      4  FUELCONSUMPTION_COMB                10.384293        170806.485923   \n",
       "3      5  FUELCONSUMPTION_COMB                10.301025        170734.620413   \n",
       "\n",
       "   R2-Score  \n",
       "1  0.843543  \n",
       "2  0.855729  \n",
       "3  0.855790  "
      ]
     },
     "execution_count": 26,
     "metadata": {},
     "output_type": "execute_result"
    }
   ],
   "source": [
    "best_model_FUELCONSUMPTION_COMB_df"
   ]
  },
  {
   "cell_type": "raw",
   "id": "4c062884",
   "metadata": {},
   "source": [
    "degree = 5 is better in this case"
   ]
  }
 ],
 "metadata": {
  "kernelspec": {
   "display_name": "Python 3 (ipykernel)",
   "language": "python",
   "name": "python3"
  },
  "language_info": {
   "codemirror_mode": {
    "name": "ipython",
    "version": 3
   },
   "file_extension": ".py",
   "mimetype": "text/x-python",
   "name": "python",
   "nbconvert_exporter": "python",
   "pygments_lexer": "ipython3",
   "version": "3.8.8"
  }
 },
 "nbformat": 4,
 "nbformat_minor": 5
}
